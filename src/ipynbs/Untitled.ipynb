{
 "cells": [
  {
   "cell_type": "code",
   "execution_count": 4,
   "id": "ce444122-7e15-455e-b2c8-75d20d069638",
   "metadata": {},
   "outputs": [],
   "source": [
    "from datasets import load_dataset,Dataset\n",
    "\n",
    "dataset = load_dataset(\"Unbabel/TowerBlocks-v0.2\",split=\"train\")"
   ]
  },
  {
   "cell_type": "code",
   "execution_count": 6,
   "id": "5d8bd216-e115-4b5b-87f9-9cec91c811b4",
   "metadata": {},
   "outputs": [
    {
     "data": {
      "application/vnd.jupyter.widget-view+json": {
       "model_id": "563e8ce108164519ade391bcce9d028b",
       "version_major": 2,
       "version_minor": 0
      },
      "text/plain": [
       "Filter:   0%|          | 0/637563 [00:00<?, ? examples/s]"
      ]
     },
     "metadata": {},
     "output_type": "display_data"
    }
   ],
   "source": [
    "ds_fil=dataset.filter(lambda x:x[\"lang\"] in [\"en\",\"en-ko\",\"ko\",\"ko-en\",\"mixed\"])"
   ]
  },
  {
   "cell_type": "code",
   "execution_count": 80,
   "id": "42d9db4c-db6d-44f1-a3df-8c54876d8d45",
   "metadata": {},
   "outputs": [
    {
     "data": {
      "text/plain": [
       "{'de',\n",
       " 'de-en',\n",
       " 'de-fr',\n",
       " 'en',\n",
       " 'en-de',\n",
       " 'en-es',\n",
       " 'en-fr',\n",
       " 'en-it',\n",
       " 'en-ko',\n",
       " 'en-nl',\n",
       " 'en-pl',\n",
       " 'en-pt',\n",
       " 'en-ru',\n",
       " 'en-zh',\n",
       " 'en_de',\n",
       " 'en_ru',\n",
       " 'es',\n",
       " 'es-en',\n",
       " 'fr',\n",
       " 'fr-de',\n",
       " 'fr-en',\n",
       " 'it',\n",
       " 'it-en',\n",
       " 'ko',\n",
       " 'ko-en',\n",
       " 'mixed',\n",
       " 'nl',\n",
       " 'nl-en',\n",
       " 'pt',\n",
       " 'pt-en',\n",
       " 'ru',\n",
       " 'ru-en',\n",
       " 'zh',\n",
       " 'zh-en',\n",
       " 'zh_en'}"
      ]
     },
     "execution_count": 80,
     "metadata": {},
     "output_type": "execute_result"
    }
   ],
   "source": [
    "set(dataset[\"lang\"])"
   ]
  },
  {
   "cell_type": "code",
   "execution_count": 104,
   "id": "cfa96471-f957-41da-adaa-5b26003215c4",
   "metadata": {},
   "outputs": [],
   "source": [
    "aa=ds_fil.filter(lambda x:x[\"lang\"] in [\"en-ko\",\"ko\",\"ko-en\"])"
   ]
  },
  {
   "cell_type": "code",
   "execution_count": 105,
   "id": "de72cd15-d03b-41c8-9b0f-efde6e32f9e5",
   "metadata": {},
   "outputs": [],
   "source": [
    "aa=aa.shuffle()"
   ]
  },
  {
   "cell_type": "code",
   "execution_count": 114,
   "id": "34396694-5ec9-4f5b-940d-155b7744ce43",
   "metadata": {},
   "outputs": [
    {
     "data": {
      "text/plain": [
       "{'conversations': [{'from': 'human',\n",
       "   'value': \"Translate the following 5 examples from Korean to English.\\nSource: ge(A,B)는 A >= B를 실행하는 또 다른 방법이지만 거의 사용되지 않습니다.\\nTarget: ge(A,B) is an alternate way to execute A >= B, but is rarely used.\\nSource: USB - 일부 무선 라우터는 USB 프린터 및 USB 휴대용 하드 드라이브를 지원하는 USB 포트를 제공합니다.\\nTarget: USB – Some wireless routers offer a USB port to support USB printers and USB portable hard drives.\\nSource: 일꾼의 노래\\nTarget: Worker's Song\\nSource: 우리 모두가 어떤 일을 할 것인지 선택할 수 있는 것은 아니다.\\nTarget: Not all of us can choose the kind of work we do.\\nSource: 마이크로소프트와 Apertium):\\nTarget: Microsoft and Apertium):\\nTranslate the source text from Korean to English.\\nSource: 그것은 신청자의 신용 점수에 영향을주지 않습니다\\nTarget: \"},\n",
       "  {'from': 'gpt', 'value': \"It does not affect an applicant's credit score\"}],\n",
       " 'lang': 'ko-en',\n",
       " 'split': 'train',\n",
       " 'dataset': 'opus_filtered',\n",
       " 'task': 'machine_translation'}"
      ]
     },
     "execution_count": 114,
     "metadata": {},
     "output_type": "execute_result"
    }
   ],
   "source": [
    "aa[18]"
   ]
  },
  {
   "cell_type": "code",
   "execution_count": 116,
   "id": "0ee7a8a2-9631-4e6c-a92a-f408125023df",
   "metadata": {},
   "outputs": [],
   "source": [
    "ds=Dataset.load_from_disk(\"/azurestorage/data/translation_data/aligned_dataset/prepared_for_training/training_dataset_10k\")"
   ]
  },
  {
   "cell_type": "code",
   "execution_count": 122,
   "id": "9377ed31-5011-4be6-b10c-304819b524c5",
   "metadata": {},
   "outputs": [
    {
     "data": {
      "text/plain": [
       "{None,\n",
       " 'ele_sci',\n",
       " 'etc',\n",
       " 'food',\n",
       " 'human_art',\n",
       " 'ifrs esg',\n",
       " 'pilar',\n",
       " 'shatgpt',\n",
       " '경제',\n",
       " '구어체_대화체',\n",
       " '농업·수산',\n",
       " '민사법',\n",
       " '법률',\n",
       " '상업·무역·공업',\n",
       " '육운·항공·관광',\n",
       " '재경·경제일반',\n",
       " '정보통신',\n",
       " '주택·건축·도로',\n",
       " '환경·노동'}"
      ]
     },
     "execution_count": 122,
     "metadata": {},
     "output_type": "execute_result"
    }
   ],
   "source": [
    "set(ds[\"category\"])"
   ]
  },
  {
   "cell_type": "code",
   "execution_count": 123,
   "id": "b47600c7-371c-42b8-a5b3-4229ecbafc58",
   "metadata": {},
   "outputs": [
    {
     "data": {
      "application/vnd.jupyter.widget-view+json": {
       "model_id": "31114ef1dda24c3fbd207ce4aa9098d9",
       "version_major": 2,
       "version_minor": 0
      },
      "text/plain": [
       "Filter:   0%|          | 0/10819 [00:00<?, ? examples/s]"
      ]
     },
     "metadata": {},
     "output_type": "display_data"
    }
   ],
   "source": [
    "bbb=ds.filter(lambda x:x[\"category\"] in [\"ifrs esg\",\"pilar\"])"
   ]
  },
  {
   "cell_type": "code",
   "execution_count": 145,
   "id": "7b63b5af-7cc1-4837-b057-fb28d1bf192e",
   "metadata": {},
   "outputs": [
    {
     "data": {
      "text/plain": [
       "{'english': '25. Paragraph (b) also applies where, as part of the same arrangement, two or more Groups merge with one Entity; one Group merges with two or more Entities; and two or more Groups merge with two or more Entities.',\n",
       " 'korean': '25. 제(b)항은 동일한 약정의 일부로 둘 이상의 그룹이 하나의 기업과 합병되는 경우, 하나의 그룹이 둘 이상의 기업과 합병되는 경우, 그리고 둘 이상의 그룹이 둘 이상의 기업과 합병되는 경우에도 적용된다.',\n",
       " 'category': 'pilar',\n",
       " 'term_dict': \"{'part of the same arrangement': '동일한 약정의 일부', 'Groups': '그룹'}\",\n",
       " 'id': None,\n",
       " 'src': 'english',\n",
       " 'tgt': 'korean',\n",
       " 'length_group': None}"
      ]
     },
     "execution_count": 145,
     "metadata": {},
     "output_type": "execute_result"
    }
   ],
   "source": [
    "bbb[20]"
   ]
  },
  {
   "cell_type": "code",
   "execution_count": null,
   "id": "44eeef47-824d-405b-ac5d-d18ce5b222ae",
   "metadata": {},
   "outputs": [],
   "source": []
  }
 ],
 "metadata": {
  "kernelspec": {
   "display_name": "modeling",
   "language": "python",
   "name": "modeling"
  },
  "language_info": {
   "codemirror_mode": {
    "name": "ipython",
    "version": 3
   },
   "file_extension": ".py",
   "mimetype": "text/x-python",
   "name": "python",
   "nbconvert_exporter": "python",
   "pygments_lexer": "ipython3",
   "version": "3.11.8"
  }
 },
 "nbformat": 4,
 "nbformat_minor": 5
}
