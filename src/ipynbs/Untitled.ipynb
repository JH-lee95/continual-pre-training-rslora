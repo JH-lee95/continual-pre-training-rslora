{
 "cells": [
  {
   "cell_type": "code",
   "execution_count": 1,
   "id": "553349f3-0728-4880-a8ab-99f53b1ff5fb",
   "metadata": {},
   "outputs": [
    {
     "name": "stdout",
     "output_type": "stream",
     "text": [
      "Collecting rank-bm25\n",
      "  Downloading rank_bm25-0.2.2-py3-none-any.whl.metadata (3.2 kB)\n",
      "Requirement already satisfied: numpy in /root/.cache/pypoetry/virtualenvs/cpt-YAI6uq7s-py3.12/lib/python3.12/site-packages (from rank-bm25) (1.26.4)\n",
      "Downloading rank_bm25-0.2.2-py3-none-any.whl (8.6 kB)\n",
      "Installing collected packages: rank-bm25\n",
      "Successfully installed rank-bm25-0.2.2\n",
      "Note: you may need to restart the kernel to use updated packages.\n"
     ]
    }
   ],
   "source": [
    "pip install rank-bm25"
   ]
  },
  {
   "cell_type": "code",
   "execution_count": 2,
   "id": "b9de1838-2c24-421b-b4b2-455d647c6dfc",
   "metadata": {},
   "outputs": [],
   "source": [
    "import pandas as pd\n",
    "from rank_bm25 import BM25Okapi\n",
    "import pickle\n"
   ]
  },
  {
   "cell_type": "code",
   "execution_count": null,
   "id": "edf0fdd1-a3f1-46fc-bf99-bc5c4a255f1a",
   "metadata": {},
   "outputs": [],
   "source": [
    "docs=pd.read_csv(\"../../../keywords/)"
   ]
  },
  {
   "cell_type": "code",
   "execution_count": 12,
   "id": "f78af3dc-c0fd-44ed-ac4e-fcb31d8cff18",
   "metadata": {
    "scrolled": true
   },
   "outputs": [
    {
     "data": {
      "text/plain": [
       "'과세, 이행, 조달, 원활, 납세의무, 법인세, 재정수입, 신설, 공정, 이바지, 확보, 절차'"
      ]
     },
     "execution_count": 12,
     "metadata": {},
     "output_type": "execute_result"
    }
   ],
   "source": [
    "docs[0]"
   ]
  },
  {
   "cell_type": "code",
   "execution_count": 25,
   "id": "a52d9c65-b1c2-4416-9568-30bd960fc7a3",
   "metadata": {},
   "outputs": [
    {
     "data": {
      "text/plain": [
       "'과세, 이행, 조달, 원활, 납세의무, 법인세, 재정수입, 신설, 공정, 이바지, 확보, 절차'"
      ]
     },
     "execution_count": 25,
     "metadata": {},
     "output_type": "execute_result"
    }
   ],
   "source": [
    "docs[0]"
   ]
  },
  {
   "cell_type": "code",
   "execution_count": 26,
   "id": "0a9e2b5c-6e67-4475-86d9-1e17d61d4b57",
   "metadata": {},
   "outputs": [],
   "source": [
    "tokenized_corpus=[]\n",
    "docs=[]\n",
    "\n",
    "for doc in docs:\n",
    "    if type(doc)==str\n",
    "        tokenized_corpus.append(doc.split(\", \"))\n",
    "        docs.append(doc)\n",
    "    else:\n",
    "        continue\n",
    "    "
   ]
  },
  {
   "cell_type": "code",
   "execution_count": 34,
   "id": "6f67c1a8-16c2-487a-aafb-d862373d4743",
   "metadata": {},
   "outputs": [
    {
     "data": {
      "text/plain": [
       "['외국납부세액공제']"
      ]
     },
     "execution_count": 34,
     "metadata": {},
     "output_type": "execute_result"
    }
   ],
   "source": [
    "tokenized_corpus[7]"
   ]
  },
  {
   "cell_type": "code",
   "execution_count": 35,
   "id": "05a5fde4-2e7a-4a84-a6fa-40ce8fb4dbd6",
   "metadata": {},
   "outputs": [],
   "source": [
    "bm25 = BM25Okapi(tokenized_corpus)"
   ]
  },
  {
   "cell_type": "code",
   "execution_count": 9,
   "id": "1252f6ed-c600-45f7-b9e8-9340593b6052",
   "metadata": {},
   "outputs": [
    {
     "data": {
      "text/plain": [
       "['Hello', 'there', 'good', 'man!']"
      ]
     },
     "execution_count": 9,
     "metadata": {},
     "output_type": "execute_result"
    }
   ],
   "source": [
    "tokenized_corpus[0]"
   ]
  },
  {
   "cell_type": "code",
   "execution_count": null,
   "id": "e8db27b7-fc7f-43a4-8e20-ee2ae32b4226",
   "metadata": {},
   "outputs": [],
   "source": [
    "query"
   ]
  },
  {
   "cell_type": "code",
   "execution_count": 49,
   "id": "644c0e0d-2096-4bcc-815a-a1116238d6b2",
   "metadata": {},
   "outputs": [],
   "source": [
    "query = \"\"\"\"'관련하', '대차계약', '임차인인', '패키지', '세법상', '주식회', '부가가치세법상', '기회비용', '질의사', '원상복구', '가가치세', '가치세법상', '회사는', '회사가', '식회사', '가가치세법', '원상복구비', '체적인', '법인이', '로부터', '사실관', '수수료', '복구비', '판매부대', '습니다', '임차인', '의하면', '부가가치세법', '임대료', '차계약', '가치세법', '접대비', '부가가', '의사항', '임차보증금', '고려하', '모집수수료', '지원액', '임대차계', '회사의', '지급계약', '임차지', '약정액', '지급하였', '체결하', '포함시', '임차보증', '미충족', '판매부', '가치세', '정책과', '치세법상', '안정적', '치세법', '임대인', '관리비', '임대차계약', '차보증금', '보증금', '부가가치세', '임대차'\"\"\"\n",
    "query=query.replace(\"\\'\",\"\")\n",
    "tokenized_query = query.split(\", \")\n",
    "doc_scores = bm25.get_scores([\"접대비\"])"
   ]
  },
  {
   "cell_type": "code",
   "execution_count": 51,
   "id": "97aa64ef-b016-4f20-a174-e25d71e54d46",
   "metadata": {},
   "outputs": [
    {
     "data": {
      "text/plain": [
       "3340.5753422422604"
      ]
     },
     "execution_count": 51,
     "metadata": {},
     "output_type": "execute_result"
    }
   ],
   "source": [
    "doc_scores."
   ]
  },
  {
   "cell_type": "code",
   "execution_count": 48,
   "id": "cce073e8-df00-48a7-9e2a-4783cb9024ee",
   "metadata": {},
   "outputs": [
    {
     "data": {
      "text/plain": [
       "[['과세',\n",
       "  '이행',\n",
       "  '조달',\n",
       "  '원활',\n",
       "  '납세의무',\n",
       "  '법인세',\n",
       "  '재정수입',\n",
       "  '신설',\n",
       "  '공정',\n",
       "  '이바지',\n",
       "  '확보',\n",
       "  '절차'],\n",
       " ['서울지방국세청장',\n",
       "  '매입세금계산서',\n",
       "  '법인세법',\n",
       "  '여부',\n",
       "  '금액',\n",
       "  '요청받자',\n",
       "  '기초',\n",
       "  '위반',\n",
       "  '전의',\n",
       "  '익금',\n",
       "  '소명',\n",
       "  '상여',\n",
       "  '법인세',\n",
       "  '신고',\n",
       "  '경정',\n",
       "  '전기',\n",
       "  '산입',\n",
       "  '청구인',\n",
       "  '소득처분',\n",
       "  '대표이사',\n",
       "  '사건개요',\n",
       "  '헌법',\n",
       "  '거래',\n",
       "  '정상거래',\n",
       "  '수정신고',\n",
       "  '대표자',\n",
       "  '주식회사',\n",
       "  '세무서장',\n",
       "  '당시',\n",
       "  '공급가액',\n",
       "  '해당',\n",
       "  '회수',\n",
       "  '매출원가',\n",
       "  '계상',\n",
       "  '월경',\n",
       "  '사내유보',\n",
       "  '개정',\n",
       "  '이상배',\n",
       "  '주문',\n",
       "  '수취',\n",
       "  '사외유출'],\n",
       " ['법인세법',\n",
       "  '사업자',\n",
       "  '상당',\n",
       "  '헌바',\n",
       "  '미발급액',\n",
       "  '소득세법',\n",
       "  '전의',\n",
       "  '부과',\n",
       "  '현금영수증',\n",
       "  '과태료',\n",
       "  '병합',\n",
       "  '거래건당',\n",
       "  '현금',\n",
       "  '본문',\n",
       "  '상대방',\n",
       "  '헌가',\n",
       "  '재화',\n",
       "  '조세범',\n",
       "  '처벌법',\n",
       "  '판시사항',\n",
       "  '이상',\n",
       "  '대금',\n",
       "  '조항들',\n",
       "  '헌재헌바',\n",
       "  '용역',\n",
       "  '의무화',\n",
       "  '공급',\n",
       "  '미발급',\n",
       "  '의무발행업종',\n",
       "  '개정',\n",
       "  '과태료조항',\n",
       "  '발급'],\n",
       " ['법인세법',\n",
       "  '헌바',\n",
       "  '펀드',\n",
       "  '위반',\n",
       "  '엘피',\n",
       "  '전의',\n",
       "  '소득세법',\n",
       "  '병합',\n",
       "  '당해사건',\n",
       "  '청구인',\n",
       "  '리얼',\n",
       "  '사건개요',\n",
       "  '헌법',\n",
       "  '스테이트',\n",
       "  '법인세등부과처분취소',\n",
       "  '주민세부과처분취소',\n",
       "  '헌재헌바',\n",
       "  '서울고등법원',\n",
       "  '개정',\n",
       "  '주문'],\n",
       " ['한정',\n",
       "  '부동산관련',\n",
       "  '법인세법',\n",
       "  '여부',\n",
       "  '소득세법',\n",
       "  '전의',\n",
       "  '종류',\n",
       "  '주식등',\n",
       "  '구성',\n",
       "  '국내',\n",
       "  '과세대상',\n",
       "  '감안',\n",
       "  '구체적',\n",
       "  '발행',\n",
       "  '부동산',\n",
       "  '동일',\n",
       "  '양도소득',\n",
       "  '소극',\n",
       "  '국내원천소득',\n",
       "  '자산',\n",
       "  '심판대상조항',\n",
       "  '조세법률주의',\n",
       "  '판시사항',\n",
       "  '관련',\n",
       "  '주주',\n",
       "  '사업',\n",
       "  '보유현황',\n",
       "  '대통령령',\n",
       "  '실질적',\n",
       "  '외국법인',\n",
       "  '포괄위임금지원칙',\n",
       "  '결정요지',\n",
       "  '주식',\n",
       "  '양도',\n",
       "  '개정',\n",
       "  '위임',\n",
       "  '구체성',\n",
       "  '개별적',\n",
       "  '위배']]"
      ]
     },
     "execution_count": 48,
     "metadata": {},
     "output_type": "execute_result"
    }
   ],
   "source": [
    "bm25.get_top_n(\"접대비\",tokenized_corpus , n=5)"
   ]
  },
  {
   "cell_type": "code",
   "execution_count": null,
   "id": "38bd8a92-9e35-44fc-8bc5-65f786882a31",
   "metadata": {},
   "outputs": [],
   "source": []
  }
 ],
 "metadata": {
  "kernelspec": {
   "display_name": "Python 3 (ipykernel)",
   "language": "python",
   "name": "python3"
  },
  "language_info": {
   "codemirror_mode": {
    "name": "ipython",
    "version": 3
   },
   "file_extension": ".py",
   "mimetype": "text/x-python",
   "name": "python",
   "nbconvert_exporter": "python",
   "pygments_lexer": "ipython3",
   "version": "3.12.3"
  }
 },
 "nbformat": 4,
 "nbformat_minor": 5
}
