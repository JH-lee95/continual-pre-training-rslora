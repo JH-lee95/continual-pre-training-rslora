{
 "cells": [
  {
   "cell_type": "code",
   "execution_count": 1,
   "id": "1b9c4e2b-d24f-4392-a471-40c4b0cdac2a",
   "metadata": {},
   "outputs": [],
   "source": [
    "from transformers import AutoModelForCausalLM,AutoTokenizer,GenerationConfig\n",
    "import torch\n",
    "import ast\n",
    "import ipdb\n",
    "import json\n",
    "import requests\n",
    "from peft import LoraConfig, PeftModel\n",
    "from typing import Optional\n",
    "from dataclasses import dataclass\n",
    "from typing import Union"
   ]
  },
  {
   "cell_type": "code",
   "execution_count": 2,
   "id": "36a180d2-76b4-4a4c-8047-876745bd0f48",
   "metadata": {},
   "outputs": [],
   "source": [
    "\n",
    "# @dataclass\n",
    "# class TranslationTemplate:\n",
    "#     translation_template_w_glossary='''You are a professional translator. Translate the following {} texts into {}. Refer to the word pairs in the glossary when you translate. Do not translate the glossary itself. \n",
    "# {}\n",
    "# Translation:\n",
    "# '''\n",
    "\n",
    "#     translation_template_wo_glossary='''You are a professional translator. Translate the following {} texts into {}.\n",
    "# {}\n",
    "# Translation:\n",
    "# '''\n",
    "\n",
    "#     response_template=\"Translation:\"\n",
    "#     glossary_template=\"Glossary:\"\n",
    "#     sentence_template=\"Source:\"\n",
    "\n",
    "\n",
    "\n",
    "# @dataclass\n",
    "# class TranslationTemplate:\n",
    "#     translation_template_w_glossary='''You are a professional translator. Translate the following {} texts into {}. Refer to the word pairs in the glossary when you translate. You can ignore the words in the glossary that hurt the context and naturality. Do not translate the glossary itself. \n",
    "# {}\n",
    "# ### Translation:\n",
    "# '''\n",
    "\n",
    "#     translation_template_wo_glossary='''You are a professional translator. Translate the following {} texts into {}.\n",
    "# {}\n",
    "# ### Translation:\n",
    "# '''\n",
    "\n",
    "#     response_template=\"### Translation:\"\n",
    "#     glossary_template=\"### Glossary:\"\n",
    "#     sentence_template=\"### Source:\"\n",
    "\n",
    "\n",
    "\n",
    "@dataclass\n",
    "class TranslationTemplate:\n",
    "    translation_template_w_glossary='''Translate the following {} source text into {}. Refer to the word pairs in the glossary when you translate. Do not translate the glossary itself. \n",
    "{}\n",
    "'''\n",
    "\n",
    "    translation_template_wo_glossary='''Translate the following {} source text into {}.\n",
    "{}\n",
    "'''\n",
    "\n",
    "    response_template=\"### Target:\"\n",
    "    glossary_template=\"### Glossary:\"\n",
    "    sentence_template=\"### Source:\"\n",
    "    system_prompt=\"You are a professional translator.\""
   ]
  },
  {
   "cell_type": "code",
   "execution_count": 3,
   "id": "c0804234-40b0-4360-91ce-6f836adc8d2d",
   "metadata": {},
   "outputs": [],
   "source": [
    "def formatting_glossary(term_dict,glossary_template):\n",
    "    glossary=[f\"{k}={v}\" for k,v in term_dict.items()]\n",
    "    glossary_str=\"\\n\".join(glossary)\n",
    "    glossary_str=f\"{glossary_template}\\n{glossary_str}\".strip()\n",
    "\n",
    "    return glossary_str"
   ]
  },
  {
   "cell_type": "code",
   "execution_count": 4,
   "id": "c87e6ff7-b2df-4a48-b7d3-6f5d079db59d",
   "metadata": {},
   "outputs": [
    {
     "ename": "NameError",
     "evalue": "name 'Kiwi' is not defined",
     "output_type": "error",
     "traceback": [
      "\u001b[0;31m---------------------------------------------------------------------------\u001b[0m",
      "\u001b[0;31mNameError\u001b[0m                                 Traceback (most recent call last)",
      "Cell \u001b[0;32mIn[4], line 40\u001b[0m\n\u001b[1;32m     37\u001b[0m         \u001b[38;5;28;01melse\u001b[39;00m:\n\u001b[1;32m     38\u001b[0m             \u001b[38;5;28;01mreturn\u001b[39;00m splited_sents\n\u001b[0;32m---> 40\u001b[0m ts\u001b[38;5;241m=\u001b[39m\u001b[43mTextSpliter\u001b[49m\u001b[43m(\u001b[49m\u001b[43m)\u001b[49m\n",
      "Cell \u001b[0;32mIn[4], line 3\u001b[0m, in \u001b[0;36mTextSpliter.__init__\u001b[0;34m(self, separator)\u001b[0m\n\u001b[1;32m      2\u001b[0m \u001b[38;5;28;01mdef\u001b[39;00m \u001b[38;5;21m__init__\u001b[39m(\u001b[38;5;28mself\u001b[39m,separator\u001b[38;5;241m=\u001b[39m\u001b[38;5;124m\"\u001b[39m\u001b[38;5;124m\"\u001b[39m):\n\u001b[0;32m----> 3\u001b[0m     \u001b[38;5;28mself\u001b[39m\u001b[38;5;241m.\u001b[39mkiwi\u001b[38;5;241m=\u001b[39m\u001b[43mKiwi\u001b[49m() \u001b[38;5;66;03m# Text Processor for Korean\u001b[39;00m\n\u001b[1;32m      4\u001b[0m     \u001b[38;5;28mself\u001b[39m\u001b[38;5;241m.\u001b[39mseparator\u001b[38;5;241m=\u001b[39mseparator\n",
      "\u001b[0;31mNameError\u001b[0m: name 'Kiwi' is not defined"
     ]
    }
   ],
   "source": [
    "class TextSpliter():\n",
    "    def __init__(self,separator=\"\"):\n",
    "        self.kiwi=Kiwi() # Text Processor for Korean\n",
    "        self.separator=separator\n",
    "\n",
    "    def text2sent(self,language, text, return_string=False):\n",
    "        '''\n",
    "        language : language of text\n",
    "        text : text to be splited\n",
    "        return_string : return string as a result if True, list otherwise \n",
    "        '''\n",
    "        \n",
    "        splited_sents = []\n",
    "        language = language.lower()\n",
    "\n",
    "        if language in [\"korean\", \"kor\", \"ko\", \"한국어\"]:\n",
    "            def split_sentences(paragraph):\n",
    "                return [sent.text + \" \" if idx < len(paragraph) - 1 else sent.text # add space after sentence finish\n",
    "                        for idx, sent in enumerate(self.kiwi.split_into_sents(paragraph))]\n",
    "        elif language in [\"english\", \"eng\", \"en\", \"영어\"]:\n",
    "            def split_sentences(paragraph):\n",
    "                return [sent + \" \" if idx < len(paragraph) - 1 else sent\n",
    "                        for idx, sent in enumerate(sent_tokenize(paragraph))]\n",
    "        else:\n",
    "            raise ValueError(\"Unsupported language\")\n",
    "\n",
    "        for line in text.splitlines(keepends=True):\n",
    "            if line.strip():  # Check if the line is not just whitespace\n",
    "                sentences = split_sentences(line.rstrip())  # Remove trailing newline before splitting\n",
    "                splited_sents.extend(sentences)\n",
    "                splited_sents[-1]=splited_sents[-1].rstrip()+\"\\n\"\n",
    "            else:\n",
    "                splited_sents[-1]=splited_sents[-1].rstrip()+\"\\n\" # Add the empty line (newline) directly\n",
    "\n",
    "        if return_string:\n",
    "            return self.separator.join(splited_sents).strip()\n",
    "        else:\n",
    "            return splited_sents\n",
    "\n",
    "ts=TextSpliter()"
   ]
  },
  {
   "cell_type": "code",
   "execution_count": 3,
   "id": "5f3297d0-6959-4f17-8684-dfc4ee0c7d05",
   "metadata": {},
   "outputs": [],
   "source": [
    "# def pair_sent_terms(lang,\n",
    "#                     text,\n",
    "#                     term_dict:str,\n",
    "#                    ):\n",
    "\n",
    "#     lang_dict={\"korean\":\"korean\",\"ko\":\"korean\",\"kor\":\"korean\",\"eng\":\"english\",\"english\":\"english\",\"en\":\"english\",\"Korean\":\"korean\",\"English\":\"english\"}\n",
    "#     src = lang_dict[lang]\n",
    "    \n",
    "#     splited_sents=ts.text2sent(lang,text)\n",
    "\n",
    "#     sent2terms = []\n",
    "#     if len(term_dict):\n",
    "#         term_dict = ast.literal_eval(term_dict)\n",
    "#         for s in splited_sents:\n",
    "#             new_sent_parts = {}\n",
    "#             for k, v in term_dict.items():\n",
    "#                 if k in s:\n",
    "#                     new_sent_parts[k]=v\n",
    "\n",
    "#             if len(new_sent_parts):\n",
    "#                 new_sent_parts=formatting_glossary(new_sent_parts,TranslationTemplate.glossary_template)\n",
    "#                 new_s = f\"{TranslationTemplate.sentence_template}\\n{s}\\n{new_sent_parts}\\n\"\n",
    "#             else:\n",
    "#                 # new_s = \"### Sentence:\"+s + \"\\n\" + \"### Glossary:\" + \"\\n\"\n",
    "#                 new_s = f\"{TranslationTemplate.sentence_template}\\n{s}\\n\"\n",
    "\n",
    "#             sent2terms.append(new_s)\n",
    "#     else:\n",
    "#         # Handle case of empty term_dict (e.g., directly append sentences)\n",
    "#         for s in splited_sents:\n",
    "#             # new_s = \"### Sentence:\"+s + \"\\n\" + \"### Glossary:\" + \"\\n\"\n",
    "#             new_s = f\"{TranslationTemplate.sentence_template}\\n{s}\\n\"\n",
    "#             sent2terms.append(new_s)\n",
    "\n",
    "#     return \"\".join(sent2terms).rstrip()\n",
    "\n",
    "\n",
    "def pair_sent_terms(lang,\n",
    "                    text,\n",
    "                    term_dict:str,\n",
    "                   ):\n",
    "\n",
    "    lang_dict={\"korean\":\"korean\",\"ko\":\"korean\",\"kor\":\"korean\",\"eng\":\"english\",\"english\":\"english\",\"en\":\"english\",\"Korean\":\"korean\",\"English\":\"english\"}\n",
    "    src = lang_dict[lang]\n",
    "    \n",
    "    splited_sents=ts.text2sent(lang,text)\n",
    "\n",
    "    sent2terms = []\n",
    "    if len(term_dict):\n",
    "        term_dict = ast.literal_eval(term_dict)\n",
    "        term_dict=formatting_glossary(term_dict,TranslationTemplate.glossary_template)\n",
    "        sent2terms.append(f\"{term_dict}\\n\")\n",
    "        for s in splited_sents:\n",
    "            new_s = f\"{TranslationTemplate.sentence_template}\\n{s}\\n\"\n",
    "            sent2terms.append(new_s)\n",
    "        # term_dict=formatting_glossary(term_dict,TranslationTemplate.glossary_template)\n",
    "        # sent2terms.append(f\"\\n{term_dict}\".strip())\n",
    "    else:\n",
    "        # Handle case of empty term_dict (e.g., directly append sentences)\n",
    "        for s in splited_sents:\n",
    "            # new_s = \"### Sentence:\"+s + \"\\n\" + \"### Glossary:\" + \"\\n\"\n",
    "            new_s = f\"{TranslationTemplate.sentence_template}\\n{s}\\n\"\n",
    "            sent2terms.append(new_s)\n",
    "\n",
    "    return \"\".join(sent2terms).rstrip()"
   ]
  },
  {
   "cell_type": "code",
   "execution_count": 5,
   "id": "8b360595-f9ae-4b4f-8809-f8c5142470c6",
   "metadata": {},
   "outputs": [],
   "source": [
    "def select_by_length(input_texts:list[str], generation_results:list[list])-> list[str]:\n",
    "    '''\n",
    "    Filters the results from vllm generation to find the output whose length is closest\n",
    "    to that of the input text.\n",
    "\n",
    "    :param input_text: The original text input by the user.\n",
    "    :param generation_results: The results generated by the LLM.\n",
    "    :return: A list of outputs, one for each batch, that are closest in length to the input text.\n",
    "    '''\n",
    "    final_outputs=[]\n",
    "\n",
    "    # Iterate through each batch of generation results.\n",
    "    for text,batch in zip(input_texts,generation_results):\n",
    "        input_length = len(text)\n",
    "        closest_output = min(batch, key=lambda output: abs(len(output[\"text\"].strip()) - input_length))\n",
    "        final_outputs.append(closest_output[\"text\"].strip())\n",
    "\n",
    "    return final_outputs"
   ]
  },
  {
   "cell_type": "markdown",
   "id": "529eb784-6ac2-44c1-a44e-7d1d306169da",
   "metadata": {
    "jp-MarkdownHeadingCollapsed": true
   },
   "source": [
    "# API Requests"
   ]
  },
  {
   "cell_type": "code",
   "execution_count": 3,
   "id": "ab605bee-adf3-463a-9d69-f8e5f044245c",
   "metadata": {},
   "outputs": [],
   "source": [
    "def request_vllm_api(api_url:str,\n",
    "                    pay_load:dict,\n",
    "                    headers:dict={\"Content-Type\": \"application/json\"}):\n",
    "    '''\n",
    "    example headers : {\"Content-Type\": \"application/json\"}\n",
    "    example pay_load : {\n",
    "        \"model\":\"/azurestorage/models/production/tmt-eeve-inst-10k-v2\",\n",
    "        \"prompt\": prompt,\n",
    "        \"n\": 3,\n",
    "        \"best_of\":3,\n",
    "        \"temperature\": 0.2,\n",
    "        \"max_tokens\": 1024\n",
    "    }\n",
    "    '''\n",
    "    response = requests.post(api_url,headers=headers,json=pay_load)\n",
    "    return response\n",
    "\n",
    "def get_batch_response(response: requests.Response,n:int=1) -> list[list[str]]:\n",
    "    data=json.loads(response.content)\n",
    "    choices=data[\"choices\"]\n",
    "    return [choices[i:i + n] for i in range(0, len(choices), n)] "
   ]
  },
  {
   "cell_type": "code",
   "execution_count": 81,
   "id": "92c1193d-9802-455f-a614-80ec26f82c09",
   "metadata": {},
   "outputs": [],
   "source": [
    "text='''<|begin_of_text|><|start_header_id|>system<|end_header_id|>\n",
    "\n",
    "You are a professional translator.<|eot_id|><|start_header_id|>user<|end_header_id|>\n",
    "\n",
    "Translate the following Korean source text into English. Refer to the word pairs in the glossary when you translate. Do not translate the glossary itself. \n",
    "### Glossary:\n",
    "개정안=amendment\n",
    "국가별보고서=cbc-report\n",
    "국조법 시행령=LCITA-PED\n",
    "### Source:\n",
    "이번 개정안에 따르면, 국가별보고서는 다국적기업의 국가별 소득 배분내역, 세전이익 손실, 소득 법인세 납부액, 자본금, 주요사업활동 등에 대한 내용을 포함하여, 한글과 영문으로 제출하도록 규정하고 있습니다. 또한, 국가별보고서 제출의무자는 직전년도 연결재무제표상 매출액이 1조원을 초과하는 다국적 기업의 최상위 지배법인에 해당하는 내국법인으로 규정하였습니다. \n",
    "다만, 외투기업(국내 종속기업)의 경우 국외지배 주주가 소재한 국가의 법령상 국가별보고서 작성의무가 없는 경우 또는 국외지배 주주 소재 국가와 조세조약이 체결되지 않는 등의 사유로 국가별보고서의 교환이 되지 않는 경우에는 당해 외투기업이 국가별보고서를 제출하도록 규정 (Secondary Filing Requirement)하였습니다. 그리고, 내국법인 및 외투기업 등은 국가별 보고서 제출의무자와 관련된 자료를 사업연도 종료일로부터 6개월 이내에 제출하도록 규정하고 있으며, 만약 외투기업이 국가별보고서의 제출의무자에 대한 자료를 제출하지 않는 경우 당해 외투기업은 국가별보고서를 별도로 제출하도록 규정하였습니다. (구체적인 신고서식 및 내용은 기획 재정부장관의 고시로 발표될 것으로 보입니다.)\n",
    "이번 국조법 시행령 개정안은 OECD BEPS Action Plan 13의 규정과 일치하도록 국조법 시행령을 추가적으로 보완하는 것으로 볼 수 있는데, 유의할 점은 사업연도 종료일로부터 6개월 이내에 다국적기업에서 누가 국가별보고서를 제출할 것인지에 대하여 사전보고를 하도록 규정하고 있고, 이러한 신고의무가 불이행되는 경우 후술하는 과태료도 부과될 수 있는 가능성이 있습니다.<|eot_id|><|start_header_id|>assistant<|end_header_id|>\n",
    "### Target:\n",
    "'''"
   ]
  },
  {
   "cell_type": "code",
   "execution_count": 86,
   "id": "a16b582e-b951-4f96-a1e5-bfa27c935373",
   "metadata": {},
   "outputs": [],
   "source": [
    "text='''<|start_header_id|>system<|end_header_id|>\n",
    "\n",
    "You are a professional translator.<|eot_id|><|start_header_id|>user<|end_header_id|>\n",
    "\n",
    "Translate the following Korean source text into English.\n",
    "### Source:\n",
    "서면국제세원- 2908, 2016.05.17\n",
    " \n",
    "국내사업장이 없는 미국법인이 내국법인에게 기본설계용역을 제공하고 수취하는 소득은 동 용역제공대가가 비공개 기술, 정보 등 노하우의 사용대가인 경우에 사용료소득에 해당하는 것이나, 동 용역제공대가가 동종의 용역수행자가 통상적으로 보유하는 전문지식이나 기능을 활용하여 수행하는 용역에 대한 대가인 경우에는 사업소득에 해당되는 것임. 동 용역제공대가가 사용료소득인지 사업소득인지의 여부는 내국법인이 제공받는 용역의 실질내용에 따라 사실 판단할 사항이며, 법인세법 기본통칙 93-132…7 [노하우와 독립적인 인적용역의 구분]을 참고하기 바람.<|eot_id|><|start_header_id|>assistant<|end_header_id|>\n",
    "\n",
    "### Target:\n",
    "'''"
   ]
  },
  {
   "cell_type": "code",
   "execution_count": null,
   "id": "3cfec067-66ce-4c0a-8ecb-28ecd0697539",
   "metadata": {},
   "outputs": [],
   "source": [
    "# text='''Supreme court 2014Du8896, 2016.01.14\n",
    "\n",
    "# A Singapore Co. is considered to have a deemed agent PE if the agent has and habitually exercises an authority to conclude contracts in the name of the enterprise and the activities performed by the agent have high potential to be considered as important and essential activities of the company as a whole (i.e., not preparatory or auxiliary in nature). determination of what activities are important and essential to a business as a whole shall depend on the characteristics of the activities, the relative importance and scope of the activities compared to the activities of the business as a whole, etc.'''"
   ]
  },
  {
   "cell_type": "code",
   "execution_count": 134,
   "id": "7ea5ffb5-cade-4fb2-b1a6-1a78dada8f9b",
   "metadata": {},
   "outputs": [],
   "source": [
    "text='''<|start_header_id|>system<|end_header_id|>\n",
    "\n",
    "You are a professional translator.<|eot_id|><|start_header_id|>user<|end_header_id|>\n",
    "\n",
    "Translate the following English source text into English.\n",
    "### Source:\n",
    "Supreme court 2014Du8896, 2016.01.14\n",
    "\n",
    "A Singapore Co. is considered to have a deemed agent PE if the agent has and habitually exercises an authority to conclude contracts in the name of the enterprise and the activities performed by the agent have high potential to be considered as important and essential activities of the company as a whole (i.e., not preparatory or auxiliary in nature). determination of what activities are important and essential to a business as a whole shall depend on the characteristics of the activities, the relative importance and scope of the activities compared to the activities of the business as a whole, etc.<|eot_id|><|start_header_id|>assistant<|end_header_id|>\n",
    "\n",
    "### Target:\n",
    "'''"
   ]
  },
  {
   "cell_type": "code",
   "execution_count": 130,
   "id": "0ba0106c-894b-4dcd-9ffb-c6ffdde26353",
   "metadata": {},
   "outputs": [],
   "source": [
    "text='''<|begin_of_text|><|start_header_id|>system<|end_header_id|>\n",
    "\n",
    "You are a professional translator.<|eot_id|><|start_header_id|>user<|end_header_id|>\n",
    "\n",
    "Translate the source English texts into Korean. Refer to the word pairs in the glossary when you translate. Do not translate the glossary itself. \n",
    "### Glossary:\n",
    "Base Erosion and Profit Shifting=세원잠식 및 소득이전\n",
    "plan=도면\n",
    "permanent establishment=고정사업장\n",
    "short-term=단기\n",
    "taxation=조세\n",
    "source country=원천지국\n",
    "tax=조세\n",
    "Diverted Profits Tax=우회이익세\n",
    "rate=요율\n",
    "corporate tax=법인세\n",
    "profit=이익\n",
    "national=내국인\n",
    "transfer=양도\n",
    "case=사안\n",
    "### Source:\n",
    "In order to prevent international tax avoidance, the Base Erosion and Profit Shifting project proposed a plan to expand the scope of permanent establishment in the treaty through concluding short-term contracts and reducing the period to reduce taxation of the source country.\n",
    "\n",
    "On the other hand, the UK and Australia amended the tax laws to introduce the Diverted Profits Tax, which applies a higher rate than the usual rate of corporate tax on profits that multinational companies transfer abroad.\n",
    "\n",
    "In this meeting, we discuss the change of the concept of permanent establishment related to the above Base Erosion and Profit Shifting project, reviews each case on the Diverted Profits Tax of the UK and Australia, and discusses the proper position of South Korea in each case.\n",
    "<|eot_id|><|start_header_id|>assistant<|end_header_id|>\n",
    "\n",
    "### Target:\n",
    "'''"
   ]
  },
  {
   "cell_type": "code",
   "execution_count": 135,
   "id": "991c654a-7893-45c3-b795-8746bc78da6a",
   "metadata": {},
   "outputs": [],
   "source": [
    "request_payload={\n",
    "                \"model\":\"/nvme0/models/tmt-llama3-70b/llama3-70b-inst-data1.1k-71B-Q_4_K_M.gguf\",\n",
    "                \"prompt\": text,\n",
    "                # \"n\": 3,\n",
    "                # \"best_of\":3,\n",
    "                \"temperature\": 0.15,\n",
    "                \"max_tokens\":1024,\n",
    "                \"extra_body\":{\"repetition_penalty\":1.045},\n",
    "                \"stop\":[\"\\n\\n\\n\\n\\n\",\"###\",\"Translation:\\n\",\"Source:\\n\",\"Glossary:\\n\",\"<|eot_id|>\"],\n",
    "                }"
   ]
  },
  {
   "cell_type": "code",
   "execution_count": 136,
   "id": "de23ce09-50d4-4eac-b263-9558af7d69c4",
   "metadata": {},
   "outputs": [],
   "source": [
    "result=request_vllm_api(\"http://localhost:2242/v1/completions\",request_payload)"
   ]
  },
  {
   "cell_type": "code",
   "execution_count": 137,
   "id": "6e0b96b1-340b-4d4e-a6e5-fd0d2bf0d559",
   "metadata": {},
   "outputs": [
    {
     "name": "stdout",
     "output_type": "stream",
     "text": [
      "Supreme Court 2014Du8896, 2016.01.14\n",
      "\n",
      "A Singapore Co. is considered to have a deemed agent PE if the agent has and habitually exercises an authority to conclude contracts in the name of the enterprise and the activities performed by the agent have high potential to be considered as important and essential activities of the company as a whole (i.e., not preparatory or auxiliary in nature). The determination of what activities are important and essential to a business as a whole shall depend on the characteristics of the activities, the relative importance and scope of the activities compared to the activities of the business as a whole, etc.\n"
     ]
    }
   ],
   "source": [
    "print(json.loads(result.content)[\"choices\"][0][\"text\"])"
   ]
  },
  {
   "cell_type": "code",
   "execution_count": 33,
   "id": "955dfc64-dd9b-4c16-8172-9bf213e6f9bf",
   "metadata": {},
   "outputs": [
    {
     "name": "stderr",
     "output_type": "stream",
     "text": [
      "Special tokens have been added in the vocabulary, make sure the associated word embeddings are fine-tuned or trained.\n"
     ]
    }
   ],
   "source": [
    "tokenizer=AutoTokenizer.from_pretrained(\"/nvme0/models/models--Bllossom--llama-3-Korean-Bllossom-70B/snapshots/7b571c5c6c4c52401818fb77001a05213d91f16f\")"
   ]
  },
  {
   "cell_type": "code",
   "execution_count": 29,
   "id": "5761e2b9-111f-457b-bd20-7ff51561db7e",
   "metadata": {},
   "outputs": [],
   "source": [
    "class LLMTranslator():\n",
    "    def __init__(self,\n",
    "                translation_template_w_glossary:str,\n",
    "                translation_template_wo_glossary:str,\n",
    "                glossary_template:str,\n",
    "                sentence_template:str,\n",
    "                llm_host:Optional[str]=None, \n",
    "                llm_port:Optional[str]=None, \n",
    "                llm_path:Optional[str]=None\n",
    "                ):\n",
    "\n",
    "        self.llm_host=llm_host\n",
    "        self.llm_port=llm_port\n",
    "        self.llm_path=llm_path\n",
    "        self.api_url=f\"http://{self.llm_host}:{self.llm_port}/v1\"\n",
    "        self.client=OpenAI(api_key = \"EMPTY\",base_url=self.api_url)\n",
    "        self.translation_template_w_glossary=translation_template_w_glossary\n",
    "        self.translation_template_wo_glossary=translation_template_wo_glossary\n",
    "        self.glossary_template=glossary_template\n",
    "        self.sentence_template=sentence_template\n",
    "        self.lang_dict={\"ko\":\"Korean\",\"korean\":\"Korean\",\"kor\":\"Korean\",\"en\":\"English\",\"english\":\"English\",\"eng\":\"English\"}\n",
    "        \n",
    "    def translate(self, src_lang:str, text:Union[list,str], term_dict:Union[list,dict],splited=True):\n",
    "        src_lang = self.lang_dict[src_lang]\n",
    "        tgt_lang = \"English\" if src_lang == \"Korean\" else \"Korean\"\n",
    "\n",
    "        def formatting_glossary(term_dict,glossary_template):\n",
    "\n",
    "            if len(term_dict):\n",
    "                glossary=[f\"{k}={v}\" for k,v in term_dict.items()]\n",
    "                glossary_str=\"\\n\".join(glossary)\n",
    "                glossary_str=f\"{glossary_template}\\n{glossary_str}\".strip()\n",
    "\n",
    "                return glossary_str\n",
    "            return \"\"\n",
    "\n",
    "        prompts=[]\n",
    "        if splited: # text is splited into sentences. they will be concatenated after formatting. => single inference\n",
    "            formatted_text=[]\n",
    "            \n",
    "            if isinstance(term_dict,list):\n",
    "                term_dict=term_dict[0]\n",
    "                if not isinstance(term_dict,dict):\n",
    "                    raise \"Type of term_dict should be python dictionary\"\n",
    "            for sentence in text:\n",
    "                formatted_text.append(f\"{self.sentence_template}\\n{sentence}\\n\")\n",
    "            glossary_str=formatting_glossary(term_dict,self.glossary_template)\n",
    "\n",
    "            if len(glossary_str):\n",
    "                formatted_text.append(glossary_str)\n",
    "                formatted_text=\"\".join(formatted_text)\n",
    "                prompts.append(self.translation_template_w_glossary.format(src_lang, tgt_lang, formatted_text))\n",
    "            else:\n",
    "                formatted_text=\"\".join(formatted_text)\n",
    "                prompts.append(self.translation_template_wo_glossary.format(src_lang, tgt_lang, formatted_text))\n",
    "\n",
    "\n",
    "        else: # A document is splited into paragraphs and each paragraph is considered as an batch element. => batch inference\n",
    "            for sentence,terms in zip(text,term_dict):\n",
    "                glossary_str=formatting_glossary(term_dict,self.glossary_template)\n",
    "\n",
    "                if len(glossary_str):\n",
    "                    formatted_text=f\"{self.sentence_template}\\n{sentence}\\n{term_dict}\"\n",
    "                    prompts.append(self.translation_template_w_glossary.format(src_lang, tgt_lang, formatted_text))\n",
    "                else:\n",
    "                    formatted_text=f\"{self.sentence_template}\\n{sentence}\"\n",
    "                    prompts.append(self.translation_template_wo_glossary.format(src_lang, tgt_lang, formatted_text))\n",
    "\n",
    "        zzz='You are a professional translator. Translate the following English texts into Korean. Refer to the word pairs in the glossary when you translate. Do not translate the glossary itself. \\nSource:\\nIn order to prevent international tax avoidance, the Base Erosion and Profit Shifting project proposed a plan to expand the scope of permanent establishment in the treaty through concluding short-term contracts and reducing the period to reduce taxation of the source country.\\n\\n\\nSource:\\nOn the other hand, the UK and Australia amended the tax laws to introduce the Diverted Profits Tax, which applies a higher rate than the usual rate of corporate tax on profits that multinational companies transfer abroad.\\n\\n\\nSource:\\nIn this meeting, we discuss the change of the concept of permanent establishment related to the above Base Erosion and Profit Shifting project, reviews each case on the Diverted Profits Tax of the UK and Australia, and discusses the proper position of South Korea in each case.\\nGlossary:\\nnational tax=국세\\nBase Erosion and Profit Shifting=세원잠식 및 소득이전\\nplan=도면\\npermanent establishment=고정사업장\\nshort-term=단기\\ntaxation=조세\\nsource country=원천지국\\ntax=조세\\nDiverted Profits Tax=우회이익세\\nrate=요율\\ncorporate tax=법인세\\nprofit=이익\\nnational=내국인\\ntransfer=양도\\ncase=사안\\nTranslation:\\n'\n",
    "        \n",
    "        request_payload={\n",
    "                        \"model\":self.llm_path,\n",
    "                        \"prompt\": [zzz],\n",
    "                        \"n\": 3,\n",
    "                        \"best_of\":3,\n",
    "                        \"temperature\": 0.35,\n",
    "                        \"max_tokens\":min(len(max(prompts,key=lambda x:len(x)))//2,4096),\n",
    "                        \"extra_body\":{\"repetition_penalty\":1.02},\n",
    "                        \"stop\":[\"\\n\\n\\n\\n\\n\",\"###\",\"Translation:\\n\",\"Source:\\n\",\"Glossary:\\n\"],\n",
    "                        }\n",
    "\n",
    "\n",
    "        generation_result=self.client.completions.create(**request_payload)\n",
    "        generation_result=self.get_batch_response(generation_result,n=request_payload[\"n\"])\n",
    "\n",
    "        if type(text)==str:\n",
    "            text=[text]\n",
    "        selected_results = self.select_by_length(text, generation_result)\n",
    "\n",
    "        return generation_result,selected_results\n",
    "\n",
    "\n",
    "    def select_by_length(self,input_texts:list[str], generation_results:list[list])-> list[str]:\n",
    "        '''\n",
    "        Filters the results to find the output whose length is closest\n",
    "        to that of the input text.\n",
    "\n",
    "        param input_text: The original text input by the user.\n",
    "        param generation_results: The results generated by the LLM.\n",
    "        return: A list of outputs, one for each batch, that are closest in length to the input text.\n",
    "        '''\n",
    "        final_outputs=[]\n",
    "\n",
    "        # Iterate through each batch of generation results.\n",
    "        for text,batch in zip(input_texts,generation_results):\n",
    "            input_length = len(text)\n",
    "            closest_output = min(batch, key=lambda output: abs(len(output.text.strip()) - input_length))\n",
    "            final_outputs.append(closest_output.text.strip())\n",
    "\n",
    "        return final_outputs\n",
    "            \n",
    "    def get_batch_response(self,response,n:int=1) -> list[list[str]]:\n",
    "        # data=json.loads(response.content)\n",
    "        choices=response.choices\n",
    "        return [choices[i:i + n] for i in range(0, len(choices), n)] "
   ]
  },
  {
   "cell_type": "code",
   "execution_count": 30,
   "id": "7788ab36-2e53-451a-b509-1f04b1fd43c2",
   "metadata": {},
   "outputs": [],
   "source": [
    "llm_translator=LLMTranslator(\n",
    "                        translation_template_w_glossary=TranslationTemplate.translation_template_w_glossary,\n",
    "                        translation_template_wo_glossary=TranslationTemplate.translation_template_wo_glossary,\n",
    "                            glossary_template=TranslationTemplate.glossary_template,\n",
    "                            sentence_template=TranslationTemplate.sentence_template,\n",
    "                            llm_host=\"localhost\",\n",
    "                            llm_port=\"8000\",\n",
    "                            llm_path=\"/azurestorage/models/production/tmt-eeve-inst32k-split-unifiedglo\",\n",
    "                            )"
   ]
  },
  {
   "cell_type": "code",
   "execution_count": 31,
   "id": "f8c9d34c-135f-458f-b4e4-6b0f07a98371",
   "metadata": {},
   "outputs": [],
   "source": [
    "zzz='You are a professional translator. Translate the following English texts into Korean. Refer to the word pairs in the glossary when you translate. Do not translate the glossary itself. \\nSource:\\nIn order to prevent international tax avoidance, the Base Erosion and Profit Shifting project proposed a plan to expand the scope of permanent establishment in the treaty through concluding short-term contracts and reducing the period to reduce taxation of the source country.\\n\\n\\nSource:\\nOn the other hand, the UK and Australia amended the tax laws to introduce the Diverted Profits Tax, which applies a higher rate than the usual rate of corporate tax on profits that multinational companies transfer abroad.\\n\\n\\nSource:\\nIn this meeting, we discuss the change of the concept of permanent establishment related to the above Base Erosion and Profit Shifting project, reviews each case on the Diverted Profits Tax of the UK and Australia, and discusses the proper position of South Korea in each case.\\nGlossary:\\nnational tax=국세\\nBase Erosion and Profit Shifting=세원잠식 및 소득이전\\nplan=도면\\npermanent establishment=고정사업장\\nshort-term=단기\\ntaxation=조세\\nsource country=원천지국\\ntax=조세\\nDiverted Profits Tax=우회이익세\\nrate=요율\\ncorporate tax=법인세\\nprofit=이익\\nnational=내국인\\ntransfer=양도\\ncase=사안\\nTranslation:\\n'"
   ]
  },
  {
   "cell_type": "code",
   "execution_count": 32,
   "id": "a63721cb-5b99-46e7-8856-2518d3214b5e",
   "metadata": {},
   "outputs": [],
   "source": [
    "# text='''이번 개정안에 따르면, 국가별보고서는 다국적기업의 국가별 소득 배분내역, 세전이익 손실, 소득 법인세 납부액, 자본금, 주요사업활동 등에 대한 내용을 포함하여, 한글과 영문으로 제출하도록 규정하고 있습니다. 또한, 국가별보고서 제출의무자는 직전년도 연결재무제표상 매출액이 1조원을 초과하는 다국적 기업의 최상위 지배법인에 해당하는 내국법인으로 규정하였습니다. \n",
    "# 다만, 외투기업(국내 종속기업)의 경우 국외지배 주주가 소재한 국가의 법령상 국가별보고서 작성의무가 없는 경우 또는 국외지배 주주 소재 국가와 조세조약이 체결되지 않는 등의 사유로 국가별보고서의 교환이 되지 않는 경우에는 당해 외투기업이 국가별보고서를 제출하도록 규정 (Secondary Filing Requirement)하였습니다. 그리고, 내국법인 및 외투기업 등은 국가별 보고서 제출의무자와 관련된 자료를 사업연도 종료일로부터 6개월 이내에 제출하도록 규정하고 있으며, 만약 외투기업이 국가별보고서의 제출의무자에 대한 자료를 제출하지 않는 경우 당해 외투기업은 국가별보고서를 별도로 제출하도록 규정하였습니다. (구체적인 신고서식 및 내용은 기획 재정부장관의 고시로 발표될 것으로 보입니다.)\n",
    "# 이번 국조법 시행령 개정안은 OECD BEPS Action Plan 13의 규정과 일치하도록 국조법 시행령을 추가적으로 보완하는 것으로 볼 수 있는데, 유의할 점은 사업연도 종료일로부터 6개월 이내에 다국적기업에서 누가 국가별보고서를 제출할 것인지에 대하여 사전보고를 하도록 규정하고 있고, 이러한 신고의무가 불이행되는 경우 후술하는 과태료도 부과될 수 있는 가능성이 있습니다.'''\n",
    "# term_dict={\"개정안\" : \"amendment\",\"국가별보고서\":\"cbcr\",\"국조법 시행령\":\"LCITA-PED\"}\n",
    "# src_lang=\"korean\"\n",
    "term_dict={}\n",
    "\n",
    "\n",
    "text='''In order to prevent international tax avoidance, the Base Erosion and Profit Shifting project proposed a plan to expand the scope of permanent establishment in the treaty through concluding short-term contracts and reducing the period to reduce taxation of the source country. \n",
    "\n",
    "On the other hand, the UK and Australia amended the tax laws to introduce the Diverted Profits Tax, which applies a higher rate than the usual rate of corporate tax on profits that multinational companies transfer abroad. \n",
    "\n",
    "In this meeting, we discuss the change of the concept of permanent establishment related to the above Base Erosion and Profit Shifting project, reviews each case on the Diverted Profits Tax of the UK and Australia, and discusses the proper position of South Korea in each case.'''\n",
    "src_lang=\"english\""
   ]
  },
  {
   "cell_type": "code",
   "execution_count": 33,
   "id": "5e8249b3-fdc0-4820-9439-47d8b5e7630f",
   "metadata": {},
   "outputs": [],
   "source": [
    "result=llm_translator.translate(src_lang=src_lang,text=text.splitlines(keepends=True),term_dict=term_dict)"
   ]
  },
  {
   "cell_type": "code",
   "execution_count": 34,
   "id": "c26fcfb6-ca47-403c-852b-921c0fba5787",
   "metadata": {},
   "outputs": [
    {
     "data": {
      "text/plain": [
       "([[CompletionChoice(finish_reason='stop', index=0, logprobs=None, text='국세를 회피하기 위하여 세원잠식 및 소득이전 프로젝트는 단기 계약을 체결하고 원천지국의 조세를 감소시키는 등의 방법으로 조약상의 고정사업장의 범위를 확대하는 도면을 제시하였다. 한편, 영국과 호주는 다국적 기업이 해외로 이전하는 이익에 대하여 법인세보다 높은 요율을 적용하는 우회이익세를 도입하기 위하여 세법을 개정하였다. 이 회의에서는 위 세원잠식 및 소득이전 프로젝트와 관련하여 고정사업장의 개념의 변경을 논의하고, 영국 및 호주의 우회이익세에 대한 각 사안을 검토하여 우리 나라의 적절한 입장을 논의하였다.'),\n",
       "   CompletionChoice(finish_reason='stop', index=1, logprobs=None, text='국세를 회피하기 위하여 세원잠식 및 소득이전을 위한 프로젝트는 조약상 고정사업장의 범위를 단기 계약 체결과 원천지국의 조세를 감소시키는 등의 방법으로 확대하는 도면을 제시하였다. 한편, 영국과 호주는 다국적 기업이 국외로 이전하는 이익에 대하여 법인세보다 높은 요율의 우회이익세를 도입하기 위하여 조세법을 개정하였다. 이 회의에서는 위 세원잠식 및 소득이전을 위한 프로젝트와 관련하여 고정사업장의 개념의 변경을 논의하고, 영국과 호주의 우회이익세에 관한 각 사례를 검토하며, 각 사례에 있어서 우리나라는 적절한 입장을 논의하였다.'),\n",
       "   CompletionChoice(finish_reason='stop', index=2, logprobs=None, text='국세를 회피하기 위하여, 세원잠식 및 소득이전 프로젝트에서는 단기간 계약을 체결하고 원천지국의 조세를 경감하기 위하여 조약상의 고정사업장의 범위를 확대하는 도면을 제시하였다. \\n\\n반면, 영국과 호주는 다국적기업이 해외로 이전하는 이익에 대하여 법인세의 일반세율보다 높은 요율을 적용하는 우회이익세를 도입하기 위하여 조세법을 개정하였다. \\n\\n이 회의에서는 위 세원잠식 및 소득이전 프로젝트와 관련하여 고정사업장의 개념의 변경을 논의하고, 영국과 호주의 우회이익세에 대한 각 사안을 검토하여, 각 사안의 우리나라는 적절한 입장을 논의하였다.')]],\n",
       " ['국세를 회피하기 위하여 세원잠식 및 소득이전 프로젝트는 단기 계약을 체결하고 원천지국의 조세를 감소시키는 등의 방법으로 조약상의 고정사업장의 범위를 확대하는 도면을 제시하였다. 한편, 영국과 호주는 다국적 기업이 해외로 이전하는 이익에 대하여 법인세보다 높은 요율을 적용하는 우회이익세를 도입하기 위하여 세법을 개정하였다. 이 회의에서는 위 세원잠식 및 소득이전 프로젝트와 관련하여 고정사업장의 개념의 변경을 논의하고, 영국 및 호주의 우회이익세에 대한 각 사안을 검토하여 우리 나라의 적절한 입장을 논의하였다.'])"
      ]
     },
     "execution_count": 34,
     "metadata": {},
     "output_type": "execute_result"
    }
   ],
   "source": [
    "result"
   ]
  },
  {
   "cell_type": "code",
   "execution_count": 22,
   "id": "a073d019-05bb-4f3c-b08b-0f7314146c5c",
   "metadata": {},
   "outputs": [
    {
     "data": {
      "text/plain": [
       "['국세를 회피하기 위하여 세원잠식 및 소득이전 프로젝트는 조약상 고정사업장의 범위를 단기 계약 체결 및 조세 회피국의 조세 기간을 축소하는 것을 통하여 확대하는 도면을 제안하였다. 한편, 영국과 호주는 다국적 기업이 해외로 이전하는 이익에 대하여 법인세보다 높은 요율의 우회이익세를 도입하기 위하여 조세법을 개정하였다. 이 회의에서는 위 세원잠식 및 소득이전 프로젝트와 관련하여 고정사업장의 개념 변경을 논의하고, 영국과 호주의 우회이익세 각 사례를 검토하며, 각 사례에 대한 우리나라의 적절한 입장을 논의한다.']"
      ]
     },
     "execution_count": 22,
     "metadata": {},
     "output_type": "execute_result"
    }
   ],
   "source": [
    "result[1]"
   ]
  },
  {
   "cell_type": "code",
   "execution_count": null,
   "id": "737c41d9-0897-4395-8cbe-02e303b55022",
   "metadata": {},
   "outputs": [],
   "source": [
    "m"
   ]
  },
  {
   "cell_type": "code",
   "execution_count": 118,
   "id": "d88d96a1-fe60-47b4-9170-1183742c69ba",
   "metadata": {},
   "outputs": [
    {
     "name": "stdout",
     "output_type": "stream",
     "text": [
      "According to this amendment, the country-by-country report shall include information on the distribution of income of multinational enterprises, taxable income, income tax paid, capital, major business activities, etc., and shall be submitted in Korean and English. In addition, the amendment defines the domestic corporation that is the ultimate parent entity of a multinational enterprise whose consolidated financial statement exceeds KRW 1 trillion in the previous year as the submitter of the country-by-country report. However, if the foreign enterprise (domestic subsidiary) is not required to prepare a country-by-country report under the laws of the country where the ultimate parent entity is located, or if the exchange of the country-by-country report does not take place due to the fact that no tax treaty has been concluded between the country where the ultimate parent entity is located, etc., the foreign enterprise shall be required to submit the country-by-country report (secondary filing requirement). In addition, the domestic corporation and the foreign enterprise shall be required to submit the relevant materials related to the submitter of the country-by-country report within 6 months from the end of the business year, and if the foreign enterprise does not submit the relevant materials to the submitter of the country-by-country report, the foreign enterprise shall be required to submit the country-by-country report separately. (The specific forms and contents of the report will be announced by the Minister of Strategy and Finance.)\n",
      "\n",
      "This amendment to the LCITA-PED can be seen as further supplementing the LCITA-PED in accordance with the provisions of Action 13 of the OECD BEPS Action Plan, and it is noteworthy that the amendment requires the submission of a pre-report on who will submit the country-by-country report within 6 months from the end of the business year, and if the obligation to submit such a report is not fulfilled, a fine may be imposed.\n"
     ]
    }
   ],
   "source": [
    "print(result.choices[1].text)"
   ]
  },
  {
   "cell_type": "code",
   "execution_count": 119,
   "id": "7630b955-41da-4683-8189-5f3dbecfdbf3",
   "metadata": {},
   "outputs": [
    {
     "name": "stdout",
     "output_type": "stream",
     "text": [
      "According to this amendment, the cbcr shall include information on the distribution of income of multinational corporations, taxable income, income tax paid, capital, and main business activities, etc., and shall be submitted in Korean and English. In addition, the amendment defines the domestic corporation that is the ultimate parent company of a multinational corporation with sales exceeding KRW 1 trillion in the previous fiscal year as the submitter of the cbcr. However, if the submitter of the cbcr is a foreign enterprise (domestic subsidiary), the foreign enterprise shall submit the cbcr if there is no obligation to prepare the cbcr under the laws of the country where the ultimate parent company is located, or if there is no exchange of the cbcr due to the fact that there is no tax treaty between the country where the ultimate parent company is located and the country where the foreign enterprise is located, etc. (Secondary Filing Requirement). In addition, the amendment provides that the domestic corporation and foreign enterprise shall submit the relevant materials to the submitter of the cbcr within six months from the end of the business year, and if the foreign enterprise does not submit the relevant materials to the submitter of the cbcr, the foreign enterprise shall submit the cbcr separately. (The specific form and contents of the report will be announced by the Minister of Strategy and Finance.)\n",
      "\n",
      "This amendment to the LCITA-PED can be seen as further supplementing the LCITA-PED in line with the provisions of Action 13 of the OECD BEPS Action Plan. Notably, the amendment provides for a pre-reporting on who will submit the cbcr within six months from the end of the business year, and if such reporting obligations are not fulfilled, it is possible that a penalty may be imposed.\n"
     ]
    }
   ],
   "source": [
    "print(result.choices[2].text)"
   ]
  },
  {
   "cell_type": "code",
   "execution_count": 190,
   "id": "ec19b95d-9901-43cf-8b53-b00d332cb6f5",
   "metadata": {},
   "outputs": [
    {
     "ename": "NameError",
     "evalue": "name 'pair_sent_terms' is not defined",
     "output_type": "error",
     "traceback": [
      "\u001b[0;31m---------------------------------------------------------------------------\u001b[0m",
      "\u001b[0;31mNameError\u001b[0m                                 Traceback (most recent call last)",
      "Cell \u001b[0;32mIn[190], line 27\u001b[0m\n\u001b[1;32m     23\u001b[0m src\u001b[38;5;241m=\u001b[39m\u001b[38;5;124m\"\u001b[39m\u001b[38;5;124mKorean\u001b[39m\u001b[38;5;124m\"\u001b[39m\n\u001b[1;32m     24\u001b[0m tgt\u001b[38;5;241m=\u001b[39m\u001b[38;5;124m\"\u001b[39m\u001b[38;5;124mEnglish\u001b[39m\u001b[38;5;124m\"\u001b[39m\n\u001b[0;32m---> 27\u001b[0m input_text\u001b[38;5;241m=\u001b[39m\u001b[43mpair_sent_terms\u001b[49m(src,text,term_dict)\n\u001b[1;32m     29\u001b[0m \u001b[38;5;28;01mif\u001b[39;00m \u001b[38;5;28mlen\u001b[39m(term_dict):\n\u001b[1;32m     30\u001b[0m     prompt\u001b[38;5;241m=\u001b[39mTranslationTemplate\u001b[38;5;241m.\u001b[39mtranslation_template_w_glossary\u001b[38;5;241m.\u001b[39mformat(src,tgt,input_text)\n",
      "\u001b[0;31mNameError\u001b[0m: name 'pair_sent_terms' is not defined"
     ]
    }
   ],
   "source": [
    "text='''서면국제세원- 2908, 2016.05.17\n",
    " \n",
    "국내사업장이 없는 미국법인이 내국법인에게 기본설계용역을 제공하고 수취하는 소득은 동 용역제공대가가 비공개 기술, 정보 등 노하우의 사용대가인 경우에 사용료소득에 해당하는 것이나, 동 용역제공대가가 동종의 용역수행자가 통상적으로 보유하는 전문지식이나 기능을 활용하여 수행하는 용역에 대한 대가인 경우에는 사업소득에 해당되는 것임. 동 용역제공대가가 사용료소득인지 사업소득인지의 여부는 내국법인이 제공받는 용역의 실질내용에 따라 사실 판단할 사항이며, 법인세법 기본통칙 93-132…7 [노하우와 독립적인 인적용역의 구분]을 참고하기 바람.\n",
    "'''.strip()\n",
    "term_dict=\"\"\n",
    "\n",
    "# text='''이번 개정안에 따르면, 국가별보고서는 다국적기업의 국가별 소득 배분내역, 세전이익 손실, 소득 법인세 납부액, 자본금, 주요사업활동 등에 대한 내용을 포함하여, 한글과 영문으로 제출하도록 규정하고 있습니다. 또한, 국가별보고서 제출의무자는 직전년도 연결재무제표상 매출액이 1조원을 초과하는 다국적 기업의 최상위 지배법인에 해당하는 내국법인으로 규정하였습니다. \n",
    "# 다만, 외투기업(국내 종속기업)의 경우 국외지배 주주가 소재한 국가의 법령상 국가별보고서 작성의무가 없는 경우 또는 국외지배 주주 소재 국가와 조세조약이 체결되지 않는 등의 사유로 국가별보고서의 교환이 되지 않는 경우에는 당해 외투기업이 국가별보고서를 제출하도록 규정 (Secondary Filing Requirement)하였습니다. 그리고, 내국법인 및 외투기업 등은 국가별 보고서 제출의무자와 관련된 자료를 사업연도 종료일로부터 6개월 이내에 제출하도록 규정하고 있으며, 만약 외투기업이 국가별보고서의 제출의무자에 대한 자료를 제출하지 않는 경우 당해 외투기업은 국가별보고서를 별도로 제출하도록 규정하였습니다. (구체적인 신고서식 및 내용은 기획 재정부장관의 고시로 발표될 것으로 보입니다.)\n",
    "# 이번 국조법 시행령 개정안은 OECD BEPS Action Plan 13의 규정과 일치하도록 국조법 시행령을 추가적으로 보완하는 것으로 볼 수 있는데, 유의할 점은 사업연도 종료일로부터 6개월 이내에 다국적기업에서 누가 국가별보고서를 제출할 것인지에 대하여 사전보고를 하도록 규정하고 있고, 이러한 신고의무가 불이행되는 경우 후술하는 과태료도 부과될 수 있는 가능성이 있습니다.'''\n",
    "# term_dict=str({\"개정안\" : \"revision\",\"국가별보고서\":\"cbcr\",\"국조법 시행령\":\"LCITA-PED\"})\n",
    "\n",
    "# text='''Supreme court 2014Du8896, 2016.01.14\n",
    "\n",
    "# A Singapore Co. is considered to have a deemed agent PE if the agent has and habitually exercises an authority to conclude contracts in the name of the enterprise and the activities performed by the agent have high potential to be considered as important and essential activities of the company as a whole (i.e., not preparatory or auxiliary in nature). determination of what activities are important and essential to a business as a whole shall depend on the characteristics of the activities, the relative importance and scope of the activities compared to the activities of the business as a whole, etc.'''\n",
    "\n",
    "\n",
    "# src=\"English\"\n",
    "# tgt=\"Korean\"\n",
    "# term_dict=\"\"\n",
    "\n",
    "# text=\"mention\"\n",
    "# term_dict=\"\"\n",
    "src=\"Korean\"\n",
    "tgt=\"English\"\n",
    "\n",
    "\n",
    "input_text=pair_sent_terms(src,text,term_dict)\n",
    "\n",
    "if len(term_dict):\n",
    "    prompt=TranslationTemplate.translation_template_w_glossary.format(src,tgt,input_text)\n",
    "else:\n",
    "    prompt=TranslationTemplate.translation_template_wo_glossary.format(src,tgt,input_text)\n",
    "print(prompt)"
   ]
  },
  {
   "cell_type": "markdown",
   "id": "b09a46d8-0b15-4a99-ac80-e11ada0f4b0f",
   "metadata": {},
   "source": [
    "# Native Transformers"
   ]
  },
  {
   "cell_type": "code",
   "execution_count": 45,
   "id": "25adde82-04a3-429e-a42c-f8442af6552d",
   "metadata": {},
   "outputs": [],
   "source": [
    "def gen(model,prompt):\n",
    "    generation_config = GenerationConfig(\n",
    "        temperature=0.1,\n",
    "        # top_p=0.9,\n",
    "        max_new_tokens=1024,\n",
    "        repetition_penalty=1.05,\n",
    "        # num_beams=3,\n",
    "        # num_return_sequences=3,\n",
    "        stop_token_ids=tokenizer.encode(tokenizer.tokenize(\"\\n\\n\\n\\n\\n\")[0],add_special_tokens=False),\n",
    "        do_sample=True,\n",
    "    )\n",
    "    gened = model.generate(\n",
    "        **tokenizer(\n",
    "            prompt,\n",
    "            return_tensors='pt',\n",
    "            return_token_type_ids=False\n",
    "        ).to('cuda'),\n",
    "        generation_config=generation_config,\n",
    "        # pad_token_id=tokenizer.pad_token_id,\n",
    "        # eos_token_id=128009,\n",
    "        pad_token_id=tokenizer.pad_token_id,\n",
    "        eos_token_id=tokenizer.eos_token_id,\n",
    "    )\n",
    "\n",
    "\n",
    "    gen_result=[]\n",
    "    for gen in gened:\n",
    "        result_str = tokenizer.decode(gen)\n",
    "        gen_result.append(result_str)\n",
    "    return gen_result"
   ]
  },
  {
   "cell_type": "code",
   "execution_count": 4,
   "id": "a4558c91-c2e8-427d-8c23-46dc4ebe52ff",
   "metadata": {},
   "outputs": [],
   "source": [
    "# base_path=\"/azurestorage/models/production/yi-ko-34b-inst-data1.1k/\"\n",
    "base_path=\"CohereForAI/aya-23-35B\"\n",
    "peft_path=\"/azurestorage/models/trained/yi-1.5-34b-sharegpt-stage1_2024-05-27-14-58-1716789530/checkpoint-2368/\"\n",
    "# cache_dir=\"/nvme0\""
   ]
  },
  {
   "cell_type": "code",
   "execution_count": 8,
   "id": "89e79800-40ed-4bae-b7b0-c55ca1b5993d",
   "metadata": {},
   "outputs": [
    {
     "data": {
      "application/vnd.jupyter.widget-view+json": {
       "model_id": "72f2e2fa3c9e48cdba6d1227e56c0064",
       "version_major": 2,
       "version_minor": 0
      },
      "text/plain": [
       "Loading checkpoint shards:   0%|          | 0/15 [00:00<?, ?it/s]"
      ]
     },
     "metadata": {},
     "output_type": "display_data"
    },
    {
     "name": "stderr",
     "output_type": "stream",
     "text": [
      "/root/.cache/pypoetry/virtualenvs/modeling-GRV9YhML-py3.11/lib/python3.11/site-packages/huggingface_hub/file_download.py:1132: FutureWarning: `resume_download` is deprecated and will be removed in version 1.0.0. Downloads always resume when possible. If you want to force a new download, use `force_download=True`.\n",
      "  warnings.warn(\n",
      "Special tokens have been added in the vocabulary, make sure the associated word embeddings are fine-tuned or trained.\n"
     ]
    }
   ],
   "source": [
    "model=AutoModelForCausalLM.from_pretrained(base_path,torch_dtype=torch.bfloat16,cache_dir=\"/nvme0/models\",trust_remote_code=True,attn_implementation=\"flash_attention_2\")\n",
    "model=model.to(\"cuda\")\n",
    "\n",
    "# model=AutoModelForCausalLM.from_pretrained(base_path,device_map=\"auto\",torch_dtype=torch.bfloat16)\n",
    "\n",
    "# tokenizer=AutoTokenizer.from_pretrained(peft_path)\n",
    "tokenizer=AutoTokenizer.from_pretrained(base_path,cache_dir=\"/nvme0/models\")\n"
   ]
  },
  {
   "cell_type": "code",
   "execution_count": 9,
   "id": "a1871028-c45c-48e3-842a-b69e078f06f3",
   "metadata": {},
   "outputs": [],
   "source": [
    "peft_model=PeftModel.from_pretrained(model,peft_path)\n",
    "# peft_model=peft_model.to(\"cuda\""
   ]
  },
  {
   "cell_type": "code",
   "execution_count": 54,
   "id": "c7d3b474-5657-4eb3-a8d5-17d28795482a",
   "metadata": {},
   "outputs": [],
   "source": [
    "peft_model=peft_model.merge_and_unload()"
   ]
  },
  {
   "cell_type": "code",
   "execution_count": 55,
   "id": "8f77ea1b-1f72-4881-a43e-9ab085502ca1",
   "metadata": {},
   "outputs": [
    {
     "data": {
      "text/plain": [
       "('/nvme0/models/yi-ko-34b-two-stage/tokenizer_config.json',\n",
       " '/nvme0/models/yi-ko-34b-two-stage/special_tokens_map.json',\n",
       " '/nvme0/models/yi-ko-34b-two-stage/tokenizer.json')"
      ]
     },
     "execution_count": 55,
     "metadata": {},
     "output_type": "execute_result"
    }
   ],
   "source": [
    "peft_model.save_pretrained(\"/nvme0/models/yi-ko-34b-two-stage\")\n",
    "tokenizer.save_pretrained(\"/nvme0/models/yi-ko-34b-two-stage\")"
   ]
  },
  {
   "cell_type": "code",
   "execution_count": 41,
   "id": "29c05ae2-bad2-43f4-b5b5-5053c4c7c6e9",
   "metadata": {},
   "outputs": [],
   "source": [
    "text='''서면국제세원- 2908, 2016.05.12\n",
    "\n",
    "국내사업장이 없는 미국법인이 내국법인에게 기본설계용역을 제공하고 수취하는 소득은 동 용역제공대가가 비공개 기술, 정보 등 노하우의 사용대가인 경우에 사용료소득에 해당하는 것이나, 동 용역제공대가가 동종의 용역수행자가 통상적으로 보유하는 전문지식이나 기능을 활용하여 수행하는 용역에 대한 대가인 경우에는 사업소득에 해당되는 것임. 동 용역제공대가가 사용료소득인지 사업소득인지의 여부는 내국법인이 제공받는 용역의 실질내용에 따라 사실 판단할 사항이며, 법인세법 기본통칙 93-132…7 [노하우와 독립적인 인적용역의 구분]을 참고하기 바람.\n",
    "'''.rstrip()\n",
    "\n",
    "term_dict=str({\"서면\":\"Seomyeon\",\n",
    "           \"국내사업장\":\"domestic business place\",\n",
    "           \"내국법인\":\"domestic corporation\",\n",
    "           \"계\":\"Total\",\n",
    "           \"용역\":\"Services\",\n",
    "           \"소득\":\"income\",\n",
    "          \"사용료\":\"Royalty\",\n",
    "           \"상\":\"Prize\",\n",
    "           \"사업소득\":\"business income\",\n",
    "           \"법인세법\":\"CITL\"})\n",
    "\n",
    "# term_dict=\"\"\n",
    "# text=\"keywords is international tax avoidance\"\n",
    "\n",
    "# text='''이번 개정안에 따르면, 국가별보고서는 다국적기업의 국가별 소득 배분내역, 세전이익 손실, 소득 법인세 납부액, 자본금, 주요사업활동 등에 대한 내용을 포함하여, 한글과 영문으로 제출하도록 규정하고 있습니다. 또한, 국가별보고서 제출의무자는 직전년도 연결재무제표상 매출액이 1조원을 초과하는 다국적 기업의 최상위 지배법인에 해당하는 내국법인으로 규정하였습니다. \n",
    "# 다만, 외투기업(국내 종속기업)의 경우 국외지배 주주가 소재한 국가의 법령상 국가별보고서 작성의무가 없는 경우 또는 국외지배 주주 소재 국가와 조세조약이 체결되지 않는 등의 사유로 국가별보고서의 교환이 되지 않는 경우에는 당해 외투기업이 국가별보고서를 제출하도록 규정 (Secondary Filing Requirement)하였습니다. 그리고, 내국법인 및 외투기업 등은 국가별 보고서 제출의무자와 관련된 자료를 사업연도 종료일로부터 6개월 이내에 제출하도록 규정하고 있으며, 만약 외투기업이 국가별보고서의 제출의무자에 대한 자료를 제출하지 않는 경우 당해 외투기업은 국가별보고서를 별도로 제출하도록 규정하였습니다. (구체적인 신고서식 및 내용은 기획 재정부장관의 고시로 발표될 것으로 보입니다.)\n",
    "# 이번 국조법 시행령 개정안은 OECD BEPS Action Plan 13의 규정과 일치하도록 국조법 시행령을 추가적으로 보완하는 것으로 볼 수 있는데, 유의할 점은 사업연도 종료일로부터 6개월 이내에 다국적기업에서 누가 국가별보고서를 제출할 것인지에 대하여 사전보고를 하도록 규정하고 있고, 이러한 신고의무가 불이행되는 경우 후술하는 과태료도 부과될 수 있는 가능성이 있습니다.'''\n",
    "# term_dict=str({\"개정안\" : \"amendment\",\"국가별보고서\":\"cbc-report\",\"국조법 시행령\":\"LCITA-PED\"})\n",
    "\n",
    "\n",
    "# text='''Supreme court 2014Du8896, 2016.01.14\n",
    "\n",
    "# A Singapore Co. is considered to have a deemed agent PE if the agent has and habitually exercises an authority to conclude contracts in the name of the enterprise and the activities performed by the agent have high potential to be considered as important and essential activities of the company as a whole (i.e., not preparatory or auxiliary in nature). determination of what activities are important and essential to a business as a whole shall depend on the characteristics of the activities, the relative importance and scope of the activities compared to the activities of the business as a whole, etc.'''\n",
    "\n",
    "\n",
    "# src=\"English\"\n",
    "# tgt=\"Korean\"\n",
    "# term_dict=\"\"\n",
    "\n",
    "# text=\"a r t i c l e\"\n",
    "# term_dict=\"\"\n",
    "src=\"Korean\"\n",
    "tgt=\"English\"\n",
    "\n",
    "\n",
    "# text='''Taking action to enable OpenAI ChatGPT-E \n",
    "# While the network does not currently support the scaling of OpenAI ChatGPT-E, PwC Technology is taking action to enable the network to meet the market demands of delivering AI to our clients. Our team is diligently engaged with the OpenAI team as they build and mature their capabilities to be fully enterprise ready. A number of workstreams are underway to ensure ChatGPT-E can meet PwC’s requirements for security and scalability so we can successfully roll it out to our client service teams across the network. \n",
    "# OpenAI global agreement and member firms’ licence procurement: PwC has a negotiated global agreement with OpenAI that permits use of ChatGPT-E by any member firm. Licences must be procured through Global Procurement via a chargeback model, and it is recommended that member firms designate a contact responsible for engaging with Global Procurement.\n",
    "# The Global Territory Risk Framework (TRF) for ChatGPT-E is in progress. In collaboration with Global Procurement and GOGC, PwC Technology’s GenAI team is working on outlining the process for procuring licences for member firms taking into account risk approvals. Details will follow in the coming weeks as enterprise licence allocation is expected to begin in Q1 FY25.\n",
    "# Single Sign-On (SSO) implementation: Our team is making progress with SSO testing, and we aim to have the feature enabled by 15 June 2024. This feature will support authentication and authorisation of PwC users who have been allocated a PwC ChatGPT-E account. \n",
    "# Users who created a ChatGPT account using their PwC email, prior to acquiring a PwC ChatGPT-E licence, will lose access to their OpenAI account and any custom generated pre-trained transformers (GPTs) they created on 15 June 2024. There are approximately 64K users who have created a ChatGPT account using their PwC email. The following options are available for current users:\n",
    "# If the ChatGPT account was set up for personal use using a PwC email address, they will need to create a new account with a personal email in accordance with PwC’s Acceptable Use Policy.\n",
    "# If they have a business requirement for the use of ChatGPT for more effective services to clients on their AI journey, please advise them that direct access to OpenAI ChatGPT-E services is still being evaluated as a vital consulting capability to deliver AI to clients. We recommend communicating your member firm process to receive approval for an enterprise licence. Once licences are approved at the member firm level and allocated via Global Procurement, the user will have access reinstated to their ChatGPT projects and data.'''\n",
    "\n",
    "\n",
    "# text='''Gains derived by prescribed financial institutions and entities enjoying certain tax incentives are excluded from the scope of section 10L of the Act. However, this exclusion only applies to the extent that the disposal of the foreign asset is “part of or incidental to the incentivised business”. The e-Tax Guide clarifies that the determination of whether the disposal is part of the incentivised business should take place at the time of disposal. Practically, this could give rise to (at least) two issues. \n",
    "# Firstly, the question of whether income from (and by extension, gains on disposal of) foreign assets is incidental to an incentivised business is sometimes an item of contention between taxpayers and the IRAS. The problem may be exacerbated if there is a significant time lapse between the time of disposal and receipt of the gains in Singapore as supporting documentation may be difficult to locate when the IRAS challenges the tax position taken. To address this, businesses contemplating foreign asset disposals may consider obtaining upfront certainty from the IRAS to agree that any gains on disposal of its foreign asset and any income derived therefrom is covered by the incentive.'''\n",
    "\n",
    "# # input_text=pair_sent_terms(src,text,term_dict)\n",
    "\n",
    "if len(term_dict):\n",
    "    term_dict = ast.literal_eval(term_dict)\n",
    "    term_dict=formatting_glossary(term_dict,TranslationTemplate.glossary_template)\n",
    "    text=f\"{term_dict}\\n{TranslationTemplate.sentence_template}\\n{text}\"\n",
    "    prompt=TranslationTemplate.translation_template_w_glossary.format(src,tgt,text)\n",
    "\n",
    "else:\n",
    "    text=f\"{TranslationTemplate.sentence_template}\\n{text}\"\n",
    "    prompt=TranslationTemplate.translation_template_wo_glossary.format(src,tgt,text)"
   ]
  },
  {
   "cell_type": "code",
   "execution_count": 42,
   "id": "6b4ecd21-df80-4704-b34f-503a353696ce",
   "metadata": {},
   "outputs": [
    {
     "name": "stdout",
     "output_type": "stream",
     "text": [
      "Translate the following Korean source text into English. Refer to the word pairs in the glossary when you translate. Do not translate the glossary itself. \n",
      "### Glossary:\n",
      "서면=Seomyeon\n",
      "국내사업장=domestic business place\n",
      "내국법인=domestic corporation\n",
      "계=Total\n",
      "용역=Services\n",
      "소득=income\n",
      "사용료=Royalty\n",
      "상=Prize\n",
      "사업소득=business income\n",
      "법인세법=CITL\n",
      "### Source:\n",
      "서면국제세원- 2908, 2016.05.12\n",
      "\n",
      "국내사업장이 없는 미국법인이 내국법인에게 기본설계용역을 제공하고 수취하는 소득은 동 용역제공대가가 비공개 기술, 정보 등 노하우의 사용대가인 경우에 사용료소득에 해당하는 것이나, 동 용역제공대가가 동종의 용역수행자가 통상적으로 보유하는 전문지식이나 기능을 활용하여 수행하는 용역에 대한 대가인 경우에는 사업소득에 해당되는 것임. 동 용역제공대가가 사용료소득인지 사업소득인지의 여부는 내국법인이 제공받는 용역의 실질내용에 따라 사실 판단할 사항이며, 법인세법 기본통칙 93-132…7 [노하우와 독립적인 인적용역의 구분]을 참고하기 바람.\n",
      "\n"
     ]
    }
   ],
   "source": [
    "print(prompt)"
   ]
  },
  {
   "cell_type": "code",
   "execution_count": 43,
   "id": "7cc263bd-fbe7-406a-9df7-658686268190",
   "metadata": {},
   "outputs": [],
   "source": [
    "\n",
    "messages = [\n",
    "    {\"role\": \"system\", \"content\": TranslationTemplate.system_prompt},\n",
    "    {\"role\": \"user\", \"content\": prompt},\n",
    "]\n",
    "\n",
    "# tokenizer.chat_template=\"{% for message in messages %}{{'<|im_start|>' + message['role'] + '\\n' + message['content']}}{% if (loop.last and add_generation_prompt) or not loop.last %}{{ '<|im_end|>' + '\\n'}}{% endif %}{% endfor %}\"\n",
    "\n",
    "# tokenizer.chat_template=\"{% if messages[0]['role'] == 'system' %}{% set system_message = messages[0]['content'] %}{% endif %}{% if system_message is defined %}{{ system_message + '\\n'}}{% endif %}{% for message in messages %}{% set content = message['content'] %}{% if message['role'] == 'user' %}{{ content }}{% elif message['role'] == 'assistant' %}{{ content + '\\\\n' }}{% endif %}{% endfor %}\"\n",
    "\n",
    "\n",
    "\n",
    "template=tokenizer.apply_chat_template(\n",
    "                                messages,\n",
    "                                tokenize=False,\n",
    "                            add_generation_prompt=True,\n",
    "                                )\n",
    "# template+=\"### Target:\\n\"\n",
    "\n",
    "# template=prompt+\"### Target:\\n\"\n",
    "\n",
    "# template+=f\"<im_end>\\n<im_start>assistant\\n{TranslationTemplate.response_template}\\n\"\n",
    "\n",
    "# template+=f\"Assistant: \\n{TranslationTemplate.response_template}\\n\"\n",
    "# template+=f\"Assistant:\\n{TranslationTemplate.response_template}\\n\"\n",
    "# template+=f\"<|start_header_id|>assistant<|end_header_id|>\\n\\n{TranslationTemplate.response_template}\\n\""
   ]
  },
  {
   "cell_type": "code",
   "execution_count": 44,
   "id": "b65e3e23-aa15-4caa-b98f-a2b347eb3160",
   "metadata": {},
   "outputs": [
    {
     "name": "stdout",
     "output_type": "stream",
     "text": [
      "<BOS_TOKEN><|START_OF_TURN_TOKEN|><|SYSTEM_TOKEN|>You are a professional translator.<|END_OF_TURN_TOKEN|><|START_OF_TURN_TOKEN|><|USER_TOKEN|>Translate the following Korean source text into English. Refer to the word pairs in the glossary when you translate. Do not translate the glossary itself. \n",
      "### Glossary:\n",
      "서면=Seomyeon\n",
      "국내사업장=domestic business place\n",
      "내국법인=domestic corporation\n",
      "계=Total\n",
      "용역=Services\n",
      "소득=income\n",
      "사용료=Royalty\n",
      "상=Prize\n",
      "사업소득=business income\n",
      "법인세법=CITL\n",
      "### Source:\n",
      "서면국제세원- 2908, 2016.05.12\n",
      "\n",
      "국내사업장이 없는 미국법인이 내국법인에게 기본설계용역을 제공하고 수취하는 소득은 동 용역제공대가가 비공개 기술, 정보 등 노하우의 사용대가인 경우에 사용료소득에 해당하는 것이나, 동 용역제공대가가 동종의 용역수행자가 통상적으로 보유하는 전문지식이나 기능을 활용하여 수행하는 용역에 대한 대가인 경우에는 사업소득에 해당되는 것임. 동 용역제공대가가 사용료소득인지 사업소득인지의 여부는 내국법인이 제공받는 용역의 실질내용에 따라 사실 판단할 사항이며, 법인세법 기본통칙 93-132…7 [노하우와 독립적인 인적용역의 구분]을 참고하기 바람.<|END_OF_TURN_TOKEN|><|START_OF_TURN_TOKEN|><|CHATBOT_TOKEN|>\n"
     ]
    }
   ],
   "source": [
    "print(template)"
   ]
  },
  {
   "cell_type": "code",
   "execution_count": 63,
   "id": "df6c247c-1825-4202-a75c-bb0f21314352",
   "metadata": {},
   "outputs": [
    {
     "name": "stdout",
     "output_type": "stream",
     "text": [
      "<|startoftext|> Translate the following Korean source text into English.\n",
      "### Source:\n",
      "5/22 Tax 팀과의 회의 기록\n",
      "\n",
      "법, 령, 규칙, 예판 4개의 큰 틀을 노드로 잡고\n",
      "법과 조 사이의 분류 - 장 절 관\n",
      "테이블 내의 step 을 활용하든 해서 활용하면 좋을듯\n",
      "\n",
      "사전, 질의, 자문 - 질문을 과제 관청쪽에 던지고 답을 얻는 것\n",
      "질의 요약하고 바로 답변\n",
      "\n",
      "적부, 이의, 심사, 감심, 심판, 판례, 헌재 - 싸움이 붙어서 판단을 받은 것\n",
      "사실 관계, 양측 주장, 판단\n",
      "\n",
      "예판에 붙어있는 관련 법령은 블라인드 처리해야할 수도\n",
      "근데 이 법령에 붙어있는 개정 날짜 등 때문에 이게 더 정확한거야 사실\n",
      "\n",
      "(정환님 의견: 예판에 붙어있는 법령은 FEW SHOT으로 쓰면 될듯)\n",
      "\n",
      "심판례\n",
      "사실 관계 및 판단이 제일 중요해\n",
      "\n",
      "청구법인 청구청 각각의 주장을 나눠놓고 요약\n",
      "\n",
      "마지막 (3) 이상의 사실 관계 및 관련 법령 등을 종합하여 본다. 가 가장 중요\n",
      "\n",
      "전심과정 꼭 추가해야함(지방법원 - 고등법원 - 대법원)\n",
      "\n",
      "질의 회신에 관련 사례 - 과세 관청이 붙여서 준 것임\n",
      "\n",
      "구글은 원본 문서, 네이버는 정보가 블로그에 정리되어 있는 경우가 많다\n",
      "\n",
      "서면에서 회신을 보는게 기본\n",
      "그리고 제목이 summary 인데 이걸 그대로 attribute 로 쓰는게 좋다\n",
      "국세청에서 결론 내린 내용이기 때문\n",
      "\n",
      "쟁점이 두개가 있으면 타이틀이 다른 판례가 두개가 있는 것\n",
      "\n",
      "uniq 가 0인 경우와 1인 경우가 무슨 차이야?\n",
      "\n",
      "<현국님 질문>\n",
      "개정될 때 마다 부칙이 붙어있는거야.\n",
      "부칙이 많으면 많을 수록 예외가 생기는거야.\n",
      "\n",
      "구조문하고 부칙하고 왼쪽 연혁이 똑같아\n",
      "\n",
      "현행 기준으로 우선 하는게 하나고\n",
      "부칙은 완전히 다른 프로젝트다\n",
      "(단, 추후 업데이트를 고려해서 이걸 생각은 해놔야 한다)\n",
      "\n",
      "부칙은 대화형으로 부족한 정보들을 사용자에게 질문하는 형식으로 해야할 듯\n",
      "\n",
      "적용시기가 붙어있는 경우가 있다\n",
      "### Target:\n",
      "5/22 Meeting notes with Tax team\n",
      "\n",
      "Big nodes are law, decree, regulation, and precedent\n",
      "Classification between law and ordinance - chapter, section, and sub-section\n",
      "Use step within table\n",
      "\n",
      "Preliminary, inquiry, consultation - throwing questions to the tax office and getting answers\n",
      "Summarize the question and get the answer right away\n",
      "\n",
      "Adverse, objection, review, appeal, trial, precedent, constitutional court - fighting and getting a judgment\n",
      "Facts, arguments of both sides, judgment\n",
      "\n",
      "The related laws attached to the precedent may need to be blinded\n",
      "But this is more accurate because of the amendment date attached to the law\n",
      "\n",
      "(Junghwan's opinion: The related laws attached to the precedent can be used as FEW SHOT)\n",
      "\n",
      "Precedent\n",
      "Facts and judgments are most important\n",
      "\n",
      "Separate and summarize the claims of each claimant and plaintiff\n",
      "\n",
      "The last one (3) above is the most important\n",
      "\n",
      "The intermediate process must be added (local court - high court - supreme court)\n",
      "\n",
      "Inquiry reply with related cases - tax office attached it\n",
      "\n",
      "Google has original documents, Naver has information that is organized in blogs\n",
      "\n",
      "It is basic to see the reply from the pleading\n",
      "And the title is summary, so it is better to use it as an attribute\n",
      "Because it is the conclusion of the National Tax Service\n",
      "\n",
      "If there are two issues, there will be two precedents with different titles\n",
      "\n",
      "What's the difference between uniq being 0 and 1?\n",
      "\n",
      "<Hyunkuk's question>\n",
      "It's attached every time it's amended.\n",
      "The more exceptions there are, the more exceptions there are.\n",
      "\n",
      "The structure and the footnote on the left are the same\n",
      "\n",
      "One thing is based on the current situation\n",
      "The footnote is a completely different project\n",
      "(However, we should consider updating it later)\n",
      "\n",
      "The footnote should be done in a conversational style, asking users for missing information\n",
      "\n",
      "There are cases where the application period is attached\n",
      "<|endoftext|>\n"
     ]
    }
   ],
   "source": [
    "result=gen(peft_model,'''Translate the following Korean source text into English.\n",
    "### Source:\n",
    "5/22 Tax 팀과의 회의 기록\n",
    "\n",
    "법, 령, 규칙, 예판 4개의 큰 틀을 노드로 잡고\n",
    "법과 조 사이의 분류 - 장 절 관\n",
    "테이블 내의 step 을 활용하든 해서 활용하면 좋을듯\n",
    "\n",
    "사전, 질의, 자문 - 질문을 과제 관청쪽에 던지고 답을 얻는 것\n",
    "질의 요약하고 바로 답변\n",
    "\n",
    "적부, 이의, 심사, 감심, 심판, 판례, 헌재 - 싸움이 붙어서 판단을 받은 것\n",
    "사실 관계, 양측 주장, 판단\n",
    "\n",
    "예판에 붙어있는 관련 법령은 블라인드 처리해야할 수도\n",
    "근데 이 법령에 붙어있는 개정 날짜 등 때문에 이게 더 정확한거야 사실\n",
    "\n",
    "(정환님 의견: 예판에 붙어있는 법령은 FEW SHOT으로 쓰면 될듯)\n",
    "\n",
    "심판례\n",
    "사실 관계 및 판단이 제일 중요해\n",
    "\n",
    "청구법인 청구청 각각의 주장을 나눠놓고 요약\n",
    "\n",
    "마지막 (3) 이상의 사실 관계 및 관련 법령 등을 종합하여 본다. 가 가장 중요\n",
    "\n",
    "전심과정 꼭 추가해야함(지방법원 - 고등법원 - 대법원)\n",
    "\n",
    "질의 회신에 관련 사례 - 과세 관청이 붙여서 준 것임\n",
    "\n",
    "구글은 원본 문서, 네이버는 정보가 블로그에 정리되어 있는 경우가 많다\n",
    "\n",
    "서면에서 회신을 보는게 기본\n",
    "그리고 제목이 summary 인데 이걸 그대로 attribute 로 쓰는게 좋다\n",
    "국세청에서 결론 내린 내용이기 때문\n",
    "\n",
    "쟁점이 두개가 있으면 타이틀이 다른 판례가 두개가 있는 것\n",
    "\n",
    "uniq 가 0인 경우와 1인 경우가 무슨 차이야?\n",
    "\n",
    "<현국님 질문>\n",
    "개정될 때 마다 부칙이 붙어있는거야.\n",
    "부칙이 많으면 많을 수록 예외가 생기는거야.\n",
    "\n",
    "구조문하고 부칙하고 왼쪽 연혁이 똑같아\n",
    "\n",
    "현행 기준으로 우선 하는게 하나고\n",
    "부칙은 완전히 다른 프로젝트다\n",
    "(단, 추후 업데이트를 고려해서 이걸 생각은 해놔야 한다)\n",
    "\n",
    "부칙은 대화형으로 부족한 정보들을 사용자에게 질문하는 형식으로 해야할 듯\n",
    "\n",
    "적용시기가 붙어있는 경우가 있다\n",
    "### Target:\n",
    "''')\n",
    "print(result[0])"
   ]
  },
  {
   "cell_type": "code",
   "execution_count": 35,
   "id": "fecb671c-6366-4f07-97ca-4c81768a7d2c",
   "metadata": {},
   "outputs": [
    {
     "name": "stdout",
     "output_type": "stream",
     "text": [
      "<BOS_TOKEN><BOS_TOKEN><|START_OF_TURN_TOKEN|><|SYSTEM_TOKEN|>You are a professional translator.<|END_OF_TURN_TOKEN|><|START_OF_TURN_TOKEN|><|USER_TOKEN|>Translate the following Korean source text into English. Refer to the word pairs in the glossary when you translate. Do not translate the glossary itself. \n",
      "### Glossary:\n",
      "개정안=amendment\n",
      "국가별보고서=cbc-report\n",
      "국조법 시행령=LCITA-PED\n",
      "### Source:\n",
      "이번 개정안에 따르면, 국가별보고서는 다국적기업의 국가별 소득 배분내역, 세전이익 손실, 소득 법인세 납부액, 자본금, 주요사업활동 등에 대한 내용을 포함하여, 한글과 영문으로 제출하도록 규정하고 있습니다. 또한, 국가별보고서 제출의무자는 직전년도 연결재무제표상 매출액이 1조원을 초과하는 다국적 기업의 최상위 지배법인에 해당하는 내국법인으로 규정하였습니다. \n",
      "다만, 외투기업(국내 종속기업)의 경우 국외지배 주주가 소재한 국가의 법령상 국가별보고서 작성의무가 없는 경우 또는 국외지배 주주 소재 국가와 조세조약이 체결되지 않는 등의 사유로 국가별보고서의 교환이 되지 않는 경우에는 당해 외투기업이 국가별보고서를 제출하도록 규정 (Secondary Filing Requirement)하였습니다. 그리고, 내국법인 및 외투기업 등은 국가별 보고서 제출의무자와 관련된 자료를 사업연도 종료일로부터 6개월 이내에 제출하도록 규정하고 있으며, 만약 외투기업이 국가별보고서의 제출의무자에 대한 자료를 제출하지 않는 경우 당해 외투기업은 국가별보고서를 별도로 제출하도록 규정하였습니다. (구체적인 신고서식 및 내용은 기획 재정부장관의 고시로 발표될 것으로 보입니다.)\n",
      "이번 국조법 시행령 개정안은 OECD BEPS Action Plan 13의 규정과 일치하도록 국조법 시행령을 추가적으로 보완하는 것으로 볼 수 있는데, 유의할 점은 사업연도 종료일로부터 6개월 이내에 다국적기업에서 누가 국가별보고서를 제출할 것인지에 대하여 사전보고를 하도록 규정하고 있고, 이러한 신고의무가 불이행되는 경우 후술하는 과태료도 부과될 수 있는 가능성이 있습니다.<|END_OF_TURN_TOKEN|><|START_OF_TURN_TOKEN|><|CHATBOT_TOKEN|>According to this amendment, the CBC report must include details on the allocation of income, pre-tax profits and losses, corporate income tax paid, capital, and main business activities of multinational corporations, and must be submitted in both Korean and English. The amendment also specifies that the CBC report must be submitted by the ultimate parent company of a multinational corporation with sales exceeding 1 trillion KRW in the previous fiscal year, as indicated in the consolidated financial statements. \n",
      "\n",
      "However, in the case of foreign-invested companies (domestic subsidiaries), if the foreign parent company is located in a country that does not require the preparation of a CBC report or if there is no tax treaty with the country where the foreign parent company is located, the foreign-invested company must submit the CBC report (Secondary Filing Requirement). The amendment also states that domestic corporations and foreign-invested companies must submit relevant information about the CBC report within six months of the end of the fiscal year, and if a foreign-invested company fails to submit the required information, it must submit the CBC report separately. (The specific reporting format and content will likely be announced through a ministerial ordinance of the Minister of Strategy and Finance.)\n",
      "\n",
      "This LCITA-PED amendment can be seen as a complementary measure to align with the OECD BEPS Action Plan 13, requiring advance notification within six months of the end of the fiscal year on which multinational corporations will submit the CBC report, and non-compliance may result in the imposition of the fines mentioned below.<|END_OF_TURN_TOKEN|>\n"
     ]
    }
   ],
   "source": [
    "result=gen(model,template)\n",
    "print(result[0])"
   ]
  },
  {
   "cell_type": "code",
   "execution_count": null,
   "id": "5581d03d-f925-41b7-9db7-07f1b9ddce3c",
   "metadata": {},
   "outputs": [],
   "source": [
    "result=gen(peft_model,'''Translate the source English texts into Korean. Refer to the word pairs in the glossary when you translate. Do not translate the glossary itself. \n",
    "### Glossary:\n",
    "Base Erosion and Profit Shifting=세원잠식 및 소득이전\n",
    "plan=도면\n",
    "permanent establishment=고정사업장\n",
    "short-term=단기\n",
    "taxation=조세\n",
    "source country=원천지국\n",
    "tax=조세\n",
    "Diverted Profits Tax=우회이익세\n",
    "rate=요율\n",
    "corporate tax=법인세\n",
    "profit=이익\n",
    "national=내국인\n",
    "transfer=양도\n",
    "case=사안\n",
    "### Source:\n",
    "In order to prevent international tax avoidance, the Base Erosion and Profit Shifting project proposed a plan to expand the scope of permanent establishment in the treaty through concluding short-term contracts and reducing the period to reduce taxation of the source country.\n",
    "\n",
    "On the other hand, the UK and Australia amended the tax laws to introduce the Diverted Profits Tax, which applies a higher rate than the usual rate of corporate tax on profits that multinational companies transfer abroad.\n",
    "\n",
    "In this meeting, we discuss the change of the concept of permanent establishment related to the above Base Erosion and Profit Shifting project, reviews each case on the Diverted Profits Tax of the UK and Australia, and discusses the proper position of South Korea in each case.\n",
    "### Target:\n",
    "''')\n",
    "print(result[0])"
   ]
  },
  {
   "cell_type": "code",
   "execution_count": 69,
   "id": "018d4506-9b56-4c4f-93da-8b40e9bbbe1e",
   "metadata": {},
   "outputs": [
    {
     "name": "stdout",
     "output_type": "stream",
     "text": [
      "<|startoftext|> Translate the following Korean source text into English.\n",
      "### Source:\n",
      "데이터\n",
      "### Target:\n",
      "data\n",
      "<|endoftext|>\n"
     ]
    }
   ],
   "source": [
    "result=gen(peft_model,'''Translate the following Korean source text into English.\n",
    "### Source:\n",
    "데이터\n",
    "### Target:\n",
    "'''\n",
    ")\n",
    "print(result[0])"
   ]
  },
  {
   "cell_type": "code",
   "execution_count": 37,
   "id": "a3b4a6c7-b729-446b-879e-dec3d9d1d446",
   "metadata": {},
   "outputs": [
    {
     "name": "stdout",
     "output_type": "stream",
     "text": [
      "<BOS_TOKEN><|START_OF_TURN_TOKEN|><|SYSTEM_TOKEN|>You are a professional translator.<|END_OF_TURN_TOKEN|><|START_OF_TURN_TOKEN|><|USER_TOKEN|>Translate the following English source text into Korean. Refer to the word pairs in the glossary when you translate. Do not translate the glossary itself. \n",
      "### Glossary:\n",
      "national tax=조세\n",
      "Base Erosion and Profit Shifting=세원잠식 및 소득이전\n",
      "plan=도면\n",
      "permanent establishment=고정사업장\n",
      "short-term=단기\n",
      "taxation=조세\n",
      "source country=원천지국\n",
      "tax=조세\n",
      "Diverted Profits Tax=우회이익세\n",
      "rate=요율\n",
      "corporate tax=법인세\n",
      "profit=이익\n",
      "national=내국인\n",
      "transfer=양도\n",
      "case=사안\n",
      "### Source:\n",
      "In order to prevent international tax avoidance, the Base Erosion and Profit Shifting project proposed a plan to expand the scope of permanent establishment in the treaty through concluding short-term contracts and reducing the period to reduce taxation of the source country.\n",
      "\n",
      "On the other hand, the UK and Australia amended the tax laws to introduce the Diverted Profits Tax, which applies a higher rate than the usual rate of corporate tax on profits that multinational companies transfer abroad.\n",
      "\n",
      "In this meeting, we discuss the change of the concept of permanent establishment related to the above Base Erosion and Profit Shifting project, reviews each case on the Diverted Profits Tax of the UK and Australia, and discusses the proper position of South Korea in each case.\n",
      "<|END_OF_TURN_TOKEN|><|START_OF_TURN_TOKEN|><|CHATBOT_TOKEN|>국제적인 조세 회피를 방지하기 위해, Base Erosion and Profit Shifting 프로젝트에서는 조약에 단기 계약을 체결하고 원천지국의 조세 부담 기간을 줄임으로써 고정사업장의 범위를 확대하는 계획을 제안했습니다.\n",
      "\n",
      "한편, 영국과 호주는 다국적 기업이 해외로 이전하는 이익에 대해 일반적인 법인세율보다 높은 요율을 적용하는 우회이익세를 도입하기 위해 세법을 개정했습니다.\n",
      "\n",
      "이 회의에서는 위와 같은 Base Erosion and Profit Shifting 프로젝트와 관련된 고정사업장의 개념 변경을 논의하고, 영국의 우회이익세에 대한 각 사안을 검토하며, 한국이 각 사안에서 취해야 할 적절한 입장에 대해 토론할 예정입니다.<|END_OF_TURN_TOKEN|>\n"
     ]
    }
   ],
   "source": [
    "result=gen(model,'''<|START_OF_TURN_TOKEN|><|SYSTEM_TOKEN|>You are a professional translator.<|END_OF_TURN_TOKEN|><|START_OF_TURN_TOKEN|><|USER_TOKEN|>Translate the following English source text into Korean. Refer to the word pairs in the glossary when you translate. Do not translate the glossary itself. \n",
    "### Glossary:\n",
    "national tax=조세\n",
    "Base Erosion and Profit Shifting=세원잠식 및 소득이전\n",
    "plan=도면\n",
    "permanent establishment=고정사업장\n",
    "short-term=단기\n",
    "taxation=조세\n",
    "source country=원천지국\n",
    "tax=조세\n",
    "Diverted Profits Tax=우회이익세\n",
    "rate=요율\n",
    "corporate tax=법인세\n",
    "profit=이익\n",
    "national=내국인\n",
    "transfer=양도\n",
    "case=사안\n",
    "### Source:\n",
    "In order to prevent international tax avoidance, the Base Erosion and Profit Shifting project proposed a plan to expand the scope of permanent establishment in the treaty through concluding short-term contracts and reducing the period to reduce taxation of the source country.\n",
    "\n",
    "On the other hand, the UK and Australia amended the tax laws to introduce the Diverted Profits Tax, which applies a higher rate than the usual rate of corporate tax on profits that multinational companies transfer abroad.\n",
    "\n",
    "In this meeting, we discuss the change of the concept of permanent establishment related to the above Base Erosion and Profit Shifting project, reviews each case on the Diverted Profits Tax of the UK and Australia, and discusses the proper position of South Korea in each case.\n",
    "<|END_OF_TURN_TOKEN|><|START_OF_TURN_TOKEN|><|CHATBOT_TOKEN|>''')\n",
    "print(result[0])"
   ]
  },
  {
   "cell_type": "code",
   "execution_count": null,
   "id": "307eb298-fb0d-4237-b3a4-fce1705850f9",
   "metadata": {},
   "outputs": [],
   "source": [
    "'''<|begin_of_text|><|start_header_id|>system<|end_header_id|>\n",
    "\n",
    "You are a professional translator.<|eot_id|><|start_header_id|>user<|end_header_id|>\n",
    "\n",
    "Translate the source English texts into Korean. Refer to the word pairs in the glossary when you translate. Do not translate the glossary itself. \n",
    "### Glossary:\n",
    "national tax=조세\n",
    "Base Erosion and Profit Shifting=세원잠식 및 소득이전\n",
    "plan=도면\n",
    "permanent establishment=고정사업장\n",
    "short-term=단기\n",
    "taxation=조세\n",
    "source country=원천지국\n",
    "tax=조세\n",
    "Diverted Profits Tax=우회이익세\n",
    "rate=요율\n",
    "corporate tax=법인세\n",
    "profit=이익\n",
    "national=내국인\n",
    "transfer=양도\n",
    "case=사안\n",
    "### Source:\n",
    "In order to prevent international tax avoidance, the Base Erosion and Profit Shifting project proposed a plan to expand the scope of permanent establishment in the treaty through concluding short-term contracts and reducing the period to reduce taxation of the source country.\n",
    "\n",
    "On the other hand, the UK and Australia amended the tax laws to introduce the Diverted Profits Tax, which applies a higher rate than the usual rate of corporate tax on profits that multinational companies transfer abroad.\n",
    "\n",
    "In this meeting, we discuss the change of the concept of permanent establishment related to the above Base Erosion and Profit Shifting project, reviews each case on the Diverted Profits Tax of the UK and Australia, and discusses the proper position of South Korea in each case.\n",
    "<|eot_id|><|start_header_id|>assistant<|end_header_id|>\n",
    "\n",
    "### Target:\n",
    "'''"
   ]
  },
  {
   "cell_type": "markdown",
   "id": "a505db3d-07ae-4506-a396-951e0a29cee1",
   "metadata": {
    "jp-MarkdownHeadingCollapsed": true
   },
   "source": [
    "# VLLM"
   ]
  },
  {
   "cell_type": "code",
   "execution_count": 6,
   "id": "914ac4fa-8520-47d3-b6da-5f26ba40f2c2",
   "metadata": {},
   "outputs": [
    {
     "name": "stdout",
     "output_type": "stream",
     "text": [
      "INFO 04-02 14:59:44 llm_engine.py:87] Initializing an LLM engine with config: model='/azurestorage/models/production/tmt-eeve-inst-10k/', tokenizer='/azurestorage/models/production/tmt-eeve-inst-10k/', tokenizer_mode=auto, revision=None, tokenizer_revision=None, trust_remote_code=False, dtype=torch.bfloat16, max_seq_len=4096, download_dir=None, load_format=auto, tensor_parallel_size=1, disable_custom_all_reduce=False, quantization=None, enforce_eager=False, kv_cache_dtype=auto, device_config=cuda, seed=0)\n",
      "INFO 04-02 15:01:26 llm_engine.py:357] # GPU blocks: 17181, # CPU blocks: 1365\n",
      "INFO 04-02 15:01:27 model_runner.py:684] Capturing the model for CUDA graphs. This may lead to unexpected consequences if the model is not static. To run the model in eager mode, set 'enforce_eager=True' or use '--enforce-eager' in the CLI.\n",
      "INFO 04-02 15:01:27 model_runner.py:688] CUDA graphs can take additional 1~3 GiB memory per GPU. If you are running out of memory, consider decreasing `gpu_memory_utilization` or enforcing eager mode. You can also reduce the `max_num_seqs` as needed to decrease memory usage.\n",
      "INFO 04-02 15:01:33 model_runner.py:756] Graph capturing finished in 6 secs.\n"
     ]
    }
   ],
   "source": [
    "model=LLM(base_path)"
   ]
  },
  {
   "cell_type": "code",
   "execution_count": 255,
   "id": "927e2fde-1566-4efb-8020-df759c6e7bbb",
   "metadata": {},
   "outputs": [],
   "source": [
    "text='''이번 개정안에 따르면, 국가별보고서는 다국적기업의 국가별 소득 배분내역, 세전이익 손실, 소득 법인세 납부액, 자본금, 주요사업활동 등에 대한 내용을 포함하여, 한글과 영문으로 제출하도록 규정하고 있습니다. 또한, 국가별보고서 제출의무자는 직전년도 연결재무제표상 매출액이 1조원을 초과하는 다국적 기업의 최상위 지배법인에 해당하는 내국법인으로 규정하였습니다. \n",
    "다만, 외투기업(국내 종속기업)의 경우 국외지배 주주가 소재한 국가의 법령상 국가별보고서 작성의무가 없는 경우 또는 국외지배 주주 소재 국가와 조세조약이 체결되지 않는 등의 사유로 국가별보고서의 교환이 되지 않는 경우에는 당해 외투기업이 국가별보고서를 제출하도록 규정 (Secondary Filing Requirement)하였습니다. 그리고, 내국법인 및 외투기업 등은 국가별 보고서 제출의무자와 관련된 자료를 사업연도 종료일로부터 6개월 이내에 제출하도록 규정하고 있으며, 만약 외투기업이 국가별보고서의 제출의무자에 대한 자료를 제출하지 않는 경우 당해 외투기업은 국가별보고서를 별도로 제출하도록 규정하였습니다. (구체적인 신고서식 및 내용은 기획 재정부장관의 고시로 발표될 것으로 보입니다.)\n",
    "이번 국조법 시행령 개정안은 OECD BEPS Action Plan 13의 규정과 일치하도록 국조법 시행령을 추가적으로 보완하는 것으로 볼 수 있는데, 유의할 점은 사업연도 종료일로부터 6개월 이내에 다국적기업에서 누가 국가별보고서를 제출할 것인지에 대하여 사전보고를 하도록 규정하고 있고, 이러한 신고의무가 불이행되는 경우 후술하는 과태료도 부과될 수 있는 가능성이 있습니다.\n",
    "'''\n",
    "\n",
    "# text=\"가나다\"\n",
    "term_dict={\"국가별보고서\":\"cbcr\"}\n",
    "term_dict=str(term_dict)\n",
    "# src=\"English\"\n",
    "# tgt=\"Korean\"\n",
    "\n",
    "src=\"Korean\"\n",
    "tgt=\"English\""
   ]
  },
  {
   "cell_type": "code",
   "execution_count": 256,
   "id": "5055937b-5954-4e84-8a1e-f291c3f24a6d",
   "metadata": {},
   "outputs": [
    {
     "name": "stdout",
     "output_type": "stream",
     "text": [
      "Translate the following Korean source texts into English, referring to the word pairs in the glossary if the glossary exists after each sentence finishes. Do not translate the glossary it self.\n",
      "### Source:이번 개정안에 따르면, 국가별보고서는 다국적기업의 국가별 소득 배분내역, 세전이익 손실, 소득 법인세 납부액, 자본금, 주요사업활동 등에 대한 내용을 포함하여, 한글과 영문으로 제출하도록 규정하고 있습니다.\n",
      "### Glossary:{'국가별보고서': 'cbcr'}\n",
      "### Source:또한, 국가별보고서 제출의무자는 직전년도 연결재무제표상 매출액이 1조원을 초과하는 다국적 기업의 최상위 지배법인에 해당하는 내국법인으로 규정하였습니다.\n",
      "\n",
      "### Glossary:{'국가별보고서': 'cbcr'}\n",
      "### Source:다만, 외투기업(국내 종속기업)의 경우 국외지배 주주가 소재한 국가의 법령상 국가별보고서 작성의무가 없는 경우 또는 국외지배 주주 소재 국가와 조세조약이 체결되지 않는 등의 사유로 국가별보고서의 교환이 되지 않는 경우에는 당해 외투기업이 국가별보고서를 제출하도록 규정 (Secondary Filing Requirement)하였습니다.\n",
      "### Glossary:{'국가별보고서': 'cbcr'}\n",
      "### Source:그리고, 내국법인 및 외투기업 등은 국가별 보고서 제출의무자와 관련된 자료를 사업연도 종료일로부터 6개월 이내에 제출하도록 규정하고 있으며, 만약 외투기업이 국가별보고서의 제출의무자에 대한 자료를 제출하지 않는 경우 당해 외투기업은 국가별보고서를 별도로 제출하도록 규정하였습니다. (\n",
      "### Glossary:{'국가별보고서': 'cbcr'}\n",
      "### Source:구체적인 신고서식 및 내용은 기획 재정부장관의 고시로 발표될 것으로 보입니다.)\n",
      "\n",
      "### Source:이번 국조법 시행령 개정안은 OECD BEPS Action Plan 13의 규정과 일치하도록 국조법 시행령을 추가적으로 보완하는 것으로 볼 수 있는데, 유의할 점은 사업연도 종료일로부터 6개월 이내에 다국적기업에서 누가 국가별보고서를 제출할 것인지에 대하여 사전보고를 하도록 규정하고 있고, 이러한 신고의무가 불이행되는 경우 후술하는 과태료도 부과될 수 있는 가능성이 있습니다.\n",
      "\n",
      "\n",
      "### Glossary:{'국가별보고서': 'cbcr'}\n",
      "### Translation:\n",
      "\n",
      "1245\n"
     ]
    }
   ],
   "source": [
    "input_text=pair_sent_terms(src,text,term_dict)\n",
    "prompt=TranslationTemplate.translation_sent2term.format(src,tgt,input_text)\n",
    "print(prompt)\n",
    "print(len(prompt))"
   ]
  },
  {
   "cell_type": "code",
   "execution_count": 184,
   "id": "4392587a-2a6b-400b-9780-838e5a4b592a",
   "metadata": {},
   "outputs": [],
   "source": [
    "# def request_vllm_api(api_url:str,\n",
    "#                     pay_load:dict,\n",
    "#                     headers:dict={\"Content-Type\": \"application/json\"}):\n",
    "#     '''\n",
    "#     example headers : {\"Content-Type\": \"application/json\"}\n",
    "#     example pay_load : {\n",
    "#         \"model\":\"/azurestorage/models/production/tmt-eeve-20k-sent2term-noglo\",\n",
    "#         \"prompt\": prompt,\n",
    "#         \"n\": 3,\n",
    "#         \"best_of\":3,\n",
    "#         \"temperature\": 0.2,\n",
    "#         \"max_tokens\": 1024\n",
    "#     }\n",
    "#     '''\n",
    "#     response = requests.post(api_url,headers=headers,json=pay_load)\n",
    "#     return response\n",
    "\n",
    "# def get_response(response: requests.Response) -> List[str]:\n",
    "#     data=json.loads(response.content)\n",
    "#     return [res[\"text\"] for res in data[\"choices\"]]"
   ]
  },
  {
   "cell_type": "code",
   "execution_count": 185,
   "id": "b2dc742c-4d06-4149-84e5-2153447383e1",
   "metadata": {},
   "outputs": [
    {
     "ename": "NameError",
     "evalue": "name 'get_response' is not defined",
     "output_type": "error",
     "traceback": [
      "\u001b[0;31m---------------------------------------------------------------------------\u001b[0m",
      "\u001b[0;31mNameError\u001b[0m                                 Traceback (most recent call last)",
      "Cell \u001b[0;32mIn[185], line 14\u001b[0m\n\u001b[1;32m      1\u001b[0m \u001b[38;5;66;03m# api_url=\"http://localhost:8000/v1/completions/\"\u001b[39;00m\n\u001b[1;32m      2\u001b[0m \n\u001b[1;32m      3\u001b[0m \n\u001b[0;32m   (...)\u001b[0m\n\u001b[1;32m     12\u001b[0m \n\u001b[1;32m     13\u001b[0m \u001b[38;5;66;03m# response=request_vllm_api(api_url=api_url,pay_load=pay_load)\u001b[39;00m\n\u001b[0;32m---> 14\u001b[0m return_text\u001b[38;5;241m=\u001b[39m\u001b[43mget_response\u001b[49m(response)\n",
      "\u001b[0;31mNameError\u001b[0m: name 'get_response' is not defined"
     ]
    }
   ],
   "source": [
    "# api_url=\"http://localhost:8000/v1/completions/\"\n",
    "\n",
    "\n",
    "# pay_load={\n",
    "#         \"model\":\"/azurestorage/models/production/tmt-eeve-20k-sent2term-noglo\",\n",
    "#         \"prompt\": [prompt]*3,\n",
    "#         \"n\": 3,\n",
    "#         \"best_of\":3,\n",
    "#         \"temperature\": 0.2,\n",
    "#         \"max_tokens\": 3000\n",
    "#     }\n",
    "\n",
    "# response=request_vllm_api(api_url=api_url,pay_load=pay_load)\n",
    "return_text=get_response(response)"
   ]
  },
  {
   "cell_type": "code",
   "execution_count": 257,
   "id": "e6b8d159-0caf-4736-9f09-723b06717380",
   "metadata": {},
   "outputs": [],
   "source": [
    "sampling_params=SamplingParams(temperature=0.25,max_tokens=2048,n=3,best_of=4,repetition_penalty=1.055,stop=[\"\\n\\n\\n\\n\\n\",\"###\"])"
   ]
  },
  {
   "cell_type": "code",
   "execution_count": 258,
   "id": "5cb2bd7c-3c86-49f3-b2d0-fdfaeb1d0278",
   "metadata": {},
   "outputs": [
    {
     "name": "stderr",
     "output_type": "stream",
     "text": [
      "Processed prompts: 100%|███████████████████████████████████████████████████| 1/1 [00:07<00:00,  7.32s/it]\n"
     ]
    }
   ],
   "source": [
    "result=model.generate(prompt,sampling_params)"
   ]
  },
  {
   "cell_type": "code",
   "execution_count": 259,
   "id": "4266e767-b2ca-4f23-82e3-d7545c25c67f",
   "metadata": {},
   "outputs": [
    {
     "name": "stdout",
     "output_type": "stream",
     "text": [
      "According to this amendment, the cbcr shall include information on the distribution of income of multinational corporations by country, pre-tax loss of profit, tax payment of income corporation tax, capital, and main business activities, etc., and shall be submitted in both Korean and English.\n",
      "\n",
      "In addition, the obligation to submit the cbcr is defined as a domestic corporation that is the top holding company of a multinational corporation whose consolidated sales exceed KRW 1 trillion in the previous year's consolidated financial statements.\n",
      "\n",
      "However, for foreign investment companies (domestic subsidiaries), if there is no obligation to prepare the cbcr under the laws of the country where the overseas parent company is located or if the exchange of the cbcr does not take place due to reasons such as the non-conclusion of an income tax treaty with the country where the overseas parent company is located, the foreign investment company is required to submit the cbcr (secondary filing requirement).\n",
      "\n",
      "In addition, domestic corporations and foreign investment companies are required to submit materials related to the obligation to submit the cbcr within six months from the end of the business year, and if a foreign investment company does not submit materials on the obligation to submit the cbcr, the foreign investment company is required to separately submit the cbcr. (The specific reporting form and contents will be announced by the Minister of Planning and Finance.)\n",
      "\n",
      "This amendment to the National Tax Service Act can be seen as further supplementing the National Tax Service Act to match the provisions of OECD BEPS Action Plan 13, but it is noteworthy that it provides for prior reporting on who will submit the cbcr within six months from the end of the business year, and if this reporting obligation is not fulfilled, the fine mentioned below may also be imposed.\n",
      "string Length Difference :  1085\n",
      "\n",
      "--------------------------------------------------------------------------------------------------------\n",
      "\n",
      "According to this amendment, the cbcr shall include information on the income distribution of multinational corporations by country, pre-tax loss, income corporate tax payment, capital, main business activities, etc., and shall be submitted in both Korean and English.\n",
      "\n",
      "In addition, the obligation to submit the cbcr is defined as a domestic corporation that is an ultimate parent company of a multinational corporation whose consolidated financial statements exceed KRW 1 trillion in the previous year.\n",
      "\n",
      "However, in the case of a foreign investment enterprise (domestic subsidiary), if the foreign parent company's jurisdiction does not have an obligation to prepare a cbcr under its laws or if the exchange of the cbcr is not possible due to reasons such as no tax treaty with the jurisdiction of the foreign parent company, the foreign investment enterprise is required to submit the cbcr (secondary filing requirement).\n",
      "\n",
      "In addition, the domestic corporation and foreign investment enterprise are required to submit materials related to the obligation to submit the cbcr within six months from the end of the business year, and if the foreign investment enterprise does not submit materials related to the obligation to submit the cbcr, the foreign investment enterprise is required to submit the cbcr separately. (The specific reporting form and content will be announced by the Minister of Strategy and Finance.)\n",
      "\n",
      "This amendment to the National Tax Service Act can be seen as further supplementing the implementation of the National Tax Service Act to align with the regulations of OECD BEPS Action Plan 13, but it should be noted that it provides for prior reporting on who will submit the cbcr within six months from the end of the business year, and if this reporting obligation is not fulfilled, a fine may also be imposed.\n",
      "string Length Difference :  1029\n",
      "\n",
      "--------------------------------------------------------------------------------------------------------\n",
      "\n",
      "According to this revision, the CbCR report shall include information on the distribution of income of multinational corporations by country, pre-tax loss, tax payment, capital, and main business activities, etc., and shall be submitted in both Korean and English.\n",
      "\n",
      "In addition, the obligation to submit a CbCR report is defined as the domestic corporation that is the top holding company of a multinational corporation whose consolidated sales exceed KRW 1 trillion in the previous year's consolidated financial statements.\n",
      "\n",
      "However, in the case of an overseas enterprise (a domestic subsidiary), if there is no obligation to prepare a CbCR report under the laws of the country where the foreign parent company is located or if the exchange of CbCR reports does not take place due to reasons such as the non-conclusion of a tax treaty between the country where the foreign parent company is located and the country where the foreign parent company is located, the overseas enterprise shall submit a CbCR report (secondary filing requirement).\n",
      "\n",
      "In addition, domestic corporations and overseas enterprises are required to submit materials related to the obligation to submit a CbCR report within six months from the end of the fiscal year, and if the overseas enterprise does not submit materials on the obligation to submit a CbCR report, the overseas enterprise shall submit a separate CbCR report. (The specific reporting form and content will be announced by the Minister of Strategy and Finance.)\n",
      "\n",
      "This revision of the Income Tax Act Enforcement Decree can be seen as further supplementing the enforcement decree of the Income Tax Act to align with the provisions of OECD BEPS Action Plan 13. Notably, it provides for prior reporting on who will submit a CbCR report within six months from the end of the fiscal year, and if this reporting obligation is not fulfilled, the fine mentioned below may also be imposed.\n",
      "string Length Difference :  1114\n",
      "\n",
      "--------------------------------------------------------------------------------------------------------\n",
      "\n"
     ]
    }
   ],
   "source": [
    "prompt_length=len(result[0].prompt_token_ids)\n",
    "\n",
    "for r in result[0].outputs:\n",
    "    output_text=r.text\n",
    "    print(output_text)\n",
    "    print(\"string Length Difference : \", abs(len(output_text)-len(text)))\n",
    "    print(\"\\n--------------------------------------------------------------------------------------------------------\\n\")"
   ]
  },
  {
   "cell_type": "code",
   "execution_count": 260,
   "id": "6c205fdf-fa81-44b9-89c8-3baa9e159275",
   "metadata": {},
   "outputs": [
    {
     "name": "stdout",
     "output_type": "stream",
     "text": [
      "According to this amendment, the cbcr shall include information on the income distribution of multinational corporations by country, pre-tax loss, income corporate tax payment, capital, main business activities, etc., and shall be submitted in both Korean and English.\n",
      "\n",
      "In addition, the obligation to submit the cbcr is defined as a domestic corporation that is an ultimate parent company of a multinational corporation whose consolidated financial statements exceed KRW 1 trillion in the previous year.\n",
      "\n",
      "However, in the case of a foreign investment enterprise (domestic subsidiary), if the foreign parent company's jurisdiction does not have an obligation to prepare a cbcr under its laws or if the exchange of the cbcr is not possible due to reasons such as no tax treaty with the jurisdiction of the foreign parent company, the foreign investment enterprise is required to submit the cbcr (secondary filing requirement).\n",
      "\n",
      "In addition, the domestic corporation and foreign investment enterprise are required to submit materials related to the obligation to submit the cbcr within six months from the end of the business year, and if the foreign investment enterprise does not submit materials related to the obligation to submit the cbcr, the foreign investment enterprise is required to submit the cbcr separately. (The specific reporting form and content will be announced by the Minister of Strategy and Finance.)\n",
      "\n",
      "This amendment to the National Tax Service Act can be seen as further supplementing the implementation of the National Tax Service Act to align with the regulations of OECD BEPS Action Plan 13, but it should be noted that it provides for prior reporting on who will submit the cbcr within six months from the end of the business year, and if this reporting obligation is not fulfilled, a fine may also be imposed.\n"
     ]
    }
   ],
   "source": [
    "print(filter_by_length(text,result)[0])"
   ]
  },
  {
   "cell_type": "code",
   "execution_count": 224,
   "id": "34466786-f74f-4cf7-8352-201292bd19df",
   "metadata": {},
   "outputs": [],
   "source": [
    "class LLMTranslator():\n",
    "    def __init__(self,\n",
    "                llm_host:Optional[str]=None, \n",
    "                llm_port:Optional[str]=None, \n",
    "                llm_path:Optional[str]=None\n",
    "                ):\n",
    "\n",
    "        self.llm_host=llm_host\n",
    "        self.llm_port=llm_port\n",
    "        self.llm_path=llm_path\n",
    "        self.api_url=f\"http://{self.llm_host}:{self.llm_port}/v1/completions\"\n",
    "        \n",
    "    def generate(self,input_text,prompt):\n",
    "\n",
    "        # Generate translations\n",
    "\n",
    "        pay_load={\n",
    "                \"model\":self.llm_path,\n",
    "                \"prompt\": [prompt],\n",
    "                \"n\": 3,\n",
    "                \"best_of\":4,\n",
    "                \"temperature\": 0.25,\n",
    "                \"max_tokens\": 2048,\n",
    "                \"repetition_penalty\":1.05,\n",
    "                \"stop\":[\"\\n\\n\\n\\n\\n\",\"###\"],\n",
    "            }\n",
    "\n",
    "        generation_result = request_vllm_api(self.api_url,pay_load)\n",
    "        generation_result=get_batch_response(generation_result,n=pay_load[\"n\"])\n",
    "        selected_results = self.select_by_length(input_text, generation_result)\n",
    "\n",
    "        print(\"selected_results: \" ,selected_results)\n",
    "\n",
    "\n",
    "    def request_vllm_api(self,\n",
    "                        api_url:str,\n",
    "                        pay_load:dict,\n",
    "                        headers:dict={\"Content-Type\": \"application/json\"}):\n",
    "        '''\n",
    "        example headers : {\"Content-Type\": \"application/json\"}\n",
    "        example pay_load : {\n",
    "            \"model\":\"/azurestorage/models/production/tmt-eeve-inst-10k-v2\",\n",
    "            \"prompt\": prompt,\n",
    "            \"n\": 3,\n",
    "            \"best_of\":3,\n",
    "            \"temperature\": 0.2,\n",
    "            \"max_tokens\": 1024\n",
    "        }\n",
    "        '''\n",
    "        response = requests.post(api_url,headers=headers,json=pay_load)\n",
    "        return response\n",
    "\n",
    "    def get_batch_response(self,response: requests.Response,n:int=1) -> list[list[str]]:\n",
    "        data=json.loads(response.content)\n",
    "        choices=data[\"choices\"]\n",
    "        return [choices[i:i + n] for i in range(0, len(choices), n)] \n",
    "\n",
    "    def select_by_length(self,input_texts:list[str], generation_results:list[list])-> list[str]:\n",
    "        '''\n",
    "        Filters the results from vllm generation to find the output whose length is closest\n",
    "        to that of the input text.\n",
    "\n",
    "        param input_text: The original text input by the user.\n",
    "        param generation_results: The results generated by the LLM.\n",
    "        return: A list of outputs, one for each batch, that are closest in length to the input text.\n",
    "        '''\n",
    "        final_outputs=[]\n",
    "\n",
    "        # Iterate through each batch of generation results.\n",
    "        for text,batch in zip(input_texts,generation_results):\n",
    "            input_length = len(text)\n",
    "            closest_output = min(batch, key=lambda output: abs(len(output[\"text\"].strip()) - input_length))\n",
    "            final_outputs.append(closest_output[\"text\"].strip())\n",
    "\n",
    "        return final_outputs"
   ]
  },
  {
   "cell_type": "code",
   "execution_count": 225,
   "id": "2fa78bde-5fec-4b3f-bae8-60b3f7bc5eaf",
   "metadata": {},
   "outputs": [],
   "source": [
    "llm=LLMTranslator(llm_host=\"localhost\",llm_port=8000,llm_path=\"/azurestorage/models/production/tmt-eeve-inst-10k-v2\")"
   ]
  },
  {
   "cell_type": "code",
   "execution_count": 228,
   "id": "9bf352c6-39e1-451a-bb55-ccc00e6123ca",
   "metadata": {},
   "outputs": [
    {
     "name": "stdout",
     "output_type": "stream",
     "text": [
      "selected_results:  [\"1. Essential and Urgent Expertise for GenAI Team:\\n\\nGonzalo has a career of launching and operating large-scale projects across the company, including the Heineken project at Unisys, the Australian Cars Manufacturing project and the Australian Oil project at Deloitte. While the GenAI team has been focused on developing POC-level projects so far, we are about to start operating a service across the company starting from May, but we do not have enough manpower for operations and there is no developer who is preparing for the operation. This type of large-scale project operator is not easy to find, and it is an essential and urgent person for the GenAI team.\\n\\n2. Immediate Deployment for Current Development Work:\\n\\nGonzalo already has a lot of experience with the work our team is currently doing at Deloitte, and he has the ability to develop full-stack web applications, as well as UI/UX development experience. His experience as a UX/UI Consultant Developer at Unisys, where he worked on the Repsol RIGEL project, is essential for developing optimal UI/UX. It is not easy to find a developer with such diverse development capabilities in Korea.\\n\\n3. Language Ability:\\n\\nThe GenAI team communicates in English for development, so there is no problem with development work (Gonzalo is fluent in both Spanish and English), and his Korean language skills are also rapidly improving, just like Jorge's. At the time of Jorge's entry, he was uncomfortable with Korean conversations, but now he has no problem with Korean conversations. (Both Jorge and Gonzalo are married to Korean women)\\n\\n4. Education of Overseas Developers:\\n\\nWhen recruiting international talent, it is essential to consider the education system and culture of each region. Gonzalo has completed a 3+2 year education program (a total of 5 years). For example, in Korea, a 4-year university education is the norm, while a 3-year education program is also common in Europe and Anglo-Saxon cultures. In addition, talented European or Anglo-Saxon developers often prioritize opportunities provided by the industry during their studies. Recognizing and applying these differences is important in the strategy of recruiting international talent.\"]\n"
     ]
    }
   ],
   "source": [
    "llm.generate(text,prompt2)"
   ]
  },
  {
   "cell_type": "code",
   "execution_count": 227,
   "id": "0a1a6bf3-e71a-49e6-9ca9-66b792c688c1",
   "metadata": {},
   "outputs": [
    {
     "data": {
      "text/plain": [
       "'Translate the following Korean source texts into English, referring to the word pairs in the glossary if the glossary exists after each text finishes. Do not translate the glossary it self.\\n### Source:1. GenAI 팀에게 필수적이고 시급한 전문성 보유:\\n\\n### Source:Gonzalo님은 Unisys에서의 Heineken 프로젝트, Deloitte에서의 Australian Cars Manufacturing 프로젝트와 Australian Oil 프로젝트를 진행하며 전사 규모의 큰 프로젝트를 런칭하고 운영할 수 있는 경력을 쌓았습니다.\\n### Source:지금까지의 GenAI 팀은 PoC 수준의 개발 위주로 진행했지만, 5월부터 당장 전사 규모의 서비스 운영을 앞두고 있는데 운영 인력도 부족하거니와 운영을 준비하는 과정에서의 개발자도 부재한 상황입니다.\\n### Source:이러한 대규모 프로젝트의 운영 개발 인재는 찾기 쉽지 않으며, GenAI 팀에 매우 필수적이고 시급한 인력입니다.\\n\\n\\n### Source:2. 현 개발 업무 즉시 투입 가능:\\n\\n### Source:Gonzalo님은 딜로이트에서 현재 저희팀이 하고 있는 업무에 대한 경험을 이미 많이 하고 있으며, 호르헤님이 담당하는 full stack 웹 애플리케이션 개발자로서의 역량 뿐만 아니라, UI/UX 개발 경험도 갖추고 있습니다.\\n### Source:Unisys에서 UX/UI Consultant Developer로서 Repsol RIGEL 프로젝트를 진행한 경력은, 최적의 UI/UX를 개발하는데 필수적인 경험입니다.\\n### Source:국내에서 이만한 다양한 개발 역량을 가진 개발자를 찾기 쉽지 않습니다.\\n\\n\\n### Source:3. 언어 능력:\\n\\n### Source:GenAI팀은 주로 영어로 개발 커뮤니케이션을 하기 때문에, 개발 작업에 전혀 무리가 없는 상황이며 (Gonzalo님은 스페인어 뿐만 아니라 영어에도 능통합니다. ), 호르헤님과 마찬가지로 한국어 실력이 빠르게 늘고 있습니다.\\n### Source:호르헤님의 경우에 입사당시에는 한국어 대화가 많이 불편하였으나 현재는 한국어 대화에 큰 무리가 없는 상황입니다. (\\n### Source:호르헤님과 Gonzalo님 둘다 한국인과 결혼하였습니다)\\n\\n\\n### Source:4. 해외 개발자의 학력:\\n\\n### Source:국제적 인재 채용 시, 각 지역의 교육 시스템과 문화를 고려하는 것이 필수적입니다.\\n### Source:Gonzalo님은 3년 + 2년 교육 (총 5년의) 교육 과정을 이수하였습니다.\\n### Source:예를 들어, 한국에서는 4년제 대학교육을 기본으로 하는 반면, 유럽과 영국계 문화에서는 3년제 교육 과정도 보편적입니다.\\n### Source:심지어, 실력이 뛰어난 유럽 혹은 영미권의 개발자들은 학업 도중에도 산업계에서 제공하는 기회를 우선적으로 활용하는 경향이 있습니다.\\n### Source:이러한 차이를 인지하고 적용하는 것이 국제적 인재 채용 전략에 있어서 중요합니다.\\n### Translation:\\n'"
      ]
     },
     "execution_count": 227,
     "metadata": {},
     "output_type": "execute_result"
    }
   ],
   "source": []
  },
  {
   "cell_type": "code",
   "execution_count": null,
   "id": "ab1cc7c3-286e-4a7c-8ab9-4c4b4496d10c",
   "metadata": {},
   "outputs": [],
   "source": []
  }
 ],
 "metadata": {
  "kernelspec": {
   "display_name": "Python 3 (ipykernel)",
   "language": "python",
   "name": "python3"
  },
  "language_info": {
   "codemirror_mode": {
    "name": "ipython",
    "version": 3
   },
   "file_extension": ".py",
   "mimetype": "text/x-python",
   "name": "python",
   "nbconvert_exporter": "python",
   "pygments_lexer": "ipython3",
   "version": "3.11.8"
  }
 },
 "nbformat": 4,
 "nbformat_minor": 5
}
