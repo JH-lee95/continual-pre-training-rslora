{
 "cells": [
  {
   "cell_type": "code",
   "execution_count": 1,
   "id": "1b9c4e2b-d24f-4392-a471-40c4b0cdac2a",
   "metadata": {},
   "outputs": [],
   "source": [
    "from transformers import AutoModelForCausalLM,AutoTokenizer,GenerationConfig\n",
    "import torch\n",
    "import ast\n",
    "import ipdb\n",
    "import json\n",
    "import requests\n",
    "from peft import LoraConfig, PeftModel\n",
    "from typing import Optional,Literal\n",
    "from dataclasses import dataclass\n",
    "from typing import Union"
   ]
  },
  {
   "cell_type": "code",
   "execution_count": 2,
   "id": "36a180d2-76b4-4a4c-8047-876745bd0f48",
   "metadata": {},
   "outputs": [],
   "source": [
    "\n",
    "# @dataclass\n",
    "# class TranslationTemplate:\n",
    "#     translation_template_w_glossary='''You are a professional translator. Translate the following {} texts into {}. Refer to the word pairs in the glossary when you translate. Do not translate the glossary itself. \n",
    "# {}\n",
    "# Translation:\n",
    "# '''\n",
    "\n",
    "#     translation_template_wo_glossary='''You are a professional translator. Translate the following {} texts into {}.\n",
    "# {}\n",
    "# Translation:\n",
    "# '''\n",
    "\n",
    "#     response_template=\"Translation:\"\n",
    "#     glossary_template=\"Glossary:\"\n",
    "#     sentence_template=\"Source:\"\n",
    "\n",
    "\n",
    "\n",
    "# @dataclass\n",
    "# class TranslationTemplate:\n",
    "#     translation_template_w_glossary='''You are a professional translator. Translate the following {} texts into {}. Refer to the word pairs in the glossary when you translate. You can ignore the words in the glossary that hurt the context and naturality. Do not translate the glossary itself. \n",
    "# {}\n",
    "# ### Translation:\n",
    "# '''\n",
    "\n",
    "#     translation_template_wo_glossary='''You are a professional translator. Translate the following {} texts into {}.\n",
    "# {}\n",
    "# ### Translation:\n",
    "# '''\n",
    "\n",
    "#     response_template=\"### Translation:\"\n",
    "#     glossary_template=\"### Glossary:\"\n",
    "#     sentence_template=\"### Source:\"\n",
    "\n",
    "\n",
    "\n",
    "@dataclass\n",
    "class TranslationTemplate:\n",
    "    translation_template_w_glossary='''Translate the following {} source text into {}. Refer to the word pairs in the glossary when you translate. Do not translate the glossary itself. \n",
    "{}\n",
    "'''\n",
    "\n",
    "    translation_template_wo_glossary='''Translate the following {} source text into {}.\n",
    "{}\n",
    "'''\n",
    "\n",
    "    response_template=\"### Target:\"\n",
    "    glossary_template=\"### Glossary:\"\n",
    "    sentence_template=\"### Source:\"\n",
    "    # system_prompt=\"You are a professional translator.\"\n",
    "    system_prompt=\"You are a professional translator. You are especially familiar with specialized knowledge and terms in economics, law, and accounting, as well as general everyday terms.\"\n"
   ]
  },
  {
   "cell_type": "code",
   "execution_count": 3,
   "id": "c0804234-40b0-4360-91ce-6f836adc8d2d",
   "metadata": {},
   "outputs": [],
   "source": [
    "def formatting_glossary(term_dict,glossary_template):\n",
    "    glossary=[f\"{k}={v}\" for k,v in term_dict.items()]\n",
    "    glossary_str=\"\\n\".join(glossary)\n",
    "    glossary_str=f\"{glossary_template}\\n{glossary_str}\".strip()\n",
    "\n",
    "    return glossary_str"
   ]
  },
  {
   "cell_type": "code",
   "execution_count": 31,
   "id": "c87e6ff7-b2df-4a48-b7d3-6f5d079db59d",
   "metadata": {},
   "outputs": [
    {
     "ename": "NameError",
     "evalue": "name 'Kiwi' is not defined",
     "output_type": "error",
     "traceback": [
      "\u001b[0;31m---------------------------------------------------------------------------\u001b[0m",
      "\u001b[0;31mNameError\u001b[0m                                 Traceback (most recent call last)",
      "Cell \u001b[0;32mIn[31], line 40\u001b[0m\n\u001b[1;32m     37\u001b[0m         \u001b[38;5;28;01melse\u001b[39;00m:\n\u001b[1;32m     38\u001b[0m             \u001b[38;5;28;01mreturn\u001b[39;00m splited_sents\n\u001b[0;32m---> 40\u001b[0m ts\u001b[38;5;241m=\u001b[39m\u001b[43mTextSpliter\u001b[49m\u001b[43m(\u001b[49m\u001b[43m)\u001b[49m\n",
      "Cell \u001b[0;32mIn[31], line 3\u001b[0m, in \u001b[0;36mTextSpliter.__init__\u001b[0;34m(self, separator)\u001b[0m\n\u001b[1;32m      2\u001b[0m \u001b[38;5;28;01mdef\u001b[39;00m \u001b[38;5;21m__init__\u001b[39m(\u001b[38;5;28mself\u001b[39m,separator\u001b[38;5;241m=\u001b[39m\u001b[38;5;124m\"\u001b[39m\u001b[38;5;124m\"\u001b[39m):\n\u001b[0;32m----> 3\u001b[0m     \u001b[38;5;28mself\u001b[39m\u001b[38;5;241m.\u001b[39mkiwi\u001b[38;5;241m=\u001b[39m\u001b[43mKiwi\u001b[49m() \u001b[38;5;66;03m# Text Processor for Korean\u001b[39;00m\n\u001b[1;32m      4\u001b[0m     \u001b[38;5;28mself\u001b[39m\u001b[38;5;241m.\u001b[39mseparator\u001b[38;5;241m=\u001b[39mseparator\n",
      "\u001b[0;31mNameError\u001b[0m: name 'Kiwi' is not defined"
     ]
    }
   ],
   "source": [
    "class TextSpliter():\n",
    "    def __init__(self,separator=\"\"):\n",
    "        self.kiwi=Kiwi() # Text Processor for Korean\n",
    "        self.separator=separator\n",
    "\n",
    "    def text2sent(self,language, text, return_string=False):\n",
    "        '''\n",
    "        language : language of text\n",
    "        text : text to be splited\n",
    "        return_string : return string as a result if True, list otherwise \n",
    "        '''\n",
    "        \n",
    "        splited_sents = []\n",
    "        language = language.lower()\n",
    "\n",
    "        if language in [\"korean\", \"kor\", \"ko\", \"한국어\"]:\n",
    "            def split_sentences(paragraph):\n",
    "                return [sent.text + \" \" if idx < len(paragraph) - 1 else sent.text # add space after sentence finish\n",
    "                        for idx, sent in enumerate(self.kiwi.split_into_sents(paragraph))]\n",
    "        elif language in [\"english\", \"eng\", \"en\", \"영어\"]:\n",
    "            def split_sentences(paragraph):\n",
    "                return [sent + \" \" if idx < len(paragraph) - 1 else sent\n",
    "                        for idx, sent in enumerate(sent_tokenize(paragraph))]\n",
    "        else:\n",
    "            raise ValueError(\"Unsupported language\")\n",
    "\n",
    "        for line in text.splitlines(keepends=True):\n",
    "            if line.strip():  # Check if the line is not just whitespace\n",
    "                sentences = split_sentences(line.rstrip())  # Remove trailing newline before splitting\n",
    "                splited_sents.extend(sentences)\n",
    "                splited_sents[-1]=splited_sents[-1].rstrip()+\"\\n\"\n",
    "            else:\n",
    "                splited_sents[-1]=splited_sents[-1].rstrip()+\"\\n\" # Add the empty line (newline) directly\n",
    "\n",
    "        if return_string:\n",
    "            return self.separator.join(splited_sents).strip()\n",
    "        else:\n",
    "            return splited_sents\n",
    "\n",
    "ts=TextSpliter()"
   ]
  },
  {
   "cell_type": "code",
   "execution_count": 5,
   "id": "5f3297d0-6959-4f17-8684-dfc4ee0c7d05",
   "metadata": {},
   "outputs": [],
   "source": [
    "# def pair_sent_terms(lang,\n",
    "#                     text,\n",
    "#                     term_dict:str,\n",
    "#                    ):\n",
    "\n",
    "#     lang_dict={\"korean\":\"korean\",\"ko\":\"korean\",\"kor\":\"korean\",\"eng\":\"english\",\"english\":\"english\",\"en\":\"english\",\"Korean\":\"korean\",\"English\":\"english\"}\n",
    "#     src = lang_dict[lang]\n",
    "    \n",
    "#     splited_sents=ts.text2sent(lang,text)\n",
    "\n",
    "#     sent2terms = []\n",
    "#     if len(term_dict):\n",
    "#         term_dict = ast.literal_eval(term_dict)\n",
    "#         for s in splited_sents:\n",
    "#             new_sent_parts = {}\n",
    "#             for k, v in term_dict.items():\n",
    "#                 if k in s:\n",
    "#                     new_sent_parts[k]=v\n",
    "\n",
    "#             if len(new_sent_parts):\n",
    "#                 new_sent_parts=formatting_glossary(new_sent_parts,TranslationTemplate.glossary_template)\n",
    "#                 new_s = f\"{TranslationTemplate.sentence_template}\\n{s}\\n{new_sent_parts}\\n\"\n",
    "#             else:\n",
    "#                 # new_s = \"### Sentence:\"+s + \"\\n\" + \"### Glossary:\" + \"\\n\"\n",
    "#                 new_s = f\"{TranslationTemplate.sentence_template}\\n{s}\\n\"\n",
    "\n",
    "#             sent2terms.append(new_s)\n",
    "#     else:\n",
    "#         # Handle case of empty term_dict (e.g., directly append sentences)\n",
    "#         for s in splited_sents:\n",
    "#             # new_s = \"### Sentence:\"+s + \"\\n\" + \"### Glossary:\" + \"\\n\"\n",
    "#             new_s = f\"{TranslationTemplate.sentence_template}\\n{s}\\n\"\n",
    "#             sent2terms.append(new_s)\n",
    "\n",
    "#     return \"\".join(sent2terms).rstrip()\n",
    "\n",
    "\n",
    "def pair_sent_terms(lang,\n",
    "                    text,\n",
    "                    term_dict:str,\n",
    "                   ):\n",
    "\n",
    "    lang_dict={\"korean\":\"korean\",\"ko\":\"korean\",\"kor\":\"korean\",\"eng\":\"english\",\"english\":\"english\",\"en\":\"english\",\"Korean\":\"korean\",\"English\":\"english\"}\n",
    "    src = lang_dict[lang]\n",
    "    \n",
    "    splited_sents=ts.text2sent(lang,text)\n",
    "\n",
    "    sent2terms = []\n",
    "    if len(term_dict):\n",
    "        term_dict = ast.literal_eval(term_dict)\n",
    "        term_dict=formatting_glossary(term_dict,TranslationTemplate.glossary_template)\n",
    "        sent2terms.append(f\"{term_dict}\\n\")\n",
    "        for s in splited_sents:\n",
    "            new_s = f\"{TranslationTemplate.sentence_template}\\n{s}\\n\"\n",
    "            sent2terms.append(new_s)\n",
    "        # term_dict=formatting_glossary(term_dict,TranslationTemplate.glossary_template)\n",
    "        # sent2terms.append(f\"\\n{term_dict}\".strip())\n",
    "    else:\n",
    "        # Handle case of empty term_dict (e.g., directly append sentences)\n",
    "        for s in splited_sents:\n",
    "            # new_s = \"### Sentence:\"+s + \"\\n\" + \"### Glossary:\" + \"\\n\"\n",
    "            new_s = f\"{TranslationTemplate.sentence_template}\\n{s}\\n\"\n",
    "            sent2terms.append(new_s)\n",
    "\n",
    "    return \"\".join(sent2terms).rstrip()"
   ]
  },
  {
   "cell_type": "code",
   "execution_count": 7,
   "id": "8b360595-f9ae-4b4f-8809-f8c5142470c6",
   "metadata": {},
   "outputs": [],
   "source": [
    "def select_by_length(input_texts:list[str], generation_results:list[list])-> list[str]:\n",
    "    '''\n",
    "    Filters the results from vllm generation to find the output whose length is closest\n",
    "    to that of the input text.\n",
    "\n",
    "    :param input_text: The original text input by the user.\n",
    "    :param generation_results: The results generated by the LLM.\n",
    "    :return: A list of outputs, one for each batch, that are closest in length to the input text.\n",
    "    '''\n",
    "    final_outputs=[]\n",
    "\n",
    "    # Iterate through each batch of generation results.\n",
    "    for text,batch in zip(input_texts,generation_results):\n",
    "        input_length = len(text)\n",
    "        closest_output = min(batch, key=lambda output: abs(len(output[\"text\"].strip()) - input_length))\n",
    "        final_outputs.append(closest_output[\"text\"].strip())\n",
    "\n",
    "    return final_outputs"
   ]
  },
  {
   "cell_type": "markdown",
   "id": "529eb784-6ac2-44c1-a44e-7d1d306169da",
   "metadata": {
    "jp-MarkdownHeadingCollapsed": true
   },
   "source": [
    "# API Requests"
   ]
  },
  {
   "cell_type": "code",
   "execution_count": 3,
   "id": "ab605bee-adf3-463a-9d69-f8e5f044245c",
   "metadata": {},
   "outputs": [],
   "source": [
    "def request_vllm_api(api_url:str,\n",
    "                    pay_load:dict,\n",
    "                    headers:dict={\"Content-Type\": \"application/json\"}):\n",
    "    '''\n",
    "    example headers : {\"Content-Type\": \"application/json\"}\n",
    "    example pay_load : {\n",
    "        \"model\":\"/azurestorage/models/production/tmt-eeve-inst-10k-v2\",\n",
    "        \"prompt\": prompt,\n",
    "        \"n\": 3,\n",
    "        \"best_of\":3,\n",
    "        \"temperature\": 0.2,\n",
    "        \"max_tokens\": 1024\n",
    "    }\n",
    "    '''\n",
    "    response = requests.post(api_url,headers=headers,json=pay_load)\n",
    "    return response\n",
    "\n",
    "def get_batch_response(response: requests.Response,n:int=1) -> list[list[str]]:\n",
    "    data=json.loads(response.content)\n",
    "    choices=data[\"choices\"]\n",
    "    return [choices[i:i + n] for i in range(0, len(choices), n)] "
   ]
  },
  {
   "cell_type": "code",
   "execution_count": 81,
   "id": "92c1193d-9802-455f-a614-80ec26f82c09",
   "metadata": {},
   "outputs": [],
   "source": [
    "text='''<|begin_of_text|><|start_header_id|>system<|end_header_id|>\n",
    "\n",
    "You are a professional translator.<|eot_id|><|start_header_id|>user<|end_header_id|>\n",
    "\n",
    "Translate the following Korean source text into English. Refer to the word pairs in the glossary when you translate. Do not translate the glossary itself. \n",
    "### Glossary:\n",
    "개정안=amendment\n",
    "국가별보고서=cbc-report\n",
    "국조법 시행령=LCITA-PED\n",
    "### Source:\n",
    "이번 개정안에 따르면, 국가별보고서는 다국적기업의 국가별 소득 배분내역, 세전이익 손실, 소득 법인세 납부액, 자본금, 주요사업활동 등에 대한 내용을 포함하여, 한글과 영문으로 제출하도록 규정하고 있습니다. 또한, 국가별보고서 제출의무자는 직전년도 연결재무제표상 매출액이 1조원을 초과하는 다국적 기업의 최상위 지배법인에 해당하는 내국법인으로 규정하였습니다. \n",
    "다만, 외투기업(국내 종속기업)의 경우 국외지배 주주가 소재한 국가의 법령상 국가별보고서 작성의무가 없는 경우 또는 국외지배 주주 소재 국가와 조세조약이 체결되지 않는 등의 사유로 국가별보고서의 교환이 되지 않는 경우에는 당해 외투기업이 국가별보고서를 제출하도록 규정 (Secondary Filing Requirement)하였습니다. 그리고, 내국법인 및 외투기업 등은 국가별 보고서 제출의무자와 관련된 자료를 사업연도 종료일로부터 6개월 이내에 제출하도록 규정하고 있으며, 만약 외투기업이 국가별보고서의 제출의무자에 대한 자료를 제출하지 않는 경우 당해 외투기업은 국가별보고서를 별도로 제출하도록 규정하였습니다. (구체적인 신고서식 및 내용은 기획 재정부장관의 고시로 발표될 것으로 보입니다.)\n",
    "이번 국조법 시행령 개정안은 OECD BEPS Action Plan 13의 규정과 일치하도록 국조법 시행령을 추가적으로 보완하는 것으로 볼 수 있는데, 유의할 점은 사업연도 종료일로부터 6개월 이내에 다국적기업에서 누가 국가별보고서를 제출할 것인지에 대하여 사전보고를 하도록 규정하고 있고, 이러한 신고의무가 불이행되는 경우 후술하는 과태료도 부과될 수 있는 가능성이 있습니다.<|eot_id|><|start_header_id|>assistant<|end_header_id|>\n",
    "### Target:\n",
    "'''"
   ]
  },
  {
   "cell_type": "code",
   "execution_count": 86,
   "id": "a16b582e-b951-4f96-a1e5-bfa27c935373",
   "metadata": {},
   "outputs": [],
   "source": [
    "text='''<|start_header_id|>system<|end_header_id|>\n",
    "\n",
    "You are a professional translator.<|eot_id|><|start_header_id|>user<|end_header_id|>\n",
    "\n",
    "Translate the following Korean source text into English.\n",
    "### Source:\n",
    "서면국제세원- 2908, 2016.05.17\n",
    " \n",
    "국내사업장이 없는 미국법인이 내국법인에게 기본설계용역을 제공하고 수취하는 소득은 동 용역제공대가가 비공개 기술, 정보 등 노하우의 사용대가인 경우에 사용료소득에 해당하는 것이나, 동 용역제공대가가 동종의 용역수행자가 통상적으로 보유하는 전문지식이나 기능을 활용하여 수행하는 용역에 대한 대가인 경우에는 사업소득에 해당되는 것임. 동 용역제공대가가 사용료소득인지 사업소득인지의 여부는 내국법인이 제공받는 용역의 실질내용에 따라 사실 판단할 사항이며, 법인세법 기본통칙 93-132…7 [노하우와 독립적인 인적용역의 구분]을 참고하기 바람.<|eot_id|><|start_header_id|>assistant<|end_header_id|>\n",
    "\n",
    "### Target:\n",
    "'''"
   ]
  },
  {
   "cell_type": "code",
   "execution_count": null,
   "id": "3cfec067-66ce-4c0a-8ecb-28ecd0697539",
   "metadata": {},
   "outputs": [],
   "source": [
    "# text='''Supreme court 2014Du8896, 2016.01.14\n",
    "\n",
    "# A Singapore Co. is considered to have a deemed agent PE if the agent has and habitually exercises an authority to conclude contracts in the name of the enterprise and the activities performed by the agent have high potential to be considered as important and essential activities of the company as a whole (i.e., not preparatory or auxiliary in nature). determination of what activities are important and essential to a business as a whole shall depend on the characteristics of the activities, the relative importance and scope of the activities compared to the activities of the business as a whole, etc.'''"
   ]
  },
  {
   "cell_type": "code",
   "execution_count": 134,
   "id": "7ea5ffb5-cade-4fb2-b1a6-1a78dada8f9b",
   "metadata": {},
   "outputs": [],
   "source": [
    "text='''<|start_header_id|>system<|end_header_id|>\n",
    "\n",
    "You are a professional translator.<|eot_id|><|start_header_id|>user<|end_header_id|>\n",
    "\n",
    "Translate the following English source text into English.\n",
    "### Source:\n",
    "Supreme court 2014Du8896, 2016.01.14\n",
    "\n",
    "A Singapore Co. is considered to have a deemed agent PE if the agent has and habitually exercises an authority to conclude contracts in the name of the enterprise and the activities performed by the agent have high potential to be considered as important and essential activities of the company as a whole (i.e., not preparatory or auxiliary in nature). determination of what activities are important and essential to a business as a whole shall depend on the characteristics of the activities, the relative importance and scope of the activities compared to the activities of the business as a whole, etc.<|eot_id|><|start_header_id|>assistant<|end_header_id|>\n",
    "\n",
    "### Target:\n",
    "'''"
   ]
  },
  {
   "cell_type": "code",
   "execution_count": 130,
   "id": "0ba0106c-894b-4dcd-9ffb-c6ffdde26353",
   "metadata": {},
   "outputs": [],
   "source": [
    "text='''<|begin_of_text|><|start_header_id|>system<|end_header_id|>\n",
    "\n",
    "You are a professional translator.<|eot_id|><|start_header_id|>user<|end_header_id|>\n",
    "\n",
    "Translate the source English texts into Korean. Refer to the word pairs in the glossary when you translate. Do not translate the glossary itself. \n",
    "### Glossary:\n",
    "Base Erosion and Profit Shifting=세원잠식 및 소득이전\n",
    "plan=도면\n",
    "permanent establishment=고정사업장\n",
    "short-term=단기\n",
    "taxation=조세\n",
    "source country=원천지국\n",
    "tax=조세\n",
    "Diverted Profits Tax=우회이익세\n",
    "rate=요율\n",
    "corporate tax=법인세\n",
    "profit=이익\n",
    "national=내국인\n",
    "transfer=양도\n",
    "case=사안\n",
    "### Source:\n",
    "In order to prevent international tax avoidance, the Base Erosion and Profit Shifting project proposed a plan to expand the scope of permanent establishment in the treaty through concluding short-term contracts and reducing the period to reduce taxation of the source country.\n",
    "\n",
    "On the other hand, the UK and Australia amended the tax laws to introduce the Diverted Profits Tax, which applies a higher rate than the usual rate of corporate tax on profits that multinational companies transfer abroad.\n",
    "\n",
    "In this meeting, we discuss the change of the concept of permanent establishment related to the above Base Erosion and Profit Shifting project, reviews each case on the Diverted Profits Tax of the UK and Australia, and discusses the proper position of South Korea in each case.\n",
    "<|eot_id|><|start_header_id|>assistant<|end_header_id|>\n",
    "\n",
    "### Target:\n",
    "'''"
   ]
  },
  {
   "cell_type": "code",
   "execution_count": 135,
   "id": "991c654a-7893-45c3-b795-8746bc78da6a",
   "metadata": {},
   "outputs": [],
   "source": [
    "request_payload={\n",
    "                \"model\":\"/nvme0/models/tmt-llama3-70b/llama3-70b-inst-data1.1k-71B-Q_4_K_M.gguf\",\n",
    "                \"prompt\": text,\n",
    "                # \"n\": 3,\n",
    "                # \"best_of\":3,\n",
    "                \"temperature\": 0.15,\n",
    "                \"max_tokens\":1024,\n",
    "                \"extra_body\":{\"repetition_penalty\":1.045},\n",
    "                \"stop\":[\"\\n\\n\\n\\n\\n\",\"###\",\"Translation:\\n\",\"Source:\\n\",\"Glossary:\\n\",\"<|eot_id|>\"],\n",
    "                }"
   ]
  },
  {
   "cell_type": "code",
   "execution_count": 136,
   "id": "de23ce09-50d4-4eac-b263-9558af7d69c4",
   "metadata": {},
   "outputs": [],
   "source": [
    "result=request_vllm_api(\"http://localhost:2242/v1/completions\",request_payload)"
   ]
  },
  {
   "cell_type": "code",
   "execution_count": 137,
   "id": "6e0b96b1-340b-4d4e-a6e5-fd0d2bf0d559",
   "metadata": {},
   "outputs": [
    {
     "name": "stdout",
     "output_type": "stream",
     "text": [
      "Supreme Court 2014Du8896, 2016.01.14\n",
      "\n",
      "A Singapore Co. is considered to have a deemed agent PE if the agent has and habitually exercises an authority to conclude contracts in the name of the enterprise and the activities performed by the agent have high potential to be considered as important and essential activities of the company as a whole (i.e., not preparatory or auxiliary in nature). The determination of what activities are important and essential to a business as a whole shall depend on the characteristics of the activities, the relative importance and scope of the activities compared to the activities of the business as a whole, etc.\n"
     ]
    }
   ],
   "source": [
    "print(json.loads(result.content)[\"choices\"][0][\"text\"])"
   ]
  },
  {
   "cell_type": "code",
   "execution_count": 33,
   "id": "955dfc64-dd9b-4c16-8172-9bf213e6f9bf",
   "metadata": {},
   "outputs": [
    {
     "name": "stderr",
     "output_type": "stream",
     "text": [
      "Special tokens have been added in the vocabulary, make sure the associated word embeddings are fine-tuned or trained.\n"
     ]
    }
   ],
   "source": [
    "tokenizer=AutoTokenizer.from_pretrained(\"/nvme0/models/models--Bllossom--llama-3-Korean-Bllossom-70B/snapshots/7b571c5c6c4c52401818fb77001a05213d91f16f\")"
   ]
  },
  {
   "cell_type": "code",
   "execution_count": 29,
   "id": "5761e2b9-111f-457b-bd20-7ff51561db7e",
   "metadata": {},
   "outputs": [],
   "source": [
    "class LLMTranslator():\n",
    "    def __init__(self,\n",
    "                translation_template_w_glossary:str,\n",
    "                translation_template_wo_glossary:str,\n",
    "                glossary_template:str,\n",
    "                sentence_template:str,\n",
    "                llm_host:Optional[str]=None, \n",
    "                llm_port:Optional[str]=None, \n",
    "                llm_path:Optional[str]=None\n",
    "                ):\n",
    "\n",
    "        self.llm_host=llm_host\n",
    "        self.llm_port=llm_port\n",
    "        self.llm_path=llm_path\n",
    "        self.api_url=f\"http://{self.llm_host}:{self.llm_port}/v1\"\n",
    "        self.client=OpenAI(api_key = \"EMPTY\",base_url=self.api_url)\n",
    "        self.translation_template_w_glossary=translation_template_w_glossary\n",
    "        self.translation_template_wo_glossary=translation_template_wo_glossary\n",
    "        self.glossary_template=glossary_template\n",
    "        self.sentence_template=sentence_template\n",
    "        self.lang_dict={\"ko\":\"Korean\",\"korean\":\"Korean\",\"kor\":\"Korean\",\"en\":\"English\",\"english\":\"English\",\"eng\":\"English\"}\n",
    "        \n",
    "    def translate(self, src_lang:str, text:Union[list,str], term_dict:Union[list,dict],splited=True):\n",
    "        src_lang = self.lang_dict[src_lang]\n",
    "        tgt_lang = \"English\" if src_lang == \"Korean\" else \"Korean\"\n",
    "\n",
    "        def formatting_glossary(term_dict,glossary_template):\n",
    "\n",
    "            if len(term_dict):\n",
    "                glossary=[f\"{k}={v}\" for k,v in term_dict.items()]\n",
    "                glossary_str=\"\\n\".join(glossary)\n",
    "                glossary_str=f\"{glossary_template}\\n{glossary_str}\".strip()\n",
    "\n",
    "                return glossary_str\n",
    "            return \"\"\n",
    "\n",
    "        prompts=[]\n",
    "        if splited: # text is splited into sentences. they will be concatenated after formatting. => single inference\n",
    "            formatted_text=[]\n",
    "            \n",
    "            if isinstance(term_dict,list):\n",
    "                term_dict=term_dict[0]\n",
    "                if not isinstance(term_dict,dict):\n",
    "                    raise \"Type of term_dict should be python dictionary\"\n",
    "            for sentence in text:\n",
    "                formatted_text.append(f\"{self.sentence_template}\\n{sentence}\\n\")\n",
    "            glossary_str=formatting_glossary(term_dict,self.glossary_template)\n",
    "\n",
    "            if len(glossary_str):\n",
    "                formatted_text.append(glossary_str)\n",
    "                formatted_text=\"\".join(formatted_text)\n",
    "                prompts.append(self.translation_template_w_glossary.format(src_lang, tgt_lang, formatted_text))\n",
    "            else:\n",
    "                formatted_text=\"\".join(formatted_text)\n",
    "                prompts.append(self.translation_template_wo_glossary.format(src_lang, tgt_lang, formatted_text))\n",
    "\n",
    "\n",
    "        else: # A document is splited into paragraphs and each paragraph is considered as an batch element. => batch inference\n",
    "            for sentence,terms in zip(text,term_dict):\n",
    "                glossary_str=formatting_glossary(term_dict,self.glossary_template)\n",
    "\n",
    "                if len(glossary_str):\n",
    "                    formatted_text=f\"{self.sentence_template}\\n{sentence}\\n{term_dict}\"\n",
    "                    prompts.append(self.translation_template_w_glossary.format(src_lang, tgt_lang, formatted_text))\n",
    "                else:\n",
    "                    formatted_text=f\"{self.sentence_template}\\n{sentence}\"\n",
    "                    prompts.append(self.translation_template_wo_glossary.format(src_lang, tgt_lang, formatted_text))\n",
    "\n",
    "        zzz='You are a professional translator. Translate the following English texts into Korean. Refer to the word pairs in the glossary when you translate. Do not translate the glossary itself. \\nSource:\\nIn order to prevent international tax avoidance, the Base Erosion and Profit Shifting project proposed a plan to expand the scope of permanent establishment in the treaty through concluding short-term contracts and reducing the period to reduce taxation of the source country.\\n\\n\\nSource:\\nOn the other hand, the UK and Australia amended the tax laws to introduce the Diverted Profits Tax, which applies a higher rate than the usual rate of corporate tax on profits that multinational companies transfer abroad.\\n\\n\\nSource:\\nIn this meeting, we discuss the change of the concept of permanent establishment related to the above Base Erosion and Profit Shifting project, reviews each case on the Diverted Profits Tax of the UK and Australia, and discusses the proper position of South Korea in each case.\\nGlossary:\\nnational tax=국세\\nBase Erosion and Profit Shifting=세원잠식 및 소득이전\\nplan=도면\\npermanent establishment=고정사업장\\nshort-term=단기\\ntaxation=조세\\nsource country=원천지국\\ntax=조세\\nDiverted Profits Tax=우회이익세\\nrate=요율\\ncorporate tax=법인세\\nprofit=이익\\nnational=내국인\\ntransfer=양도\\ncase=사안\\nTranslation:\\n'\n",
    "        \n",
    "        request_payload={\n",
    "                        \"model\":self.llm_path,\n",
    "                        \"prompt\": [zzz],\n",
    "                        \"n\": 3,\n",
    "                        \"best_of\":3,\n",
    "                        \"temperature\": 0.35,\n",
    "                        \"max_tokens\":min(len(max(prompts,key=lambda x:len(x)))//2,4096),\n",
    "                        \"extra_body\":{\"repetition_penalty\":1.02},\n",
    "                        \"stop\":[\"\\n\\n\\n\\n\\n\",\"###\",\"Translation:\\n\",\"Source:\\n\",\"Glossary:\\n\"],\n",
    "                        }\n",
    "\n",
    "\n",
    "        generation_result=self.client.completions.create(**request_payload)\n",
    "        generation_result=self.get_batch_response(generation_result,n=request_payload[\"n\"])\n",
    "\n",
    "        if type(text)==str:\n",
    "            text=[text]\n",
    "        selected_results = self.select_by_length(text, generation_result)\n",
    "\n",
    "        return generation_result,selected_results\n",
    "\n",
    "\n",
    "    def select_by_length(self,input_texts:list[str], generation_results:list[list])-> list[str]:\n",
    "        '''\n",
    "        Filters the results to find the output whose length is closest\n",
    "        to that of the input text.\n",
    "\n",
    "        param input_text: The original text input by the user.\n",
    "        param generation_results: The results generated by the LLM.\n",
    "        return: A list of outputs, one for each batch, that are closest in length to the input text.\n",
    "        '''\n",
    "        final_outputs=[]\n",
    "\n",
    "        # Iterate through each batch of generation results.\n",
    "        for text,batch in zip(input_texts,generation_results):\n",
    "            input_length = len(text)\n",
    "            closest_output = min(batch, key=lambda output: abs(len(output.text.strip()) - input_length))\n",
    "            final_outputs.append(closest_output.text.strip())\n",
    "\n",
    "        return final_outputs\n",
    "            \n",
    "    def get_batch_response(self,response,n:int=1) -> list[list[str]]:\n",
    "        # data=json.loads(response.content)\n",
    "        choices=response.choices\n",
    "        return [choices[i:i + n] for i in range(0, len(choices), n)] "
   ]
  },
  {
   "cell_type": "code",
   "execution_count": 30,
   "id": "7788ab36-2e53-451a-b509-1f04b1fd43c2",
   "metadata": {},
   "outputs": [],
   "source": [
    "llm_translator=LLMTranslator(\n",
    "                        translation_template_w_glossary=TranslationTemplate.translation_template_w_glossary,\n",
    "                        translation_template_wo_glossary=TranslationTemplate.translation_template_wo_glossary,\n",
    "                            glossary_template=TranslationTemplate.glossary_template,\n",
    "                            sentence_template=TranslationTemplate.sentence_template,\n",
    "                            llm_host=\"localhost\",\n",
    "                            llm_port=\"8000\",\n",
    "                            llm_path=\"/azurestorage/models/production/tmt-eeve-inst32k-split-unifiedglo\",\n",
    "                            )"
   ]
  },
  {
   "cell_type": "code",
   "execution_count": 31,
   "id": "f8c9d34c-135f-458f-b4e4-6b0f07a98371",
   "metadata": {},
   "outputs": [],
   "source": [
    "zzz='You are a professional translator. Translate the following English texts into Korean. Refer to the word pairs in the glossary when you translate. Do not translate the glossary itself. \\nSource:\\nIn order to prevent international tax avoidance, the Base Erosion and Profit Shifting project proposed a plan to expand the scope of permanent establishment in the treaty through concluding short-term contracts and reducing the period to reduce taxation of the source country.\\n\\n\\nSource:\\nOn the other hand, the UK and Australia amended the tax laws to introduce the Diverted Profits Tax, which applies a higher rate than the usual rate of corporate tax on profits that multinational companies transfer abroad.\\n\\n\\nSource:\\nIn this meeting, we discuss the change of the concept of permanent establishment related to the above Base Erosion and Profit Shifting project, reviews each case on the Diverted Profits Tax of the UK and Australia, and discusses the proper position of South Korea in each case.\\nGlossary:\\nnational tax=국세\\nBase Erosion and Profit Shifting=세원잠식 및 소득이전\\nplan=도면\\npermanent establishment=고정사업장\\nshort-term=단기\\ntaxation=조세\\nsource country=원천지국\\ntax=조세\\nDiverted Profits Tax=우회이익세\\nrate=요율\\ncorporate tax=법인세\\nprofit=이익\\nnational=내국인\\ntransfer=양도\\ncase=사안\\nTranslation:\\n'"
   ]
  },
  {
   "cell_type": "code",
   "execution_count": 32,
   "id": "a63721cb-5b99-46e7-8856-2518d3214b5e",
   "metadata": {},
   "outputs": [],
   "source": [
    "# text='''이번 개정안에 따르면, 국가별보고서는 다국적기업의 국가별 소득 배분내역, 세전이익 손실, 소득 법인세 납부액, 자본금, 주요사업활동 등에 대한 내용을 포함하여, 한글과 영문으로 제출하도록 규정하고 있습니다. 또한, 국가별보고서 제출의무자는 직전년도 연결재무제표상 매출액이 1조원을 초과하는 다국적 기업의 최상위 지배법인에 해당하는 내국법인으로 규정하였습니다. \n",
    "# 다만, 외투기업(국내 종속기업)의 경우 국외지배 주주가 소재한 국가의 법령상 국가별보고서 작성의무가 없는 경우 또는 국외지배 주주 소재 국가와 조세조약이 체결되지 않는 등의 사유로 국가별보고서의 교환이 되지 않는 경우에는 당해 외투기업이 국가별보고서를 제출하도록 규정 (Secondary Filing Requirement)하였습니다. 그리고, 내국법인 및 외투기업 등은 국가별 보고서 제출의무자와 관련된 자료를 사업연도 종료일로부터 6개월 이내에 제출하도록 규정하고 있으며, 만약 외투기업이 국가별보고서의 제출의무자에 대한 자료를 제출하지 않는 경우 당해 외투기업은 국가별보고서를 별도로 제출하도록 규정하였습니다. (구체적인 신고서식 및 내용은 기획 재정부장관의 고시로 발표될 것으로 보입니다.)\n",
    "# 이번 국조법 시행령 개정안은 OECD BEPS Action Plan 13의 규정과 일치하도록 국조법 시행령을 추가적으로 보완하는 것으로 볼 수 있는데, 유의할 점은 사업연도 종료일로부터 6개월 이내에 다국적기업에서 누가 국가별보고서를 제출할 것인지에 대하여 사전보고를 하도록 규정하고 있고, 이러한 신고의무가 불이행되는 경우 후술하는 과태료도 부과될 수 있는 가능성이 있습니다.'''\n",
    "# term_dict={\"개정안\" : \"amendment\",\"국가별보고서\":\"cbcr\",\"국조법 시행령\":\"LCITA-PED\"}\n",
    "# src_lang=\"korean\"\n",
    "term_dict={}\n",
    "\n",
    "\n",
    "text='''In order to prevent international tax avoidance, the Base Erosion and Profit Shifting project proposed a plan to expand the scope of permanent establishment in the treaty through concluding short-term contracts and reducing the period to reduce taxation of the source country. \n",
    "\n",
    "On the other hand, the UK and Australia amended the tax laws to introduce the Diverted Profits Tax, which applies a higher rate than the usual rate of corporate tax on profits that multinational companies transfer abroad. \n",
    "\n",
    "In this meeting, we discuss the change of the concept of permanent establishment related to the above Base Erosion and Profit Shifting project, reviews each case on the Diverted Profits Tax of the UK and Australia, and discusses the proper position of South Korea in each case.'''\n",
    "src_lang=\"english\""
   ]
  },
  {
   "cell_type": "code",
   "execution_count": 33,
   "id": "5e8249b3-fdc0-4820-9439-47d8b5e7630f",
   "metadata": {},
   "outputs": [],
   "source": [
    "result=llm_translator.translate(src_lang=src_lang,text=text.splitlines(keepends=True),term_dict=term_dict)"
   ]
  },
  {
   "cell_type": "code",
   "execution_count": 34,
   "id": "c26fcfb6-ca47-403c-852b-921c0fba5787",
   "metadata": {},
   "outputs": [
    {
     "data": {
      "text/plain": [
       "([[CompletionChoice(finish_reason='stop', index=0, logprobs=None, text='국세를 회피하기 위하여 세원잠식 및 소득이전 프로젝트는 단기 계약을 체결하고 원천지국의 조세를 감소시키는 등의 방법으로 조약상의 고정사업장의 범위를 확대하는 도면을 제시하였다. 한편, 영국과 호주는 다국적 기업이 해외로 이전하는 이익에 대하여 법인세보다 높은 요율을 적용하는 우회이익세를 도입하기 위하여 세법을 개정하였다. 이 회의에서는 위 세원잠식 및 소득이전 프로젝트와 관련하여 고정사업장의 개념의 변경을 논의하고, 영국 및 호주의 우회이익세에 대한 각 사안을 검토하여 우리 나라의 적절한 입장을 논의하였다.'),\n",
       "   CompletionChoice(finish_reason='stop', index=1, logprobs=None, text='국세를 회피하기 위하여 세원잠식 및 소득이전을 위한 프로젝트는 조약상 고정사업장의 범위를 단기 계약 체결과 원천지국의 조세를 감소시키는 등의 방법으로 확대하는 도면을 제시하였다. 한편, 영국과 호주는 다국적 기업이 국외로 이전하는 이익에 대하여 법인세보다 높은 요율의 우회이익세를 도입하기 위하여 조세법을 개정하였다. 이 회의에서는 위 세원잠식 및 소득이전을 위한 프로젝트와 관련하여 고정사업장의 개념의 변경을 논의하고, 영국과 호주의 우회이익세에 관한 각 사례를 검토하며, 각 사례에 있어서 우리나라는 적절한 입장을 논의하였다.'),\n",
       "   CompletionChoice(finish_reason='stop', index=2, logprobs=None, text='국세를 회피하기 위하여, 세원잠식 및 소득이전 프로젝트에서는 단기간 계약을 체결하고 원천지국의 조세를 경감하기 위하여 조약상의 고정사업장의 범위를 확대하는 도면을 제시하였다. \\n\\n반면, 영국과 호주는 다국적기업이 해외로 이전하는 이익에 대하여 법인세의 일반세율보다 높은 요율을 적용하는 우회이익세를 도입하기 위하여 조세법을 개정하였다. \\n\\n이 회의에서는 위 세원잠식 및 소득이전 프로젝트와 관련하여 고정사업장의 개념의 변경을 논의하고, 영국과 호주의 우회이익세에 대한 각 사안을 검토하여, 각 사안의 우리나라는 적절한 입장을 논의하였다.')]],\n",
       " ['국세를 회피하기 위하여 세원잠식 및 소득이전 프로젝트는 단기 계약을 체결하고 원천지국의 조세를 감소시키는 등의 방법으로 조약상의 고정사업장의 범위를 확대하는 도면을 제시하였다. 한편, 영국과 호주는 다국적 기업이 해외로 이전하는 이익에 대하여 법인세보다 높은 요율을 적용하는 우회이익세를 도입하기 위하여 세법을 개정하였다. 이 회의에서는 위 세원잠식 및 소득이전 프로젝트와 관련하여 고정사업장의 개념의 변경을 논의하고, 영국 및 호주의 우회이익세에 대한 각 사안을 검토하여 우리 나라의 적절한 입장을 논의하였다.'])"
      ]
     },
     "execution_count": 34,
     "metadata": {},
     "output_type": "execute_result"
    }
   ],
   "source": [
    "result"
   ]
  },
  {
   "cell_type": "code",
   "execution_count": 22,
   "id": "a073d019-05bb-4f3c-b08b-0f7314146c5c",
   "metadata": {},
   "outputs": [
    {
     "data": {
      "text/plain": [
       "['국세를 회피하기 위하여 세원잠식 및 소득이전 프로젝트는 조약상 고정사업장의 범위를 단기 계약 체결 및 조세 회피국의 조세 기간을 축소하는 것을 통하여 확대하는 도면을 제안하였다. 한편, 영국과 호주는 다국적 기업이 해외로 이전하는 이익에 대하여 법인세보다 높은 요율의 우회이익세를 도입하기 위하여 조세법을 개정하였다. 이 회의에서는 위 세원잠식 및 소득이전 프로젝트와 관련하여 고정사업장의 개념 변경을 논의하고, 영국과 호주의 우회이익세 각 사례를 검토하며, 각 사례에 대한 우리나라의 적절한 입장을 논의한다.']"
      ]
     },
     "execution_count": 22,
     "metadata": {},
     "output_type": "execute_result"
    }
   ],
   "source": [
    "result[1]"
   ]
  },
  {
   "cell_type": "code",
   "execution_count": null,
   "id": "737c41d9-0897-4395-8cbe-02e303b55022",
   "metadata": {},
   "outputs": [],
   "source": [
    "m"
   ]
  },
  {
   "cell_type": "code",
   "execution_count": 118,
   "id": "d88d96a1-fe60-47b4-9170-1183742c69ba",
   "metadata": {},
   "outputs": [
    {
     "name": "stdout",
     "output_type": "stream",
     "text": [
      "According to this amendment, the country-by-country report shall include information on the distribution of income of multinational enterprises, taxable income, income tax paid, capital, major business activities, etc., and shall be submitted in Korean and English. In addition, the amendment defines the domestic corporation that is the ultimate parent entity of a multinational enterprise whose consolidated financial statement exceeds KRW 1 trillion in the previous year as the submitter of the country-by-country report. However, if the foreign enterprise (domestic subsidiary) is not required to prepare a country-by-country report under the laws of the country where the ultimate parent entity is located, or if the exchange of the country-by-country report does not take place due to the fact that no tax treaty has been concluded between the country where the ultimate parent entity is located, etc., the foreign enterprise shall be required to submit the country-by-country report (secondary filing requirement). In addition, the domestic corporation and the foreign enterprise shall be required to submit the relevant materials related to the submitter of the country-by-country report within 6 months from the end of the business year, and if the foreign enterprise does not submit the relevant materials to the submitter of the country-by-country report, the foreign enterprise shall be required to submit the country-by-country report separately. (The specific forms and contents of the report will be announced by the Minister of Strategy and Finance.)\n",
      "\n",
      "This amendment to the LCITA-PED can be seen as further supplementing the LCITA-PED in accordance with the provisions of Action 13 of the OECD BEPS Action Plan, and it is noteworthy that the amendment requires the submission of a pre-report on who will submit the country-by-country report within 6 months from the end of the business year, and if the obligation to submit such a report is not fulfilled, a fine may be imposed.\n"
     ]
    }
   ],
   "source": [
    "print(result.choices[1].text)"
   ]
  },
  {
   "cell_type": "code",
   "execution_count": 119,
   "id": "7630b955-41da-4683-8189-5f3dbecfdbf3",
   "metadata": {},
   "outputs": [
    {
     "name": "stdout",
     "output_type": "stream",
     "text": [
      "According to this amendment, the cbcr shall include information on the distribution of income of multinational corporations, taxable income, income tax paid, capital, and main business activities, etc., and shall be submitted in Korean and English. In addition, the amendment defines the domestic corporation that is the ultimate parent company of a multinational corporation with sales exceeding KRW 1 trillion in the previous fiscal year as the submitter of the cbcr. However, if the submitter of the cbcr is a foreign enterprise (domestic subsidiary), the foreign enterprise shall submit the cbcr if there is no obligation to prepare the cbcr under the laws of the country where the ultimate parent company is located, or if there is no exchange of the cbcr due to the fact that there is no tax treaty between the country where the ultimate parent company is located and the country where the foreign enterprise is located, etc. (Secondary Filing Requirement). In addition, the amendment provides that the domestic corporation and foreign enterprise shall submit the relevant materials to the submitter of the cbcr within six months from the end of the business year, and if the foreign enterprise does not submit the relevant materials to the submitter of the cbcr, the foreign enterprise shall submit the cbcr separately. (The specific form and contents of the report will be announced by the Minister of Strategy and Finance.)\n",
      "\n",
      "This amendment to the LCITA-PED can be seen as further supplementing the LCITA-PED in line with the provisions of Action 13 of the OECD BEPS Action Plan. Notably, the amendment provides for a pre-reporting on who will submit the cbcr within six months from the end of the business year, and if such reporting obligations are not fulfilled, it is possible that a penalty may be imposed.\n"
     ]
    }
   ],
   "source": [
    "print(result.choices[2].text)"
   ]
  },
  {
   "cell_type": "code",
   "execution_count": 190,
   "id": "ec19b95d-9901-43cf-8b53-b00d332cb6f5",
   "metadata": {},
   "outputs": [
    {
     "ename": "NameError",
     "evalue": "name 'pair_sent_terms' is not defined",
     "output_type": "error",
     "traceback": [
      "\u001b[0;31m---------------------------------------------------------------------------\u001b[0m",
      "\u001b[0;31mNameError\u001b[0m                                 Traceback (most recent call last)",
      "Cell \u001b[0;32mIn[190], line 27\u001b[0m\n\u001b[1;32m     23\u001b[0m src\u001b[38;5;241m=\u001b[39m\u001b[38;5;124m\"\u001b[39m\u001b[38;5;124mKorean\u001b[39m\u001b[38;5;124m\"\u001b[39m\n\u001b[1;32m     24\u001b[0m tgt\u001b[38;5;241m=\u001b[39m\u001b[38;5;124m\"\u001b[39m\u001b[38;5;124mEnglish\u001b[39m\u001b[38;5;124m\"\u001b[39m\n\u001b[0;32m---> 27\u001b[0m input_text\u001b[38;5;241m=\u001b[39m\u001b[43mpair_sent_terms\u001b[49m(src,text,term_dict)\n\u001b[1;32m     29\u001b[0m \u001b[38;5;28;01mif\u001b[39;00m \u001b[38;5;28mlen\u001b[39m(term_dict):\n\u001b[1;32m     30\u001b[0m     prompt\u001b[38;5;241m=\u001b[39mTranslationTemplate\u001b[38;5;241m.\u001b[39mtranslation_template_w_glossary\u001b[38;5;241m.\u001b[39mformat(src,tgt,input_text)\n",
      "\u001b[0;31mNameError\u001b[0m: name 'pair_sent_terms' is not defined"
     ]
    }
   ],
   "source": [
    "text='''서면국제세원- 2908, 2016.05.17\n",
    " \n",
    "국내사업장이 없는 미국법인이 내국법인에게 기본설계용역을 제공하고 수취하는 소득은 동 용역제공대가가 비공개 기술, 정보 등 노하우의 사용대가인 경우에 사용료소득에 해당하는 것이나, 동 용역제공대가가 동종의 용역수행자가 통상적으로 보유하는 전문지식이나 기능을 활용하여 수행하는 용역에 대한 대가인 경우에는 사업소득에 해당되는 것임. 동 용역제공대가가 사용료소득인지 사업소득인지의 여부는 내국법인이 제공받는 용역의 실질내용에 따라 사실 판단할 사항이며, 법인세법 기본통칙 93-132…7 [노하우와 독립적인 인적용역의 구분]을 참고하기 바람.\n",
    "'''.strip()\n",
    "term_dict=\"\"\n",
    "\n",
    "# text='''이번 개정안에 따르면, 국가별보고서는 다국적기업의 국가별 소득 배분내역, 세전이익 손실, 소득 법인세 납부액, 자본금, 주요사업활동 등에 대한 내용을 포함하여, 한글과 영문으로 제출하도록 규정하고 있습니다. 또한, 국가별보고서 제출의무자는 직전년도 연결재무제표상 매출액이 1조원을 초과하는 다국적 기업의 최상위 지배법인에 해당하는 내국법인으로 규정하였습니다. \n",
    "# 다만, 외투기업(국내 종속기업)의 경우 국외지배 주주가 소재한 국가의 법령상 국가별보고서 작성의무가 없는 경우 또는 국외지배 주주 소재 국가와 조세조약이 체결되지 않는 등의 사유로 국가별보고서의 교환이 되지 않는 경우에는 당해 외투기업이 국가별보고서를 제출하도록 규정 (Secondary Filing Requirement)하였습니다. 그리고, 내국법인 및 외투기업 등은 국가별 보고서 제출의무자와 관련된 자료를 사업연도 종료일로부터 6개월 이내에 제출하도록 규정하고 있으며, 만약 외투기업이 국가별보고서의 제출의무자에 대한 자료를 제출하지 않는 경우 당해 외투기업은 국가별보고서를 별도로 제출하도록 규정하였습니다. (구체적인 신고서식 및 내용은 기획 재정부장관의 고시로 발표될 것으로 보입니다.)\n",
    "# 이번 국조법 시행령 개정안은 OECD BEPS Action Plan 13의 규정과 일치하도록 국조법 시행령을 추가적으로 보완하는 것으로 볼 수 있는데, 유의할 점은 사업연도 종료일로부터 6개월 이내에 다국적기업에서 누가 국가별보고서를 제출할 것인지에 대하여 사전보고를 하도록 규정하고 있고, 이러한 신고의무가 불이행되는 경우 후술하는 과태료도 부과될 수 있는 가능성이 있습니다.'''\n",
    "# term_dict=str({\"개정안\" : \"revision\",\"국가별보고서\":\"cbcr\",\"국조법 시행령\":\"LCITA-PED\"})\n",
    "\n",
    "# text='''Supreme court 2014Du8896, 2016.01.14\n",
    "\n",
    "# A Singapore Co. is considered to have a deemed agent PE if the agent has and habitually exercises an authority to conclude contracts in the name of the enterprise and the activities performed by the agent have high potential to be considered as important and essential activities of the company as a whole (i.e., not preparatory or auxiliary in nature). determination of what activities are important and essential to a business as a whole shall depend on the characteristics of the activities, the relative importance and scope of the activities compared to the activities of the business as a whole, etc.'''\n",
    "\n",
    "\n",
    "# src=\"English\"\n",
    "# tgt=\"Korean\"\n",
    "# term_dict=\"\"\n",
    "\n",
    "# text=\"mention\"\n",
    "# term_dict=\"\"\n",
    "src=\"Korean\"\n",
    "tgt=\"English\"\n",
    "\n",
    "\n",
    "input_text=pair_sent_terms(src,text,term_dict)\n",
    "\n",
    "if len(term_dict):\n",
    "    prompt=TranslationTemplate.translation_template_w_glossary.format(src,tgt,input_text)\n",
    "else:\n",
    "    prompt=TranslationTemplate.translation_template_wo_glossary.format(src,tgt,input_text)\n",
    "print(prompt)"
   ]
  },
  {
   "cell_type": "markdown",
   "id": "b09a46d8-0b15-4a99-ac80-e11ada0f4b0f",
   "metadata": {},
   "source": [
    "# Native Transformers"
   ]
  },
  {
   "cell_type": "code",
   "execution_count": 4,
   "id": "25adde82-04a3-429e-a42c-f8442af6552d",
   "metadata": {},
   "outputs": [],
   "source": [
    "def gen(model,prompt):\n",
    "    generation_config = GenerationConfig(\n",
    "        temperature=0.2,\n",
    "        # top_p=0.9,\n",
    "        max_new_tokens=1024,\n",
    "        repetition_penalty=1.05,\n",
    "        # num_beams=3,\n",
    "        # num_return_sequences=3,\n",
    "        stop_token_ids=tokenizer.encode(tokenizer.tokenize(\"\\n\\n\\n\\n\\n\")[0],add_special_tokens=False),\n",
    "        do_sample=True,\n",
    "    )\n",
    "    gened = model.generate(\n",
    "        **tokenizer(\n",
    "            prompt,\n",
    "            return_tensors='pt',\n",
    "            return_token_type_ids=False\n",
    "        ).to('cuda'),\n",
    "        generation_config=generation_config,\n",
    "        # pad_token_id=tokenizer.pad_token_id,\n",
    "        # eos_token_id=128009,\n",
    "        pad_token_id=tokenizer.pad_token_id,\n",
    "        eos_token_id=tokenizer.eos_token_id,\n",
    "    )\n",
    "\n",
    "\n",
    "    gen_result=[]\n",
    "    for gen in gened:\n",
    "        result_str = tokenizer.decode(gen)\n",
    "        gen_result.append(result_str)\n",
    "    return gen_result"
   ]
  },
  {
   "cell_type": "code",
   "execution_count": 5,
   "id": "a4558c91-c2e8-427d-8c23-46dc4ebe52ff",
   "metadata": {},
   "outputs": [],
   "source": [
    "# base_path=\"/azurestorage/models/production/yi-ko-34b-inst-data1.1k/\"\n",
    "base_path=\"beomi/Yi-Ko-34B\"\n",
    "peft_path=\"/azurestorage/models/trained/solar-11b-data7k_2024-05-31-10-27-1717118850/checkpoint-1731/\"\n",
    "# cache_dir=\"/nvme0\""
   ]
  },
  {
   "cell_type": "code",
   "execution_count": 6,
   "id": "89e79800-40ed-4bae-b7b0-c55ca1b5993d",
   "metadata": {},
   "outputs": [
    {
     "name": "stderr",
     "output_type": "stream",
     "text": [
      "You are attempting to use Flash Attention 2.0 with a model not initialized on GPU. Make sure to move the model to GPU after initializing it on CPU with `model.to('cuda')`.\n"
     ]
    },
    {
     "data": {
      "application/vnd.jupyter.widget-view+json": {
       "model_id": "05930199cb834db7a1bb5c1f7100006d",
       "version_major": 2,
       "version_minor": 0
      },
      "text/plain": [
       "Loading checkpoint shards:   0%|          | 0/15 [00:00<?, ?it/s]"
      ]
     },
     "metadata": {},
     "output_type": "display_data"
    },
    {
     "name": "stderr",
     "output_type": "stream",
     "text": [
      "You are using the default legacy behaviour of the <class 'transformers.models.llama.tokenization_llama_fast.LlamaTokenizerFast'>. This is expected, and simply means that the `legacy` (previous) behavior will be used so nothing changes for you. If you want to use the new behaviour, set `legacy=False`. This should only be set if you understand what it means, and thoroughly read the reason why this was added as explained in https://github.com/huggingface/transformers/pull/24565\n",
      "Special tokens have been added in the vocabulary, make sure the associated word embeddings are fine-tuned or trained.\n"
     ]
    }
   ],
   "source": [
    "model=AutoModelForCausalLM.from_pretrained(base_path,torch_dtype=torch.bfloat16,cache_dir=\"/nvme0/models\",trust_remote_code=True,attn_implementation=\"flash_attention_2\")\n",
    "model=model.to(\"cuda\")\n",
    "\n",
    "# model=AutoModelForCausalLM.from_pretrained(base_path,device_map=\"auto\",torch_dtype=torch.bfloat16)\n",
    "\n",
    "# tokenizer=AutoTokenizer.from_pretrained(peft_path)\n",
    "tokenizer=AutoTokenizer.from_pretrained(base_path,cache_dir=\"/nvme0/models\")\n"
   ]
  },
  {
   "cell_type": "code",
   "execution_count": 7,
   "id": "a1871028-c45c-48e3-842a-b69e078f06f3",
   "metadata": {},
   "outputs": [],
   "source": [
    "peft_model=PeftModel.from_pretrained(model,peft_path)\n",
    "# peft_model=peft_model.to(\"cuda\""
   ]
  },
  {
   "cell_type": "code",
   "execution_count": 33,
   "id": "c7d3b474-5657-4eb3-a8d5-17d28795482a",
   "metadata": {},
   "outputs": [],
   "source": [
    "peft_model=peft_model.merge_and_unload()"
   ]
  },
  {
   "cell_type": "code",
   "execution_count": 35,
   "id": "8f77ea1b-1f72-4881-a43e-9ab085502ca1",
   "metadata": {},
   "outputs": [
    {
     "data": {
      "text/plain": [
       "('/nvme0/models/tmt-35b-data1.1k-refined/tokenizer_config.json',\n",
       " '/nvme0/models/tmt-35b-data1.1k-refined/special_tokens_map.json',\n",
       " '/nvme0/models/tmt-35b-data1.1k-refined/tokenizer.json')"
      ]
     },
     "execution_count": 35,
     "metadata": {},
     "output_type": "execute_result"
    }
   ],
   "source": [
    "peft_model.save_pretrained(\"/nvme0/models/tmt-35b-data1.1k-refined\")\n",
    "tokenizer.save_pretrained(\"/nvme0/models/tmt-35b-data1.1k-refined\")"
   ]
  },
  {
   "cell_type": "code",
   "execution_count": 24,
   "id": "29c05ae2-bad2-43f4-b5b5-5053c4c7c6e9",
   "metadata": {},
   "outputs": [],
   "source": [
    "text='''서면국제세원- 2908, 2016.05.12\n",
    "\n",
    "국내사업장이 없는 미국법인이 내국법인에게 기본설계용역을 제공하고 수취하는 소득은 동 용역제공대가가 비공개 기술, 정보 등 노하우의 사용대가인 경우에 사용료소득에 해당하는 것이나, 동 용역제공대가가 동종의 용역수행자가 통상적으로 보유하는 전문지식이나 기능을 활용하여 수행하는 용역에 대한 대가인 경우에는 사업소득에 해당되는 것임. 동 용역제공대가가 사용료소득인지 사업소득인지의 여부는 내국법인이 제공받는 용역의 실질내용에 따라 사실 판단할 사항이며, 법인세법 기본통칙 93-132…7 [노하우와 독립적인 인적용역의 구분]을 참고하기 바람.\n",
    "'''.rstrip()\n",
    "\n",
    "term_dict=str({\"서면\":\"Seomyeon\",\n",
    "           \"국내사업장\":\"domestic business place\",\n",
    "           \"내국법인\":\"domestic corporation\",\n",
    "           \"계\":\"Total\",\n",
    "           \"용역\":\"Services\",\n",
    "           \"소득\":\"income\",\n",
    "          \"사용료\":\"Royalty\",\n",
    "           \"상\":\"Prize\",\n",
    "           \"사업소득\":\"business income\",\n",
    "           \"법인세법\":\"CITL\"})\n",
    "\n",
    "# term_dict=\"\"\n",
    "# text=\"keywords is international tax avoidance\"\n",
    "\n",
    "# text='''이번 개정안에 따르면, 국가별보고서는 다국적기업의 국가별 소득 배분내역, 세전이익 손실, 소득 법인세 납부액, 자본금, 주요사업활동 등에 대한 내용을 포함하여, 한글과 영문으로 제출하도록 규정하고 있습니다. 또한, 국가별보고서 제출의무자는 직전년도 연결재무제표상 매출액이 1조원을 초과하는 다국적 기업의 최상위 지배법인에 해당하는 내국법인으로 규정하였습니다. \n",
    "# 다만, 외투기업(국내 종속기업)의 경우 국외지배 주주가 소재한 국가의 법령상 국가별보고서 작성의무가 없는 경우 또는 국외지배 주주 소재 국가와 조세조약이 체결되지 않는 등의 사유로 국가별보고서의 교환이 되지 않는 경우에는 당해 외투기업이 국가별보고서를 제출하도록 규정 (Secondary Filing Requirement)하였습니다. 그리고, 내국법인 및 외투기업 등은 국가별 보고서 제출의무자와 관련된 자료를 사업연도 종료일로부터 6개월 이내에 제출하도록 규정하고 있으며, 만약 외투기업이 국가별보고서의 제출의무자에 대한 자료를 제출하지 않는 경우 당해 외투기업은 국가별보고서를 별도로 제출하도록 규정하였습니다. (구체적인 신고서식 및 내용은 기획 재정부장관의 고시로 발표될 것으로 보입니다.)\n",
    "# 이번 국조법 시행령 개정안은 OECD BEPS Action Plan 13의 규정과 일치하도록 국조법 시행령을 추가적으로 보완하는 것으로 볼 수 있는데, 유의할 점은 사업연도 종료일로부터 6개월 이내에 다국적기업에서 누가 국가별보고서를 제출할 것인지에 대하여 사전보고를 하도록 규정하고 있고, 이러한 신고의무가 불이행되는 경우 후술하는 과태료도 부과될 수 있는 가능성이 있습니다.'''\n",
    "# term_dict=str({\"국조법 시행령\":\"LCITA-PED\",\"국가별보고서\":\"cbc-report\",\"개정안\" : \"amendment\"})\n",
    "\n",
    "\n",
    "# text='''Supreme court 2014Du8896, 2016.01.14\n",
    "\n",
    "# A Singapore Co. is considered to have a deemed agent PE if the agent has and habitually exercises an authority to conclude contracts in the name of the enterprise and the activities performed by the agent have high potential to be considered as important and essential activities of the company as a whole (i.e., not preparatory or auxiliary in nature). determination of what activities are important and essential to a business as a whole shall depend on the characteristics of the activities, the relative importance and scope of the activities compared to the activities of the business as a whole, etc.'''\n",
    "\n",
    "\n",
    "# src=\"English\"\n",
    "# tgt=\"Korean\"\n",
    "# term_dict=\"\"\n",
    "\n",
    "# text=\"a r t i c l e\"\n",
    "term_dict=\"\"\n",
    "src=\"Korean\"\n",
    "tgt=\"English\"\n",
    "\n",
    "text='''연결 부당행위 계산 부인이 적용되기 위해서는 연결 전후 연결대상법인들의 과세표준에 차이가 있어야 합니다.'''\n",
    "# text=\"계산 부인\"\n",
    "\n",
    "\n",
    "# text='''Taking action to enable OpenAI ChatGPT-E \n",
    "# While the network does not currently support the scaling of OpenAI ChatGPT-E, PwC Technology is taking action to enable the network to meet the market demands of delivering AI to our clients. Our team is diligently engaged with the OpenAI team as they build and mature their capabilities to be fully enterprise ready. A number of workstreams are underway to ensure ChatGPT-E can meet PwC’s requirements for security and scalability so we can successfully roll it out to our client service teams across the network. \n",
    "# OpenAI global agreement and member firms’ licence procurement: PwC has a negotiated global agreement with OpenAI that permits use of ChatGPT-E by any member firm. Licences must be procured through Global Procurement via a chargeback model, and it is recommended that member firms designate a contact responsible for engaging with Global Procurement.\n",
    "# The Global Territory Risk Framework (TRF) for ChatGPT-E is in progress. In collaboration with Global Procurement and GOGC, PwC Technology’s GenAI team is working on outlining the process for procuring licences for member firms taking into account risk approvals. Details will follow in the coming weeks as enterprise licence allocation is expected to begin in Q1 FY25.\n",
    "# Single Sign-On (SSO) implementation: Our team is making progress with SSO testing, and we aim to have the feature enabled by 15 June 2024. This feature will support authentication and authorisation of PwC users who have been allocated a PwC ChatGPT-E account. \n",
    "# Users who created a ChatGPT account using their PwC email, prior to acquiring a PwC ChatGPT-E licence, will lose access to their OpenAI account and any custom generated pre-trained transformers (GPTs) they created on 15 June 2024. There are approximately 64K users who have created a ChatGPT account using their PwC email. The following options are available for current users:\n",
    "# If the ChatGPT account was set up for personal use using a PwC email address, they will need to create a new account with a personal email in accordance with PwC’s Acceptable Use Policy.\n",
    "# If they have a business requirement for the use of ChatGPT for more effective services to clients on their AI journey, please advise them that direct access to OpenAI ChatGPT-E services is still being evaluated as a vital consulting capability to deliver AI to clients. We recommend communicating your member firm process to receive approval for an enterprise licence. Once licences are approved at the member firm level and allocated via Global Procurement, the user will have access reinstated to their ChatGPT projects and data.'''\n",
    "\n",
    "\n",
    "# text='''Gains derived by prescribed financial institutions and entities enjoying certain tax incentives are excluded from the scope of section 10L of the Act. However, this exclusion only applies to the extent that the disposal of the foreign asset is “part of or incidental to the incentivised business”. The e-Tax Guide clarifies that the determination of whether the disposal is part of the incentivised business should take place at the time of disposal. Practically, this could give rise to (at least) two issues. \n",
    "# Firstly, the question of whether income from (and by extension, gains on disposal of) foreign assets is incidental to an incentivised business is sometimes an item of contention between taxpayers and the IRAS. The problem may be exacerbated if there is a significant time lapse between the time of disposal and receipt of the gains in Singapore as supporting documentation may be difficult to locate when the IRAS challenges the tax position taken. To address this, businesses contemplating foreign asset disposals may consider obtaining upfront certainty from the IRAS to agree that any gains on disposal of its foreign asset and any income derived therefrom is covered by the incentive.'''\n",
    "\n",
    "\n",
    "\n",
    "# text='''5/22 Tax 팀과의 회의 기록\n",
    "\n",
    "# 법, 령, 규칙, 예판 4개의 큰 틀을 노드로 잡고\n",
    "# 법과 조 사이의 분류 - 장 절 관\n",
    "# 테이블 내의 step 을 활용하든 해서 활용하면 좋을듯\n",
    "\n",
    "# 사전, 질의, 자문 - 질문을 과제 관청쪽에 던지고 답을 얻는 것\n",
    "# 질의 요약하고 바로 답변\n",
    "\n",
    "# 적부, 이의, 심사, 감심, 심판, 판례, 헌재 - 싸움이 붙어서 판단을 받은 것\n",
    "# 사실 관계, 양측 주장, 판단\n",
    "\n",
    "# 예판에 붙어있는 관련 법령은 블라인드 처리해야할 수도\n",
    "# 근데 이 법령에 붙어있는 개정 날짜 등 때문에 이게 더 정확한거야 사실\n",
    "\n",
    "# (정환님 의견: 예판에 붙어있는 법령은 FEW SHOT으로 쓰면 될듯)\n",
    "\n",
    "# 심판례\n",
    "# 사실 관계 및 판단이 제일 중요해\n",
    "\n",
    "# 청구법인 청구청 각각의 주장을 나눠놓고 요약\n",
    "\n",
    "# 마지막 (3) 이상의 사실 관계 및 관련 법령 등을 종합하여 본다. 가 가장 중요\n",
    "\n",
    "# 전심과정 꼭 추가해야함(지방법원 - 고등법원 - 대법원)\n",
    "\n",
    "# 질의 회신에 관련 사례 - 과세 관청이 붙여서 준 것임\n",
    "\n",
    "# 구글은 원본 문서, 네이버는 정보가 블로그에 정리되어 있는 경우가 많다\n",
    "\n",
    "# 서면에서 회신을 보는게 기본\n",
    "# 그리고 제목이 summary 인데 이걸 그대로 attribute 로 쓰는게 좋다\n",
    "# 국세청에서 결론 내린 내용이기 때문\n",
    "\n",
    "# 쟁점이 두개가 있으면 타이틀이 다른 판례가 두개가 있는 것\n",
    "\n",
    "# uniq 가 0인 경우와 1인 경우가 무슨 차이야?\n",
    "\n",
    "# <현국님 질문>\n",
    "# 개정될 때 마다 부칙이 붙어있는거야.\n",
    "# 부칙이 많으면 많을 수록 예외가 생기는거야.\n",
    "\n",
    "# 구조문하고 부칙하고 왼쪽 연혁이 똑같아\n",
    "\n",
    "# 현행 기준으로 우선 하는게 하나고\n",
    "# 부칙은 완전히 다른 프로젝트다\n",
    "# (단, 추후 업데이트를 고려해서 이걸 생각은 해놔야 한다)\n",
    "\n",
    "# 부칙은 대화형으로 부족한 정보들을 사용자에게 질문하는 형식으로 해야할 듯\n",
    "\n",
    "# 적용시기가 붙어있는 경우가 있다'''\n",
    "\n",
    "# # input_text=pair_sent_terms(src,text,term_dict)\n",
    "\n",
    "if len(term_dict):\n",
    "    term_dict = ast.literal_eval(term_dict)\n",
    "    term_dict=formatting_glossary(term_dict,TranslationTemplate.glossary_template)\n",
    "    text=f\"{term_dict}\\n{TranslationTemplate.sentence_template}\\n{text}\"\n",
    "    prompt=TranslationTemplate.translation_template_w_glossary.format(src,tgt,text)\n",
    "\n",
    "else:\n",
    "    text=f\"{TranslationTemplate.sentence_template}\\n{text}\"\n",
    "    prompt=TranslationTemplate.translation_template_wo_glossary.format(src,tgt,text)"
   ]
  },
  {
   "cell_type": "code",
   "execution_count": 25,
   "id": "6b4ecd21-df80-4704-b34f-503a353696ce",
   "metadata": {},
   "outputs": [
    {
     "name": "stdout",
     "output_type": "stream",
     "text": [
      "Translate the following Korean source text into English.\n",
      "### Source:\n",
      "연결 부당행위 계산 부인이 적용되기 위해서는 연결 전후 연결대상법인들의 과세표준에 차이가 있어야 합니다.\n",
      "\n"
     ]
    }
   ],
   "source": [
    "print(prompt)"
   ]
  },
  {
   "cell_type": "code",
   "execution_count": 26,
   "id": "7cc263bd-fbe7-406a-9df7-658686268190",
   "metadata": {},
   "outputs": [],
   "source": [
    "\n",
    "messages = [\n",
    "    {\"role\": \"system\", \"content\": TranslationTemplate.system_prompt},\n",
    "    {\"role\": \"user\", \"content\": prompt},\n",
    "]\n",
    "\n",
    "# tokenizer.chat_template=\"{% for message in messages %}{{'<|im_start|>' + message['role'] + '\\n' + message['content']}}{% if (loop.last and add_generation_prompt) or not loop.last %}{{ '<|im_end|>' + '\\n'}}{% endif %}{% endfor %}\"\n",
    "\n",
    "tokenizer.chat_template=\"{% if messages[0]['role'] == 'system' %}{% set system_message = messages[0]['content'] %}{% endif %}{% if system_message is defined %}{{ system_message + '\\n'}}{% endif %}{% for message in messages %}{% set content = message['content'] %}{% if message['role'] == 'user' %}{{ content }}{% elif message['role'] == 'assistant' %}{{ content + '\\\\n' }}{% endif %}{% endfor %}\"\n",
    "\n",
    "\n",
    "\n",
    "template=tokenizer.apply_chat_template(\n",
    "                                messages,\n",
    "                                tokenize=False,\n",
    "                            add_generation_prompt=True,\n",
    "                                )\n",
    "\n",
    "template=template.replace(tokenizer.bos_token,\"\")\n",
    "\n",
    "template+=\"### Translation:\\n\"\n",
    "\n",
    "# template=prompt+\"### Target:\\n\"\n",
    "\n",
    "# template+=f\"<im_end>\\n<im_start>assistant\\n{TranslationTemplate.response_template}\\n\"\n",
    "\n",
    "# template+=f\"Assistant: \\n{TranslationTemplate.response_template}\\n\"\n",
    "# template+=f\"Assistant:\\n{TranslationTemplate.response_template}\\n\"\n",
    "# template+=f\"<|start_header_id|>assistant<|end_header_id|>\\n\\n{TranslationTemplate.response_template}\\n\""
   ]
  },
  {
   "cell_type": "code",
   "execution_count": 27,
   "id": "b65e3e23-aa15-4caa-b98f-a2b347eb3160",
   "metadata": {},
   "outputs": [
    {
     "name": "stdout",
     "output_type": "stream",
     "text": [
      "You are a professional translator. You are especially familiar with specialized knowledge and terms in economics, law, and accounting, as well as general everyday terms.\n",
      "Translate the following Korean source text into English.\n",
      "### Source:\n",
      "연결 부당행위 계산 부인이 적용되기 위해서는 연결 전후 연결대상법인들의 과세표준에 차이가 있어야 합니다.\n",
      "### Translation:\n",
      "\n"
     ]
    }
   ],
   "source": [
    "print(template)"
   ]
  },
  {
   "cell_type": "code",
   "execution_count": 28,
   "id": "fecb671c-6366-4f07-97ca-4c81768a7d2c",
   "metadata": {},
   "outputs": [
    {
     "name": "stdout",
     "output_type": "stream",
     "text": [
      "<|startoftext|> You are a professional translator. You are especially familiar with specialized knowledge and terms in economics, law, and accounting, as well as general everyday terms.\n",
      "Translate the following Korean source text into English.\n",
      "### Source:\n",
      "연결 부당행위 계산 부인이 적용되기 위해서는 연결 전후 연결대상법인들의 과세표준에 차이가 있어야 합니다.\n",
      "### Translation:\n",
      "In order for the calculation of the connected unfair act to be applied, there must be a difference in the tax base between the connected target companies before and after the connection.<|endoftext|>\n"
     ]
    }
   ],
   "source": [
    "result=gen(peft_model,template)\n",
    "print(result[0])"
   ]
  },
  {
   "cell_type": "code",
   "execution_count": null,
   "id": "5581d03d-f925-41b7-9db7-07f1b9ddce3c",
   "metadata": {},
   "outputs": [],
   "source": [
    "# result=gen(peft_model,'''Translate the source English texts into Korean. Refer to the word pairs in the glossary when you translate. Do not translate the glossary itself. \n",
    "# ### Glossary:\n",
    "# Base Erosion and Profit Shifting=세원잠식 및 소득이전\n",
    "# plan=도면\n",
    "# permanent establishment=고정사업장\n",
    "# short-term=단기\n",
    "# taxation=조세\n",
    "# source country=원천지국\n",
    "# tax=조세\n",
    "# Diverted Profits Tax=우회이익세\n",
    "# rate=요율\n",
    "# corporate tax=법인세\n",
    "# profit=이익\n",
    "# national=내국인\n",
    "# transfer=양도\n",
    "# case=사안\n",
    "# ### Source:\n",
    "# In order to prevent international tax avoidance, the Base Erosion and Profit Shifting project proposed a plan to expand the scope of permanent establishment in the treaty through concluding short-term contracts and reducing the period to reduce taxation of the source country.\n",
    "\n",
    "# On the other hand, the UK and Australia amended the tax laws to introduce the Diverted Profits Tax, which applies a higher rate than the usual rate of corporate tax on profits that multinational companies transfer abroad.\n",
    "\n",
    "# In this meeting, we discuss the change of the concept of permanent establishment related to the above Base Erosion and Profit Shifting project, reviews each case on the Diverted Profits Tax of the UK and Australia, and discusses the proper position of South Korea in each case.\n",
    "# ### Target:\n",
    "# ''')\n",
    "# print(result[0])"
   ]
  },
  {
   "cell_type": "code",
   "execution_count": null,
   "id": "018d4506-9b56-4c4f-93da-8b40e9bbbe1e",
   "metadata": {},
   "outputs": [],
   "source": [
    "result=gen(peft_model,'''<|START_OF_TURN_TOKEN|><|SYSTEM_TOKEN|>You are a professional translator.<|END_OF_TURN_TOKEN|><|START_OF_TURN_TOKEN|><|USER_TOKEN|>Translate the following English source text into Korean.\n",
    "### Source:\n",
    "article 1.\n",
    "<|END_OF_TURN_TOKEN|><|START_OF_TURN_TOKEN|><|CHATBOT_TOKEN|>### Translation:\n",
    "'''\n",
    ")\n",
    "print(result[0])"
   ]
  },
  {
   "cell_type": "code",
   "execution_count": 22,
   "id": "a3b4a6c7-b729-446b-879e-dec3d9d1d446",
   "metadata": {},
   "outputs": [
    {
     "name": "stdout",
     "output_type": "stream",
     "text": [
      "<BOS_TOKEN><|START_OF_TURN_TOKEN|><|SYSTEM_TOKEN|>You are a professional translator.<|END_OF_TURN_TOKEN|><|START_OF_TURN_TOKEN|><|USER_TOKEN|>Translate the following English source text into Korean. Refer to the word pairs in the glossary when you translate. Do not translate the glossary itself. \n",
      "### Glossary:\n",
      "national tax=조세\n",
      "Base Erosion and Profit Shifting=세원잠식 및 소득이전\n",
      "plan=도면\n",
      "permanent establishment=고정사업장\n",
      "short-term=단기\n",
      "taxation=조세\n",
      "source country=원천지국\n",
      "tax=조세\n",
      "Diverted Profits Tax=우회이익세\n",
      "rate=요율\n",
      "corporate tax=법인세\n",
      "profit=이익\n",
      "national=내국인\n",
      "transfer=양도\n",
      "case=사안\n",
      "### Source:\n",
      "In order to prevent international tax avoidance, the Base Erosion and Profit Shifting project proposed a plan to expand the scope of permanent establishment in the treaty through concluding short-term contracts and reducing the period to reduce taxation of the source country.\n",
      "\n",
      "On the other hand, the UK and Australia amended the tax laws to introduce the Diverted Profits Tax, which applies a higher rate than the usual rate of corporate tax on profits that multinational companies transfer abroad.\n",
      "\n",
      "In this meeting, we discuss the change of the concept of permanent establishment related to the above Base Erosion and Profit Shifting project, reviews each case on the Diverted Profits Tax of the UK and Australia, and discusses the proper position of South Korea in each case.\n",
      "<|END_OF_TURN_TOKEN|><|START_OF_TURN_TOKEN|><|CHATBOT_TOKEN|>### Translation:\n",
      "국제적인 조세 회피를 방지하기 위해 세원잠식 및 소득이전 프로젝트에서는 단기 계약 체결과 기간 단축을 통해 조약에서 고정사업장의 범위를 확대하고 원천지국의 조세 감소를 줄이기 위한 계획을 제안했다.\n",
      "\n",
      "한편, 영국과 호주는 다국적 기업이 해외로 양도하는 이익에 대해 법인세의 일반 요율보다 높은 요율을 적용하는 우회이익세를 도입하기 위해 조세법을 개정했다.\n",
      "\n",
      "이 회의에서는 위와 같은 세원잠식 및 소득이전 프로젝트와 관련하여 고정사업장의 개념 변경에 대해 논의하고 영국의 우회이익세에 대한 각 사안에 대해 검토하며 한국이 각 사안에서 취해야 할 적절한 입장에 대해 논의한다.<|END_OF_TURN_TOKEN|>\n"
     ]
    }
   ],
   "source": [
    "result=gen(peft_model,'''<|START_OF_TURN_TOKEN|><|SYSTEM_TOKEN|>You are a professional translator.<|END_OF_TURN_TOKEN|><|START_OF_TURN_TOKEN|><|USER_TOKEN|>Translate the following English source text into Korean. Refer to the word pairs in the glossary when you translate. Do not translate the glossary itself. \n",
    "### Glossary:\n",
    "national tax=조세\n",
    "Base Erosion and Profit Shifting=세원잠식 및 소득이전\n",
    "plan=도면\n",
    "permanent establishment=고정사업장\n",
    "short-term=단기\n",
    "taxation=조세\n",
    "source country=원천지국\n",
    "tax=조세\n",
    "Diverted Profits Tax=우회이익세\n",
    "rate=요율\n",
    "corporate tax=법인세\n",
    "profit=이익\n",
    "national=내국인\n",
    "transfer=양도\n",
    "case=사안\n",
    "### Source:\n",
    "In order to prevent international tax avoidance, the Base Erosion and Profit Shifting project proposed a plan to expand the scope of permanent establishment in the treaty through concluding short-term contracts and reducing the period to reduce taxation of the source country.\n",
    "\n",
    "On the other hand, the UK and Australia amended the tax laws to introduce the Diverted Profits Tax, which applies a higher rate than the usual rate of corporate tax on profits that multinational companies transfer abroad.\n",
    "\n",
    "In this meeting, we discuss the change of the concept of permanent establishment related to the above Base Erosion and Profit Shifting project, reviews each case on the Diverted Profits Tax of the UK and Australia, and discusses the proper position of South Korea in each case.\n",
    "<|END_OF_TURN_TOKEN|><|START_OF_TURN_TOKEN|><|CHATBOT_TOKEN|>### Translation:\n",
    "''')\n",
    "print(result[0])"
   ]
  },
  {
   "cell_type": "code",
   "execution_count": null,
   "id": "307eb298-fb0d-4237-b3a4-fce1705850f9",
   "metadata": {},
   "outputs": [],
   "source": [
    "'''<|begin_of_text|><|start_header_id|>system<|end_header_id|>\n",
    "\n",
    "You are a professional translator.<|eot_id|><|start_header_id|>user<|end_header_id|>\n",
    "\n",
    "Translate the source English texts into Korean. Refer to the word pairs in the glossary when you translate. Do not translate the glossary itself. \n",
    "### Glossary:\n",
    "national tax=조세\n",
    "Base Erosion and Profit Shifting=세원잠식 및 소득이전\n",
    "plan=도면\n",
    "permanent establishment=고정사업장\n",
    "short-term=단기\n",
    "taxation=조세\n",
    "source country=원천지국\n",
    "tax=조세\n",
    "Diverted Profits Tax=우회이익세\n",
    "rate=요율\n",
    "corporate tax=법인세\n",
    "profit=이익\n",
    "national=내국인\n",
    "transfer=양도\n",
    "case=사안\n",
    "### Source:\n",
    "In order to prevent international tax avoidance, the Base Erosion and Profit Shifting project proposed a plan to expand the scope of permanent establishment in the treaty through concluding short-term contracts and reducing the period to reduce taxation of the source country.\n",
    "\n",
    "On the other hand, the UK and Australia amended the tax laws to introduce the Diverted Profits Tax, which applies a higher rate than the usual rate of corporate tax on profits that multinational companies transfer abroad.\n",
    "\n",
    "In this meeting, we discuss the change of the concept of permanent establishment related to the above Base Erosion and Profit Shifting project, reviews each case on the Diverted Profits Tax of the UK and Australia, and discusses the proper position of South Korea in each case.\n",
    "<|eot_id|><|start_header_id|>assistant<|end_header_id|>\n",
    "\n",
    "### Target:\n",
    "'''"
   ]
  },
  {
   "cell_type": "markdown",
   "id": "a505db3d-07ae-4506-a396-951e0a29cee1",
   "metadata": {},
   "source": [
    "# VLLM"
   ]
  },
  {
   "cell_type": "code",
   "execution_count": 4,
   "id": "f95b5212-4e7d-4548-b064-e3e34a01bb8f",
   "metadata": {},
   "outputs": [],
   "source": [
    "from vllm import LLM, SamplingParams,RequestOutput"
   ]
  },
  {
   "cell_type": "code",
   "execution_count": 5,
   "id": "9efa31f6-0d33-497c-90b5-7fc26c0004b3",
   "metadata": {},
   "outputs": [],
   "source": [
    "base_path='/nvme0/models/yi-ko-34b-stage2-sharegpt8k-even-data1.1k' "
   ]
  },
  {
   "cell_type": "code",
   "execution_count": 7,
   "id": "914ac4fa-8520-47d3-b6da-5f26ba40f2c2",
   "metadata": {},
   "outputs": [
    {
     "name": "stdout",
     "output_type": "stream",
     "text": [
      "INFO 05-30 14:29:53 llm_engine.py:100] Initializing an LLM engine (v0.4.2) with config: model='/nvme0/models/yi-ko-34b-stage2-sharegpt8k-even-data1.1k', speculative_config=None, tokenizer='/nvme0/models/yi-ko-34b-stage2-sharegpt8k-even-data1.1k', skip_tokenizer_init=False, tokenizer_mode=auto, revision=None, tokenizer_revision=None, trust_remote_code=False, dtype=torch.bfloat16, max_seq_len=2048, download_dir=None, load_format=LoadFormat.AUTO, tensor_parallel_size=1, disable_custom_all_reduce=False, quantization=None, enforce_eager=False, kv_cache_dtype=auto, quantization_param_path=None, device_config=cuda, decoding_config=DecodingConfig(guided_decoding_backend='outlines'), seed=0, served_model_name=/nvme0/models/yi-ko-34b-stage2-sharegpt8k-even-data1.1k)\n"
     ]
    },
    {
     "name": "stderr",
     "output_type": "stream",
     "text": [
      "Special tokens have been added in the vocabulary, make sure the associated word embeddings are fine-tuned or trained.\n"
     ]
    },
    {
     "name": "stdout",
     "output_type": "stream",
     "text": [
      "INFO 05-30 14:29:53 utils.py:660] Found nccl from library /root/.config/vllm/nccl/cu12/libnccl.so.2.18.1\n",
      "INFO 05-30 14:29:53 selector.py:27] Using FlashAttention-2 backend.\n"
     ]
    },
    {
     "name": "stderr",
     "output_type": "stream",
     "text": [
      "Exception ignored in: <bound method IPythonKernel._clean_thread_parent_frames of <ipykernel.ipkernel.IPythonKernel object at 0x7fe2c3b4d5d0>>\n",
      "Traceback (most recent call last):\n",
      "  File \"/root/.cache/pypoetry/virtualenvs/modeling-GRV9YhML-py3.11/lib/python3.11/site-packages/ipykernel/ipkernel.py\", line 775, in _clean_thread_parent_frames\n",
      "    def _clean_thread_parent_frames(\n",
      "\n",
      "KeyboardInterrupt: \n",
      "\n",
      "KeyboardInterrupt\n",
      "\n"
     ]
    }
   ],
   "source": [
    "model=LLM(base_path)"
   ]
  },
  {
   "cell_type": "code",
   "execution_count": 7,
   "id": "15cb8b78-9fb4-4a4e-a991-171574eb01f3",
   "metadata": {},
   "outputs": [
    {
     "ename": "NameError",
     "evalue": "name 'model' is not defined",
     "output_type": "error",
     "traceback": [
      "\u001b[0;31m---------------------------------------------------------------------------\u001b[0m",
      "\u001b[0;31mNameError\u001b[0m                                 Traceback (most recent call last)",
      "Cell \u001b[0;32mIn[7], line 1\u001b[0m\n\u001b[0;32m----> 1\u001b[0m tokenizer\u001b[38;5;241m=\u001b[39m\u001b[43mmodel\u001b[49m\u001b[38;5;241m.\u001b[39mget_tokenizer()\n",
      "\u001b[0;31mNameError\u001b[0m: name 'model' is not defined"
     ]
    }
   ],
   "source": [
    "tokenizer=model.get_tokenizer()"
   ]
  },
  {
   "cell_type": "code",
   "execution_count": 6,
   "id": "927e2fde-1566-4efb-8020-df759c6e7bbb",
   "metadata": {},
   "outputs": [
    {
     "name": "stdout",
     "output_type": "stream",
     "text": [
      "Translate the following English source text into Korean.\n",
      "### Source:\n",
      "Gains derived by prescribed financial institutions and entities enjoying certain tax incentives are excluded from the scope of section 10L of the Act. However, this exclusion only applies to the extent that the disposal of the foreign asset is “part of or incidental to the incentivised business”. The e-Tax Guide clarifies that the determination of whether the disposal is part of the incentivised business should take place at the time of disposal. Practically, this could give rise to (at least) two issues. \n",
      "Firstly, the question of whether income from (and by extension, gains on disposal of) foreign assets is incidental to an incentivised business is sometimes an item of contention between taxpayers and the IRAS. The problem may be exacerbated if there is a significant time lapse between the time of disposal and receipt of the gains in Singapore as supporting documentation may be difficult to locate when the IRAS challenges the tax position taken. To address this, businesses contemplating foreign asset disposals may consider obtaining upfront certainty from the IRAS to agree that any gains on disposal of its foreign asset and any income derived therefrom is covered by the incentive.\n",
      "\n"
     ]
    }
   ],
   "source": [
    "text='''서면국제세원- 2908, 2016.05.12\n",
    "\n",
    "국내사업장이 없는 미국법인이 내국법인에게 기본설계용역을 제공하고 수취하는 소득은 동 용역제공대가가 비공개 기술, 정보 등 노하우의 사용대가인 경우에 사용료소득에 해당하는 것이나, 동 용역제공대가가 동종의 용역수행자가 통상적으로 보유하는 전문지식이나 기능을 활용하여 수행하는 용역에 대한 대가인 경우에는 사업소득에 해당되는 것임. 동 용역제공대가가 사용료소득인지 사업소득인지의 여부는 내국법인이 제공받는 용역의 실질내용에 따라 사실 판단할 사항이며, 법인세법 기본통칙 93-132…7 [노하우와 독립적인 인적용역의 구분]을 참고하기 바람.\n",
    "'''.rstrip()\n",
    "\n",
    "term_dict=str({\"서면\":\"Seomyeon\",\n",
    "           \"국내사업장\":\"domestic business place\",\n",
    "           \"내국법인\":\"domestic corporation\",\n",
    "           \"계\":\"Total\",\n",
    "           \"용역\":\"Services\",\n",
    "           \"소득\":\"income\",\n",
    "          \"사용료\":\"Royalty\",\n",
    "           \"상\":\"Prize\",\n",
    "           \"사업소득\":\"business income\",\n",
    "           \"법인세법\":\"CITL\"})\n",
    "\n",
    "# term_dict=\"\"\n",
    "# text=\"keywords is international tax avoidance\"\n",
    "\n",
    "# text='''이번 개정안에 따르면, 국가별보고서는 다국적기업의 국가별 소득 배분내역, 세전이익 손실, 소득 법인세 납부액, 자본금, 주요사업활동 등에 대한 내용을 포함하여, 한글과 영문으로 제출하도록 규정하고 있습니다. 또한, 국가별보고서 제출의무자는 직전년도 연결재무제표상 매출액이 1조원을 초과하는 다국적 기업의 최상위 지배법인에 해당하는 내국법인으로 규정하였습니다. \n",
    "# 다만, 외투기업(국내 종속기업)의 경우 국외지배 주주가 소재한 국가의 법령상 국가별보고서 작성의무가 없는 경우 또는 국외지배 주주 소재 국가와 조세조약이 체결되지 않는 등의 사유로 국가별보고서의 교환이 되지 않는 경우에는 당해 외투기업이 국가별보고서를 제출하도록 규정 (Secondary Filing Requirement)하였습니다. 그리고, 내국법인 및 외투기업 등은 국가별 보고서 제출의무자와 관련된 자료를 사업연도 종료일로부터 6개월 이내에 제출하도록 규정하고 있으며, 만약 외투기업이 국가별보고서의 제출의무자에 대한 자료를 제출하지 않는 경우 당해 외투기업은 국가별보고서를 별도로 제출하도록 규정하였습니다. (구체적인 신고서식 및 내용은 기획 재정부장관의 고시로 발표될 것으로 보입니다.)\n",
    "# 이번 국조법 시행령 개정안은 OECD BEPS Action Plan 13의 규정과 일치하도록 국조법 시행령을 추가적으로 보완하는 것으로 볼 수 있는데, 유의할 점은 사업연도 종료일로부터 6개월 이내에 다국적기업에서 누가 국가별보고서를 제출할 것인지에 대하여 사전보고를 하도록 규정하고 있고, 이러한 신고의무가 불이행되는 경우 후술하는 과태료도 부과될 수 있는 가능성이 있습니다.'''\n",
    "# term_dict=str({\"개정안\" : \"amendment\",\"국가별보고서\":\"cbc-report\",\"국조법 시행령\":\"LCITA-PED\"})\n",
    "\n",
    "\n",
    "# text='''Supreme court 2014Du8896, 2016.01.14\n",
    "\n",
    "# A Singapore Co. is considered to have a deemed agent PE if the agent has and habitually exercises an authority to conclude contracts in the name of the enterprise and the activities performed by the agent have high potential to be considered as important and essential activities of the company as a whole (i.e., not preparatory or auxiliary in nature). determination of what activities are important and essential to a business as a whole shall depend on the characteristics of the activities, the relative importance and scope of the activities compared to the activities of the business as a whole, etc.'''\n",
    "\n",
    "\n",
    "src=\"English\"\n",
    "tgt=\"Korean\"\n",
    "term_dict=\"\"\n",
    "\n",
    "# text=\"a r t i c l e\"\n",
    "# term_dict=\"\"\n",
    "# src=\"Korean\"\n",
    "# tgt=\"English\"\n",
    "\n",
    "\n",
    "# text='''Taking action to enable OpenAI ChatGPT-E \n",
    "# While the network does not currently support the scaling of OpenAI ChatGPT-E, PwC Technology is taking action to enable the network to meet the market demands of delivering AI to our clients. Our team is diligently engaged with the OpenAI team as they build and mature their capabilities to be fully enterprise ready. A number of workstreams are underway to ensure ChatGPT-E can meet PwC’s requirements for security and scalability so we can successfully roll it out to our client service teams across the network. \n",
    "# OpenAI global agreement and member firms’ licence procurement: PwC has a negotiated global agreement with OpenAI that permits use of ChatGPT-E by any member firm. Licences must be procured through Global Procurement via a chargeback model, and it is recommended that member firms designate a contact responsible for engaging with Global Procurement.\n",
    "# The Global Territory Risk Framework (TRF) for ChatGPT-E is in progress. In collaboration with Global Procurement and GOGC, PwC Technology’s GenAI team is working on outlining the process for procuring licences for member firms taking into account risk approvals. Details will follow in the coming weeks as enterprise licence allocation is expected to begin in Q1 FY25.\n",
    "# Single Sign-On (SSO) implementation: Our team is making progress with SSO testing, and we aim to have the feature enabled by 15 June 2024. This feature will support authentication and authorisation of PwC users who have been allocated a PwC ChatGPT-E account. \n",
    "# Users who created a ChatGPT account using their PwC email, prior to acquiring a PwC ChatGPT-E licence, will lose access to their OpenAI account and any custom generated pre-trained transformers (GPTs) they created on 15 June 2024. There are approximately 64K users who have created a ChatGPT account using their PwC email. The following options are available for current users:\n",
    "# If the ChatGPT account was set up for personal use using a PwC email address, they will need to create a new account with a personal email in accordance with PwC’s Acceptable Use Policy.\n",
    "# If they have a business requirement for the use of ChatGPT for more effective services to clients on their AI journey, please advise them that direct access to OpenAI ChatGPT-E services is still being evaluated as a vital consulting capability to deliver AI to clients. We recommend communicating your member firm process to receive approval for an enterprise licence. Once licences are approved at the member firm level and allocated via Global Procurement, the user will have access reinstated to their ChatGPT projects and data.'''\n",
    "\n",
    "\n",
    "text='''Gains derived by prescribed financial institutions and entities enjoying certain tax incentives are excluded from the scope of section 10L of the Act. However, this exclusion only applies to the extent that the disposal of the foreign asset is “part of or incidental to the incentivised business”. The e-Tax Guide clarifies that the determination of whether the disposal is part of the incentivised business should take place at the time of disposal. Practically, this could give rise to (at least) two issues. \n",
    "Firstly, the question of whether income from (and by extension, gains on disposal of) foreign assets is incidental to an incentivised business is sometimes an item of contention between taxpayers and the IRAS. The problem may be exacerbated if there is a significant time lapse between the time of disposal and receipt of the gains in Singapore as supporting documentation may be difficult to locate when the IRAS challenges the tax position taken. To address this, businesses contemplating foreign asset disposals may consider obtaining upfront certainty from the IRAS to agree that any gains on disposal of its foreign asset and any income derived therefrom is covered by the incentive.'''\n",
    "\n",
    "\n",
    "\n",
    "# text='''5/22 Tax 팀과의 회의 기록\n",
    "\n",
    "# 법, 령, 규칙, 예판 4개의 큰 틀을 노드로 잡고\n",
    "# 법과 조 사이의 분류 - 장 절 관\n",
    "# 테이블 내의 step 을 활용하든 해서 활용하면 좋을듯\n",
    "\n",
    "# 사전, 질의, 자문 - 질문을 과제 관청쪽에 던지고 답을 얻는 것\n",
    "# 질의 요약하고 바로 답변\n",
    "\n",
    "# 적부, 이의, 심사, 감심, 심판, 판례, 헌재 - 싸움이 붙어서 판단을 받은 것\n",
    "# 사실 관계, 양측 주장, 판단\n",
    "\n",
    "# 예판에 붙어있는 관련 법령은 블라인드 처리해야할 수도\n",
    "# 근데 이 법령에 붙어있는 개정 날짜 등 때문에 이게 더 정확한거야 사실\n",
    "\n",
    "# (정환님 의견: 예판에 붙어있는 법령은 FEW SHOT으로 쓰면 될듯)\n",
    "\n",
    "# 심판례\n",
    "# 사실 관계 및 판단이 제일 중요해\n",
    "\n",
    "# 청구법인 청구청 각각의 주장을 나눠놓고 요약\n",
    "\n",
    "# 마지막 (3) 이상의 사실 관계 및 관련 법령 등을 종합하여 본다. 가 가장 중요\n",
    "\n",
    "# 전심과정 꼭 추가해야함(지방법원 - 고등법원 - 대법원)\n",
    "\n",
    "# 질의 회신에 관련 사례 - 과세 관청이 붙여서 준 것임\n",
    "\n",
    "# 구글은 원본 문서, 네이버는 정보가 블로그에 정리되어 있는 경우가 많다\n",
    "\n",
    "# 서면에서 회신을 보는게 기본\n",
    "# 그리고 제목이 summary 인데 이걸 그대로 attribute 로 쓰는게 좋다\n",
    "# 국세청에서 결론 내린 내용이기 때문\n",
    "\n",
    "# 쟁점이 두개가 있으면 타이틀이 다른 판례가 두개가 있는 것\n",
    "\n",
    "# uniq 가 0인 경우와 1인 경우가 무슨 차이야?\n",
    "\n",
    "# <현국님 질문>\n",
    "# 개정될 때 마다 부칙이 붙어있는거야.\n",
    "# 부칙이 많으면 많을 수록 예외가 생기는거야.\n",
    "\n",
    "# 구조문하고 부칙하고 왼쪽 연혁이 똑같아\n",
    "\n",
    "# 현행 기준으로 우선 하는게 하나고\n",
    "# 부칙은 완전히 다른 프로젝트다\n",
    "# (단, 추후 업데이트를 고려해서 이걸 생각은 해놔야 한다)\n",
    "\n",
    "# 부칙은 대화형으로 부족한 정보들을 사용자에게 질문하는 형식으로 해야할 듯\n",
    "\n",
    "# 적용시기가 붙어있는 경우가 있다'''\n",
    "\n",
    "# # input_text=pair_sent_terms(src,text,term_dict)\n",
    "\n",
    "if len(term_dict):\n",
    "    term_dict = ast.literal_eval(term_dict)\n",
    "    term_dict=formatting_glossary(term_dict,TranslationTemplate.glossary_template)\n",
    "    formatted_text=f\"{term_dict}\\n{TranslationTemplate.sentence_template}\\n{text}\"\n",
    "    prompt=TranslationTemplate.translation_template_w_glossary.format(src,tgt,formatted_text)\n",
    "\n",
    "else:\n",
    "    formatted_text=f\"{TranslationTemplate.sentence_template}\\n{text}\"\n",
    "    prompt=TranslationTemplate.translation_template_wo_glossary.format(src,tgt,formatted_text)\n",
    "\n",
    "print(prompt)"
   ]
  },
  {
   "cell_type": "code",
   "execution_count": 7,
   "id": "c7a17347-d247-4606-8f34-2507b8b68715",
   "metadata": {},
   "outputs": [
    {
     "data": {
      "text/plain": [
       "'Gains derived by prescribed financial institutions and entities enjoying certain tax incentives are excluded from the scope of section 10L of the Act. However, this exclusion only applies to the extent that the disposal of the foreign asset is “part of or incidental to the incentivised business”. The e-Tax Guide clarifies that the determination of whether the disposal is part of the incentivised business should take place at the time of disposal. Practically, this could give rise to (at least) two issues. \\nFirstly, the question of whether income from (and by extension, gains on disposal of) foreign assets is incidental to an incentivised business is sometimes an item of contention between taxpayers and the IRAS. The problem may be exacerbated if there is a significant time lapse between the time of disposal and receipt of the gains in Singapore as supporting documentation may be difficult to locate when the IRAS challenges the tax position taken. To address this, businesses contemplating foreign asset disposals may consider obtaining upfront certainty from the IRAS to agree that any gains on disposal of its foreign asset and any income derived therefrom is covered by the incentive.'"
      ]
     },
     "execution_count": 7,
     "metadata": {},
     "output_type": "execute_result"
    }
   ],
   "source": [
    "text"
   ]
  },
  {
   "cell_type": "code",
   "execution_count": 8,
   "id": "663e5fe9-e740-48b6-b57f-8373dfe11541",
   "metadata": {},
   "outputs": [
    {
     "ename": "NameError",
     "evalue": "name 'tokenizer' is not defined",
     "output_type": "error",
     "traceback": [
      "\u001b[0;31m---------------------------------------------------------------------------\u001b[0m",
      "\u001b[0;31mNameError\u001b[0m                                 Traceback (most recent call last)",
      "Cell \u001b[0;32mIn[8], line 12\u001b[0m\n\u001b[1;32m      1\u001b[0m messages \u001b[38;5;241m=\u001b[39m [\n\u001b[1;32m      2\u001b[0m     {\u001b[38;5;124m\"\u001b[39m\u001b[38;5;124mrole\u001b[39m\u001b[38;5;124m\"\u001b[39m: \u001b[38;5;124m\"\u001b[39m\u001b[38;5;124msystem\u001b[39m\u001b[38;5;124m\"\u001b[39m, \u001b[38;5;124m\"\u001b[39m\u001b[38;5;124mcontent\u001b[39m\u001b[38;5;124m\"\u001b[39m: TranslationTemplate\u001b[38;5;241m.\u001b[39msystem_prompt},\n\u001b[1;32m      3\u001b[0m     {\u001b[38;5;124m\"\u001b[39m\u001b[38;5;124mrole\u001b[39m\u001b[38;5;124m\"\u001b[39m: \u001b[38;5;124m\"\u001b[39m\u001b[38;5;124muser\u001b[39m\u001b[38;5;124m\"\u001b[39m, \u001b[38;5;124m\"\u001b[39m\u001b[38;5;124mcontent\u001b[39m\u001b[38;5;124m\"\u001b[39m: prompt},\n\u001b[1;32m      4\u001b[0m ]\n\u001b[1;32m      6\u001b[0m \u001b[38;5;66;03m# tokenizer.chat_template=\"{% for message in messages %}{{'<|im_start|>' + message['role'] + '\\n' + message['content']}}{% if (loop.last and add_generation_prompt) or not loop.last %}{{ '<|im_end|>' + '\\n'}}{% endif %}{% endfor %}\"\u001b[39;00m\n\u001b[1;32m      7\u001b[0m \n\u001b[1;32m      8\u001b[0m \u001b[38;5;66;03m# tokenizer.chat_template=\"{% if messages[0]['role'] == 'system' %}{% set system_message = messages[0]['content'] %}{% endif %}{% if system_message is defined %}{{ system_message + '\\n'}}{% endif %}{% for message in messages %}{% set content = message['content'] %}{% if message['role'] == 'user' %}{{ content }}{% elif message['role'] == 'assistant' %}{{ content + '\\\\n' }}{% endif %}{% endfor %}\"\u001b[39;00m\n\u001b[0;32m---> 12\u001b[0m template\u001b[38;5;241m=\u001b[39m\u001b[43mtokenizer\u001b[49m\u001b[38;5;241m.\u001b[39mapply_chat_template(\n\u001b[1;32m     13\u001b[0m                                 messages,\n\u001b[1;32m     14\u001b[0m                                 tokenize\u001b[38;5;241m=\u001b[39m\u001b[38;5;28;01mFalse\u001b[39;00m,\n\u001b[1;32m     15\u001b[0m                             add_generation_prompt\u001b[38;5;241m=\u001b[39m\u001b[38;5;28;01mTrue\u001b[39;00m,\n\u001b[1;32m     16\u001b[0m                                 )\n\u001b[1;32m     18\u001b[0m template\u001b[38;5;241m=\u001b[39mtemplate\u001b[38;5;241m.\u001b[39mreplace(tokenizer\u001b[38;5;241m.\u001b[39mbos_token,\u001b[38;5;124m\"\u001b[39m\u001b[38;5;124m\"\u001b[39m)\n\u001b[1;32m     20\u001b[0m template\u001b[38;5;241m+\u001b[39m\u001b[38;5;241m=\u001b[39m\u001b[38;5;124m\"\u001b[39m\u001b[38;5;124m### Translation:\u001b[39m\u001b[38;5;130;01m\\n\u001b[39;00m\u001b[38;5;124m\"\u001b[39m\n",
      "\u001b[0;31mNameError\u001b[0m: name 'tokenizer' is not defined"
     ]
    }
   ],
   "source": [
    "\n",
    "messages = [\n",
    "    {\"role\": \"system\", \"content\": TranslationTemplate.system_prompt},\n",
    "    {\"role\": \"user\", \"content\": prompt},\n",
    "]\n",
    "\n",
    "# tokenizer.chat_template=\"{% for message in messages %}{{'<|im_start|>' + message['role'] + '\\n' + message['content']}}{% if (loop.last and add_generation_prompt) or not loop.last %}{{ '<|im_end|>' + '\\n'}}{% endif %}{% endfor %}\"\n",
    "\n",
    "# tokenizer.chat_template=\"{% if messages[0]['role'] == 'system' %}{% set system_message = messages[0]['content'] %}{% endif %}{% if system_message is defined %}{{ system_message + '\\n'}}{% endif %}{% for message in messages %}{% set content = message['content'] %}{% if message['role'] == 'user' %}{{ content }}{% elif message['role'] == 'assistant' %}{{ content + '\\\\n' }}{% endif %}{% endfor %}\"\n",
    "\n",
    "\n",
    "\n",
    "template=tokenizer.apply_chat_template(\n",
    "                                messages,\n",
    "                                tokenize=False,\n",
    "                            add_generation_prompt=True,\n",
    "                                )\n",
    "\n",
    "template=template.replace(tokenizer.bos_token,\"\")\n",
    "\n",
    "template+=\"### Translation:\\n\"\n",
    "\n",
    "# template=prompt+\"### Target:\\n\"\n",
    "\n",
    "# template+=f\"<im_end>\\n<im_start>assistant\\n{TranslationTemplate.response_template}\\n\"\n",
    "\n",
    "# template+=f\"Assistant: \\n{TranslationTemplate.response_template}\\n\"\n",
    "# template+=f\"Assistant:\\n{TranslationTemplate.response_template}\\n\"\n",
    "# template+=f\"<|start_header_id|>assistant<|end_header_id|>\\n\\n{TranslationTemplate.response_template}\\n\"\n",
    "\n",
    "print(template)"
   ]
  },
  {
   "cell_type": "code",
   "execution_count": 151,
   "id": "5cb2bd7c-3c86-49f3-b2d0-fdfaeb1d0278",
   "metadata": {},
   "outputs": [
    {
     "name": "stderr",
     "output_type": "stream",
     "text": [
      "Processed prompts: 100%|███████████████████████████████████████████████| 3/3 [00:11<00:00,  3.91s/it]\n"
     ]
    }
   ],
   "source": [
    "generation_results,selected_results=request_offline_inference(model,[text]*3,[template]*3,sampling_params)"
   ]
  },
  {
   "cell_type": "code",
   "execution_count": 37,
   "id": "4265a37a-5c45-4f58-8f25-36387cd43195",
   "metadata": {},
   "outputs": [
    {
     "ename": "NameError",
     "evalue": "name 'generation_results' is not defined",
     "output_type": "error",
     "traceback": [
      "\u001b[0;31m---------------------------------------------------------------------------\u001b[0m",
      "\u001b[0;31mNameError\u001b[0m                                 Traceback (most recent call last)",
      "Cell \u001b[0;32mIn[37], line 1\u001b[0m\n\u001b[0;32m----> 1\u001b[0m \u001b[43mgeneration_results\u001b[49m\n",
      "\u001b[0;31mNameError\u001b[0m: name 'generation_results' is not defined"
     ]
    }
   ],
   "source": [
    "generation_results"
   ]
  },
  {
   "cell_type": "code",
   "execution_count": 153,
   "id": "8489747d-fd36-4b86-a3c1-d3f50c3eab70",
   "metadata": {},
   "outputs": [
    {
     "data": {
      "text/plain": [
       "['법 제10조 L항의 적용 범위에서 제외되는 금융기관 및 특정 세제 혜택을 받는 법인은 법 제10조 L항에서 정한 바에 따라 취득한 이익이 제외됩니다. 그러나 이러한 배제는 \"인센티브 사업\"의 일부 또는 부수적인 사항으로 외국 자산을 처분하는 경우에만 해당합니다. 전자 세금 안내서는 처분 시점에 처분된 것이 인센티브 사업의 일부인지 여부가 결정되어야 한다고 명확히 밝히고 있습니다. 실제로는 이 때문에 (최소한) 두 가지 문제가 발생할 수 있습니다. \\n첫째, 외국 자산으로부터 발생하는 소득(처분 시에 발생하는 수익까지 확장하여)이 인센티브 사업에 부수적인 것인지 여부는 때때로 납세자와 국세청 간에 쟁점이 되는 사안입니다. 만약 싱가포르에서 수익을 수령할 때까지 처분 시점과 시간이 많이 지체된다면, 국세청이 세무 처분을 문제 삼을 때 증빙 서류를 찾기 어려울 수 있기 때문에 문제가 더 악화될 수 있습니다. 이를 해결하기 위해 외국 자산을 매각하려는 기업은 국세청으로부터 사전 확신을 얻어 그 기업의 외국 자산 처분 시 발생하는 수익과 이에 따른 모든 소득이 인센티브에 포함된다는 데 동의할 수 있습니다.',\n",
       " '법률 제10조 L항의 적용 범위에서 제외되는 금융기관 및 특정 세제 혜택을 받는 법인은 다음과 같습니다. 그러나 이러한 배제 규정은 \"인센티브 사업\"의 일부 또는 부수적인 사항으로 외국 자산을 처분하는 경우에만 해당합니다. 전자 세금 안내서는 외국 자산의 처분이 인센티브 사업의 일부인지 여부는 처분 시점에 결정되어야 한다고 명확히 밝히고 있습니다. 실제로는 다음과 같은 두 가지 문제가 발생할 수 있습니다. \\n첫째, 외국 자산으로부터 발생하는 소득(처분 이익 포함)이 인센티브 사업에 부수적인 것인지 여부에 대한 논란이 종종 납세자와 국세청 간에 쟁점이 되는 경우가 있습니다. 만약 싱가포르에서 이익을 수령할 때까지 처분 시점과 시간이 많이 지체된다면, 증빙 서류를 찾기가 어려워질 수 있으므로 문제가 더 심각해질 수 있습니다. 이를 해결하기 위해 외국 자산 매각을 고려하고 있는 기업은 매각한 외국 자산의 처분 이익과 그로부터 발생한 모든 소득이 인센티브에 해당한다는 점을 국세청으로부터 사전에 확인받을 수 있는지 검토해 볼 필요가 있습니다.',\n",
       " '법률 제1']"
      ]
     },
     "execution_count": 153,
     "metadata": {},
     "output_type": "execute_result"
    }
   ],
   "source": [
    "selected_results"
   ]
  },
  {
   "cell_type": "code",
   "execution_count": 128,
   "id": "5ee8c875-e145-4f26-9346-5cf26bba04b5",
   "metadata": {},
   "outputs": [],
   "source": [
    "aa=select_by_length([text]*3,result)"
   ]
  },
  {
   "cell_type": "code",
   "execution_count": 73,
   "id": "489a841b-ca48-452c-ae44-f20cf67da749",
   "metadata": {},
   "outputs": [
    {
     "data": {
      "text/plain": [
       "[CompletionOutput(index=2, text='법률 제10조 L항의 적용 범위에서 제외되는 것은 지정 금융기관 및 특정 세제 혜택을 누리는 법인이 얻는 수익이다. 그러나 이러한 배제 규정은 \"인센티브를 받은 사업\"의 일부 또는 부수적인 것으로서 외국 자산의 처분이 이루어지는 한도에서만 적용된다. 전자 세금 안내서는 처분 시점에 해당 처분이 인센티브를 받은 사업의 일부인지 여부를 결정해야 한다고 명확히 밝히고 있다. 실제로 이는 (최소한) 두 가지 문제를 야기할 수 있다. \\n첫째, 외국 자산으로부터 발생하는 소득(처분 시에 발생하는 이익 포함)이 인센티브를 받은 사업에 부수적인 것인지 여부는 때때로 납세자와 국세청 간 쟁점 사항이 될 수 있다. 만약 싱가포르에서 이익을 수령하는 시점과 처분 시점 사이에 상당한 시간이 경과한다면 문제가 더욱 악화될 수 있는데, 이 경우 국세청이 세무 상황을 문제 삼을 때 증빙 서류를 찾기 어려울 수 있기 때문이다. 이를 해결하기 위해 외국 자산을 처분하려는 기업은 처분 시점에서 발생하는 모든 이익과 그로부터 발생하는 모든 소득이 인센티브에 포함된다는 점을 국세청으로부터 사전 확신을 얻을 수 있도록 고려할 수 있다.', token_ids=[76972, 77293, 64028, 78, 77, 76845, 750, 77123, 63223, 65383, 64455, 70471, 66433, 64308, 64862, 66574, 65034, 65054, 64352, 67782, 74994, 69313, 64197, 64253, 64223, 64381, 65375, 62874, 66553, 64040, 98, 65656, 69232, 71183, 64489, 65028, 1529, 76815, 76288, 63199, 65392, 64432, 59592, 63223, 65083, 65530, 64036, 63560, 64199, 64297, 63559, 65171, 67443, 63223, 64196, 65461, 70365, 64339, 64012, 76809, 71371, 65383, 64204, 98, 68213, 64510, 67275, 65539, 73005, 64022, 68007, 65202, 64196, 65461, 64024, 76288, 63199, 65392, 75519, 65083, 64608, 70158, 65136, 64211, 65757, 69942, 76940, 76111, 64061, 98, 67663, 66229, 662, 76955, 73052, 59604, 64198, 66920, 67548, 64525, 63557, 76872, 64013, 64061, 98, 59568, 144, 77276, 77243, 97, 65171, 67443, 68815, 71877, 67152, 59605, 70131, 64022, 63022, 71877, 66573, 65033, 59604, 62419, 64024, 76288, 63199, 65392, 71462, 64036, 63560, 64199, 71913, 64060, 64966, 64163, 76943, 63169, 66235, 76846, 66524, 76612, 76951, 64286, 68801, 77009, 68513, 62419, 64474, 64013, 64061, 98, 68066, 75510, 64008, 71071, 72131, 64018, 71974, 76840, 73005, 71974, 71196, 64057, 65926, 66857, 64042, 76840, 67452, 65488, 65406, 71089, 77122, 64013, 64971, 97, 55571, 64730, 76612, 70370, 73612, 67124, 64256, 64435, 63076, 64163, 64284, 77532, 64085, 70080, 75760, 72072, 64013, 68483, 66505, 98, 65275, 65192, 64237, 64244, 65171, 67443, 63076, 73005, 67637, 73387, 73005, 64022, 67924, 71877, 64543, 66573, 76840, 64002, 66722, 71877, 64543, 67152, 62419, 64024, 76288, 63022, 65033, 69125, 68039, 76612, 76951, 68815, 66550, 64115, 68437, 74389, 64013, 64981, 65685, 76872, 64013, 64061, 98, 2], cumulative_logprob=-13.125500035310338, logprobs=None, finish_reason=stop, stop_reason=None),\n",
       " CompletionOutput(index=1, text='법률 제10조 L항의 적용 범위에서 제외되는 것은 지정 금융기관 및 특정 세제 혜택을 받는 법인이 얻는 수익이다. 그러나 이러한 배제는 \"인센티브 사업\"의 일부 또는 부수적인 것으로 처분된 외국 자산에 한한다. 전자 세금 안내서는 처분 시점에 처분 여부가 인센티브 사업의 일부인지 여부를 결정해야 한다고 명확히 밝히고 있다. 실제로 이는 (최소) 두 가지 문제를 야기할 수 있다. \\n첫째, 외국 자산으로부터 발생하는 소득(처분 이익으로 확장)이 인센티브 사업에 부수적인 것인지 여부는 때때로 납세자와 국세청 간 쟁점 사항이 될 수 있다. 만약 싱가포르에서 이익을 수령하는 시점과 처분 시점 사이에 상당한 시간 차이가 있다면, 국세청이 세금을 부과한 입장을 반박할 때 지원 서류를 찾기 어려울 수 있기 때문에 문제가 악화될 수 있다. 이를 해결하기 위해 외국 자산을 처분하려는 기업은 외국 자산의 처분 이익 및 그로부터 얻은 모든 소득이 인센티브에 포함된다는 것을 국세청으로부터 사전 확신을 얻을 수 있는지 검토해 볼 수 있다.', token_ids=[76972, 77293, 64028, 78, 77, 76845, 750, 77123, 63223, 65383, 64455, 70471, 66433, 64308, 64862, 66574, 65034, 65054, 64352, 67782, 74994, 69313, 66070, 64223, 64381, 65375, 62874, 66553, 64040, 98, 65656, 69232, 64094, 67807, 1529, 76815, 76288, 64432, 59592, 63223, 65083, 65530, 64036, 63560, 64199, 64297, 73005, 76937, 65171, 67443, 63022, 64012, 64075, 98, 68213, 64510, 67275, 65539, 73005, 64022, 68007, 73005, 64060, 65500, 64024, 76288, 75519, 65083, 64608, 70158, 65136, 64211, 65757, 69942, 76940, 76111, 64061, 98, 67663, 66229, 662, 76955, 76857, 59604, 64198, 66920, 67548, 64525, 63557, 76872, 64013, 64061, 98, 59568, 144, 77276, 77243, 97, 65171, 67443, 68815, 71877, 67152, 59605, 70131, 66573, 64003, 68579, 59604, 62419, 64024, 76288, 71462, 64036, 63560, 64199, 71913, 64060, 64966, 64163, 76943, 63169, 66235, 76846, 66524, 76612, 76951, 64286, 68801, 77009, 68513, 62419, 64474, 64013, 64061, 98, 68066, 75510, 64008, 71071, 72131, 64018, 71974, 76840, 73005, 71974, 71196, 64057, 65926, 64601, 69374, 68064, 97, 76612, 70370, 68944, 69195, 63622, 67650, 69114, 76872, 64163, 64290, 64085, 70080, 75760, 72072, 64013, 68483, 64669, 65488, 71089, 77122, 64013, 64061, 98, 65275, 65192, 64237, 64244, 65171, 67443, 63076, 73005, 67637, 73387, 65171, 67443, 63223, 73005, 66573, 64352, 64002, 66722, 72731, 64543, 67152, 62419, 64024, 76288, 63022, 65033, 69125, 64942, 76612, 76951, 68815, 66550, 64115, 68437, 74389, 64013, 67347, 66095, 63934, 64935, 64013, 64061, 98, 2], cumulative_logprob=-19.79853411030492, logprobs=None, finish_reason=stop, stop_reason=None),\n",
       " CompletionOutput(index=0, text='법률 제10조 L항의 적용 범위에서 제외되는 것은 지정 금융기관 및 특정 세제 혜택을 받는 법인에서 얻은 수익이다. 그러나 이러한 배제는 \"인센티브 사업\"의 일부 또는 부수적인 사항으로 외국 자산을 처분하는 경우에만 해당한다. 전자 세금 안내서는 처분 시점에 처분된 것이 인센티브 사업의 일부인지 여부를 결정해야 한다고 명확히 밝히고 있다. 실제로는 이 때문에 (최소) 두 가지 문제가 발생할 수 있다. \\n첫째, 외국 자산으로부터 발생하는 소득(처분 시에 발생하는 이익까지 확장하여)이 인센티브 사업에 부수적인 것인지 여부는 때때로 납세자와 국세청 간 쟁점 사항이 될 수 있다. 만약 싱가포르에서 수익을 수령할 때까지 처분 시점과 시간이 많이 지체된다면, 국세청이 세금을 부과한 입장을 반박할 때 증빙서류를 찾기 어려울 수 있기 때문에 문제가 더 악화될 수 있다. 이를 해결하기 위해 외국 자산 처분을 고려 중인 기업은 외국 자산 처분 시 발생하는 모든 이익과 그로부터 발생하는 모든 소득이 인센티브에 포함된다는 점을 국세청으로부터 사전 확신을 얻는 것을 고려할 수 있다.', token_ids=[76972, 77293, 64028, 78, 77, 76845, 750, 77123, 63223, 65383, 64455, 70471, 66433, 64308, 64862, 66574, 65034, 65054, 64352, 67782, 74994, 69313, 66070, 68355, 64008, 72731, 66553, 64040, 98, 65656, 69232, 64094, 67807, 1529, 76815, 76288, 64432, 59592, 63223, 65083, 65530, 64036, 63560, 64199, 68513, 64003, 65171, 67443, 63076, 73005, 64018, 64730, 66798, 65202, 64075, 98, 68213, 64510, 67275, 65539, 73005, 64022, 68007, 73005, 76937, 64662, 64024, 76288, 75519, 65083, 64608, 70158, 65136, 64211, 65757, 69942, 76940, 76111, 64061, 98, 67663, 62874, 55571, 64669, 662, 76955, 76857, 59604, 64198, 66920, 65488, 72805, 64013, 64061, 98, 59568, 144, 77276, 77243, 97, 65171, 67443, 68815, 71877, 67152, 59605, 70131, 64022, 63022, 71877, 66573, 64083, 68579, 64928, 59604, 62419, 64024, 76288, 71462, 64036, 63560, 64199, 71913, 64060, 64966, 64163, 76943, 63169, 66235, 76846, 66524, 76612, 76951, 64286, 68801, 77009, 68513, 62419, 64474, 64013, 64061, 98, 68066, 75510, 64008, 76721, 72131, 76872, 70407, 73005, 71974, 76840, 66857, 64184, 64004, 76925, 76259, 97, 76612, 70370, 68944, 69195, 63622, 67650, 69114, 76872, 64163, 64284, 77532, 63559, 70080, 75760, 72072, 64013, 68483, 64669, 65488, 64067, 71089, 77122, 64013, 64061, 98, 65275, 65192, 64237, 64244, 65171, 67443, 64196, 67025, 65685, 65989, 73387, 65171, 67443, 73005, 64022, 71877, 64543, 66573, 76840, 64002, 66722, 71877, 64543, 67152, 62419, 64024, 76288, 63022, 65033, 69125, 68039, 76612, 76951, 68815, 66550, 64115, 68437, 65375, 62874, 64942, 65685, 76872, 64013, 64061, 98, 2], cumulative_logprob=-20.292936282408746, logprobs=None, finish_reason=stop, stop_reason=None)]"
      ]
     },
     "execution_count": 73,
     "metadata": {},
     "output_type": "execute_result"
    }
   ],
   "source": [
    "result[0].outputs"
   ]
  },
  {
   "cell_type": "code",
   "execution_count": 74,
   "id": "d7d73688-7dfd-4a64-a483-53c60759adbf",
   "metadata": {},
   "outputs": [
    {
     "name": "stdout",
     "output_type": "stream",
     "text": [
      "법률 제10조 L항의 적용 범위에서 제외되는 것은 지정 금융기관 및 특정 세제 혜택을 누리는 법인이 얻는 수익이다. 그러나 이러한 배제 규정은 \"인센티브를 받은 사업\"의 일부 또는 부수적인 것으로서 외국 자산의 처분이 이루어지는 한도에서만 적용된다. 전자 세금 안내서는 처분 시점에 해당 처분이 인센티브를 받은 사업의 일부인지 여부를 결정해야 한다고 명확히 밝히고 있다. 실제로 이는 (최소한) 두 가지 문제를 야기할 수 있다. \n",
      "첫째, 외국 자산으로부터 발생하는 소득(처분 시에 발생하는 이익 포함)이 인센티브를 받은 사업에 부수적인 것인지 여부는 때때로 납세자와 국세청 간 쟁점 사항이 될 수 있다. 만약 싱가포르에서 이익을 수령하는 시점과 처분 시점 사이에 상당한 시간이 경과한다면 문제가 더욱 악화될 수 있는데, 이 경우 국세청이 세무 상황을 문제 삼을 때 증빙 서류를 찾기 어려울 수 있기 때문이다. 이를 해결하기 위해 외국 자산을 처분하려는 기업은 처분 시점에서 발생하는 모든 이익과 그로부터 발생하는 모든 소득이 인센티브에 포함된다는 점을 국세청으로부터 사전 확신을 얻을 수 있도록 고려할 수 있다.\n"
     ]
    }
   ],
   "source": [
    "print(result[0].outputs[0].text)"
   ]
  },
  {
   "cell_type": "code",
   "execution_count": 75,
   "id": "26be2859-0dc6-4f15-b6f3-705ceb88b0c1",
   "metadata": {},
   "outputs": [
    {
     "name": "stdout",
     "output_type": "stream",
     "text": [
      "법률 제10조 L항의 적용 범위에서 제외되는 금융기관 및 특정 세제 혜택을 받는 법인은 수익이 발생하지 않습니다. 그러나 이러한 배제는 \"인센티브를 받은 사업\"의 일부 또는 부수적인 사항으로 외국 자산을 처분하는 경우에만 해당됩니다. 전자 세금 안내서는 처분 시점에서 처분된 것이 인센티브를 받은 사업의 일부인지 여부를 결정해야 한다고 명확히 밝히고 있습니다. 실제로는 이 때문에 (최소한) 두 가지 문제가 발생할 수 있습니다. \n",
      "첫째, 외국 자산으로부터 발생하는 소득(처분 이익 포함)이 인센티브를 받은 사업에 부수적인 것인지 여부가 때로는 납세자와 국세청 간에 쟁점이 되는 경우가 있습니다. 만약 처분 시점과 싱가포르에서 이익을 수령한 시점 사이에 상당한 시간 차이가 있다면, 국세청이 세무 처분을 문제 삼을 때 지원 서류를 찾기 어려울 수 있으므로 문제가 악화될 수 있습니다. 이를 해결하기 위해 외국 자산을 매각하려는 기업은 국세청으로부터 사전 확신을 얻어 그 외국 자산의 처분 이익 및 이에 따른 모든 소득이 인센티브에 포함된다는 것을 동의할 수 있습니다.\n"
     ]
    }
   ],
   "source": [
    "print(result[1].outputs[0].text)"
   ]
  },
  {
   "cell_type": "code",
   "execution_count": 67,
   "id": "570859b6-61fb-4d32-953b-5115c8f059b5",
   "metadata": {},
   "outputs": [
    {
     "name": "stdout",
     "output_type": "stream",
     "text": [
      "법 제10\n"
     ]
    }
   ],
   "source": [
    "print(result[2].outputs[0].text)"
   ]
  },
  {
   "cell_type": "code",
   "execution_count": 10,
   "id": "34466786-f74f-4cf7-8352-201292bd19df",
   "metadata": {},
   "outputs": [],
   "source": [
    "class LLMTranslator():\n",
    "    def __init__(self,\n",
    "                translation_template_w_glossary:str,\n",
    "                translation_template_wo_glossary:str,\n",
    "                glossary_template:str,\n",
    "                sentence_template:str,\n",
    "                response_template:str,\n",
    "                system_prompt:str=None,\n",
    "                chat_template:str=None,\n",
    "                llm_host:Optional[str]=None, \n",
    "                llm_port:Optional[str]=None, \n",
    "                llm_path:Optional[str]=None,\n",
    "                api_mode:Literal[\"offline\",\"online\"]=\"offline\",\n",
    "                **vllm_kwargs,\n",
    "                ):\n",
    "\n",
    "        self.llm_host=llm_host\n",
    "        self.llm_port=llm_port\n",
    "        self.llm_path=llm_path\n",
    "        self.api_url=f\"http://{self.llm_host}:{self.llm_port}/v1\"\n",
    "        self.api_mode=api_mode\n",
    "        self.translation_template_w_glossary=translation_template_w_glossary\n",
    "        self.translation_template_wo_glossary=translation_template_wo_glossary\n",
    "        self.glossary_template=glossary_template\n",
    "        self.sentence_template=sentence_template\n",
    "        self.response_template=response_template\n",
    "        self.system_prompt=system_prompt\n",
    "        self.lang_dict={\"ko\":\"Korean\",\"korean\":\"Korean\",\"kor\":\"Korean\",\"en\":\"English\",\"english\":\"English\",\"eng\":\"English\"}\n",
    "\n",
    "\n",
    "        if api_mode==\"online\":\n",
    "            self.client=OpenAI(api_key = \"EMPTY\",base_url=self.api_url)\n",
    "            self.tokenizer=AutoTokenizer.from_pretrained(self.llm_path,local_files_only=True)\n",
    "        elif api_mode==\"offline\":\n",
    "            self.model=LLM(self.llm_path,**vllm_kwargs)\n",
    "            self.tokenizer=self.model.get_tokenizer()\n",
    "\n",
    "        if chat_template is not None:\n",
    "            self.tokenizer.chat_template=chat_template\n",
    "        \n",
    "\n",
    "    def formatting_prompt(self,src_lang:str,tgt_lang:str, src_text:str, term_dict):\n",
    "        \n",
    "        def formatting_glossary(term_dict,glossary_template):\n",
    "\n",
    "            if len(term_dict):\n",
    "                glossary = [f\"{k}={v}\" for k, v in term_dict.items()]\n",
    "                glossary_str = \"\\n\".join(glossary)\n",
    "                glossary_str = f\"{glossary_template}\\n{glossary_str}\".strip()\n",
    "\n",
    "                return glossary_str\n",
    "            return \"\"\n",
    "\n",
    "        glossary_str = formatting_glossary(term_dict, self.glossary_template)\n",
    "\n",
    "        if len(glossary_str):\n",
    "            formatted_text = f\"{glossary_str}\\n{self.sentence_template}\\n{src_text}\"\n",
    "            return self.translation_template_w_glossary.format(src_lang, tgt_lang, formatted_text)\n",
    "        else:\n",
    "            formatted_text = f\"{self.sentence_template}\\n{src_text}\"\n",
    "            return self.translation_template_wo_glossary.format(src_lang, tgt_lang, formatted_text)\n",
    "\n",
    "    def select_by_length(self,input_texts: list[str], generation_results: list[list]) -> list[str]:\n",
    "        '''\n",
    "        Filters the results to find the output whose length is closest\n",
    "        to that of the input text.\n",
    "    \n",
    "        param input_text: The original text input by the user.\n",
    "        param generation_results: The results generated by the LLM.\n",
    "        return: A list of outputs, one for each batch, that are closest in length to the input text.\n",
    "        '''\n",
    "        final_outputs = []\n",
    "    \n",
    "        # Iterate through each batch of generation results.\n",
    "        for text, batch in zip(input_texts, generation_results):\n",
    "            if type(batch)==RequestOutput:\n",
    "                # in case of offline inference\n",
    "                batch=batch.outputs\n",
    "            input_length = len(text)\n",
    "            closest_output = min(batch, key=lambda output: abs(\n",
    "                len(output.text.strip()) - input_length))\n",
    "            final_outputs.append(closest_output.text.strip())\n",
    "    \n",
    "        return final_outputs\n",
    "\n",
    "    def get_batch_response(self, response, n: int = 1) -> list[list[str]]:\n",
    "        # data=json.loads(response.content)\n",
    "        choices = response.choices\n",
    "        return [choices[i:i + n] for i in range(0, len(choices), n)]\n",
    "\n",
    "    def request_api(self, original_text, prompt, sampling_params=None):\n",
    "\n",
    "        request_payload = {\n",
    "            \"model\": self.llm_path,\n",
    "            \"prompt\": prompt,\n",
    "        }\n",
    "\n",
    "        if sampling_params is not None:\n",
    "            request_payload.update(sampling_params)\n",
    "\n",
    "        generation_result = self.client.completions.create(**request_payload)\n",
    "        generation_result = self.get_batch_response(\n",
    "            generation_result, n=request_payload[\"n\"])\n",
    "\n",
    "        if type(original_text) == str:\n",
    "            original_text = [original_text]\n",
    "        selected_results = self.select_by_length(\n",
    "            original_text, generation_result)\n",
    "\n",
    "        return generation_result, selected_results\n",
    "\n",
    "    def request_offline_inference(self,\n",
    "                                original_text=Union[str,list[str]],\n",
    "                                prompt=Union[str,list[str]], \n",
    "                                sampling_params=Optional[Union[SamplingParams,list[SamplingParams]]]):\n",
    "        \n",
    "        generation_result=self.model.generate(prompt,sampling_params)\n",
    "        selected_results=self.select_by_length(original_text,generation_result)\n",
    "        \n",
    "        return generation_result,selected_results\n",
    "        \n",
    "\n",
    "    def translate(self, src_lang:str, text:list[str], term_dicts:list[dict],sampling_params={\n",
    "                                                \"n\": 1,\n",
    "                                                \"best_of\":1,\n",
    "                                                \"temperature\": 0.1,\n",
    "                                                \"max_tokens\":2048,\n",
    "                                                \"repetition_penalty\":1.07,\n",
    "                                                \"stop\":[\"\\n\\n\\n\\n\\n\",\"###\",\"### Translation\",\"### Source\",\"### Glossary\",\"### Target\"]}):\n",
    "        src_lang = self.lang_dict[src_lang]\n",
    "        tgt_lang = \"English\" if src_lang == \"Korean\" else \"Korean\"\n",
    "        prompts=[]\n",
    "        request_token_len=[]\n",
    "\n",
    "        for src_text,term_dict in zip(text,term_dicts):\n",
    "            \n",
    "            request_token_len.append(int(len(src_text)*0.8)+10)\n",
    "            formatted_text=self.formatting_prompt(src_lang,tgt_lang,src_text,term_dict)\n",
    "        \n",
    "            messages=[{\"role\": \"user\", \"content\": formatted_text}]\n",
    "            if self.system_prompt is not None and len(self.system_prompt):\n",
    "                messages.insert(0,{\"role\": \"system\", \"content\": self.system_prompt})\n",
    "            template=self.tokenizer.apply_chat_template(\n",
    "                                            messages,\n",
    "                                            tokenize=False,\n",
    "                                            add_generation_prompt=True,\n",
    "                                            )+self.response_template\n",
    "\n",
    "\n",
    "            prompts.append(template)\n",
    "\n",
    "        print(\"check : \",prompts[0])\n",
    "\n",
    "        if self.api_mode==\"online\":\n",
    "            return self.request_api(text,prompts,sampling_params)\n",
    "        elif self.api_mode==\"offline\":\n",
    "            sampling_params_list=[]\n",
    "            for t in request_token_len:\n",
    "                new_sampling_params=dict(sampling_params)\n",
    "                new_sampling_params[\"max_tokens\"]=t\n",
    "                sampling_params_list.append(SamplingParams(**new_sampling_params))\n",
    "                        \n",
    "            return self.request_offline_inference(text,prompts,sampling_params_list)"
   ]
  },
  {
   "cell_type": "code",
   "execution_count": 11,
   "id": "2fa78bde-5fec-4b3f-bae8-60b3f7bc5eaf",
   "metadata": {},
   "outputs": [
    {
     "name": "stdout",
     "output_type": "stream",
     "text": [
      "INFO 05-30 14:54:24 llm_engine.py:100] Initializing an LLM engine (v0.4.2) with config: model='/nvme0/models/yi-ko-34b-stage2-sharegpt8k-even-data1.1k', speculative_config=None, tokenizer='/nvme0/models/yi-ko-34b-stage2-sharegpt8k-even-data1.1k', skip_tokenizer_init=False, tokenizer_mode=auto, revision=None, tokenizer_revision=None, trust_remote_code=False, dtype=torch.bfloat16, max_seq_len=2048, download_dir=None, load_format=LoadFormat.AUTO, tensor_parallel_size=1, disable_custom_all_reduce=False, quantization=None, enforce_eager=False, kv_cache_dtype=auto, quantization_param_path=None, device_config=cuda, decoding_config=DecodingConfig(guided_decoding_backend='outlines'), seed=0, served_model_name=/nvme0/models/yi-ko-34b-stage2-sharegpt8k-even-data1.1k)\n"
     ]
    },
    {
     "name": "stderr",
     "output_type": "stream",
     "text": [
      "Special tokens have been added in the vocabulary, make sure the associated word embeddings are fine-tuned or trained.\n"
     ]
    },
    {
     "name": "stdout",
     "output_type": "stream",
     "text": [
      "INFO 05-30 14:54:24 utils.py:660] Found nccl from library /root/.config/vllm/nccl/cu12/libnccl.so.2.18.1\n",
      "INFO 05-30 14:54:24 selector.py:27] Using FlashAttention-2 backend.\n",
      "INFO 05-30 14:54:31 model_runner.py:175] Loading model weights took 64.4411 GB\n",
      "INFO 05-30 14:54:32 gpu_executor.py:114] # GPU blocks: 1604, # CPU blocks: 1092\n",
      "INFO 05-30 14:54:34 model_runner.py:937] Capturing the model for CUDA graphs. This may lead to unexpected consequences if the model is not static. To run the model in eager mode, set 'enforce_eager=True' or use '--enforce-eager' in the CLI.\n",
      "INFO 05-30 14:54:34 model_runner.py:941] CUDA graphs can take additional 1~3 GiB memory per GPU. If you are running out of memory, consider decreasing `gpu_memory_utilization` or enforcing eager mode. You can also reduce the `max_num_seqs` as needed to decrease memory usage.\n",
      "INFO 05-30 14:54:37 model_runner.py:1017] Graph capturing finished in 3 secs.\n"
     ]
    }
   ],
   "source": [
    "llm=LLMTranslator(llm_path='/nvme0/models/yi-ko-34b-stage2-sharegpt8k-even-data1.1k',\n",
    "                  translation_template_wo_glossary=TranslationTemplate.translation_template_wo_glossary,\n",
    "                  translation_template_w_glossary=TranslationTemplate.translation_template_w_glossary,\n",
    "                  sentence_template=TranslationTemplate.sentence_template,\n",
    "                  glossary_template=TranslationTemplate.glossary_template,\n",
    "                  system_prompt=TranslationTemplate.system_prompt,\n",
    "                  response_template=TranslationTemplate.response_template,\n",
    "                  dtype=\"bfloat16\",\n",
    "                  max_num_seqs=128,\n",
    "                 )"
   ]
  },
  {
   "cell_type": "code",
   "execution_count": 20,
   "id": "e4872786-126c-4944-80e0-b841c1461e1d",
   "metadata": {},
   "outputs": [
    {
     "name": "stdout",
     "output_type": "stream",
     "text": [
      "check :  You are a professional translator.\n",
      "Translate the following Korean source text into English.\n",
      "### Source:\n",
      "연결 부당행위 계산부인이 적용되기 위해서는 연결 전후 연결대상법인들의 과세표준에 차이가 있어야 합니다.\n",
      "### Target:\n"
     ]
    },
    {
     "name": "stderr",
     "output_type": "stream",
     "text": [
      "Processed prompts: 100%|███████████████████████████████████████████████| 3/3 [00:01<00:00,  1.87it/s]\n"
     ]
    }
   ],
   "source": [
    "result=llm.translate(src_lang=\"ko\",text=['''연결 부당행위 계산부인이 적용되기 위해서는 연결 전후 연결대상법인들의 과세표준에 차이가 있어야 합니다.''']*3,term_dicts=[{}]*3)"
   ]
  },
  {
   "cell_type": "code",
   "execution_count": 21,
   "id": "db7713b6-c11a-4011-bfa1-80db55ff4767",
   "metadata": {},
   "outputs": [
    {
     "data": {
      "text/plain": [
       "['In order for the connected party transaction adjustment to apply, there must be a difference in the tax base of the connected parties before and after the connection.',\n",
       " 'In order for the connected party transaction adjustment to apply, there must be a difference in the tax base of the connected parties before and after the connection.',\n",
       " 'In order for the connected party transaction adjustment to apply, there must be a difference in the taxable income of the connected parties before and after the connection.']"
      ]
     },
     "execution_count": 21,
     "metadata": {},
     "output_type": "execute_result"
    }
   ],
   "source": [
    "result[1]"
   ]
  },
  {
   "cell_type": "code",
   "execution_count": 49,
   "id": "9bf352c6-39e1-451a-bb55-ccc00e6123ca",
   "metadata": {},
   "outputs": [],
   "source": [
    "sampling_params={\n",
    "                                                \"n\": 1,\n",
    "                                                \"best_of\":1,\n",
    "                                                \"temperature\": 0.1,\n",
    "                                                \"max_tokens\":2048,\n",
    "                                                \"repetition_penalty\":1.07,\n",
    "                                                \"stop\":[\"\\n\\n\\n\\n\\n\",\"###\",\"### Translation:\",\"## Source:\",\"### Glossary:\"]}"
   ]
  },
  {
   "cell_type": "code",
   "execution_count": 13,
   "id": "0a1a6bf3-e71a-49e6-9ca9-66b792c688c1",
   "metadata": {},
   "outputs": [],
   "source": [
    "sampling_params[\"max_tokens\"]=4"
   ]
  },
  {
   "cell_type": "code",
   "execution_count": 50,
   "id": "ab1cc7c3-286e-4a7c-8ab9-4c4b4496d10c",
   "metadata": {},
   "outputs": [],
   "source": [
    "sampling_params.update({\"max_tokens\":16})"
   ]
  },
  {
   "cell_type": "code",
   "execution_count": 51,
   "id": "3857d7c4-fc2b-423a-a1f7-147cddbb4a05",
   "metadata": {},
   "outputs": [
    {
     "data": {
      "text/plain": [
       "{'n': 1,\n",
       " 'best_of': 1,\n",
       " 'temperature': 0.1,\n",
       " 'max_tokens': 16,\n",
       " 'repetition_penalty': 1.07,\n",
       " 'stop': ['\\n\\n\\n\\n\\n',\n",
       "  '###',\n",
       "  '### Translation:',\n",
       "  '## Source:',\n",
       "  '### Glossary:']}"
      ]
     },
     "execution_count": 51,
     "metadata": {},
     "output_type": "execute_result"
    }
   ],
   "source": [
    "sampling_params"
   ]
  },
  {
   "cell_type": "code",
   "execution_count": 15,
   "id": "730d21ba-a74a-4d5c-83c1-d28da98da044",
   "metadata": {},
   "outputs": [],
   "source": [
    "from random import shuffle"
   ]
  },
  {
   "cell_type": "code",
   "execution_count": 16,
   "id": "51acd6c5-a78d-47ed-bb9d-467b6dee60e1",
   "metadata": {},
   "outputs": [],
   "source": [
    "a=[1,2,3,4]"
   ]
  },
  {
   "cell_type": "code",
   "execution_count": 17,
   "id": "408247cf-d5fe-4345-a99e-f087b31afe1f",
   "metadata": {},
   "outputs": [],
   "source": [
    "shuffle(a)"
   ]
  },
  {
   "cell_type": "code",
   "execution_count": 18,
   "id": "8bd441df-1f46-4669-96d7-1eea6cb41b86",
   "metadata": {},
   "outputs": [
    {
     "data": {
      "text/plain": [
       "[1, 3, 4, 2]"
      ]
     },
     "execution_count": 18,
     "metadata": {},
     "output_type": "execute_result"
    }
   ],
   "source": [
    "a"
   ]
  },
  {
   "cell_type": "code",
   "execution_count": null,
   "id": "d269159a-d6b3-4cfb-8479-3b92e5a511f4",
   "metadata": {},
   "outputs": [],
   "source": []
  }
 ],
 "metadata": {
  "kernelspec": {
   "display_name": "Python 3 (ipykernel)",
   "language": "python",
   "name": "python3"
  },
  "language_info": {
   "codemirror_mode": {
    "name": "ipython",
    "version": 3
   },
   "file_extension": ".py",
   "mimetype": "text/x-python",
   "name": "python",
   "nbconvert_exporter": "python",
   "pygments_lexer": "ipython3",
   "version": "3.11.8"
  }
 },
 "nbformat": 4,
 "nbformat_minor": 5
}
