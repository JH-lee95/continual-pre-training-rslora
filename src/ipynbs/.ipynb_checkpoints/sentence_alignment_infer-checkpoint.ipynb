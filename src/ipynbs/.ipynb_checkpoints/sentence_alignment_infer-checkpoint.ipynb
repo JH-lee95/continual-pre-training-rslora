{
 "cells": [
  {
   "cell_type": "code",
   "execution_count": 6,
   "id": "b565a716-9ce6-4133-8009-76660bfb8300",
   "metadata": {},
   "outputs": [],
   "source": [
    "import pandas as pd\n",
    "import numpy as np\n",
    "import datasets\n",
    "from datasets import load_dataset,DatasetDict\n",
    "\n",
    "import torch\n",
    "from torch.utils.data import Dataset\n",
    "\n",
    "from transformers import AutoTokenizer,AutoModelForQuestionAnswering,TrainingArguments, Trainer,default_data_collator\n",
    "\n",
    "from typing import Union"
   ]
  },
  {
   "cell_type": "code",
   "execution_count": 7,
   "id": "c2dc2347-8c36-43d1-a527-2acb4108c7b0",
   "metadata": {},
   "outputs": [],
   "source": [
    "dataset=DatasetDict.load_from_disk(\"/azurestorage/data/sentence_aligmnet_dataset_filtered/\")\n",
    "train_dataset=dataset[\"train\"]\n",
    "eval_dataset=dataset[\"test\"]"
   ]
  },
  {
   "cell_type": "code",
   "execution_count": 8,
   "id": "d192a4bd-dbe9-4494-bb9a-566803b54f4e",
   "metadata": {},
   "outputs": [],
   "source": [
    "train_df=train_dataset.to_pandas()\n",
    "train_df_under_30=train_df[train_df[\"selected_span\"].str.len()<30].sample(frac=1).iloc[:100000]\n",
    "train_df_over_30=train_df[train_df[\"selected_span\"].str.len()>=30]\n",
    "\n",
    "new_train_dataset=datasets.Dataset.from_pandas(pd.concat([train_df_under_30,train_df_over_30]).sample(frac=1).reset_index(drop=True))"
   ]
  },
  {
   "cell_type": "code",
   "execution_count": 9,
   "id": "04c42e13-4e9a-4a90-8500-f8767fbe0593",
   "metadata": {},
   "outputs": [],
   "source": [
    "eval_df=eval_dataset.to_pandas()\n",
    "eval_df_under_30=eval_df[eval_df[\"selected_span\"].str.len()<30].sample(frac=1).iloc[:10000]\n",
    "eval_df_over_30=eval_df[eval_df[\"selected_span\"].str.len()>=30]\n",
    "\n",
    "new_eval_dataset=datasets.Dataset.from_pandas(pd.concat([eval_df_under_30,eval_df_over_30]).sample(frac=1).reset_index(drop=True))"
   ]
  },
  {
   "cell_type": "code",
   "execution_count": 10,
   "id": "72936ade-f2ea-4059-a136-1803752bdcee",
   "metadata": {},
   "outputs": [],
   "source": [
    "# model=AutoModelForQuestionAnswering.from_pretrained(\"BAAI/bge-m3\")\n",
    "\n",
    "model=AutoModelForQuestionAnswering.from_pretrained(\"/azurestorage/models/trained/st_alignment/checkpoint-2000\")\n",
    "tokenizer=AutoTokenizer.from_pretrained(\"BAAI/bge-m3\")"
   ]
  },
  {
   "cell_type": "code",
   "execution_count": 11,
   "id": "956b4acf-b36e-46fc-be95-9c7892c2bd10",
   "metadata": {},
   "outputs": [],
   "source": [
    "class SentenceAlignmentDataset(Dataset):\n",
    "  def __init__(self,dataset:Union[datasets.arrow_dataset.Dataset,list[dict]],tokenizer,max_length):\n",
    "    self.dataset=dataset\n",
    "    self.tokenizer=tokenizer\n",
    "    self.max_length=max_length\n",
    "\n",
    "  def create_span_extraction_data(self,data,tokenizer,max_length:int):\n",
    "\n",
    "    input_text=tokenizer.cls_token+\" \"+f\"{tokenizer.sep_token} \".join([data['src_text'],data[\"context\"],data[\"selected_span\"]])+tokenizer.sep_token\n",
    "    inputs = tokenizer(input_text, return_offsets_mapping=True,add_special_tokens=False,return_tensors=\"pt\",max_length=max_length,padding=\"max_length\",truncation=True)\n",
    "    offset_mapping = inputs['offset_mapping'][0]\n",
    "\n",
    "    # Get character offsets of the answer span\n",
    "    start_char = input_text.find(data['answer_span'])\n",
    "    end_char = start_char + len(data['answer_span'])\n",
    "\n",
    "    # Find the subword tokens corresponding to the character span\n",
    "    start_index = 1\n",
    "    end_index = 1\n",
    "    while start_index < len(offset_mapping) and offset_mapping[start_index][0] < start_char-1:\n",
    "        start_index += 1\n",
    "\n",
    "    while end_index < len(offset_mapping) and offset_mapping[end_index][1] <= end_char:\n",
    "        end_index += 1\n",
    "\n",
    "    del inputs['offset_mapping']\n",
    "\n",
    "    inputs[\"input_ids\"]=inputs[\"input_ids\"].squeeze(0)\n",
    "    inputs[\"attention_mask\"]=inputs[\"attention_mask\"].squeeze(0)\n",
    "    inputs[\"start_positions\"]=torch.tensor(start_index)\n",
    "    inputs[\"end_positions\"]=torch.tensor(end_index)\n",
    "\n",
    "    return inputs\n",
    "\n",
    "  def __len__(self):\n",
    "    return len(self.dataset)\n",
    "\n",
    "  def __getitem__(self,idx):\n",
    "\n",
    "    return self.create_span_extraction_data(self.dataset[idx],tokenizer=tokenizer,max_length=self.max_length)\n",
    "\n"
   ]
  },
  {
   "cell_type": "code",
   "execution_count": 12,
   "id": "b0f4723b-200e-4d9c-83f1-61e4f8215d84",
   "metadata": {},
   "outputs": [],
   "source": [
    "train_ds=SentenceAlignmentDataset(new_train_dataset,tokenizer,max_length=2048)\n",
    "eval_ds=SentenceAlignmentDataset(new_eval_dataset,tokenizer,max_length=2048)"
   ]
  },
  {
   "cell_type": "code",
   "execution_count": 13,
   "id": "6e2b3b61-8df7-486d-a360-3df25ed4606c",
   "metadata": {},
   "outputs": [
    {
     "name": "stdout",
     "output_type": "stream",
     "text": [
      "src_text :  토르멘토시아의 세계태초부터 토르멘토시아의 왕국들과토르멘토시아의 사람들은 부, 영토 또는 단순히 권력을 위해부, 영토, 또는 단순히 권력을 위해 싸웠습니다. 분쟁과전쟁은 너무나 광범위하고 빈번하게 일어났기 때문에\"영원한 전쟁\"이라고 말할 수 있지만, 모든 것이25년 전, 새로운 위협이 등장하면서새로운 위협이 등장했습니다. 모든 것을 쓸어버릴 수 있을 정도로 위험한 위협이모든 것을 쓸어버릴 수 있을 정도로 위험한 위협이었죠.남쪽 하늘이 어두워지자 달이 지구에 떨어졌습니다.달이 떨어졌습니다. 충돌로 인해 생긴 불길에서나중에 \"세계의 삼키는 자 소르고스\"라고 불리게 된소르고스\"로 불리게 됩니다. 달과 함께 등장한 고트킨은반쯤 소화된 생명체로 이루어진 군대가고트킨이 등장했습니다. 그 존재와 그 군대는 현존하는 36개의 현실 세계 중36개의 기존 왕국 중 대부분을 멸망시켰고, 나머지 왕국들은서서히 지는 전투를 벌였습니다.6개 왕국만 남았고, 이 왕국들은 공통의 목표에 집중하기 위해공동의 적에 집중하고 남은 세계를 보호하기 위해휴전에 합의했습니다. 그들은 코어국가를 건설하고 남은 영토의 중심에 위치한코어하임 도시를 건설했습니다. 이 도시는다른 모든 왕국의 중심지가 되었고한때 살았지만 지금은 파괴된 세계의피난처를 제공했습니다. 또 다른 이유도 있었습니다:바로 울트라코어의 건설이었습니다. 쉴드 펄스보호막을 생성할 수 있는 발전기로보호막을 만들 수 있는 쉴드 펄스 발생기로보호 에너지 벽을 만들 수 있습니다. 노스아크가노스메리안들이 다른 왕국들을 물리치고 승리하기 위해다른 왕국을 물리치고 영원한 전쟁에서 승리하기 위해영원한 전쟁에서 승리하기 위해. 그러나 그들은 결코완성하지 못했는데, 그 이유는 필수 구성 요소와 작업이단계가 여전히 누락되어 있었기 때문입니다. 다른 왕국의 도움으로다른 왕국의 도움으로 이 단계들을 마침내 완수할 수 있었습니다.따라서 모든 국가는 울트라코어의 완성을 위해울트라코어의 완성을 위해 각자의 역할을 다하고 있습니다.울트라코어의 완성을 위해 노력하고 있습니다.태초부터 토르멘토시아의 왕국과 사람들은토르멘토 시아의 사람들은 부, 영토 또는부, 영토, 또는 단순히 권력을 위해 싸워왔습니다. 분쟁과전쟁은 너무나 광범위하고 빈번하게 일어났기 때문에\"영원한 전쟁\"이라고 말할 수 있지만, 모든 것이25년 전, 새로운 위협이 등장하면서새로운 위협이 등장했습니다. 전멸할 수 있을 만큼 위험한 위협남쪽 하늘이 어두워지자 달이 지구에 떨어졌습니다.달이 떨어졌습니다. 충돌로 인해 생성된 화염 속에서나중에 \"세계의 삼키는 자 소르고스\"라고 불리게 된세계의 삼키는 자\"로 불리게 됩니다. 달과 함께 등장한 고트킨은반쯤 소화된 생명체로 이루어진 군대가고트킨이 등장했습니다. 그 존재와 그 군대는 현존하는 36개의 현실 세계 중대부분의 왕국을 멸망시켰고, 나머지는여섯 개의 왕국만이 남았고, 이 왕국들은공동의 적에 집중하고 남은 세계를 보호하기 위해휴전에 합의했습니다. 이들은 코어국가를 형성하고 남은 영토의 중심에 있는코어하임 도시를 건설했습니다. 이 도시는다른 모든 왕국의 중심지가 되었고한때 살았던 사람들의 피난처가 되었습니다.여섯 왕국과 그 종족토르멘토시아는 기발함과 경이로움의 세계입니다.수많은 존재와 종족, 진영이 존재합니다.전기가 존재하고, 멋진 메커니즘과에너지원을 사용할 수 있고 마나나 마법처럼마나 또는 마법처럼 취급됩니다. 전기는 증기 기관이나증기 기관, 화력 무기 또는 인디개별 커스터마이징이 가능한 장치. 다양한기술 유형은 특정 영역과 연결되어 있습니다,특정 종족만 사용할 수 있습니다. 다음 왕국과나머지 왕국과주요 거주민에 대해 설명합니다.이 세계의 다른 지역과 사람들에 대한 설명도 제공하길 바라나요?\n",
      "selected_span :  magic\n",
      "answer_span :  마법\n"
     ]
    }
   ],
   "source": [
    "idx=49\n",
    "sample=eval_ds.__getitem__(idx)\n",
    "print(\"src_text : \",new_eval_dataset[idx][\"src_text\"])\n",
    "print(\"selected_span : \",new_eval_dataset[idx][\"selected_span\"])\n",
    "print(\"answer_span : \",new_eval_dataset[idx][\"answer_span\"])"
   ]
  },
  {
   "cell_type": "code",
   "execution_count": 14,
   "id": "3c7f1b3e-e0c6-401e-9ac7-53a466d8b30f",
   "metadata": {},
   "outputs": [],
   "source": [
    "src_text='''기준서는 다음을 제외한 모든 리스(전대리스에서 사용권자산의 리스를 포함함)에 적용한다. \n",
    "\n",
    "⑴ 광물, 석유, 천연가스, 이와 비슷한 비재생 천연자원을 탐사하거나 사용하기 위한 리스 \n",
    "\n",
    "⑵ 리스이용자가 보유하는, 기업회계기준서 제1041호 '농림어업'의 적용범위에 포함되는 생물자산 리스 \n",
    "\n",
    "⑶ 기업회계기준해석서 제2112호 '민간투자사업'의 적용범위에 포함되는 민간투자사업 \n",
    "\n",
    "⑷ 리스제공자가 부여하는, 기업회계기준서 제1115호 '고객과의 계약에서 생기는 수익'의 적용범위에 포함되는 지적재산 라이선스 \n",
    "\n",
    "⑸ 기업회계기준서 제1038호 '무형자산'의 적용범위에 포함되는, 라이선싱 계약에 따라 영화필름, 비디오 녹화물, 희곡, 원고, 특허권, 저작권과 같은 항목에 대하여 리스이용자가 보유하는 권리'''\n",
    "\n",
    "context='''An entity shall apply this Standard to all leases, including leases of right-of-use assets in a sublease, except for:\n",
    "(a) leases to explore for or use minerals, oil, natural gas and similar nonregenerative resources;\n",
    "(b) leases of biological assets within the scope of IAS 41 Agriculture held by a lessee;\n",
    "(c) service concession arrangements within the scope of IFRIC 12 Service Concession Arrangements;\n",
    "(d) licences of intellectual property granted by a lessor within the scope of IFRS 15 Revenue from Contracts with Customers; and\n",
    "(e) rights held by a lessee under licensing agreements within the scope of IAS 38 Intangible Assets for such items as motion picture films, video recordings, plays, manuscripts, patents and copyrights.'''\n",
    "selected_span=\"An entity shall apply this Standard to all leases, including leases of right-of-use assets in a sublease, except for\""
   ]
  },
  {
   "cell_type": "code",
   "execution_count": 15,
   "id": "19fe58a9-7390-4620-b11c-15009a990f1b",
   "metadata": {},
   "outputs": [],
   "source": [
    "def make_input_text(src_text,context,selected_span):\n",
    "\n",
    "    input_text=tokenizer.cls_token+\" \"+f\"{tokenizer.sep_token} \".join([src_text,context,selected_span])+tokenizer.sep_token\n",
    "    inputs = tokenizer(input_text,add_special_tokens=False,return_tensors=\"pt\")\n",
    "\n",
    "    for k,v in inputs.items():\n",
    "        inputs[k]=v.squeeze(0)\n",
    "\n",
    "    return inputs"
   ]
  },
  {
   "cell_type": "code",
   "execution_count": 16,
   "id": "39eed981-4281-403a-9c7c-039cbcf82a21",
   "metadata": {},
   "outputs": [],
   "source": [
    "sample=make_input_text(src_text,context,selected_span)"
   ]
  },
  {
   "cell_type": "code",
   "execution_count": 17,
   "id": "db311d16-f801-437b-a08c-253f36abaf9d",
   "metadata": {},
   "outputs": [
    {
     "data": {
      "text/plain": [
       "\"<s> 기준서는 다음을 제외한 모든 리스(전대리스에서 사용권자산의 리스를 포함함)에 적용한다. (1) 광물, 석유, 천연가스, 이와 비슷한 비재생 천연자원을 탐사하거나 사용하기 위한 리스 (2) 리스이용자가 보유하는, 기업회계기준서 제1041호 '농림어업'의 적용범위에 포함되는 생물자산 리스 (3) 기업회계기준해석서 제2112호 '민간투자사업'의 적용범위에 포함되는 민간투자사업 (4) 리스제공자가 부여하는, 기업회계기준서 제1115호 '고객과의 계약에서 생기는 수익'의 적용범위에 포함되는 지적재산 라이선스 (5) 기업회계기준서 제1038호 '무형자산'의 적용범위에 포함되는, 라이선싱 계약에 따라 영화필름, 비디오 녹화물, 희곡, 원고, 특허권, 저작권과 같은 항목에 대하여 리스이용자가 보유하는 권리</s> An entity shall apply this Standard to all leases, including leases of right-of-use assets in a sublease, except for: (a) leases to explore for or use minerals, oil, natural gas and similar nonregenerative resources; (b) leases of biological assets within the scope of IAS 41 Agriculture held by a lessee; (c) service concession arrangements within the scope of IFRIC 12 Service Concession Arrangements; (d) licences of intellectual property granted by a lessor within the scope of IFRS 15 Revenue from Contracts with Customers; and (e) rights held by a lessee under licensing agreements within the scope of IAS 38 Intangible Assets for such items as motion picture films, video recordings, plays, manuscripts, patents and copyrights.</s> An entity shall apply this Standard to all leases, including leases of right-of-use assets in a sublease, except for</s>\""
      ]
     },
     "execution_count": 17,
     "metadata": {},
     "output_type": "execute_result"
    }
   ],
   "source": [
    "tokenizer.decode(sample[\"input_ids\"])"
   ]
  },
  {
   "cell_type": "code",
   "execution_count": 18,
   "id": "dd6454ea-3656-485d-953e-5f72c1e62b98",
   "metadata": {},
   "outputs": [
    {
     "name": "stdout",
     "output_type": "stream",
     "text": [
      "predicted_span :  다음을 제외한 모든 리스\n"
     ]
    }
   ],
   "source": [
    "\n",
    "with torch.no_grad():\n",
    "    # outputs = model(sample[\"input_ids\"].unsqueeze(0).to(\"cuda\"),sample[\"attention_mask\"].unsqueeze(0).to(\"cuda\"))\n",
    "    outputs = model(sample[\"input_ids\"].unsqueeze(0),sample[\"attention_mask\"].unsqueeze(0))\n",
    "\n",
    "answer_start_index = min(outputs.start_logits.argmax(),outputs.end_logits.argmax())\n",
    "answer_end_index = max(outputs.start_logits.argmax(),outputs.end_logits.argmax())\n",
    "print(\"predicted_span : \",tokenizer.decode(sample[\"input_ids\"][answer_start_index:answer_end_index]))"
   ]
  },
  {
   "cell_type": "code",
   "execution_count": 27,
   "id": "7a12627f-5b7c-4806-9b06-94930bc04a50",
   "metadata": {},
   "outputs": [
    {
     "name": "stdout",
     "output_type": "stream",
     "text": [
      "src_text :  서울시교육청은 2019학년도 국·공립 중고등학교 교사 임용후보자 선정경쟁시험 실시 결과 27개 과목 836명이 최종 합격했다고 8일 밝혔다.\n",
      "--------------------------------\n",
      "context :  According to the Seoul Metropolitan Office of Education on the 8th, 836 students in 27 subjects passed the final exam for selecting teachers for national and public middle schools and high schools in 2019.\n",
      "--------------------------------\n",
      "selected_span :  exam for selecting teachers for national and public middle schools and high schools\n",
      "--------------------------------\n",
      "answer_span :  국·공립 중고등학교 교사 임용후보자 선정경쟁시험\n"
     ]
    }
   ],
   "source": [
    "idx=1032\n",
    "sample=eval_ds.__getitem__(idx)\n",
    "print(\"src_text : \",new_eval_dataset[idx][\"src_text\"])\n",
    "print(\"--------------------------------\")\n",
    "print(\"context : \", new_eval_dataset[idx][\"context\"])\n",
    "print(\"--------------------------------\")\n",
    "print(\"selected_span : \",new_eval_dataset[idx][\"selected_span\"])\n",
    "print(\"--------------------------------\")\n",
    "print(\"answer_span : \",new_eval_dataset[idx][\"answer_span\"])"
   ]
  },
  {
   "cell_type": "code",
   "execution_count": 28,
   "id": "04b756a8-e30f-4f57-8fa5-0430638fd108",
   "metadata": {},
   "outputs": [
    {
     "name": "stdout",
     "output_type": "stream",
     "text": [
      "predicted_span :  2019학년도 국·공립 중고등학교 교사 임용후보자 선정경쟁시험\n"
     ]
    }
   ],
   "source": [
    "\n",
    "with torch.no_grad():\n",
    "    # outputs = model(sample[\"input_ids\"].unsqueeze(0).to(\"cuda\"),sample[\"attention_mask\"].unsqueeze(0).to(\"cuda\"))\n",
    "    outputs = model(sample[\"input_ids\"].unsqueeze(0),sample[\"attention_mask\"].unsqueeze(0))\n",
    "\n",
    "answer_start_index = min(outputs.start_logits.argmax(),outputs.end_logits.argmax())\n",
    "answer_end_index = max(outputs.start_logits.argmax(),outputs.end_logits.argmax())\n",
    "print(\"predicted_span : \",tokenizer.decode(sample[\"input_ids\"][answer_start_index:answer_end_index]))"
   ]
  }
 ],
 "metadata": {
  "kernelspec": {
   "display_name": "modeling-py3.11",
   "language": "python",
   "name": "modeling-py3.11"
  },
  "language_info": {
   "codemirror_mode": {
    "name": "ipython",
    "version": 3
   },
   "file_extension": ".py",
   "mimetype": "text/x-python",
   "name": "python",
   "nbconvert_exporter": "python",
   "pygments_lexer": "ipython3",
   "version": "3.11.8"
  }
 },
 "nbformat": 4,
 "nbformat_minor": 5
}
