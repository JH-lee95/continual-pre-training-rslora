{
 "cells": [
  {
   "cell_type": "code",
   "execution_count": 109,
   "id": "ba414ebe-67d8-4b74-b82a-e69b4fabbf97",
   "metadata": {},
   "outputs": [],
   "source": [
    "import pandas as pd\n",
    "import numpy as np\n",
    "import datasets\n",
    "from collections import Counter"
   ]
  },
  {
   "cell_type": "markdown",
   "id": "ccff3782-4a65-4216-bda7-664a62828d98",
   "metadata": {},
   "source": [
    "# New train dataset"
   ]
  },
  {
   "cell_type": "code",
   "execution_count": 30,
   "id": "64f21c11-7dd7-45d4-b557-5e844625e167",
   "metadata": {},
   "outputs": [],
   "source": [
    "train_dataset=datasets.Dataset.load_from_disk(\"/azurestorage/data/translation_data/alinged_dataset/prepared_for_training/training_dataset_20k/\")"
   ]
  },
  {
   "cell_type": "code",
   "execution_count": 85,
   "id": "5d6c5c76-709d-4c59-ac35-9021f645eb02",
   "metadata": {},
   "outputs": [],
   "source": [
    "train_df=train_dataset.to_pandas()"
   ]
  },
  {
   "cell_type": "code",
   "execution_count": 100,
   "id": "f032f752-f289-405e-874d-56a300b215e6",
   "metadata": {},
   "outputs": [],
   "source": [
    "train_df_under_100=train_df[train_df[\"korean\"].str.len()<100].sample(frac=0.35)\n",
    "train_df_over_100=train_df[train_df[\"korean\"].str.len()>=100]"
   ]
  },
  {
   "cell_type": "code",
   "execution_count": 104,
   "id": "acc8669c-aa49-4d95-8ea0-1a92de03c1a8",
   "metadata": {},
   "outputs": [
    {
     "data": {
      "text/html": [
       "<div>\n",
       "<style scoped>\n",
       "    .dataframe tbody tr th:only-of-type {\n",
       "        vertical-align: middle;\n",
       "    }\n",
       "\n",
       "    .dataframe tbody tr th {\n",
       "        vertical-align: top;\n",
       "    }\n",
       "\n",
       "    .dataframe thead th {\n",
       "        text-align: right;\n",
       "    }\n",
       "</style>\n",
       "<table border=\"1\" class=\"dataframe\">\n",
       "  <thead>\n",
       "    <tr style=\"text-align: right;\">\n",
       "      <th></th>\n",
       "      <th>english</th>\n",
       "      <th>korean</th>\n",
       "      <th>category</th>\n",
       "      <th>term_dict</th>\n",
       "      <th>id</th>\n",
       "      <th>src</th>\n",
       "      <th>tgt</th>\n",
       "      <th>length_group</th>\n",
       "    </tr>\n",
       "  </thead>\n",
       "  <tbody>\n",
       "    <tr>\n",
       "      <th>19010</th>\n",
       "      <td>Inigmaville with area for exclusive use of 244...</td>\n",
       "      <td>서울 강남구 청담동 이니그마빌 전용 244.77㎡도 2014년 10월 32억 원에 ...</td>\n",
       "      <td>경제</td>\n",
       "      <td>{'서울 강남구 청담동 이니그마빌': 'Inigmaville in Cheongdam...</td>\n",
       "      <td>618344.0</td>\n",
       "      <td>korean</td>\n",
       "      <td>english</td>\n",
       "      <td>2.0</td>\n",
       "    </tr>\n",
       "    <tr>\n",
       "      <th>1927</th>\n",
       "      <td>As Icarus does not itself contain a genetic ma...</td>\n",
       "      <td>Icarus 자체에는 유전자 표지자가 포함되어 있지 않기 때문에 snw 검사를 통해...</td>\n",
       "      <td>food</td>\n",
       "      <td></td>\n",
       "      <td>1336861.0</td>\n",
       "      <td>english</td>\n",
       "      <td>korean</td>\n",
       "      <td>NaN</td>\n",
       "    </tr>\n",
       "    <tr>\n",
       "      <th>6779</th>\n",
       "      <td>Therefore, the method of obtaining ETR can be ...</td>\n",
       "      <td>이에 ETR을 구하는 방법은 크게 GAAP ETR과 Cash ETR로 나눌 수 있으...</td>\n",
       "      <td>법률</td>\n",
       "      <td>{'ETR': 'ETR', 'GAAP ETR': 'GAAP ETR', 'Cash E...</td>\n",
       "      <td>1249742.0</td>\n",
       "      <td>english</td>\n",
       "      <td>korean</td>\n",
       "      <td>NaN</td>\n",
       "    </tr>\n",
       "    <tr>\n",
       "      <th>9508</th>\n",
       "      <td>Consequently, in this study, element decomposi...</td>\n",
       "      <td>이에 본 연구에서는 1997∼2008년과 2008∼2011년의 두 기간으로 구분하여...</td>\n",
       "      <td>경제</td>\n",
       "      <td></td>\n",
       "      <td>1265691.0</td>\n",
       "      <td>english</td>\n",
       "      <td>korean</td>\n",
       "      <td>NaN</td>\n",
       "    </tr>\n",
       "    <tr>\n",
       "      <th>15476</th>\n",
       "      <td>In France, when signing a legal document, it i...</td>\n",
       "      <td>프랑스에서는 통상적으로 법적 문서에 서명할 경우, 서명에 앞서 \"읽고 동의함\"(lu...</td>\n",
       "      <td>법률</td>\n",
       "      <td></td>\n",
       "      <td>1274058.0</td>\n",
       "      <td>english</td>\n",
       "      <td>korean</td>\n",
       "      <td>NaN</td>\n",
       "    </tr>\n",
       "  </tbody>\n",
       "</table>\n",
       "</div>"
      ],
      "text/plain": [
       "                                                 english  \\\n",
       "19010  Inigmaville with area for exclusive use of 244...   \n",
       "1927   As Icarus does not itself contain a genetic ma...   \n",
       "6779   Therefore, the method of obtaining ETR can be ...   \n",
       "9508   Consequently, in this study, element decomposi...   \n",
       "15476  In France, when signing a legal document, it i...   \n",
       "\n",
       "                                                  korean category  \\\n",
       "19010  서울 강남구 청담동 이니그마빌 전용 244.77㎡도 2014년 10월 32억 원에 ...       경제   \n",
       "1927   Icarus 자체에는 유전자 표지자가 포함되어 있지 않기 때문에 snw 검사를 통해...     food   \n",
       "6779   이에 ETR을 구하는 방법은 크게 GAAP ETR과 Cash ETR로 나눌 수 있으...       법률   \n",
       "9508   이에 본 연구에서는 1997∼2008년과 2008∼2011년의 두 기간으로 구분하여...       경제   \n",
       "15476  프랑스에서는 통상적으로 법적 문서에 서명할 경우, 서명에 앞서 \"읽고 동의함\"(lu...       법률   \n",
       "\n",
       "                                               term_dict         id      src  \\\n",
       "19010  {'서울 강남구 청담동 이니그마빌': 'Inigmaville in Cheongdam...   618344.0   korean   \n",
       "1927                                                      1336861.0  english   \n",
       "6779   {'ETR': 'ETR', 'GAAP ETR': 'GAAP ETR', 'Cash E...  1249742.0  english   \n",
       "9508                                                      1265691.0  english   \n",
       "15476                                                     1274058.0  english   \n",
       "\n",
       "           tgt  length_group  \n",
       "19010  english           2.0  \n",
       "1927    korean           NaN  \n",
       "6779    korean           NaN  \n",
       "9508    korean           NaN  \n",
       "15476   korean           NaN  "
      ]
     },
     "execution_count": 104,
     "metadata": {},
     "output_type": "execute_result"
    }
   ],
   "source": [
    "train_df_sample_10k=pd.concat([train_df_under_100,train_df_over_100]).sample(frac=1)\n",
    "train_df_sample_10k.head(5)"
   ]
  },
  {
   "cell_type": "markdown",
   "id": "26d0c356-82fb-4338-8e19-da4bede3caf7",
   "metadata": {},
   "source": [
    "# Add tax dictionary & tax paper pairs"
   ]
  },
  {
   "cell_type": "code",
   "execution_count": 13,
   "id": "ee9435b3-bb7b-419d-802e-fcccec3e7505",
   "metadata": {},
   "outputs": [],
   "source": [
    "dict_df=dict_df.drop_duplicates(subset=[0,1])"
   ]
  },
  {
   "cell_type": "code",
   "execution_count": 20,
   "id": "210f1872-a266-4841-904c-5acc56475c84",
   "metadata": {},
   "outputs": [],
   "source": [
    "dict_df=dict_df.drop_duplicates(subset=[1])"
   ]
  },
  {
   "cell_type": "code",
   "execution_count": 113,
   "id": "9b3f4f13-f9f4-4ddc-bc00-fe30e043f6be",
   "metadata": {},
   "outputs": [],
   "source": [
    "dict_df=dict_df.sample(frac=1)[[0,1]]"
   ]
  },
  {
   "cell_type": "code",
   "execution_count": 114,
   "id": "a0831fb1-a5d2-4e01-a03a-c3715349f446",
   "metadata": {},
   "outputs": [],
   "source": [
    "dict_df.columns=[\"korean\",\"english\"]"
   ]
  },
  {
   "cell_type": "code",
   "execution_count": 116,
   "id": "81670e16-f902-448a-8449-fbfe59bd3546",
   "metadata": {},
   "outputs": [],
   "source": [
    "tax_law=pd.read_excel(\"/azurestorage/data/translation_data/raw_data/세법논문_pairing.xlsx\")[[\"Korean\",\"English\"]]\n",
    "tax_law=tax_law.dropna(axis=0)\n",
    "tax_law.columns=[\"korean\",\"english\"]"
   ]
  },
  {
   "cell_type": "code",
   "execution_count": 118,
   "id": "c6c7da60-4184-4e54-8d29-f23aaedafe32",
   "metadata": {},
   "outputs": [
    {
     "name": "stdout",
     "output_type": "stream",
     "text": [
      "많은 다국적기업이 해외 시장을 개척하거나 시장점유율을 높이는 데 소요되는 광고선전비를 유통기능을 담당하는 각국의 자회사에 부담시키고, 나아가 그룹 차원의 국제마케팅활동에 소요된 비용을 각국의 자회사들로부터 국제마케팅비 명목으로 지급받는 방식으로 전가하고 있다. 자회사는 국내 광고선전비와 해외 본사에 지급한 국제마케팅비를 손금처리하기 때문에, 원천지국 입장에서는 세원이 잠식되고 소득이 이전되는 결과가 발생한다. 다국적기업의 광고선전비를 이용한 조세회피를 막기 위해, 자회사의 국내마케팅활동에 대해서는 마케팅 무형자산을 인정하고, 자회사가 부담하는 국제마케팅비에 대해서는 사용료소득으로 인식함으로써 원천지국의 과세권을 인정하는 방안에 관하여 논의할 필요가 있다. 세계 각국은 세수 확보를 위해 마케팅 무형자산 개념을 적극 활용하여 원천지국의 과세권을 행사하고 있고, 이러한 흐름은 2017년 개정된 OECD 이전가격지침과 UN 이전가격 매뉴얼에도 반영되었다. 우리나라도 국내세법에 마케팅 무형자산 개념을 도입하여 자회사의 마케팅활동에 대한 적정한 보상을 인정함으로써 원천지국과 거주지국 간 과세소득의 공정한 분배를 도모해야 한다. 자회사가 해외 본사에 국제마케팅비를 지급하는 경우, 소득구분에 따라 원천지국 과세권의 유무와 범위가 달라진다. 그 때문에 유통업자는 원가분담약정에 따른 분담금이나 그룹 내부 용역거래에 대한 대가로 보아 원천징수를 피하려고 하고, 과세관청은 사용료소득으로 보아 원천징수의무를 부과하려고 한다. 국제마케팅비는 해외 본사가 보유한 상표의 가치를 강화하는 국제마케팅활동에 쓰였으므로, 국제마케팅활동으로 인해 상승된 상표권의 사용대가, 즉 사용료소득으로 보는 것이 타당하다.\n",
      "-----------------------------\n",
      "Many multinational enterprises are burdening their subsidiaries in charge of distribution function with advertising, marketing and promotion expenses (hereinafter \"AMP expenses\") needed to pioneer overseas markets or increase market share. Subsidiaries are forced to pay for the cost of international marketing activities performed by headquarters. Subsidiaries will pay a significant amount of royalties and international marketing fees to overseas headquarters, and will deduct domestic AMP expenses and international marketing fees. Consequently, taxable income would be shifted out of the source country. To prevent tax avoidance using AMP expenses of multinational enterprises, domestic marketing activities of subsidiaries should be recognized as marketing intangibles. Also, it is necessary to discuss how to acknowledge the right of taxation in the source country by recognizing international marketing fees that the subsidiaries bear as royalty income. Countries around the world are using the concept of marketing intangibles to secure tax revenue, and this trend is reflected in the OECD Transfer Pricing Guidelines revised in 2017 and the United Nations Practical Manual on Transfer Pricing. Korea should also promote fair distribution of taxable income between the source and resident countries by incorporating the concept of marketing intangibles into the domestic tax law and recognizing appropriate compensation for the marketing activities of the subsidiaries. If a subsidiary pays international marketing fee to its overseas headquarter, the existence and scope of the right of taxation in the source country will vary depending on the classification of income. That's why distributors try to avoid withholding tax by regarding international marketing fees as CCA (Cost Contribution Arrangement) contributions or payments for intra-group services. Contrarily, the tax authorities interpret international marketing fees as royalty income and impose the withholding obligation. Since international marketing fees are used for international marketing activities to enhance the value of trademarks owned by overseas headquarters, it is reasonable to regard international marketing fee as royalty income.\n"
     ]
    }
   ],
   "source": [
    "idx=34\n",
    "\n",
    "print(tax_law[\"korean\"].iloc[idx])\n",
    "print(\"-----------------------------\")\n",
    "print(tax_law[\"english\"].iloc[idx])"
   ]
  },
  {
   "cell_type": "code",
   "execution_count": 138,
   "id": "85ee336a-e92f-4080-a77b-fa2c7bdd0b91",
   "metadata": {},
   "outputs": [],
   "source": [
    "dict_df[\"src\"]=\"korean\"\n",
    "dict_df[\"tgt\"]=\"english\"\n",
    "dict_df[\"src\"].iloc[:len(dict_df)//2]=\"english\"\n",
    "dict_df[\"tgt\"].iloc[:len(dict_df)//2]=\"korean\"\n",
    "dict_df=dict_df.sample(frac=1)"
   ]
  },
  {
   "cell_type": "code",
   "execution_count": 153,
   "id": "46aa96ca-5216-4d5a-a236-8cdfb3a48291",
   "metadata": {},
   "outputs": [],
   "source": [
    "dict_df_sample_100=dict_df.iloc[:100]"
   ]
  },
  {
   "cell_type": "code",
   "execution_count": 146,
   "id": "c2290a13-6dcb-4444-8d0e-c4a17546c0dd",
   "metadata": {},
   "outputs": [
    {
     "name": "stderr",
     "output_type": "stream",
     "text": [
      "/tmp/ipykernel_187/2306423426.py:3: FutureWarning: ChainedAssignmentError: behaviour will change in pandas 3.0!\n",
      "You are setting values through chained assignment. Currently this works in certain cases, but when using Copy-on-Write (which will become the default behaviour in pandas 3.0) this will never work to update the original DataFrame or Series, because the intermediate object on which we are setting values will behave as a copy.\n",
      "A typical example is when you are setting values in a column of a DataFrame, like:\n",
      "\n",
      "df[\"col\"][row_indexer] = value\n",
      "\n",
      "Use `df.loc[row_indexer, \"col\"] = values` instead, to perform the assignment in a single step and ensure this keeps updating the original `df`.\n",
      "\n",
      "See the caveats in the documentation: https://pandas.pydata.org/pandas-docs/stable/user_guide/indexing.html#returning-a-view-versus-a-copy\n",
      "\n",
      "  tax_law[\"src\"].iloc[:len(tax_law)//2]=\"english\"\n",
      "/tmp/ipykernel_187/2306423426.py:4: FutureWarning: ChainedAssignmentError: behaviour will change in pandas 3.0!\n",
      "You are setting values through chained assignment. Currently this works in certain cases, but when using Copy-on-Write (which will become the default behaviour in pandas 3.0) this will never work to update the original DataFrame or Series, because the intermediate object on which we are setting values will behave as a copy.\n",
      "A typical example is when you are setting values in a column of a DataFrame, like:\n",
      "\n",
      "df[\"col\"][row_indexer] = value\n",
      "\n",
      "Use `df.loc[row_indexer, \"col\"] = values` instead, to perform the assignment in a single step and ensure this keeps updating the original `df`.\n",
      "\n",
      "See the caveats in the documentation: https://pandas.pydata.org/pandas-docs/stable/user_guide/indexing.html#returning-a-view-versus-a-copy\n",
      "\n",
      "  tax_law[\"tgt\"].iloc[:len(tax_law)//2]=\"korean\"\n"
     ]
    }
   ],
   "source": [
    "tax_law[\"src\"]=\"korean\"\n",
    "tax_law[\"tgt\"]=\"english\"\n",
    "tax_law[\"src\"].iloc[:len(tax_law)//2]=\"english\"\n",
    "tax_law[\"tgt\"].iloc[:len(tax_law)//2]=\"korean\"\n",
    "tax_law=tax_law.sample(frac=1)"
   ]
  },
  {
   "cell_type": "code",
   "execution_count": 161,
   "id": "7ffbde0b-70ce-4a47-8655-4d752eac23e6",
   "metadata": {},
   "outputs": [],
   "source": [
    "train_df_concat=pd.concat([train_df_sample_10k,dict_df_sample_100,tax_law]).sample(frac=1).reset_index(drop=True)"
   ]
  },
  {
   "cell_type": "code",
   "execution_count": 162,
   "id": "fbdd62d8-af80-4bf6-92bb-45c1db58af37",
   "metadata": {},
   "outputs": [],
   "source": [
    "train_dataset_10k=datasets.Dataset.from_pandas(train_df_concat)"
   ]
  },
  {
   "cell_type": "code",
   "execution_count": 238,
   "id": "4a3d3535-d36f-4af6-b90d-6a8a4d35e723",
   "metadata": {},
   "outputs": [
    {
     "data": {
      "text/plain": [
       "{'english': 'Article XII Paragraph 1 of Article 22 (Elimination of Double Taxation) of the Convention shall be deleted and replaced by the following: “1. Subject to the provisions of Korean tax law regarding the allowance as a credit against Korean tax of tax payable in any country other than Korea (which shall not affect the general principle hereof): (a) the Swiss tax payable (excluding, in the case of a dividend, tax payable in respect of profits out of which the dividend is paid) under the laws of Switzerland and in accordance with this Convention, whether directly or by deduction, in respect of income from sources within Switzerland shall be allowed as a credit against Korean tax payable in respect of that income. The credit shall not, however, exceed that portion of Korean tax which the income from sources within Switzerland bears to the entire income subject to Korean tax. (b) In the case of a dividend paid by a company which is a resident of Switzerland to a company which is a resident of Korea and which owns not less than 10 per cent of the shares of the company paying the dividend, the credit shall take into account (in addition to any Swiss tax for which credit may be allowed under the provisions of subparagraph (a) of this paragraph) the Swiss tax payable by the company paying the dividend in respect of the profits out of which such dividend is paid.',\n",
       " 'korean': '제 12 조 협약 제22조(이중과세의 배제)제1항을 삭제하고, 다음과 같이 대체한다. “1. 한국 이외의 국가에서 납부할 조세에 대하여 한국의 조세에서 세액공제를 허용하는 한국 세법의 규정(이 규정의 일반적인 원칙에 영향을 미쳐서는 아니된다)에 따를 것을 조건으로, 가) 스위스법과 이 협약에 따라 납부해야 하는 스위스의 조세(배당의 경우, 그 배당의 지급원인이 되는 이윤에 대한 납부세액은 제외)는, 스위스 내의 원천에서 발생한 소득과 관련하여, 직접적이든 또는 공제에 의하든지에 상관없이, 그 소득과 관련한 한국 납부세액에 대하여 공제가 허용된다. 그러나 그 공제액은 스위스 내의 원천으로부터 발생한 소득이 한국의 조세가 부과되는 전체 소득에 대하여 차지하는 비율에 해당하는 한국의 조세액을 초과하지 아니한다. 나) 스위스의 거주자인 법인이, 한국의 거주자이며 배당을 지급하는 법인의 주식의 10퍼센트 이상을 보유하는 법인에게 지급한 배당의 경우, 세액공제를 할 때 그 배당의 지급원인이 되는 이윤에 대하여 그 배당을 지급하는 법인이 납부해야 하는 스위스의 조세를 (이 항 세항 가)에 따라 공제가 허용될 수 있는 모든 스위스의 조세에 추가하여) 고려한다.”',\n",
       " 'category': 'pilar',\n",
       " 'term_dict': '',\n",
       " 'id': None,\n",
       " 'src': 'english',\n",
       " 'tgt': 'korean',\n",
       " 'length_group': None}"
      ]
     },
     "execution_count": 238,
     "metadata": {},
     "output_type": "execute_result"
    }
   ],
   "source": [
    "train_dataset_10k[67]"
   ]
  },
  {
   "cell_type": "code",
   "execution_count": 239,
   "id": "92f0aa09-4d76-470f-8629-6566a89de538",
   "metadata": {},
   "outputs": [
    {
     "data": {
      "application/vnd.jupyter.widget-view+json": {
       "model_id": "b5bcff41f80d4101befbcfacfbca8ca5",
       "version_major": 2,
       "version_minor": 0
      },
      "text/plain": [
       "Saving the dataset (0/1 shards):   0%|          | 0/10819 [00:00<?, ? examples/s]"
      ]
     },
     "metadata": {},
     "output_type": "display_data"
    }
   ],
   "source": [
    "train_dataset_10k.save_to_disk(\"/azurestorage/data/translation_data/alinged_dataset/prepared_for_training/training_dataset_10k/\")"
   ]
  },
  {
   "cell_type": "code",
   "execution_count": null,
   "id": "febbf25b-c0d0-4f0f-bd35-df27654c8ade",
   "metadata": {},
   "outputs": [],
   "source": []
  }
 ],
 "metadata": {
  "kernelspec": {
   "display_name": "modeling-py3.11",
   "language": "python",
   "name": "modeling-py3.11"
  },
  "language_info": {
   "codemirror_mode": {
    "name": "ipython",
    "version": 3
   },
   "file_extension": ".py",
   "mimetype": "text/x-python",
   "name": "python",
   "nbconvert_exporter": "python",
   "pygments_lexer": "ipython3",
   "version": "3.11.8"
  }
 },
 "nbformat": 4,
 "nbformat_minor": 5
}
