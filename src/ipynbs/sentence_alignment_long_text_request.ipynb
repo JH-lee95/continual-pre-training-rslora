{
 "cells": [
  {
   "cell_type": "code",
   "execution_count": 37,
   "id": "9e7d3361-b27f-4cd5-ae0b-ad0de0c5876f",
   "metadata": {},
   "outputs": [],
   "source": [
    "import datasets\n",
    "import pandas as pd\n",
    "import json"
   ]
  },
  {
   "cell_type": "code",
   "execution_count": 2,
   "id": "c174e877-a14e-4210-b107-4324c7c4d66b",
   "metadata": {},
   "outputs": [],
   "source": [
    "dataset=datasets.DatasetDict.load_from_disk(\"/azurestorage/data/sentence_aligmnet_dataset_filtered\")"
   ]
  },
  {
   "cell_type": "markdown",
   "id": "ae5362f9-e142-42a1-8601-8e941ee89b38",
   "metadata": {},
   "source": [
    "# Preparing Dataset"
   ]
  },
  {
   "cell_type": "code",
   "execution_count": 18,
   "id": "20becb67-c3ea-465c-b6b3-628c406c9876",
   "metadata": {},
   "outputs": [],
   "source": [
    "train_ds=dataset[\"train\"]\n",
    "holdout_ds=dataset[\"test\"]\n",
    "train_df=train_ds.to_pandas().drop_duplicates(\"src_text\")\n",
    "train_df=train_df[train_df[\"src_text\"].str.len()<6000]"
   ]
  },
  {
   "cell_type": "code",
   "execution_count": 19,
   "id": "9af63add-fa29-4af7-bbbc-b97850f3be97",
   "metadata": {},
   "outputs": [
    {
     "data": {
      "text/plain": [
       "<Axes: >"
      ]
     },
     "execution_count": 19,
     "metadata": {},
     "output_type": "execute_result"
    },
    {
     "data": {
      "image/png": "[encoded data removed]",
      "text/plain": [
       "<Figure size 640x480 with 1 Axes>"
      ]
     },
     "metadata": {},
     "output_type": "display_data"
    }
   ],
   "source": [
    "train_df[\"src_text\"].str.len().hist()"
   ]
  },
  {
   "cell_type": "code",
   "execution_count": 20,
   "id": "e2747539-fe43-4883-b88b-9c87ff6d33f5",
   "metadata": {},
   "outputs": [],
   "source": [
    "train_df=train_df[train_df[\"src_text\"].str.len()<6000]"
   ]
  },
  {
   "cell_type": "code",
   "execution_count": 21,
   "id": "19f3f6d9-04a9-400e-968a-ec385dd60245",
   "metadata": {},
   "outputs": [],
   "source": [
    "new_train_df=pd.concat([train_df[train_df[\"src_text\"].str.len()<1600].sample(frac=0.07),train_df[train_df[\"src_text\"].str.len()>1600]]).sample(frac=1)"
   ]
  },
  {
   "cell_type": "code",
   "execution_count": 22,
   "id": "50d144b2-d981-4665-9778-ee2aa9879abe",
   "metadata": {},
   "outputs": [
    {
     "data": {
      "text/html": [
       "<div>\n",
       "<style scoped>\n",
       "    .dataframe tbody tr th:only-of-type {\n",
       "        vertical-align: middle;\n",
       "    }\n",
       "\n",
       "    .dataframe tbody tr th {\n",
       "        vertical-align: top;\n",
       "    }\n",
       "\n",
       "    .dataframe thead th {\n",
       "        text-align: right;\n",
       "    }\n",
       "</style>\n",
       "<table border=\"1\" class=\"dataframe\">\n",
       "  <thead>\n",
       "    <tr style=\"text-align: right;\">\n",
       "      <th></th>\n",
       "      <th>src_text</th>\n",
       "      <th>tgt_text</th>\n",
       "      <th>context</th>\n",
       "      <th>selected_span</th>\n",
       "      <th>answer_span</th>\n",
       "    </tr>\n",
       "  </thead>\n",
       "  <tbody>\n",
       "    <tr>\n",
       "      <th>222563</th>\n",
       "      <td>최근 해외 국채 금리가 바닥을 치고 오르면서 KEB하나은행이 판매한 DLF 투자액 ...</td>\n",
       "      <td>As interest rates on overseas government bonds...</td>\n",
       "      <td>As interest rates on overseas government bonds...</td>\n",
       "      <td>DLF investments</td>\n",
       "      <td>DLF 투자액</td>\n",
       "    </tr>\n",
       "    <tr>\n",
       "      <th>33250</th>\n",
       "      <td>이 오류는 `newgidmap` 및/또는 `newuidmap` 바이너리가 누락되었거...</td>\n",
       "      <td>The error you are encountering occurs when the...</td>\n",
       "      <td>For Ubuntu or Debian-based systems, use the fo...</td>\n",
       "      <td>CentOS</td>\n",
       "      <td>CentOS</td>\n",
       "    </tr>\n",
       "    <tr>\n",
       "      <th>4569</th>\n",
       "      <td>Yes, you can also make the `StateData` class a...</td>\n",
       "      <td>예, `StateData` 클래스를 추상화하고 하위 클래스에서 구체적인 구현을 만들...</td>\n",
       "      <td>그런 다음 `MyViewModel` 클래스에서 `MyStateData` 클래스를 사...</td>\n",
       "      <td>_stateData</td>\n",
       "      <td>_stateData</td>\n",
       "    </tr>\n",
       "    <tr>\n",
       "      <th>7960</th>\n",
       "      <td>According to the World Gold Association, gold ...</td>\n",
       "      <td>세계 금 협회에 따르면 9월 금 ETF의 금 보유량은 전달보다 75톤 늘어나면서 총...</td>\n",
       "      <td>세계 금 협회에 따르면 9월 금 ETF의 금 보유량은 전달보다 75톤 늘어나면서 총...</td>\n",
       "      <td>9월</td>\n",
       "      <td>September</td>\n",
       "    </tr>\n",
       "    <tr>\n",
       "      <th>1811</th>\n",
       "      <td>Among the high-rank savings banks with high-in...</td>\n",
       "      <td>고금리대출 잔액 상위 저축은행 중에는 OK저축은행과 웰컴저축은행 고금리 비중이 70...</td>\n",
       "      <td>고금리대출 잔액 상위 저축은행 중에는 OK저축은행과 웰컴저축은행 고금리 비중이 70...</td>\n",
       "      <td>OK저축은행</td>\n",
       "      <td>OK Savings Bank</td>\n",
       "    </tr>\n",
       "    <tr>\n",
       "      <th>...</th>\n",
       "      <td>...</td>\n",
       "      <td>...</td>\n",
       "      <td>...</td>\n",
       "      <td>...</td>\n",
       "      <td>...</td>\n",
       "    </tr>\n",
       "    <tr>\n",
       "      <th>249542</th>\n",
       "      <td>The banking sector is struggling to adjust its...</td>\n",
       "      <td>은행권이 오는 12월 제2 안심전환대출용 주택저당증권(MBS) 발행을 앞두고 채권물...</td>\n",
       "      <td>은행권이 오는 12월 제2 안심전환대출용 주택저당증권(MBS) 발행을 앞두고 채권물...</td>\n",
       "      <td>발행</td>\n",
       "      <td>issuance</td>\n",
       "    </tr>\n",
       "    <tr>\n",
       "      <th>100316</th>\n",
       "      <td>Here's an example implementation of a Next.js ...</td>\n",
       "      <td>다음은 사용자의 취향에 따라 질문을 필터링하는 Next.js 서버리스 함수의 구현 ...</td>\n",
       "      <td>다음은 사용자의 취향에 따라 질문을 필터링하는 Next.js 서버리스 함수의 구현 ...</td>\n",
       "      <td>질문</td>\n",
       "      <td>questions</td>\n",
       "    </tr>\n",
       "    <tr>\n",
       "      <th>46721</th>\n",
       "      <td>다음은 시계열 데이터에 대해 LSTM을 훈련하는 방법을 보여주는 Python의 간단...</td>\n",
       "      <td>Here's an example of a simple script in Python...</td>\n",
       "      <td>Here's an example of a simple script in Python...</td>\n",
       "      <td>Evaluate the model on the test data</td>\n",
       "      <td>테스트 데이터에 대한 모델 평가</td>\n",
       "    </tr>\n",
       "    <tr>\n",
       "      <th>11345</th>\n",
       "      <td>The disciplinary plan is expected to be finali...</td>\n",
       "      <td>향후 10일간 은행 의견 수렴을 거쳐 내년 1월 16일이나 23일 열릴 제재심의위원...</td>\n",
       "      <td>향후 10일간 은행 의견 수렴을 거쳐 내년 1월 16일이나 23일 열릴 제재심의위원...</td>\n",
       "      <td>내년 1월 16일이나 23일</td>\n",
       "      <td>January 16 or 23 next year</td>\n",
       "    </tr>\n",
       "    <tr>\n",
       "      <th>149613</th>\n",
       "      <td>통신3사 가운데서는 SK텔레콤이 가장 빠른 데이터 전송속도를 보였다.</td>\n",
       "      <td>Among the three telecommunication companies, S...</td>\n",
       "      <td>Among the three telecommunication companies, S...</td>\n",
       "      <td>SK Telecom</td>\n",
       "      <td>SK텔레콤</td>\n",
       "    </tr>\n",
       "  </tbody>\n",
       "</table>\n",
       "<p>7210 rows × 5 columns</p>\n",
       "</div>"
      ],
      "text/plain": [
       "                                                 src_text  \\\n",
       "222563  최근 해외 국채 금리가 바닥을 치고 오르면서 KEB하나은행이 판매한 DLF 투자액 ...   \n",
       "33250   이 오류는 `newgidmap` 및/또는 `newuidmap` 바이너리가 누락되었거...   \n",
       "4569    Yes, you can also make the `StateData` class a...   \n",
       "7960    According to the World Gold Association, gold ...   \n",
       "1811    Among the high-rank savings banks with high-in...   \n",
       "...                                                   ...   \n",
       "249542  The banking sector is struggling to adjust its...   \n",
       "100316  Here's an example implementation of a Next.js ...   \n",
       "46721   다음은 시계열 데이터에 대해 LSTM을 훈련하는 방법을 보여주는 Python의 간단...   \n",
       "11345   The disciplinary plan is expected to be finali...   \n",
       "149613             통신3사 가운데서는 SK텔레콤이 가장 빠른 데이터 전송속도를 보였다.   \n",
       "\n",
       "                                                 tgt_text  \\\n",
       "222563  As interest rates on overseas government bonds...   \n",
       "33250   The error you are encountering occurs when the...   \n",
       "4569    예, `StateData` 클래스를 추상화하고 하위 클래스에서 구체적인 구현을 만들...   \n",
       "7960    세계 금 협회에 따르면 9월 금 ETF의 금 보유량은 전달보다 75톤 늘어나면서 총...   \n",
       "1811    고금리대출 잔액 상위 저축은행 중에는 OK저축은행과 웰컴저축은행 고금리 비중이 70...   \n",
       "...                                                   ...   \n",
       "249542  은행권이 오는 12월 제2 안심전환대출용 주택저당증권(MBS) 발행을 앞두고 채권물...   \n",
       "100316  다음은 사용자의 취향에 따라 질문을 필터링하는 Next.js 서버리스 함수의 구현 ...   \n",
       "46721   Here's an example of a simple script in Python...   \n",
       "11345   향후 10일간 은행 의견 수렴을 거쳐 내년 1월 16일이나 23일 열릴 제재심의위원...   \n",
       "149613  Among the three telecommunication companies, S...   \n",
       "\n",
       "                                                  context  \\\n",
       "222563  As interest rates on overseas government bonds...   \n",
       "33250   For Ubuntu or Debian-based systems, use the fo...   \n",
       "4569    그런 다음 `MyViewModel` 클래스에서 `MyStateData` 클래스를 사...   \n",
       "7960    세계 금 협회에 따르면 9월 금 ETF의 금 보유량은 전달보다 75톤 늘어나면서 총...   \n",
       "1811    고금리대출 잔액 상위 저축은행 중에는 OK저축은행과 웰컴저축은행 고금리 비중이 70...   \n",
       "...                                                   ...   \n",
       "249542  은행권이 오는 12월 제2 안심전환대출용 주택저당증권(MBS) 발행을 앞두고 채권물...   \n",
       "100316  다음은 사용자의 취향에 따라 질문을 필터링하는 Next.js 서버리스 함수의 구현 ...   \n",
       "46721   Here's an example of a simple script in Python...   \n",
       "11345   향후 10일간 은행 의견 수렴을 거쳐 내년 1월 16일이나 23일 열릴 제재심의위원...   \n",
       "149613  Among the three telecommunication companies, S...   \n",
       "\n",
       "                              selected_span                 answer_span  \n",
       "222563                      DLF investments                     DLF 투자액  \n",
       "33250                                CentOS                      CentOS  \n",
       "4569                             _stateData                  _stateData  \n",
       "7960                                     9월                   September  \n",
       "1811                                 OK저축은행             OK Savings Bank  \n",
       "...                                     ...                         ...  \n",
       "249542                                   발행                    issuance  \n",
       "100316                                   질문                   questions  \n",
       "46721   Evaluate the model on the test data           테스트 데이터에 대한 모델 평가  \n",
       "11345                       내년 1월 16일이나 23일  January 16 or 23 next year  \n",
       "149613                           SK Telecom                       SK텔레콤  \n",
       "\n",
       "[7210 rows x 5 columns]"
      ]
     },
     "execution_count": 22,
     "metadata": {},
     "output_type": "execute_result"
    }
   ],
   "source": [
    "new_train_df"
   ]
  },
  {
   "cell_type": "code",
   "execution_count": 67,
   "id": "b35b8609-f3f1-4087-a9e2-19da13b4d40d",
   "metadata": {},
   "outputs": [],
   "source": [
    "new_train_df.to_csv(\"./sentence-alignment.csv\")"
   ]
  },
  {
   "cell_type": "code",
   "execution_count": 23,
   "id": "5d157252-1266-42a7-b29e-bf364dc8cb65",
   "metadata": {},
   "outputs": [
    {
     "data": {
      "text/plain": [
       "<Axes: >"
      ]
     },
     "execution_count": 23,
     "metadata": {},
     "output_type": "execute_result"
    },
    {
     "data": {
      "image/png": "[encoded data removed]",
      "text/plain": [
       "<Figure size 640x480 with 1 Axes>"
      ]
     },
     "metadata": {},
     "output_type": "display_data"
    }
   ],
   "source": [
    "new_train_df[\"src_text\"].str.len().hist()"
   ]
  },
  {
   "cell_type": "markdown",
   "id": "a47361ca-c530-4e99-8ab0-dc59650a6e83",
   "metadata": {},
   "source": [
    "# GPT API request"
   ]
  },
  {
   "cell_type": "code",
   "execution_count": 25,
   "id": "21aa0149-0caf-4c7e-a778-528d2d8542aa",
   "metadata": {},
   "outputs": [],
   "source": [
    "import os\n",
    "import logging\n",
    "import requests\n",
    "import subprocess\n",
    "import base64\n",
    "import threading\n",
    "import time\n",
    "\n",
    "log = logging.getLogger(__name__)\n",
    "\n",
    "class TokenManager:\n",
    "    _instance = None\n",
    "    _lock = threading.Lock()\n",
    "\n",
    "    def __new__(cls, *args, **kwargs):\n",
    "        with cls._lock:\n",
    "            if cls._instance is None:\n",
    "                cls._instance = super(TokenManager, cls).__new__(cls)\n",
    "                cls._instance.initialized = False\n",
    "        return cls._instance\n",
    "\n",
    "    def __init__(self,\n",
    "                id_broker_host,\n",
    "                username,\n",
    "                password,\n",
    "                cert_path):\n",
    "        # This check prevents the initialization code from running more than once.\n",
    "        if self.initialized:\n",
    "            return\n",
    "\n",
    "        # Assume API_URL, USERNAME, and PASSWORD are environment variables\n",
    "        self.id_broker_host = id_broker_host\n",
    "        self._username = username\n",
    "        self._password = password\n",
    "        self.cert_path=cert_path\n",
    "        self._gif_subs = os.getenv('DATAPLATFORM_API_KEY')\n",
    "        self._external = True if self._gif_subs is not None else False\n",
    "\n",
    "        # Validate the env variables required are set\n",
    "        if self._username is None:\n",
    "            raise ValueError(\"Environment variable 'USERNAME' is not set. 'USERNAME' must be set to user/service \"\n",
    "                             \"account guid\")\n",
    "        if self._password is None:\n",
    "            raise ValueError(\"Environment variable 'PASSWORD' is not set. 'PASSWORD' must be set to user/service \"\n",
    "                             \"account password\")\n",
    "        if self.id_broker_host is None:\n",
    "            raise ValueError(\"Environment variable 'ID_BROKER_HOST' is not set. 'ID_BROKER_HOST' must be dataplatform \"\n",
    "                             \"id-broker host matching the GenAI environment.\")\n",
    "\n",
    "        self._token = None\n",
    "        self._refresh = None\n",
    "        self._expires_at = 0\n",
    "        self.refresh_thread = threading.Thread(target=self._manage_token, daemon=True)\n",
    "        self.refresh_thread.start()\n",
    "\n",
    "        self.initialized = True  # Set the flag to True after initialization\n",
    "\n",
    "    def _get_new_token_using_login(self):\n",
    "        log.debug('Getting new token using username and password')\n",
    "\n",
    "        credentials = f\"{self._username}:{self._password}\"\n",
    "        encoded_credentials = base64.b64encode(credentials.encode('utf-8')).decode('utf-8')\n",
    "        auth_header = f\"Basic {encoded_credentials}\"\n",
    "\n",
    "        headers = {\n",
    "            'Authorization': auth_header\n",
    "        }\n",
    "\n",
    "        if self._external:\n",
    "            headers['Ocp-Apim-Subscription-Key'] = self._gif_subs\n",
    "\n",
    "        response = requests.request(\"GET\",\n",
    "                                    f\"{self.id_broker_host}/api/v1/public/login\",\n",
    "                                    headers=headers,\n",
    "                                    verify=self.cert_path)\n",
    "\n",
    "        if response.status_code == 204:\n",
    "            self._token = response.headers['Authorization']\n",
    "            self._refresh = response.headers['Refresh-Token']\n",
    "            self._expires_at = time.time() + 3600\n",
    "        else:\n",
    "            raise ValueError(f'Failed to get token for user: {self._username} Code: {response.status_code}')\n",
    "\n",
    "    def _get_new_token_using_refresh(self):\n",
    "        log.debug('Getting new token using refresh token')\n",
    "\n",
    "        headers = {\n",
    "            'refreshToken': self._refresh\n",
    "        }\n",
    "\n",
    "        response = requests.request(\"GET\",\n",
    "                                    f\"{self.id_broker_host}/api/v1/public/refresh\",\n",
    "                                    headers=headers,\n",
    "                                    verify=self.cert_path)\n",
    "\n",
    "        if response.status_code == 204:\n",
    "            self._token = response.headers['Authorization']\n",
    "            self._refresh = response.headers['Refresh-Token']\n",
    "            self._expires_at = time.time() + 3600\n",
    "        else:\n",
    "            raise ValueError(f'Failed to get token for user: {self._username} Code: {response.status_code}')\n",
    "\n",
    "    def get_token(self):\n",
    "        with self._lock:\n",
    "            # Return the current valid token\n",
    "            return self._token\n",
    "\n",
    "    def _manage_token(self):\n",
    "        while True:\n",
    "            try:\n",
    "                # If no token, get a new one. Else, wait until it's time to refresh.\n",
    "                if not self._token or time.time() >= self._expires_at - 300:\n",
    "                    self._renew_token()\n",
    "                else:\n",
    "                    time_to_sleep = max(self._expires_at - time.time() - 300, 0)\n",
    "                    time.sleep(time_to_sleep)\n",
    "            except ValueError as e:\n",
    "                log.exception(f'Token refresh failed due to {e}')\n",
    "                time.sleep(10)\n",
    "\n",
    "    def _renew_token(self):\n",
    "        with self._lock:\n",
    "            if self._refresh and time.time() < self._expires_at and not self._external:\n",
    "                self._get_new_token_using_refresh()\n",
    "            else:\n",
    "                self._get_new_token_using_login()\n",
    "\n",
    "    def invalidate_token(self):\n",
    "        with self._lock:\n",
    "            self._token = None\n",
    "            self._refresh = None\n",
    "            self._expires_at = 0"
   ]
  },
  {
   "cell_type": "code",
   "execution_count": null,
   "id": "4ea30e18-3e34-46dd-8cc8-fbf3d5c44fb5",
   "metadata": {},
   "outputs": [],
   "source": [
    "\"/workspace/apps/taxionary/llm_engine/cacert.pem\""
   ]
  },
  {
   "cell_type": "code",
   "execution_count": 53,
   "id": "7cc68f53-a517-46fd-9627-70ed2d8b6860",
   "metadata": {},
   "outputs": [],
   "source": [
    "id_broker_host='https://dp-idbroker-au.pwclabs.pwcglb.com'\n",
    "model_name='gpt-4-32k'\n",
    "api_version=\"2023-06-01-preview\"\n",
    "api_key=\"8062f07fa662496294dc68e1efb9d2a5\"\n",
    "cert_path=\"/workspace/apps/taxionary/llm_engine/cacert.pem\"\n",
    "token_manager=TokenManager(id_broker_host=id_broker_host,\n",
    "                         username='jleez922',\n",
    "                         password='dlfjsghksA1~',\n",
    "                         cert_path=cert_path,)\n",
    "\n",
    "url=f\"https://gif-apim.pwc.com/ngc/prod-au/openai/v2/openai/deployments/{model_name}/chat/completions?api-version={api_version}&subscription-key={api_key}\""
   ]
  },
  {
   "cell_type": "code",
   "execution_count": 62,
   "id": "92fa81ec-c05c-494a-9edd-21ba6f48144c",
   "metadata": {},
   "outputs": [],
   "source": [
    "def interact_with_chatpwc_api(data:dict): \n",
    "    headers = {  \n",
    "            'accept': 'application/json',  \n",
    "        'x-request-type': 'sync',  \n",
    "        'x-pool-type': 'shared',  \n",
    "        'Authorization': token_manager.get_token(),  \n",
    "        'Ocp-Apim-Subscription-Key': api_key,\n",
    "        'Content-Type': 'application/json',\n",
    "    }  \n",
    "\n",
    "    response=requests.request(\"POST\",\n",
    "                    url,\n",
    "                    headers=headers,\n",
    "                    json=data)\n",
    "\n",
    "\n",
    "    response=json.loads(response.text)\n",
    "    print(response)\n",
    "    response=response[\"choices\"][0][\"message\"][\"content\"]\n",
    "    return response"
   ]
  },
  {
   "cell_type": "code",
   "execution_count": 63,
   "id": "0dac03f6-1a78-4067-a309-f9d0902d2753",
   "metadata": {},
   "outputs": [],
   "source": [
    "src_text='''오픈AI는 이날부터 가입 절차 없이 챗GPT를 바로 사용할 수 있도록 할 것이고 단계적으로 서비스를 확대할 계획이라고 설명했다.\n",
    "\n",
    "계정 없이 챗GPT를 사용할 때는 AI를 통해 질문에 대한 답변을 얻는 기본적인 서비스는 똑같이 이용할 수 있다. 다만 로그인을 하지 않은 이용자가 챗GPT를 남용할 가능성에 대비해 오픈AI는 상당한 범위의 질문과 답변을 봉쇄할 것이라고 밝혔다.\n",
    "\n",
    "로그인을 하면 추가로 이용할 수 있는 기능도 있다. 로그인을 할 경우 챗GPT에 남긴 채팅 기록을 저장하고, 검토·공유할 수 있다. 음성 대화 기능을 이용하거나 맞춤형 지시 등도 가능하다.\n",
    "\n",
    "이번 조치는 챗GPT 외에 다른 오픈AI가 개발한 도구는 해당하지 않는다. 이미지를 생성하는 AI ‘달리’(DALL-E) 등 다른 서비스를 이용할 때는 필수적으로 로그인해야 한다.\n",
    "\n",
    "챗GPT는 2022년 출시돼 2개월 만에 사용자 1억명을 돌파했고 사람이 작성한 것과 비슷한 수준의 글을 몇 초 만에 내놓는 등 획기적 성능을 선보였다. 학생들 사이에서 큰 인기를 끌면서 학교에서는 표절을 방지하는 방안을 찾아야 할 정도로 급속히 퍼져나갔고 직장인들도 코드 작성 및 연구 수행 등 목적으로 폭넓게 사용했다.\n",
    "\n",
    "챗GPT는 지난해 5월 이용자수 18억명을 돌파한 이후에는 성장세가 둔화하고 있다. 지난달에는 테슬라 최고경영자(CEO)인 일론 머스크가 인류의 공동 이익을 위해 인공지능을 개발하겠다던 오픈AI가 회사 설립 당시 계약을 위반했다며 오픈AI와 샘 올트먼 CEO를 상대로 소송을 제기하기도 했다.'''\n",
    "\n",
    "\n",
    "tgt_text='''OpenAI said that starting from today, users will be able to use ChatGPT without going through the subscription process and will gradually expand the service. When using ChatGPT without an account, users can still use the basic service of getting answers to questions through AI. However, OpenAI said that it will block a considerable range of questions and answers to prevent abuse by unlogged users.\n",
    "\n",
    "If you log in, there are additional features available. If you log in, you can save your chat history on ChatGPT, review and share it. You can also use voice conversation functions or customized instructions.\n",
    "\n",
    "This measure does not apply to other OpenAI-developed tools other than ChatGPT. You must log in to use other services such as DALL-E, which creates images. ChatGPT was launched in 2022 and surpassed 100 million users in two months, and it has shown groundbreaking performance by producing texts similar to those written by humans in seconds. It spread rapidly, requiring schools to find ways to prevent plagiarism, and office workers used it widely for purposes such as code writing and research.\n",
    "\n",
    "ChatGPT's growth has slowed down since it surpassed 1.8 billion users in May last year. In December, Tesla CEO Elon Musk filed a lawsuit against OpenAI and CEO Sam Altman, claiming that OpenAI violated the contract when the company was founded, saying that they would develop artificial intelligence for the common good of humanity.'''"
   ]
  },
  {
   "cell_type": "code",
   "execution_count": 64,
   "id": "b77e5d35-9bbc-4663-81be-a312e1113ff6",
   "metadata": {},
   "outputs": [],
   "source": [
    "prompt=f'''Given two pieces of text where one is in English and the other is in Korean, your task is to carefully read both texts and identify corresponding sentences or statements between the English text and the Korean text.\n",
    "This includes situations where a single sentence corresponds to multiple sentences, due to linguistic differences and the need for additional clarification in translation.  \n",
    "Each identified pair should consist of one source sentence and its translation, indicating that they convey the same information.\n",
    "\n",
    "Here goes some examples.\n",
    "\n",
    "example1)\n",
    "source_text = \"In order to prevent international tax avoidance, the Base Erosion and Profit Shifting project proposed a plan to expand the scope of permanent establishment in the treaty through concluding short-term contracts and reducing the period to reduce taxation of the source country. On the other hand, the UK and Australia amended the tax laws to introduce the Diverted Profits Tax, which applies a higher rate than the usual rate of corporate tax on profits that multinational companies transfer abroad. In this meeting, we discuss the change of the concept of permanent establishment related to the above Base Erosion and Profit Shifting project, reviews each case on the Diverted Profits Tax of the UK and Australia, and discusses the proper position of South Korea in each case.\"\n",
    "target_text = \"국제 조세 회피 방지를 위해 세원잠식 및 소득이전(BEPS) 프로젝트는 단기 계약을 체결하여 조약상의 고정사업장의 범위를 확대하고 조세 부담국의 조세를 감축하기 위한 기간을 줄이는 방안을 제시하였다. 한편 영국과 호주는 다국적 기업이 해외로 양도하는 이익에 대하여 법인세의 보통 요율보다 높은 요율을 적용하는 우회이익세를 도입하기 위하여 조세법을 개정하였다. 본 회의에서는 위와 같은 세원잠식 및 소득이전(BEPS) 프로젝트와 관련된 고정사업장에 대한 개념의 변화, 영국과 호주의 우회이익세에 관한 각 사례 검토, 그리고 각 사례별 우리나라의 적정한 입장에 대해 논의한다.\"\n",
    "extracted_pairs=[(\"In order to prevent international tax avoidance, the Base Erosion and Profit Shifting project proposed a plan to expand the scope of permanent establishment in the treaty through concluding short-term contracts and reducing the period to reduce taxation of the source country.\",\"국제 조세 회피 방지를 위해 세원잠식 및 소득이전(BEPS) 프로젝트는 단기 계약을 체결하여 조약상의 고정사업장의 범위를 확대하고 조세 부담국의 조세를 감축하기 위한 기간을 줄이는 방안을 제시하였다. \"),(\"On the other hand, the UK and Australia amended the tax laws to introduce the Diverted Profits Tax, which applies a higher rate than the usual rate of corporate tax on profits that multinational companies transfer abroad.\",\"한편 영국과 호주는 다국적 기업이 해외로 양도하는 이익에 대하여 법인세의 보통 요율보다 높은 요율을 적용하는 우회이익세를 도입하기 위하여 조세법을 개정하였다.\"),(\"In this meeting, we discuss the change of the concept of permanent establishment related to the above Base Erosion and Profit Shifting project, reviews each case on the Diverted Profits Tax of the UK and Australia, and discusses the proper position of South Korea in each case.\",\"본 회의에서는 위와 같은 세원잠식 및 소득이전(BEPS) 프로젝트와 관련된 고정사업장에 대한 개념의 변화, 영국과 호주의 우회이익세에 관한 각 사례 검토, 그리고 각 사례별 우리나라의 적정한 입장에 대해 논의한다.\")]\n",
    "\n",
    "example2)\n",
    "source_text = \"계약상 현금흐름의 수취와 금융자산 둘 다를 통해 목적을 이루는 사업모형 하에서 금융자산을 보유하고, 계약상 현금흐름이 원리금만으로 구성되어 있는 금융자산은 기타포괄손익-공정가치로 측정합니다. 손상차손(환입)과 이자수익 및 외환손익을 제외하고는, 기타포괄손익-공정가치로 측정하는 금융자산의 손익은 기타포괄손익으로 인식합니다. 금융자산을 제거할 때에는 인식한 기타포괄손익누계액을 자본에서 당기손익으로 재분류합니다. 유효이자율법에 따라 인식하는 금융자산의 이자수익은 '금융수익'에 포함됩니다. 외환손익은 '기타영업외수익 또는 기타영업외비용'으로표시하고 손상차손은 '기타영업외비용'으로 표시합니다.\"\n",
    "target_text = \"A financial asset is measured at FVTPL if it is held in a business model where the objective is achieved through both the receipt of contractual cash flows and the financial asset, and the contractual cash flows consist solely of principal. Gains and losses on financial assets at fair value through other comprehensive income are recognized in other comprehensive income, except for impairment losses (reversals), interest income and foreign exchange gains and losses. When a financial asset is derecognized, the amount of accumulated other comprehensive income (loss) recognized in other comprehensive income (loss) is reclassified from equity to profit or loss. Interest income on financial assets recognized using the effective interest rate method is included in 'Finance income'. Foreign exchange gains and losses are presented in 'Other non-operating income or expense' and impairment losses are presented in 'Other non-operating expenses'.\"\n",
    "extracted_pairs=[(\"계약상 현금흐름의 수취와 금융자산 둘 다를 통해 목적을 이루는 사업모형 하에서 금융자산을 보유하고, 계약상 현금흐름이 원리금만으로 구성되어 있는 금융자산은 기타포괄손익-공정가치로 측정합니다.\",\"A financial asset is measured at FVTPL if it is held in a business model where the objective is achieved through both the receipt of contractual cash flows and the financial asset, and the contractual cash flows consist solely of principal.\"),(\"손상차손(환입)과 이자수익 및 외환손익을 제외하고는, 기타포괄손익-공정가치로 측정하는 금융자산의 손익은 기타포괄손익으로 인식합니다.\",\"Gains and losses on financial assets at fair value through other comprehensive income are recognized in other comprehensive income, except for impairment losses (reversals), interest income and foreign exchange gains and losses.\"),(\"금융자산을 제거할 때에는 인식한 기타포괄손익누계액을 자본에서 당기손익으로 재분류합니다.\",\"When a financial asset is derecognized, the amount of accumulated other comprehensive income (loss) recognized in other comprehensive income (loss) is reclassified from equity to profit or loss.\"),(\"유효이자율법에 따라 인식하는 금융자산의 이자수익은 '금융수익'에 포함됩니다.\",\"Interest income on financial assets recognized using the effective interest rate method is included in 'Finance income'. \"),(\"외환손익은 '기타영업외수익 또는 기타영업외비용'으로표시하고 손상차손은 '기타영업외비용'으로 표시합니다.\",\"Foreign exchange gains and losses are presented in 'Other non-operating income or expense' and impairment losses are presented in 'Other non-operating expenses'.\")]\n",
    "\n",
    "source_text = {src_text}\n",
    "target_text = {tgt_text}\n",
    "extracted_pairs ='''"
   ]
  },
  {
   "cell_type": "code",
   "execution_count": 65,
   "id": "b5079597-2eeb-437d-8fc7-6ca3ffc87789",
   "metadata": {},
   "outputs": [
    {
     "name": "stdout",
     "output_type": "stream",
     "text": [
      "Given two pieces of text where one is in English and the other is in Korean, your task is to carefully read both texts and identify corresponding sentences or statements between the English text and the Korean text.\n",
      "This includes situations where a single sentence corresponds to multiple sentences, due to linguistic differences and the need for additional clarification in translation.  \n",
      "Each identified pair should consist of one source sentence and its translation, indicating that they convey the same information.\n",
      "\n",
      "Here goes some examples.\n",
      "\n",
      "example1)\n",
      "source_text = \"In order to prevent international tax avoidance, the Base Erosion and Profit Shifting project proposed a plan to expand the scope of permanent establishment in the treaty through concluding short-term contracts and reducing the period to reduce taxation of the source country. On the other hand, the UK and Australia amended the tax laws to introduce the Diverted Profits Tax, which applies a higher rate than the usual rate of corporate tax on profits that multinational companies transfer abroad. In this meeting, we discuss the change of the concept of permanent establishment related to the above Base Erosion and Profit Shifting project, reviews each case on the Diverted Profits Tax of the UK and Australia, and discusses the proper position of South Korea in each case.\"\n",
      "target_text = \"국제 조세 회피 방지를 위해 세원잠식 및 소득이전(BEPS) 프로젝트는 단기 계약을 체결하여 조약상의 고정사업장의 범위를 확대하고 조세 부담국의 조세를 감축하기 위한 기간을 줄이는 방안을 제시하였다. 한편 영국과 호주는 다국적 기업이 해외로 양도하는 이익에 대하여 법인세의 보통 요율보다 높은 요율을 적용하는 우회이익세를 도입하기 위하여 조세법을 개정하였다. 본 회의에서는 위와 같은 세원잠식 및 소득이전(BEPS) 프로젝트와 관련된 고정사업장에 대한 개념의 변화, 영국과 호주의 우회이익세에 관한 각 사례 검토, 그리고 각 사례별 우리나라의 적정한 입장에 대해 논의한다.\"\n",
      "extracted_pairs=[(\"In order to prevent international tax avoidance, the Base Erosion and Profit Shifting project proposed a plan to expand the scope of permanent establishment in the treaty through concluding short-term contracts and reducing the period to reduce taxation of the source country.\",\"국제 조세 회피 방지를 위해 세원잠식 및 소득이전(BEPS) 프로젝트는 단기 계약을 체결하여 조약상의 고정사업장의 범위를 확대하고 조세 부담국의 조세를 감축하기 위한 기간을 줄이는 방안을 제시하였다. \"),(\"On the other hand, the UK and Australia amended the tax laws to introduce the Diverted Profits Tax, which applies a higher rate than the usual rate of corporate tax on profits that multinational companies transfer abroad.\",\"한편 영국과 호주는 다국적 기업이 해외로 양도하는 이익에 대하여 법인세의 보통 요율보다 높은 요율을 적용하는 우회이익세를 도입하기 위하여 조세법을 개정하였다.\"),(\"In this meeting, we discuss the change of the concept of permanent establishment related to the above Base Erosion and Profit Shifting project, reviews each case on the Diverted Profits Tax of the UK and Australia, and discusses the proper position of South Korea in each case.\",\"본 회의에서는 위와 같은 세원잠식 및 소득이전(BEPS) 프로젝트와 관련된 고정사업장에 대한 개념의 변화, 영국과 호주의 우회이익세에 관한 각 사례 검토, 그리고 각 사례별 우리나라의 적정한 입장에 대해 논의한다.\")]\n",
      "\n",
      "example2)\n",
      "source_text = \"계약상 현금흐름의 수취와 금융자산 둘 다를 통해 목적을 이루는 사업모형 하에서 금융자산을 보유하고, 계약상 현금흐름이 원리금만으로 구성되어 있는 금융자산은 기타포괄손익-공정가치로 측정합니다. 손상차손(환입)과 이자수익 및 외환손익을 제외하고는, 기타포괄손익-공정가치로 측정하는 금융자산의 손익은 기타포괄손익으로 인식합니다. 금융자산을 제거할 때에는 인식한 기타포괄손익누계액을 자본에서 당기손익으로 재분류합니다. 유효이자율법에 따라 인식하는 금융자산의 이자수익은 '금융수익'에 포함됩니다. 외환손익은 '기타영업외수익 또는 기타영업외비용'으로표시하고 손상차손은 '기타영업외비용'으로 표시합니다.\"\n",
      "target_text = \"A financial asset is measured at FVTPL if it is held in a business model where the objective is achieved through both the receipt of contractual cash flows and the financial asset, and the contractual cash flows consist solely of principal. Gains and losses on financial assets at fair value through other comprehensive income are recognized in other comprehensive income, except for impairment losses (reversals), interest income and foreign exchange gains and losses. When a financial asset is derecognized, the amount of accumulated other comprehensive income (loss) recognized in other comprehensive income (loss) is reclassified from equity to profit or loss. Interest income on financial assets recognized using the effective interest rate method is included in 'Finance income'. Foreign exchange gains and losses are presented in 'Other non-operating income or expense' and impairment losses are presented in 'Other non-operating expenses'.\"\n",
      "extracted_pairs=[(\"계약상 현금흐름의 수취와 금융자산 둘 다를 통해 목적을 이루는 사업모형 하에서 금융자산을 보유하고, 계약상 현금흐름이 원리금만으로 구성되어 있는 금융자산은 기타포괄손익-공정가치로 측정합니다.\",\"A financial asset is measured at FVTPL if it is held in a business model where the objective is achieved through both the receipt of contractual cash flows and the financial asset, and the contractual cash flows consist solely of principal.\"),(\"손상차손(환입)과 이자수익 및 외환손익을 제외하고는, 기타포괄손익-공정가치로 측정하는 금융자산의 손익은 기타포괄손익으로 인식합니다.\",\"Gains and losses on financial assets at fair value through other comprehensive income are recognized in other comprehensive income, except for impairment losses (reversals), interest income and foreign exchange gains and losses.\"),(\"금융자산을 제거할 때에는 인식한 기타포괄손익누계액을 자본에서 당기손익으로 재분류합니다.\",\"When a financial asset is derecognized, the amount of accumulated other comprehensive income (loss) recognized in other comprehensive income (loss) is reclassified from equity to profit or loss.\"),(\"유효이자율법에 따라 인식하는 금융자산의 이자수익은 '금융수익'에 포함됩니다.\",\"Interest income on financial assets recognized using the effective interest rate method is included in 'Finance income'. \"),(\"외환손익은 '기타영업외수익 또는 기타영업외비용'으로표시하고 손상차손은 '기타영업외비용'으로 표시합니다.\",\"Foreign exchange gains and losses are presented in 'Other non-operating income or expense' and impairment losses are presented in 'Other non-operating expenses'.\")]\n",
      "\n",
      "source_text = 오픈AI는 이날부터 가입 절차 없이 챗GPT를 바로 사용할 수 있도록 할 것이고 단계적으로 서비스를 확대할 계획이라고 설명했다.\n",
      "\n",
      "계정 없이 챗GPT를 사용할 때는 AI를 통해 질문에 대한 답변을 얻는 기본적인 서비스는 똑같이 이용할 수 있다. 다만 로그인을 하지 않은 이용자가 챗GPT를 남용할 가능성에 대비해 오픈AI는 상당한 범위의 질문과 답변을 봉쇄할 것이라고 밝혔다.\n",
      "\n",
      "로그인을 하면 추가로 이용할 수 있는 기능도 있다. 로그인을 할 경우 챗GPT에 남긴 채팅 기록을 저장하고, 검토·공유할 수 있다. 음성 대화 기능을 이용하거나 맞춤형 지시 등도 가능하다.\n",
      "\n",
      "이번 조치는 챗GPT 외에 다른 오픈AI가 개발한 도구는 해당하지 않는다. 이미지를 생성하는 AI ‘달리’(DALL-E) 등 다른 서비스를 이용할 때는 필수적으로 로그인해야 한다.\n",
      "\n",
      "챗GPT는 2022년 출시돼 2개월 만에 사용자 1억명을 돌파했고 사람이 작성한 것과 비슷한 수준의 글을 몇 초 만에 내놓는 등 획기적 성능을 선보였다. 학생들 사이에서 큰 인기를 끌면서 학교에서는 표절을 방지하는 방안을 찾아야 할 정도로 급속히 퍼져나갔고 직장인들도 코드 작성 및 연구 수행 등 목적으로 폭넓게 사용했다.\n",
      "\n",
      "챗GPT는 지난해 5월 이용자수 18억명을 돌파한 이후에는 성장세가 둔화하고 있다. 지난달에는 테슬라 최고경영자(CEO)인 일론 머스크가 인류의 공동 이익을 위해 인공지능을 개발하겠다던 오픈AI가 회사 설립 당시 계약을 위반했다며 오픈AI와 샘 올트먼 CEO를 상대로 소송을 제기하기도 했다.\n",
      "target_text = OpenAI said that starting from today, users will be able to use ChatGPT without going through the subscription process and will gradually expand the service. When using ChatGPT without an account, users can still use the basic service of getting answers to questions through AI. However, OpenAI said that it will block a considerable range of questions and answers to prevent abuse by unlogged users.\n",
      "\n",
      "If you log in, there are additional features available. If you log in, you can save your chat history on ChatGPT, review and share it. You can also use voice conversation functions or customized instructions.\n",
      "\n",
      "This measure does not apply to other OpenAI-developed tools other than ChatGPT. You must log in to use other services such as DALL-E, which creates images. ChatGPT was launched in 2022 and surpassed 100 million users in two months, and it has shown groundbreaking performance by producing texts similar to those written by humans in seconds. It spread rapidly, requiring schools to find ways to prevent plagiarism, and office workers used it widely for purposes such as code writing and research.\n",
      "\n",
      "ChatGPT's growth has slowed down since it surpassed 1.8 billion users in May last year. In December, Tesla CEO Elon Musk filed a lawsuit against OpenAI and CEO Sam Altman, claiming that OpenAI violated the contract when the company was founded, saying that they would develop artificial intelligence for the common good of humanity.\n",
      "extracted_pairs =\n"
     ]
    }
   ],
   "source": [
    "print(prompt)"
   ]
  },
  {
   "cell_type": "code",
   "execution_count": 66,
   "id": "9d06d3c9-786a-4675-9f46-ffa226c3a539",
   "metadata": {},
   "outputs": [
    {
     "name": "stdout",
     "output_type": "stream",
     "text": [
      "{'error': {'message': \"'$.messages[0].content' is invalid. Please check the API reference: https://platform.openai.com/docs/api-reference.\", 'type': 'invalid_request_error', 'param': None, 'code': None}}\n"
     ]
    },
    {
     "ename": "KeyError",
     "evalue": "'choices'",
     "output_type": "error",
     "traceback": [
      "\u001b[0;31m---------------------------------------------------------------------------\u001b[0m",
      "\u001b[0;31mKeyError\u001b[0m                                  Traceback (most recent call last)",
      "Cell \u001b[0;32mIn[66], line 13\u001b[0m\n\u001b[1;32m      1\u001b[0m data \u001b[38;5;241m=\u001b[39m {  \n\u001b[1;32m      2\u001b[0m         \u001b[38;5;124m\"\u001b[39m\u001b[38;5;124mmessages\u001b[39m\u001b[38;5;124m\"\u001b[39m: [  \n\u001b[1;32m      3\u001b[0m             {  \n\u001b[0;32m   (...)\u001b[0m\n\u001b[1;32m      9\u001b[0m         \u001b[38;5;66;03m# \"stream\": True  \u001b[39;00m\n\u001b[1;32m     10\u001b[0m     }  \n\u001b[1;32m     12\u001b[0m         \u001b[38;5;66;03m# 클라이언트에게 응답 데이터 전송\u001b[39;00m\n\u001b[0;32m---> 13\u001b[0m response\u001b[38;5;241m=\u001b[39m\u001b[43minteract_with_chatpwc_api\u001b[49m\u001b[43m(\u001b[49m\u001b[43mdata\u001b[49m\u001b[38;5;241;43m=\u001b[39;49m\u001b[43mdata\u001b[49m\u001b[43m)\u001b[49m\n",
      "Cell \u001b[0;32mIn[62], line 19\u001b[0m, in \u001b[0;36minteract_with_chatpwc_api\u001b[0;34m(data)\u001b[0m\n\u001b[1;32m     17\u001b[0m response\u001b[38;5;241m=\u001b[39mjson\u001b[38;5;241m.\u001b[39mloads(response\u001b[38;5;241m.\u001b[39mtext)\n\u001b[1;32m     18\u001b[0m \u001b[38;5;28mprint\u001b[39m(response)\n\u001b[0;32m---> 19\u001b[0m response\u001b[38;5;241m=\u001b[39m\u001b[43mresponse\u001b[49m\u001b[43m[\u001b[49m\u001b[38;5;124;43m\"\u001b[39;49m\u001b[38;5;124;43mchoices\u001b[39;49m\u001b[38;5;124;43m\"\u001b[39;49m\u001b[43m]\u001b[49m[\u001b[38;5;241m0\u001b[39m][\u001b[38;5;124m\"\u001b[39m\u001b[38;5;124mmessage\u001b[39m\u001b[38;5;124m\"\u001b[39m][\u001b[38;5;124m\"\u001b[39m\u001b[38;5;124mcontent\u001b[39m\u001b[38;5;124m\"\u001b[39m]\n\u001b[1;32m     20\u001b[0m \u001b[38;5;28;01mreturn\u001b[39;00m response\n",
      "\u001b[0;31mKeyError\u001b[0m: 'choices'"
     ]
    }
   ],
   "source": [
    "\n",
    "\n",
    "data = {  \n",
    "        \"messages\": [  \n",
    "            {  \n",
    "                \"role\": \"user\",  \n",
    "                \"content\":prompt\n",
    "            }  \n",
    "        ],  \n",
    "        \"max_tokens\": 16000\n",
    "        # \"stream\": True  \n",
    "    }  \n",
    "        \n",
    "        # 클라이언트에게 응답 데이터 전송\n",
    "response=interact_with_chatpwc_api(data=data)\n",
    "\n",
    "\n"
   ]
  },
  {
   "cell_type": "code",
   "execution_count": 60,
   "id": "2abedbe0-8b8f-43e2-abb8-359895cf6c76",
   "metadata": {},
   "outputs": [
    {
     "data": {
      "text/plain": [
       "'[(\"오픈AI는 이날부터 가입 절차 없이 챗GPT를 바로 사용할 수 있도록 할 것이고 단계적으로 서비스를 확대할 계획이라고 설명했다.\",\"OpenAI said that starting from today, users will be able to use ChatGPT without going through the subscription process and will gradually expand the service.\"),(\"계정 없이 챗GPT를 사용할 때는 AI를 통해 질문에 대한 답변을 얻는 기본적인 서비스는 똑같이 이용할 수 있다. 다만 로그인을 하지 않은 이용자가 챗GPT를 남용할 가능성에 대비해 오픈AI는 상당한 범위의 질문과 답변을 봉쇄할 것이라고 밝혔다.\",\"When using ChatGPT without an account, users can still use the basic service of getting answers to questions through AI. However, OpenAI said that it will block a considerable range of questions and answers to prevent abuse by unlogged users.\"),(\"로그인을 하면 추가로 이용할 수 있는 기능도 있다. 로그인을 할 경우 챗GPT에 남긴 채팅 기록을 저장하고, 검토·공유할 수 있다. 음성 대화 기능을 이용하거나 맞춤형 지시 등도 가능하다.\",\"If you log in, there are additional features available. If you log in, you can save your chat history on ChatGPT, review and share it. You can also use voice conversation functions or customized instructions.\"),(\"챗GPT는 2022년 출시돼 2개월 만에 사용자 1억명을 돌파했고 사람이 작성한 것과 비슷한 수준의 글을 몇 초 만에 내놓는 등 획기적 성능을 선보였다.\",\"ChatGPT was launched in 2022 and surpassed 100 million users in two months, and it has shown groundbreaking performance by producing texts similar to those written by humans in seconds.\"),(\"챗GPT는 지난해 5월 이용자수 18억명을 돌파한 이후에는 성장세가 둔화하고 있다.\",\"ChatGPT\\'s growth has slowed down since it surpassed 1.8 billion users in May last year.\")]'"
      ]
     },
     "execution_count": 60,
     "metadata": {},
     "output_type": "execute_result"
    }
   ],
   "source": [
    "response"
   ]
  },
  {
   "cell_type": "code",
   "execution_count": null,
   "id": "dea58903-565b-4bf9-86a9-34c90233902a",
   "metadata": {},
   "outputs": [],
   "source": []
  }
 ],
 "metadata": {
  "kernelspec": {
   "display_name": "modeling-py3.11",
   "language": "python",
   "name": "modeling-py3.11"
  },
  "language_info": {
   "codemirror_mode": {
    "name": "ipython",
    "version": 3
   },
   "file_extension": ".py",
   "mimetype": "text/x-python",
   "name": "python",
   "nbconvert_exporter": "python",
   "pygments_lexer": "ipython3",
   "version": "3.11.8"
  }
 },
 "nbformat": 4,
 "nbformat_minor": 5
}
