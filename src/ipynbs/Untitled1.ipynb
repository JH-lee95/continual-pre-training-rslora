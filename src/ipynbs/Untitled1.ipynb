{
 "cells": [
  {
   "cell_type": "code",
   "execution_count": 2,
   "id": "50d144b2-d981-4665-9778-ee2aa9879abe",
   "metadata": {},
   "outputs": [],
   "source": [
    "import requests\n",
    "import json"
   ]
  },
  {
   "cell_type": "code",
   "execution_count": null,
   "id": "ba8b8d22-142b-4d63-9056-64a999e6a8f3",
   "metadata": {},
   "outputs": [],
   "source": []
  },
  {
   "cell_type": "code",
   "execution_count": null,
   "id": "5d157252-1266-42a7-b29e-bf364dc8cb65",
   "metadata": {},
   "outputs": [],
   "source": [
    "pload = {\n",
    "    \"prompt\": prompt,\n",
    "    \"n\": n,\n",
    "    \"use_beam_search\": True,\n",
    "    \"temperature\": 0.0,\n",
    "    \"max_tokens\": 16,\n",
    "    \"stream\": stream,\n",
    "}\n",
    "response = requests.post(api_url, headers=headers, json=pload, stream=True)\n",
    "return response"
   ]
  }
 ],
 "metadata": {
  "kernelspec": {
   "display_name": "Python 3 (ipykernel)",
   "language": "python",
   "name": "python3"
  },
  "language_info": {
   "codemirror_mode": {
    "name": "ipython",
    "version": 3
   },
   "file_extension": ".py",
   "mimetype": "text/x-python",
   "name": "python",
   "nbconvert_exporter": "python",
   "pygments_lexer": "ipython3",
   "version": "3.11.8"
  }
 },
 "nbformat": 4,
 "nbformat_minor": 5
}
