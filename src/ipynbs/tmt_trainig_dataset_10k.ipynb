{
 "cells": [
  {
   "cell_type": "code",
   "execution_count": 1,
   "id": "ba414ebe-67d8-4b74-b82a-e69b4fabbf97",
   "metadata": {},
   "outputs": [],
   "source": [
    "import pandas as pd\n",
    "import numpy as np\n",
    "import datasets\n",
    "from collections import Counter \n",
    "from transformers import AutoTokenizer\n",
    "\n",
    "import pandas as pd\n",
    "from datasets import load_dataset,Dataset,concatenate_datasets\n",
    "import jsonlines\n",
    "import json"
   ]
  },
  {
   "cell_type": "code",
   "execution_count": 2,
   "id": "3f1bfd79-d8dd-416f-bef1-466bc92311e9",
   "metadata": {},
   "outputs": [],
   "source": [
    "translation_template='''You are a professional translator. Translate the following {} source text into {}. Refer to the word pairs in the glossary if the glossary exists when you translate. Do not translate the glossary it self.\n",
    "{}\n",
    "Translation:\n",
    "'''\n",
    "response_template=\"Translation:\"\n",
    "glossary_template=\"Glossary:\"\n",
    "sentence_template=\"Source:\""
   ]
  },
  {
   "cell_type": "code",
   "execution_count": 23,
   "id": "91ce4d73-a7b6-45aa-8636-011512b06eb1",
   "metadata": {},
   "outputs": [],
   "source": [
    "import os,sys\n",
    "import random\n",
    "import numpy as np\n",
    "import torch\n",
    "import pandas as pd\n",
    "from datasets import load_dataset,Dataset,concatenate_datasets\n",
    "import jsonlines\n",
    "import ipdb\n",
    "import json\n",
    "from kiwipiepy import Kiwi\n",
    "from nltk.tokenize import sent_tokenize\n",
    "import ast\n",
    "import ipdb\n",
    "\n",
    "kiwi = Kiwi()\n",
    "\n",
    "def formatting_prompt_func(template:str,*args:str):\n",
    "  '''\n",
    "  Template can be like ;\n",
    "  ### Input :\n",
    "  {}\n",
    "  ### Output :\n",
    "  {}\n",
    "  '''\n",
    "\n",
    "  return template.format(*args)\n",
    "\n",
    "\n",
    "def make_translation_input_from_dataset(data,\n",
    "                                  tokenizer,\n",
    "                                  prompt_template,\n",
    "                                  glossary_template=None,\n",
    "                                  sentence_template=None,\n",
    "                                  src:str=None, \n",
    "                                  tgt:str=None,\n",
    "                                  return_output=True,\n",
    "                                  text_split=True,\n",
    "                                  **kwargs\n",
    "                                  ):\n",
    "\n",
    "    lang_dict={\"korean\":\"Korean\",\"english\":\"English\",\"ko\":\"Korean\",\"eng\":\"English\",\"en\":\"English\"}\n",
    "    src_tgt_dict={\"en\":\"english\",\"eng\":\"english\",\"english\":\"english\",\"ko\":\"korean\",\"kor\":\"korean\",\"korean\":\"korean\"}\n",
    "\n",
    "    if not src and not tgt:\n",
    "        if \"src\" in data.keys() and \"tgt\" in data.keys():\n",
    "            src=src_tgt_dict[data[\"src\"]]\n",
    "            tgt=src_tgt_dict[data[\"tgt\"]]\n",
    "        else:\n",
    "            raise Exception(\"'src'와 'tgt'가 주어지거나, data의 key로 존재해야합니다.\")\n",
    "\n",
    "    src_text=data[src]\n",
    "    formatted_text=None\n",
    "\n",
    "    if text_split:\n",
    "        splited_sents=split_sents(lang_dict[src],src_text)\n",
    "        sent2terms = []\n",
    "        \n",
    "        if data[\"term_dict\"] is not None and len(data[\"term_dict\"]):\n",
    "            term_dict = ast.literal_eval(data[\"term_dict\"])\n",
    "\n",
    "            for s in splited_sents:\n",
    "                new_sent_parts = {}\n",
    "                for k, v in term_dict.items():\n",
    "                    if k in s:\n",
    "                        new_sent_parts[k]=v\n",
    "\n",
    "                if len(new_sent_parts):\n",
    "                    new_sent_parts=formatting_glossary(new_sent_parts,glossary_template)\n",
    "                    new_s = f\"{sentence_template}\\n{s}\\n{new_sent_parts}\\n\"\n",
    "                else:\n",
    "                    new_s=f\"{sentence_template}\\n{s}\\n\"\n",
    "\n",
    "                sent2terms.append(new_s)\n",
    "        else:\n",
    "            # Handle case of empty term_dict (e.g., directly append sentences)\n",
    "            for s in splited_sents:\n",
    "                new_s = f\"{sentence_template}\\n{s}\\n\"\n",
    "                sent2terms.append(new_s)\n",
    "\n",
    "        formatted_text=\"\".join(sent2terms).rstrip()\n",
    "            \n",
    "\n",
    "    else:\n",
    "        if data[\"term_dict\"] is not None and len(data[\"term_dict\"]):\n",
    "            term_dict = ast.literal_eval(data[\"term_dict\"])\n",
    "            term_dict=formatting_glossary(term_dict,glossary_template)\n",
    "            formatted_text=f\"{sentence_template}\\n{src_text}\\n{term_dict}\"\n",
    "\n",
    "    template=formatting_prompt_func(prompt_template,lang_dict[src],lang_dict[tgt],formatted_text)\n",
    "\n",
    "    if return_output:\n",
    "        template=template+data[tgt]+tokenizer.eos_token\n",
    "        \n",
    "    return {\"text\":template}\n",
    "\n",
    "\n",
    "def formatting_glossary(term_dict,glossary_template):\n",
    "    glossary=[f\"{k}={v}\" for k,v in term_dict.items()]\n",
    "    glossary_str=\"\\n\".join(glossary)\n",
    "    glossary_str=f\"{glossary_template}\\n{glossary_str}\".strip()\n",
    "\n",
    "    return glossary_str\n",
    "\n",
    "def split_sents(lang,\n",
    "                text,\n",
    "                ):\n",
    "\n",
    "    lang_dict={\"korean\":\"korean\",\"ko\":\"korean\",\"kor\":\"korean\",\"eng\":\"english\",\"english\":\"english\",\"en\":\"english\"}\n",
    "    src = lang_dict[lang.lower()]\n",
    "    \n",
    "    splited_sents=[]\n",
    "    paras=text.split(\"\\n\") #split text into paragraphs based on linebreak to keep its original format.\n",
    "    \n",
    "    for idx,para in enumerate(paras):\n",
    "        if len(para.strip()):\n",
    "            if src==\"korean\":\n",
    "                temp_sents=[s.text for s in kiwi.split_into_sents(para)]\n",
    "            else:\n",
    "                temp_sents=sent_tokenize(para)\n",
    "            if idx<len(paras)-1:\n",
    "                temp_sents[-1]+=\"\\n\" #keep linebreak\n",
    "            splited_sents.extend(temp_sents)\n",
    "        else:\n",
    "            splited_sents[-1]+=\"\\n\"\n",
    "\n",
    "    return splited_sents\n",
    "            "
   ]
  },
  {
   "cell_type": "code",
   "execution_count": 4,
   "id": "95efdcd2-0df0-40e6-8eb4-b5f1bd1aa9db",
   "metadata": {},
   "outputs": [],
   "source": [
    "train_dataset=Dataset.load_from_disk(\"/azurestorage/data/translation_data/aligned_dataset/prepared_for_training/training_dataset_10k/\")"
   ]
  },
  {
   "cell_type": "code",
   "execution_count": 10,
   "id": "ffb7a428-e325-4bf0-82ed-30963d8a60d3",
   "metadata": {},
   "outputs": [],
   "source": [
    "tokenizer=AutoTokenizer.from_pretrained(\"/azurestorage/models/production/tmt-eeve16k/\")"
   ]
  },
  {
   "cell_type": "code",
   "execution_count": 39,
   "id": "2042b9b5-f023-4f95-b681-d0710ec8c577",
   "metadata": {},
   "outputs": [
    {
     "name": "stdout",
     "output_type": "stream",
     "text": [
      "You are a professional translator. Translate the following English source text into Korean. Refer to the word pairs in the glossary if the glossary exists when you translate. Do not translate the glossary it self.\n",
      "Source:\n",
      "Article 48-2 (Inspections of Large Shareholders)(1)Where any of the following persons (hereafter referred to as \"large shareholder, etc.\" in this Article) fall under any of the following items, the Financial Services Commission may have the Governor of the Financial Supervisory Service inspect business and asset conditions of the relevant large shareholder, etc. within the minimum extent necessary for the purposes thereof: <Amended on Aug. 13, 2013>1.A person subject to conversion:(a)Where necessary to check the inspection result underArticle 16-3(2);(b)Where it is acknowledged that a person subject to conversion will be highly likely to engage in illegal transactions with a bank due to unhealthy financial status, such as rapid increase in debts and occurrence of huge losses, etc.;2.A non-financial investor having obtained approval pursuant toArticle 16-2(3) 3:(a)Where necessary to ascertain whether it satisfies the requirements referred to inArticle 16-2(3) 3 (a) and (c);(b)Where it is deemed that the relevant non-financial investor will be highly likely to engage in an illegal transaction with a bank due to unhealthy financial status, such as a rapid increase in debts of a non-financial company controlled by the relevant non-financial investor;3.A large shareholder of a bank (including persons who intend to be a large shareholder of a bank):(a)Where necessary for examination for approval underArticles 15(3);(b)Where a charge of violatingArticle 35-4is accepted;(c)Other cases prescribed by Presidential Decree as equivalent to items (a) and (b).(2)The specific scope and method of inspections under paragraph (1) and other matters necessary for inspections shall be prescribed by the Financial Services Commission.(3)Article 48(2) through (4) shall applymutatis mutandisto the inspections under paragraph (1).[This Article Wholly Amended on May 17, 2010]\n",
      "Glossary:\n",
      "Large Shareholders=대주주등\n",
      "Financial Services Commission=금융위원회\n",
      "Governor of the Financial Supervisory Service=금융감독원장\n",
      "business and asset conditions=업무 및 재산 상황\n",
      "person subject to conversion=전환대상자\n",
      "rapid increase in debts=차입금의 급격한 증가\n",
      "occurrence of huge losses=거액의 손실 발생\n",
      "unhealthy financial status=재무상황의 부실화\n",
      "illegal transactions=불법거래\n",
      "non-financial investor=비금융주력자\n",
      "non-financial company=비금융회사\n",
      "large shareholder of a bank=은행의 대주주\n",
      "examination for approval=승인심사\n",
      "items (a) and (b)=가목 및 나목\n",
      "Presidential Decree=대통령령\n",
      "Translation:\n",
      "제48조의2(대주주등에 대한 검사)①금융위원회는 다음 각 호의 어느 하나에 해당되는 자(이하 이 조에서 “대주주등”이라 한다)가 각각 다음 각 목의 어느 하나에 해당하는 경우에는 금융감독원장으로 하여금 그 목적에 필요한 최소한의 범위에서 해당 대주주등의 업무 및 재산 상황을 검사하게 할 수 있다.<개정 2013. 8. 13.>1.전환대상자가.제16조의3제2항에 따른 점검결과를 확인하기 위하여 필요한 경우나.전환대상자가 차입금의 급격한 증가, 거액의 손실 발생 등 재무상황의 부실화로 인하여 은행과 불법거래를 할 가능성이 크다고 인정되는 경우2.제16조의2제3항제3호에 따라 승인을 얻은 비금융주력자가.제16조의2제3항제3호가목 및 다목의 요건을 충족하는 지 여부를 확인하기 위하여 필요한 경우나.해당 비금융주력자가 지배하는 비금융회사의 차입금의 급격한 증가 등 재무상황 부실로 인하여 은행과 불법거래를 할 가능성이 크다고 인정되는 경우3.은행의 대주주(은행의 대주주가 되려고 하는 자를 포함한다)가.제15조제3항에 따른 승인심사를 위하여 필요한 경우나.제35조의4를 위반한 혐의가 인정되는 경우다.그 밖에 가목 및 나목에 준하는 경우로서 대통령령으로 정하는 경우②제1항에 따른 검사의 구체적 범위, 방법, 그 밖에 검사에 필요한 사항은 금융위원회가 정한다.③제1항에 따른 검사에 관하여는 제48조제2항부터 제4항까지를 준용한다.[전문개정 2010. 5. 17.]<|im_end|>\n"
     ]
    }
   ],
   "source": [
    "result=make_translation_input_from_dataset(train_dataset[9],\n",
    "                                  tokenizer,\n",
    "                                  prompt_template=translation_template,\n",
    "                                  glossary_template=glossary_template,\n",
    "                                  sentence_template=sentence_template,\n",
    "                                  return_output=True,\n",
    "                                  text_split=False,\n",
    "                                  )\n",
    "\n",
    "print(result[\"text\"])"
   ]
  },
  {
   "cell_type": "markdown",
   "id": "ccff3782-4a65-4216-bda7-664a62828d98",
   "metadata": {},
   "source": [
    "# New train dataset"
   ]
  },
  {
   "cell_type": "code",
   "execution_count": 30,
   "id": "64f21c11-7dd7-45d4-b557-5e844625e167",
   "metadata": {},
   "outputs": [],
   "source": [
    "train_dataset=datasets.Dataset.load_from_disk(\"/azurestorage/data/translation_data/alinged_dataset/prepared_for_training/training_dataset_20k/\")"
   ]
  },
  {
   "cell_type": "code",
   "execution_count": 85,
   "id": "5d6c5c76-709d-4c59-ac35-9021f645eb02",
   "metadata": {},
   "outputs": [],
   "source": [
    "train_df=train_dataset.to_pandas()"
   ]
  },
  {
   "cell_type": "code",
   "execution_count": 100,
   "id": "f032f752-f289-405e-874d-56a300b215e6",
   "metadata": {},
   "outputs": [],
   "source": [
    "train_df_under_100=train_df[train_df[\"korean\"].str.len()<100].sample(frac=0.35)\n",
    "train_df_over_100=train_df[train_df[\"korean\"].str.len()>=100]"
   ]
  },
  {
   "cell_type": "code",
   "execution_count": 104,
   "id": "acc8669c-aa49-4d95-8ea0-1a92de03c1a8",
   "metadata": {},
   "outputs": [
    {
     "data": {
      "text/html": [
       "<div>\n",
       "<style scoped>\n",
       "    .dataframe tbody tr th:only-of-type {\n",
       "        vertical-align: middle;\n",
       "    }\n",
       "\n",
       "    .dataframe tbody tr th {\n",
       "        vertical-align: top;\n",
       "    }\n",
       "\n",
       "    .dataframe thead th {\n",
       "        text-align: right;\n",
       "    }\n",
       "</style>\n",
       "<table border=\"1\" class=\"dataframe\">\n",
       "  <thead>\n",
       "    <tr style=\"text-align: right;\">\n",
       "      <th></th>\n",
       "      <th>english</th>\n",
       "      <th>korean</th>\n",
       "      <th>category</th>\n",
       "      <th>term_dict</th>\n",
       "      <th>id</th>\n",
       "      <th>src</th>\n",
       "      <th>tgt</th>\n",
       "      <th>length_group</th>\n",
       "    </tr>\n",
       "  </thead>\n",
       "  <tbody>\n",
       "    <tr>\n",
       "      <th>19010</th>\n",
       "      <td>Inigmaville with area for exclusive use of 244...</td>\n",
       "      <td>서울 강남구 청담동 이니그마빌 전용 244.77㎡도 2014년 10월 32억 원에 ...</td>\n",
       "      <td>경제</td>\n",
       "      <td>{'서울 강남구 청담동 이니그마빌': 'Inigmaville in Cheongdam...</td>\n",
       "      <td>618344.0</td>\n",
       "      <td>korean</td>\n",
       "      <td>english</td>\n",
       "      <td>2.0</td>\n",
       "    </tr>\n",
       "    <tr>\n",
       "      <th>1927</th>\n",
       "      <td>As Icarus does not itself contain a genetic ma...</td>\n",
       "      <td>Icarus 자체에는 유전자 표지자가 포함되어 있지 않기 때문에 snw 검사를 통해...</td>\n",
       "      <td>food</td>\n",
       "      <td></td>\n",
       "      <td>1336861.0</td>\n",
       "      <td>english</td>\n",
       "      <td>korean</td>\n",
       "      <td>NaN</td>\n",
       "    </tr>\n",
       "    <tr>\n",
       "      <th>6779</th>\n",
       "      <td>Therefore, the method of obtaining ETR can be ...</td>\n",
       "      <td>이에 ETR을 구하는 방법은 크게 GAAP ETR과 Cash ETR로 나눌 수 있으...</td>\n",
       "      <td>법률</td>\n",
       "      <td>{'ETR': 'ETR', 'GAAP ETR': 'GAAP ETR', 'Cash E...</td>\n",
       "      <td>1249742.0</td>\n",
       "      <td>english</td>\n",
       "      <td>korean</td>\n",
       "      <td>NaN</td>\n",
       "    </tr>\n",
       "    <tr>\n",
       "      <th>9508</th>\n",
       "      <td>Consequently, in this study, element decomposi...</td>\n",
       "      <td>이에 본 연구에서는 1997∼2008년과 2008∼2011년의 두 기간으로 구분하여...</td>\n",
       "      <td>경제</td>\n",
       "      <td></td>\n",
       "      <td>1265691.0</td>\n",
       "      <td>english</td>\n",
       "      <td>korean</td>\n",
       "      <td>NaN</td>\n",
       "    </tr>\n",
       "    <tr>\n",
       "      <th>15476</th>\n",
       "      <td>In France, when signing a legal document, it i...</td>\n",
       "      <td>프랑스에서는 통상적으로 법적 문서에 서명할 경우, 서명에 앞서 \"읽고 동의함\"(lu...</td>\n",
       "      <td>법률</td>\n",
       "      <td></td>\n",
       "      <td>1274058.0</td>\n",
       "      <td>english</td>\n",
       "      <td>korean</td>\n",
       "      <td>NaN</td>\n",
       "    </tr>\n",
       "  </tbody>\n",
       "</table>\n",
       "</div>"
      ],
      "text/plain": [
       "                                                 english  \\\n",
       "19010  Inigmaville with area for exclusive use of 244...   \n",
       "1927   As Icarus does not itself contain a genetic ma...   \n",
       "6779   Therefore, the method of obtaining ETR can be ...   \n",
       "9508   Consequently, in this study, element decomposi...   \n",
       "15476  In France, when signing a legal document, it i...   \n",
       "\n",
       "                                                  korean category  \\\n",
       "19010  서울 강남구 청담동 이니그마빌 전용 244.77㎡도 2014년 10월 32억 원에 ...       경제   \n",
       "1927   Icarus 자체에는 유전자 표지자가 포함되어 있지 않기 때문에 snw 검사를 통해...     food   \n",
       "6779   이에 ETR을 구하는 방법은 크게 GAAP ETR과 Cash ETR로 나눌 수 있으...       법률   \n",
       "9508   이에 본 연구에서는 1997∼2008년과 2008∼2011년의 두 기간으로 구분하여...       경제   \n",
       "15476  프랑스에서는 통상적으로 법적 문서에 서명할 경우, 서명에 앞서 \"읽고 동의함\"(lu...       법률   \n",
       "\n",
       "                                               term_dict         id      src  \\\n",
       "19010  {'서울 강남구 청담동 이니그마빌': 'Inigmaville in Cheongdam...   618344.0   korean   \n",
       "1927                                                      1336861.0  english   \n",
       "6779   {'ETR': 'ETR', 'GAAP ETR': 'GAAP ETR', 'Cash E...  1249742.0  english   \n",
       "9508                                                      1265691.0  english   \n",
       "15476                                                     1274058.0  english   \n",
       "\n",
       "           tgt  length_group  \n",
       "19010  english           2.0  \n",
       "1927    korean           NaN  \n",
       "6779    korean           NaN  \n",
       "9508    korean           NaN  \n",
       "15476   korean           NaN  "
      ]
     },
     "execution_count": 104,
     "metadata": {},
     "output_type": "execute_result"
    }
   ],
   "source": [
    "train_df_sample_10k=pd.concat([train_df_under_100,train_df_over_100]).sample(frac=1)\n",
    "train_df_sample_10k.head(5)"
   ]
  },
  {
   "cell_type": "markdown",
   "id": "26d0c356-82fb-4338-8e19-da4bede3caf7",
   "metadata": {},
   "source": [
    "# Add tax dictionary & tax paper pairs"
   ]
  },
  {
   "cell_type": "code",
   "execution_count": 13,
   "id": "ee9435b3-bb7b-419d-802e-fcccec3e7505",
   "metadata": {},
   "outputs": [],
   "source": [
    "dict_df=dict_df.drop_duplicates(subset=[0,1])"
   ]
  },
  {
   "cell_type": "code",
   "execution_count": 20,
   "id": "210f1872-a266-4841-904c-5acc56475c84",
   "metadata": {},
   "outputs": [],
   "source": [
    "dict_df=dict_df.drop_duplicates(subset=[1])"
   ]
  },
  {
   "cell_type": "code",
   "execution_count": 113,
   "id": "9b3f4f13-f9f4-4ddc-bc00-fe30e043f6be",
   "metadata": {},
   "outputs": [],
   "source": [
    "dict_df=dict_df.sample(frac=1)[[0,1]]"
   ]
  },
  {
   "cell_type": "code",
   "execution_count": 114,
   "id": "a0831fb1-a5d2-4e01-a03a-c3715349f446",
   "metadata": {},
   "outputs": [],
   "source": [
    "dict_df.columns=[\"korean\",\"english\"]"
   ]
  },
  {
   "cell_type": "code",
   "execution_count": 116,
   "id": "81670e16-f902-448a-8449-fbfe59bd3546",
   "metadata": {},
   "outputs": [],
   "source": [
    "tax_law=pd.read_excel(\"/azurestorage/data/translation_data/raw_data/세법논문_pairing.xlsx\")[[\"Korean\",\"English\"]]\n",
    "tax_law=tax_law.dropna(axis=0)\n",
    "tax_law.columns=[\"korean\",\"english\"]"
   ]
  },
  {
   "cell_type": "code",
   "execution_count": 118,
   "id": "c6c7da60-4184-4e54-8d29-f23aaedafe32",
   "metadata": {},
   "outputs": [
    {
     "name": "stdout",
     "output_type": "stream",
     "text": [
      "많은 다국적기업이 해외 시장을 개척하거나 시장점유율을 높이는 데 소요되는 광고선전비를 유통기능을 담당하는 각국의 자회사에 부담시키고, 나아가 그룹 차원의 국제마케팅활동에 소요된 비용을 각국의 자회사들로부터 국제마케팅비 명목으로 지급받는 방식으로 전가하고 있다. 자회사는 국내 광고선전비와 해외 본사에 지급한 국제마케팅비를 손금처리하기 때문에, 원천지국 입장에서는 세원이 잠식되고 소득이 이전되는 결과가 발생한다. 다국적기업의 광고선전비를 이용한 조세회피를 막기 위해, 자회사의 국내마케팅활동에 대해서는 마케팅 무형자산을 인정하고, 자회사가 부담하는 국제마케팅비에 대해서는 사용료소득으로 인식함으로써 원천지국의 과세권을 인정하는 방안에 관하여 논의할 필요가 있다. 세계 각국은 세수 확보를 위해 마케팅 무형자산 개념을 적극 활용하여 원천지국의 과세권을 행사하고 있고, 이러한 흐름은 2017년 개정된 OECD 이전가격지침과 UN 이전가격 매뉴얼에도 반영되었다. 우리나라도 국내세법에 마케팅 무형자산 개념을 도입하여 자회사의 마케팅활동에 대한 적정한 보상을 인정함으로써 원천지국과 거주지국 간 과세소득의 공정한 분배를 도모해야 한다. 자회사가 해외 본사에 국제마케팅비를 지급하는 경우, 소득구분에 따라 원천지국 과세권의 유무와 범위가 달라진다. 그 때문에 유통업자는 원가분담약정에 따른 분담금이나 그룹 내부 용역거래에 대한 대가로 보아 원천징수를 피하려고 하고, 과세관청은 사용료소득으로 보아 원천징수의무를 부과하려고 한다. 국제마케팅비는 해외 본사가 보유한 상표의 가치를 강화하는 국제마케팅활동에 쓰였으므로, 국제마케팅활동으로 인해 상승된 상표권의 사용대가, 즉 사용료소득으로 보는 것이 타당하다.\n",
      "-----------------------------\n",
      "Many multinational enterprises are burdening their subsidiaries in charge of distribution function with advertising, marketing and promotion expenses (hereinafter \"AMP expenses\") needed to pioneer overseas markets or increase market share. Subsidiaries are forced to pay for the cost of international marketing activities performed by headquarters. Subsidiaries will pay a significant amount of royalties and international marketing fees to overseas headquarters, and will deduct domestic AMP expenses and international marketing fees. Consequently, taxable income would be shifted out of the source country. To prevent tax avoidance using AMP expenses of multinational enterprises, domestic marketing activities of subsidiaries should be recognized as marketing intangibles. Also, it is necessary to discuss how to acknowledge the right of taxation in the source country by recognizing international marketing fees that the subsidiaries bear as royalty income. Countries around the world are using the concept of marketing intangibles to secure tax revenue, and this trend is reflected in the OECD Transfer Pricing Guidelines revised in 2017 and the United Nations Practical Manual on Transfer Pricing. Korea should also promote fair distribution of taxable income between the source and resident countries by incorporating the concept of marketing intangibles into the domestic tax law and recognizing appropriate compensation for the marketing activities of the subsidiaries. If a subsidiary pays international marketing fee to its overseas headquarter, the existence and scope of the right of taxation in the source country will vary depending on the classification of income. That's why distributors try to avoid withholding tax by regarding international marketing fees as CCA (Cost Contribution Arrangement) contributions or payments for intra-group services. Contrarily, the tax authorities interpret international marketing fees as royalty income and impose the withholding obligation. Since international marketing fees are used for international marketing activities to enhance the value of trademarks owned by overseas headquarters, it is reasonable to regard international marketing fee as royalty income.\n"
     ]
    }
   ],
   "source": [
    "idx=34\n",
    "\n",
    "print(tax_law[\"korean\"].iloc[idx])\n",
    "print(\"-----------------------------\")\n",
    "print(tax_law[\"english\"].iloc[idx])"
   ]
  },
  {
   "cell_type": "code",
   "execution_count": 138,
   "id": "85ee336a-e92f-4080-a77b-fa2c7bdd0b91",
   "metadata": {},
   "outputs": [],
   "source": [
    "dict_df[\"src\"]=\"korean\"\n",
    "dict_df[\"tgt\"]=\"english\"\n",
    "dict_df[\"src\"].iloc[:len(dict_df)//2]=\"english\"\n",
    "dict_df[\"tgt\"].iloc[:len(dict_df)//2]=\"korean\"\n",
    "dict_df=dict_df.sample(frac=1)"
   ]
  },
  {
   "cell_type": "code",
   "execution_count": 153,
   "id": "46aa96ca-5216-4d5a-a236-8cdfb3a48291",
   "metadata": {},
   "outputs": [],
   "source": [
    "dict_df_sample_100=dict_df.iloc[:100]"
   ]
  },
  {
   "cell_type": "code",
   "execution_count": 146,
   "id": "c2290a13-6dcb-4444-8d0e-c4a17546c0dd",
   "metadata": {},
   "outputs": [
    {
     "name": "stderr",
     "output_type": "stream",
     "text": [
      "/tmp/ipykernel_187/2306423426.py:3: FutureWarning: ChainedAssignmentError: behaviour will change in pandas 3.0!\n",
      "You are setting values through chained assignment. Currently this works in certain cases, but when using Copy-on-Write (which will become the default behaviour in pandas 3.0) this will never work to update the original DataFrame or Series, because the intermediate object on which we are setting values will behave as a copy.\n",
      "A typical example is when you are setting values in a column of a DataFrame, like:\n",
      "\n",
      "df[\"col\"][row_indexer] = value\n",
      "\n",
      "Use `df.loc[row_indexer, \"col\"] = values` instead, to perform the assignment in a single step and ensure this keeps updating the original `df`.\n",
      "\n",
      "See the caveats in the documentation: https://pandas.pydata.org/pandas-docs/stable/user_guide/indexing.html#returning-a-view-versus-a-copy\n",
      "\n",
      "  tax_law[\"src\"].iloc[:len(tax_law)//2]=\"english\"\n",
      "/tmp/ipykernel_187/2306423426.py:4: FutureWarning: ChainedAssignmentError: behaviour will change in pandas 3.0!\n",
      "You are setting values through chained assignment. Currently this works in certain cases, but when using Copy-on-Write (which will become the default behaviour in pandas 3.0) this will never work to update the original DataFrame or Series, because the intermediate object on which we are setting values will behave as a copy.\n",
      "A typical example is when you are setting values in a column of a DataFrame, like:\n",
      "\n",
      "df[\"col\"][row_indexer] = value\n",
      "\n",
      "Use `df.loc[row_indexer, \"col\"] = values` instead, to perform the assignment in a single step and ensure this keeps updating the original `df`.\n",
      "\n",
      "See the caveats in the documentation: https://pandas.pydata.org/pandas-docs/stable/user_guide/indexing.html#returning-a-view-versus-a-copy\n",
      "\n",
      "  tax_law[\"tgt\"].iloc[:len(tax_law)//2]=\"korean\"\n"
     ]
    }
   ],
   "source": [
    "tax_law[\"src\"]=\"korean\"\n",
    "tax_law[\"tgt\"]=\"english\"\n",
    "tax_law[\"src\"].iloc[:len(tax_law)//2]=\"english\"\n",
    "tax_law[\"tgt\"].iloc[:len(tax_law)//2]=\"korean\"\n",
    "tax_law=tax_law.sample(frac=1)"
   ]
  },
  {
   "cell_type": "code",
   "execution_count": 161,
   "id": "7ffbde0b-70ce-4a47-8655-4d752eac23e6",
   "metadata": {},
   "outputs": [],
   "source": [
    "train_df_concat=pd.concat([train_df_sample_10k,dict_df_sample_100,tax_law]).sample(frac=1).reset_index(drop=True)"
   ]
  },
  {
   "cell_type": "code",
   "execution_count": 162,
   "id": "fbdd62d8-af80-4bf6-92bb-45c1db58af37",
   "metadata": {},
   "outputs": [],
   "source": [
    "train_dataset_10k=datasets.Dataset.from_pandas(train_df_concat)"
   ]
  },
  {
   "cell_type": "code",
   "execution_count": 238,
   "id": "4a3d3535-d36f-4af6-b90d-6a8a4d35e723",
   "metadata": {},
   "outputs": [
    {
     "data": {
      "text/plain": [
       "{'english': 'Article XII Paragraph 1 of Article 22 (Elimination of Double Taxation) of the Convention shall be deleted and replaced by the following: “1. Subject to the provisions of Korean tax law regarding the allowance as a credit against Korean tax of tax payable in any country other than Korea (which shall not affect the general principle hereof): (a) the Swiss tax payable (excluding, in the case of a dividend, tax payable in respect of profits out of which the dividend is paid) under the laws of Switzerland and in accordance with this Convention, whether directly or by deduction, in respect of income from sources within Switzerland shall be allowed as a credit against Korean tax payable in respect of that income. The credit shall not, however, exceed that portion of Korean tax which the income from sources within Switzerland bears to the entire income subject to Korean tax. (b) In the case of a dividend paid by a company which is a resident of Switzerland to a company which is a resident of Korea and which owns not less than 10 per cent of the shares of the company paying the dividend, the credit shall take into account (in addition to any Swiss tax for which credit may be allowed under the provisions of subparagraph (a) of this paragraph) the Swiss tax payable by the company paying the dividend in respect of the profits out of which such dividend is paid.',\n",
       " 'korean': '제 12 조 협약 제22조(이중과세의 배제)제1항을 삭제하고, 다음과 같이 대체한다. “1. 한국 이외의 국가에서 납부할 조세에 대하여 한국의 조세에서 세액공제를 허용하는 한국 세법의 규정(이 규정의 일반적인 원칙에 영향을 미쳐서는 아니된다)에 따를 것을 조건으로, 가) 스위스법과 이 협약에 따라 납부해야 하는 스위스의 조세(배당의 경우, 그 배당의 지급원인이 되는 이윤에 대한 납부세액은 제외)는, 스위스 내의 원천에서 발생한 소득과 관련하여, 직접적이든 또는 공제에 의하든지에 상관없이, 그 소득과 관련한 한국 납부세액에 대하여 공제가 허용된다. 그러나 그 공제액은 스위스 내의 원천으로부터 발생한 소득이 한국의 조세가 부과되는 전체 소득에 대하여 차지하는 비율에 해당하는 한국의 조세액을 초과하지 아니한다. 나) 스위스의 거주자인 법인이, 한국의 거주자이며 배당을 지급하는 법인의 주식의 10퍼센트 이상을 보유하는 법인에게 지급한 배당의 경우, 세액공제를 할 때 그 배당의 지급원인이 되는 이윤에 대하여 그 배당을 지급하는 법인이 납부해야 하는 스위스의 조세를 (이 항 세항 가)에 따라 공제가 허용될 수 있는 모든 스위스의 조세에 추가하여) 고려한다.”',\n",
       " 'category': 'pilar',\n",
       " 'term_dict': '',\n",
       " 'id': None,\n",
       " 'src': 'english',\n",
       " 'tgt': 'korean',\n",
       " 'length_group': None}"
      ]
     },
     "execution_count": 238,
     "metadata": {},
     "output_type": "execute_result"
    }
   ],
   "source": [
    "train_dataset_10k[67]"
   ]
  },
  {
   "cell_type": "code",
   "execution_count": 239,
   "id": "92f0aa09-4d76-470f-8629-6566a89de538",
   "metadata": {},
   "outputs": [
    {
     "data": {
      "application/vnd.jupyter.widget-view+json": {
       "model_id": "b5bcff41f80d4101befbcfacfbca8ca5",
       "version_major": 2,
       "version_minor": 0
      },
      "text/plain": [
       "Saving the dataset (0/1 shards):   0%|          | 0/10819 [00:00<?, ? examples/s]"
      ]
     },
     "metadata": {},
     "output_type": "display_data"
    }
   ],
   "source": [
    "train_dataset_10k.save_to_disk(\"/azurestorage/data/translation_data/alinged_dataset/prepared_for_training/training_dataset_10k/\")"
   ]
  },
  {
   "cell_type": "markdown",
   "id": "df6fa1f1-e318-4c25-b473-b8405f5a3091",
   "metadata": {},
   "source": [
    "# few shot dataset"
   ]
  },
  {
   "cell_type": "code",
   "execution_count": 2,
   "id": "984939b6-ba32-455e-8afb-92f2231ff168",
   "metadata": {},
   "outputs": [],
   "source": [
    "dastset_few=Dataset.load_from_disk(\"/azurestorage/data/translation_data/aligned_dataset/prepared_for_training/training_dataset_124shots/\")"
   ]
  },
  {
   "cell_type": "code",
   "execution_count": 3,
   "id": "4f5d7faa-3c2d-460c-9fd4-d85015cd7d6f",
   "metadata": {},
   "outputs": [],
   "source": [
    "dataset_10k=Dataset.load_from_disk(\"/azurestorage/data/translation_data/aligned_dataset/prepared_for_training/training_dataset_10k/\")"
   ]
  },
  {
   "cell_type": "code",
   "execution_count": 5,
   "id": "94962a43-adf1-4362-b627-e194e73ba119",
   "metadata": {},
   "outputs": [],
   "source": [
    "filtered_dataset_10k=dataset_10k.filter(lambda x:x[\"category\"]==None or x[\"category\"] in [\"ele_sci\",\"etc\",\"food\",\"human_art\",\"경제\",\"shatgpt\",'구어체_대화체'])\n",
    "filtered_dataset_10k=filtered_dataset_10k.filter(lambda x:\"AAA\" not in x[\"korean\"])"
   ]
  },
  {
   "cell_type": "code",
   "execution_count": 6,
   "id": "9e6afdc7-06c7-4993-90ae-8f52cfc87dc8",
   "metadata": {},
   "outputs": [],
   "source": [
    "filtered_dataset_few=dastset_few.filter(lambda x:x[\"category\"] in [ '법률','육운·항공·관광','재경·경제일반',\"ifrs_esg\",\"pilar\"])"
   ]
  },
  {
   "cell_type": "code",
   "execution_count": 79,
   "id": "87bb2c76-d2f2-47e2-b93b-32627c9b97ec",
   "metadata": {},
   "outputs": [],
   "source": [
    "new_dataset_7k=concatenate_datasets([filtered_dataset_10k,filtered_dataset_few]).shuffle()"
   ]
  },
  {
   "cell_type": "code",
   "execution_count": 80,
   "id": "ac95a054-8563-4790-9bc5-d0668e1b7e90",
   "metadata": {},
   "outputs": [],
   "source": [
    "new_dataset_7k_df=new_dataset_7k.to_pandas()"
   ]
  },
  {
   "cell_type": "code",
   "execution_count": 85,
   "id": "b6aba797-1e70-4ecf-8ed8-a78553400ea7",
   "metadata": {},
   "outputs": [],
   "source": [
    "new_dataset_7k_df=new_dataset_7k_df.drop_duplicates(subset=[\"english\",\"korean\"])"
   ]
  },
  {
   "cell_type": "code",
   "execution_count": 86,
   "id": "c592a5d8-0899-4c97-9961-b6f723744b68",
   "metadata": {},
   "outputs": [],
   "source": [
    "new_dataset_7k=Dataset.from_pandas(new_dataset_7k_df)\n",
    "new_dataset_7k.save_to_disk(\"/azurestorage/data/translation_data/aligned_dataset/prepared_for_training/training_dataset_7k/\")"
   ]
  },
  {
   "cell_type": "markdown",
   "id": "ddef2c0a-e137-4c0b-bf73-7b5ccd545e3a",
   "metadata": {},
   "source": [
    "### check 7k dataset"
   ]
  },
  {
   "cell_type": "code",
   "execution_count": 2,
   "id": "572a7fdc-89ba-4b44-81ae-f8c2bbf3fca9",
   "metadata": {},
   "outputs": [],
   "source": [
    "dataset_7k=Dataset.load_from_disk(\"/azurestorage/data/translation_data/aligned_dataset/prepared_for_training/training_dataset_7k/\")"
   ]
  },
  {
   "cell_type": "code",
   "execution_count": 4,
   "id": "ee614e16-a772-494f-89c1-357b4cd17856",
   "metadata": {},
   "outputs": [
    {
     "data": {
      "text/plain": [
       "Counter({'경제': 4927,\n",
       "         'etc': 1393,\n",
       "         None: 277,\n",
       "         'shatgpt': 246,\n",
       "         'food': 29,\n",
       "         'pilar': 21,\n",
       "         'ele_sci': 20,\n",
       "         '구어체_대화체': 14,\n",
       "         'human_art': 7,\n",
       "         '법률': 5,\n",
       "         'ifrs esg': 3,\n",
       "         '육운·항공·관광': 1,\n",
       "         '재경·경제일반': 1})"
      ]
     },
     "execution_count": 4,
     "metadata": {},
     "output_type": "execute_result"
    }
   ],
   "source": [
    "Counter(dataset_7k[\"category\"])"
   ]
  },
  {
   "cell_type": "code",
   "execution_count": 5,
   "id": "081bcf9d-9fe1-4c19-a5d8-c2b65818dc49",
   "metadata": {},
   "outputs": [],
   "source": [
    "dataset_7k_df=dataset_7k.to_pandas()"
   ]
  },
  {
   "cell_type": "code",
   "execution_count": 32,
   "id": "5cfeefd6-949e-41cf-8a29-faa939d0718d",
   "metadata": {},
   "outputs": [],
   "source": [
    "dataset_full=Dataset.load_from_disk(\"/azurestorage/data/translation_data/aligned_dataset/prepared_for_training/translation_dataset_training_290k/\")\n",
    "dataset_full_df=dataset_full.to_pandas()\n",
    "\n",
    "a=dataset_full_df[dataset_full_df[\"category\"]==\"human_art\"].sample(frac=1)\n",
    "b=dataset_full_df[dataset_full_df[\"category\"]==\"food\"].sample(frac=1)\n",
    "c=dataset_full_df[dataset_full_df[\"category\"]==\"ele_sci\"].sample(frac=1)\n",
    "d=dataset_full_df[dataset_full_df[\"category\"]==\"구어체_대화체\"].sample(frac=1)\n",
    "e=dataset_full_df[dataset_full_df[\"category\"]==\"etc\"].sample(frac=1).iloc[:3000]\n",
    "f=dataset_full_df[dataset_full_df[\"category\"]==\"shatgpt\"].sample(frac=1).iloc[:1000]\n",
    "\n",
    "\n",
    "sampled_df=pd.concat([a,b,c,d,e,f]).sample(frac=1).reset_index(drop=True).drop_duplicates([\"english\",\"korean\"]).sample(frac=1).reset_index(drop=True)"
   ]
  },
  {
   "cell_type": "code",
   "execution_count": 36,
   "id": "9dfab84b-e97f-4e74-b33e-3119cc75c870",
   "metadata": {},
   "outputs": [],
   "source": [
    "df_w_term_dict=sampled_df[sampled_df[\"term_dict\"].str.len()>0]\n",
    "df_wo_term_dict=sampled_df[sampled_df[\"term_dict\"].str.len()<1].sample(frac=0.6)\n",
    "\n",
    "df_11k=pd.concat([dataset_7k_df,df_w_term_dict,df_wo_term_dict]).drop_duplicates([\"english\",\"korean\"]).sample(frac=1).reset_index(drop=True).drop(\"__index_level_0__\",axis=1)"
   ]
  },
  {
   "cell_type": "code",
   "execution_count": 37,
   "id": "a2b26c8f-fc60-47a5-a35f-6e6a740a29cb",
   "metadata": {},
   "outputs": [
    {
     "data": {
      "application/vnd.jupyter.widget-view+json": {
       "model_id": "66a5eac74ec9476081a5af509b1a9cfb",
       "version_major": 2,
       "version_minor": 0
      },
      "text/plain": [
       "Saving the dataset (0/1 shards):   0%|          | 0/11803 [00:00<?, ? examples/s]"
      ]
     },
     "metadata": {},
     "output_type": "display_data"
    }
   ],
   "source": [
    "dataset_11k=Dataset.from_pandas(df_11k)\n",
    "dataset_11k.save_to_disk(\"/azurestorage/data/translation_data/aligned_dataset/prepared_for_training/training_dataset_11k/\")"
   ]
  },
  {
   "cell_type": "code",
   "execution_count": 38,
   "id": "d4e04bf7-ebd3-4b32-8a63-c196491e32d2",
   "metadata": {},
   "outputs": [
    {
     "data": {
      "text/plain": [
       "Dataset({\n",
       "    features: ['english', 'korean', 'category', 'term_dict', 'id', 'src', 'tgt', 'length_group', 'length'],\n",
       "    num_rows: 11803\n",
       "})"
      ]
     },
     "execution_count": 38,
     "metadata": {},
     "output_type": "execute_result"
    }
   ],
   "source": [
    "dataset_11k"
   ]
  },
  {
   "cell_type": "code",
   "execution_count": 39,
   "id": "2da12a09-e641-4d99-9e61-267963a62408",
   "metadata": {},
   "outputs": [
    {
     "data": {
      "text/plain": [
       "Counter({'경제': 4927,\n",
       "         'etc': 3447,\n",
       "         'shatgpt': 953,\n",
       "         'food': 668,\n",
       "         'ele_sci': 616,\n",
       "         '구어체_대화체': 601,\n",
       "         'human_art': 283,\n",
       "         None: 277,\n",
       "         'pilar': 21,\n",
       "         '법률': 5,\n",
       "         'ifrs esg': 3,\n",
       "         '육운·항공·관광': 1,\n",
       "         '재경·경제일반': 1})"
      ]
     },
     "execution_count": 39,
     "metadata": {},
     "output_type": "execute_result"
    }
   ],
   "source": [
    "Counter(dataset_11k[\"category\"])"
   ]
  },
  {
   "cell_type": "markdown",
   "id": "e73e6710-4b9d-4711-9130-f375e26d9e55",
   "metadata": {},
   "source": [
    "### 7k dataset "
   ]
  },
  {
   "cell_type": "markdown",
   "id": "37052539-4d6f-4598-906c-9f191bdb4d30",
   "metadata": {},
   "source": [
    "## sampling"
   ]
  },
  {
   "cell_type": "code",
   "execution_count": 9,
   "id": "e08710bd-f744-41da-9918-9cf6c65db16e",
   "metadata": {},
   "outputs": [
    {
     "data": {
      "text/plain": [
       "Counter({'경제': 4927,\n",
       "         'etc': 1393,\n",
       "         None: 279,\n",
       "         'shatgpt': 246,\n",
       "         'food': 29,\n",
       "         'ele_sci': 20,\n",
       "         '구어체_대화체': 14,\n",
       "         'human_art': 7})"
      ]
     },
     "execution_count": 9,
     "metadata": {},
     "output_type": "execute_result"
    }
   ],
   "source": [
    "Counter(filtered_dataset_10k[\"category\"])"
   ]
  },
  {
   "cell_type": "code",
   "execution_count": null,
   "id": "8e21a449-c0f4-4b62-8502-dc43511cc826",
   "metadata": {},
   "outputs": [],
   "source": [
    "filtered_dataset_10k[\"category\"]"
   ]
  },
  {
   "cell_type": "code",
   "execution_count": 28,
   "id": "1ae67c7d-1428-495f-ad46-05c4fff6846e",
   "metadata": {},
   "outputs": [
    {
     "data": {
      "text/plain": [
       "array(['경제', 'etc', 'shatgpt', 'food', None, '구어체_대화체', 'human_art',\n",
       "       'ele_sci'], dtype=object)"
      ]
     },
     "execution_count": 28,
     "metadata": {},
     "output_type": "execute_result"
    }
   ],
   "source": [
    "filtered_dataset_10k_df[\"category\"].unique()"
   ]
  },
  {
   "cell_type": "code",
   "execution_count": 26,
   "id": "6ee0f43d-d9a6-478f-89f9-3f36f55b4c64",
   "metadata": {},
   "outputs": [
    {
     "ename": "KeyError",
     "evalue": "False",
     "output_type": "error",
     "traceback": [
      "\u001b[0;31m---------------------------------------------------------------------------\u001b[0m",
      "\u001b[0;31mKeyError\u001b[0m                                  Traceback (most recent call last)",
      "File \u001b[0;32m~/.cache/pypoetry/virtualenvs/modeling-GRV9YhML-py3.11/lib/python3.11/site-packages/pandas/core/indexes/base.py:3805\u001b[0m, in \u001b[0;36mIndex.get_loc\u001b[0;34m(self, key)\u001b[0m\n\u001b[1;32m   3804\u001b[0m \u001b[38;5;28;01mtry\u001b[39;00m:\n\u001b[0;32m-> 3805\u001b[0m     \u001b[38;5;28;01mreturn\u001b[39;00m \u001b[38;5;28;43mself\u001b[39;49m\u001b[38;5;241;43m.\u001b[39;49m\u001b[43m_engine\u001b[49m\u001b[38;5;241;43m.\u001b[39;49m\u001b[43mget_loc\u001b[49m\u001b[43m(\u001b[49m\u001b[43mcasted_key\u001b[49m\u001b[43m)\u001b[49m\n\u001b[1;32m   3806\u001b[0m \u001b[38;5;28;01mexcept\u001b[39;00m \u001b[38;5;167;01mKeyError\u001b[39;00m \u001b[38;5;28;01mas\u001b[39;00m err:\n",
      "File \u001b[0;32mindex.pyx:167\u001b[0m, in \u001b[0;36mpandas._libs.index.IndexEngine.get_loc\u001b[0;34m()\u001b[0m\n",
      "File \u001b[0;32mindex.pyx:196\u001b[0m, in \u001b[0;36mpandas._libs.index.IndexEngine.get_loc\u001b[0;34m()\u001b[0m\n",
      "File \u001b[0;32mpandas/_libs/hashtable_class_helper.pxi:7081\u001b[0m, in \u001b[0;36mpandas._libs.hashtable.PyObjectHashTable.get_item\u001b[0;34m()\u001b[0m\n",
      "File \u001b[0;32mpandas/_libs/hashtable_class_helper.pxi:7089\u001b[0m, in \u001b[0;36mpandas._libs.hashtable.PyObjectHashTable.get_item\u001b[0;34m()\u001b[0m\n",
      "\u001b[0;31mKeyError\u001b[0m: False",
      "\nThe above exception was the direct cause of the following exception:\n",
      "\u001b[0;31mKeyError\u001b[0m                                  Traceback (most recent call last)",
      "Cell \u001b[0;32mIn[26], line 1\u001b[0m\n\u001b[0;32m----> 1\u001b[0m none_sampled\u001b[38;5;241m=\u001b[39m\u001b[43mfiltered_dataset_10k_df\u001b[49m\u001b[43m[\u001b[49m\u001b[43mfiltered_dataset_10k_df\u001b[49m\u001b[43m[\u001b[49m\u001b[38;5;124;43m\"\u001b[39;49m\u001b[38;5;124;43mcategory\u001b[39;49m\u001b[38;5;124;43m\"\u001b[39;49m\u001b[43m]\u001b[49m\u001b[43m \u001b[49m\u001b[38;5;129;43;01mis\u001b[39;49;00m\u001b[43m \u001b[49m\u001b[38;5;28;43;01mNone\u001b[39;49;00m\u001b[43m]\u001b[49m\u001b[38;5;241m.\u001b[39msample(frac\u001b[38;5;241m=\u001b[39m\u001b[38;5;241m0.1\u001b[39m)\n",
      "File \u001b[0;32m~/.cache/pypoetry/virtualenvs/modeling-GRV9YhML-py3.11/lib/python3.11/site-packages/pandas/core/frame.py:4102\u001b[0m, in \u001b[0;36mDataFrame.__getitem__\u001b[0;34m(self, key)\u001b[0m\n\u001b[1;32m   4100\u001b[0m \u001b[38;5;28;01mif\u001b[39;00m \u001b[38;5;28mself\u001b[39m\u001b[38;5;241m.\u001b[39mcolumns\u001b[38;5;241m.\u001b[39mnlevels \u001b[38;5;241m>\u001b[39m \u001b[38;5;241m1\u001b[39m:\n\u001b[1;32m   4101\u001b[0m     \u001b[38;5;28;01mreturn\u001b[39;00m \u001b[38;5;28mself\u001b[39m\u001b[38;5;241m.\u001b[39m_getitem_multilevel(key)\n\u001b[0;32m-> 4102\u001b[0m indexer \u001b[38;5;241m=\u001b[39m \u001b[38;5;28;43mself\u001b[39;49m\u001b[38;5;241;43m.\u001b[39;49m\u001b[43mcolumns\u001b[49m\u001b[38;5;241;43m.\u001b[39;49m\u001b[43mget_loc\u001b[49m\u001b[43m(\u001b[49m\u001b[43mkey\u001b[49m\u001b[43m)\u001b[49m\n\u001b[1;32m   4103\u001b[0m \u001b[38;5;28;01mif\u001b[39;00m is_integer(indexer):\n\u001b[1;32m   4104\u001b[0m     indexer \u001b[38;5;241m=\u001b[39m [indexer]\n",
      "File \u001b[0;32m~/.cache/pypoetry/virtualenvs/modeling-GRV9YhML-py3.11/lib/python3.11/site-packages/pandas/core/indexes/base.py:3812\u001b[0m, in \u001b[0;36mIndex.get_loc\u001b[0;34m(self, key)\u001b[0m\n\u001b[1;32m   3807\u001b[0m     \u001b[38;5;28;01mif\u001b[39;00m \u001b[38;5;28misinstance\u001b[39m(casted_key, \u001b[38;5;28mslice\u001b[39m) \u001b[38;5;129;01mor\u001b[39;00m (\n\u001b[1;32m   3808\u001b[0m         \u001b[38;5;28misinstance\u001b[39m(casted_key, abc\u001b[38;5;241m.\u001b[39mIterable)\n\u001b[1;32m   3809\u001b[0m         \u001b[38;5;129;01mand\u001b[39;00m \u001b[38;5;28many\u001b[39m(\u001b[38;5;28misinstance\u001b[39m(x, \u001b[38;5;28mslice\u001b[39m) \u001b[38;5;28;01mfor\u001b[39;00m x \u001b[38;5;129;01min\u001b[39;00m casted_key)\n\u001b[1;32m   3810\u001b[0m     ):\n\u001b[1;32m   3811\u001b[0m         \u001b[38;5;28;01mraise\u001b[39;00m InvalidIndexError(key)\n\u001b[0;32m-> 3812\u001b[0m     \u001b[38;5;28;01mraise\u001b[39;00m \u001b[38;5;167;01mKeyError\u001b[39;00m(key) \u001b[38;5;28;01mfrom\u001b[39;00m \u001b[38;5;21;01merr\u001b[39;00m\n\u001b[1;32m   3813\u001b[0m \u001b[38;5;28;01mexcept\u001b[39;00m \u001b[38;5;167;01mTypeError\u001b[39;00m:\n\u001b[1;32m   3814\u001b[0m     \u001b[38;5;66;03m# If we have a listlike key, _check_indexing_error will raise\u001b[39;00m\n\u001b[1;32m   3815\u001b[0m     \u001b[38;5;66;03m#  InvalidIndexError. Otherwise we fall through and re-raise\u001b[39;00m\n\u001b[1;32m   3816\u001b[0m     \u001b[38;5;66;03m#  the TypeError.\u001b[39;00m\n\u001b[1;32m   3817\u001b[0m     \u001b[38;5;28mself\u001b[39m\u001b[38;5;241m.\u001b[39m_check_indexing_error(key)\n",
      "\u001b[0;31mKeyError\u001b[0m: False"
     ]
    }
   ],
   "source": [
    "none_sampled=filtered_dataset_10k_df[filtered_dataset_10k_df[\"category\"] is None].sample(frac=0.1)"
   ]
  },
  {
   "cell_type": "code",
   "execution_count": 27,
   "id": "82f484d9-856e-4190-99c3-79e82ae4773c",
   "metadata": {},
   "outputs": [],
   "source": [
    "filtered_dataset_10k_df=filtered_dataset_10k.to_pandas()"
   ]
  },
  {
   "cell_type": "code",
   "execution_count": 42,
   "id": "89bed31f-e676-4e3e-8b02-5cb628730c86",
   "metadata": {},
   "outputs": [],
   "source": [
    "filtered_dataset_10k_df=filtered_dataset_10k.to_pandas()\n",
    "eco_sampled=filtered_dataset_10k_df[filtered_dataset_10k_df[\"category\"]==\"경제\"].sample(frac=0.1)\n",
    "etc_sampled=filtered_dataset_10k_df[filtered_dataset_10k_df[\"category\"]==\"etc\"].sample(frac=0.1)\n",
    "none_sampled=filtered_dataset_10k_df[~filtered_dataset_10k_df[\"category\"].isin(['경제', 'etc', 'shatgpt', 'food', '구어체_대화체', 'human_art','ele_sci'])].sample(frac=0.2)\n",
    "\n",
    "rest=filtered_dataset_10k_df[filtered_dataset_10k_df[\"category\"].isin([\"food\",\"shatgpt\",\"ele_sci\",\"구어체_대화체\",\"human_art\"])]\n",
    "\n",
    "new_dataset_1k_df=pd.concat([eco_sampled,etc_sampled,none_sampled,rest])"
   ]
  },
  {
   "cell_type": "code",
   "execution_count": 47,
   "id": "733d7af6-867d-47bb-a4e4-148ecbd32a37",
   "metadata": {},
   "outputs": [
    {
     "data": {
      "application/vnd.jupyter.widget-view+json": {
       "model_id": "951067b06ca14566bc966a87034cf8a5",
       "version_major": 2,
       "version_minor": 0
      },
      "text/plain": [
       "Saving the dataset (0/1 shards):   0%|          | 0/1004 [00:00<?, ? examples/s]"
      ]
     },
     "metadata": {},
     "output_type": "display_data"
    }
   ],
   "source": [
    "new_dataset_1k=Dataset.from_pandas(new_dataset_1k_df)\n",
    "new_dataset_1k.save_to_disk(\"/azurestorage/data/translation_data/aligned_dataset/prepared_for_training/training_dataset_1k/\")"
   ]
  },
  {
   "cell_type": "markdown",
   "id": "a636330f-3b40-477f-a755-bfa494867809",
   "metadata": {},
   "source": [
    "## 1k + diverse topic"
   ]
  },
  {
   "cell_type": "code",
   "execution_count": 2,
   "id": "a3b8c66f-7106-4d5b-9097-d6383fad9ef1",
   "metadata": {},
   "outputs": [],
   "source": [
    "dataset_1k=Dataset.load_from_disk(\"/azurestorage/data/translation_data/aligned_dataset/prepared_for_training/training_dataset_1k/\")"
   ]
  },
  {
   "cell_type": "code",
   "execution_count": 95,
   "id": "60cbedfa-4d11-443b-8a1a-e7048ed6f1b9",
   "metadata": {},
   "outputs": [
    {
     "data": {
      "text/plain": [
       "'그 외에도 카지노 관련주인 강원랜드(-1.06%), GKL(-1.26%), 파라다이스(-2.17%) 등도 중국인 관광객 등의 수요가 줄 것이라는 우려로 주가가 하락하고 있다.'"
      ]
     },
     "execution_count": 95,
     "metadata": {},
     "output_type": "execute_result"
    }
   ],
   "source": [
    "dataset_1k[1053][\"korean\"]"
   ]
  },
  {
   "cell_type": "code",
   "execution_count": 4,
   "id": "5c9edd46-c7ea-4127-831d-be4e6a176e9e",
   "metadata": {},
   "outputs": [
    {
     "data": {
      "text/plain": [
       "Counter({'경제': 493,\n",
       "         'shatgpt': 246,\n",
       "         'etc': 139,\n",
       "         None: 56,\n",
       "         'food': 29,\n",
       "         'ele_sci': 20,\n",
       "         '구어체_대화체': 14,\n",
       "         'human_art': 7})"
      ]
     },
     "execution_count": 4,
     "metadata": {},
     "output_type": "execute_result"
    }
   ],
   "source": [
    "Counter(dataset_1k[\"category\"])"
   ]
  },
  {
   "cell_type": "code",
   "execution_count": 5,
   "id": "83c75df8-775b-404d-8425-1f3d8b4e1701",
   "metadata": {},
   "outputs": [],
   "source": [
    "dataset_few_shot=Dataset.load_from_disk(\"/azurestorage/data/translation_data/aligned_dataset/prepared_for_training/training_dataset_124shots/\")"
   ]
  },
  {
   "cell_type": "code",
   "execution_count": 6,
   "id": "cfb3ea03-c9ef-46c6-9412-828f12fbd534",
   "metadata": {},
   "outputs": [
    {
     "data": {
      "text/plain": [
       "Counter({'경제': 36,\n",
       "         None: 23,\n",
       "         'pilar': 21,\n",
       "         'shatgpt': 20,\n",
       "         'etc': 12,\n",
       "         '법률': 5,\n",
       "         'ifrs esg': 3,\n",
       "         '구어체_대화체': 2,\n",
       "         '재경·경제일반': 1,\n",
       "         '육운·항공·관광': 1})"
      ]
     },
     "execution_count": 6,
     "metadata": {},
     "output_type": "execute_result"
    }
   ],
   "source": [
    "Counter(dataset_few_shot[\"category\"])"
   ]
  },
  {
   "cell_type": "code",
   "execution_count": 9,
   "id": "0ab5f987-c50b-479b-9f7e-71d021b2d6d2",
   "metadata": {},
   "outputs": [],
   "source": [
    "dataset_1k_df=dataset_1k.to_pandas()\n",
    "dataset_few_shot_df=dataset_few_shot.to_pandas()\n",
    "\n",
    "dataset_new_1k_df=pd.concat([dataset_1k_df,dataset_few_shot_df]).drop_duplicates(subset=[\"korean\",\"english\"]).sample(frac=1).drop(\"__index_level_0__\",axis=1)\n",
    "dataset_new_1k=Dataset.from_pandas(dataset_new_1k_df)\n",
    "dataset_new_1k=dataset_new_1k.remove_columns( '__index_level_0__')"
   ]
  },
  {
   "cell_type": "code",
   "execution_count": 12,
   "id": "92275daf-536a-47fe-91c0-d60feb1b22c8",
   "metadata": {},
   "outputs": [
    {
     "data": {
      "application/vnd.jupyter.widget-view+json": {
       "model_id": "fd52b612b86b4d8186c6b226919d1749",
       "version_major": 2,
       "version_minor": 0
      },
      "text/plain": [
       "Saving the dataset (0/1 shards):   0%|          | 0/1100 [00:00<?, ? examples/s]"
      ]
     },
     "metadata": {},
     "output_type": "display_data"
    }
   ],
   "source": [
    "dataset_new_1k.save_to_disk(\"/nvme0/data/training_dataset_1.1k/\")"
   ]
  },
  {
   "cell_type": "code",
   "execution_count": 26,
   "id": "5f9ccda9-84ea-42a4-96db-dca048f988b8",
   "metadata": {},
   "outputs": [
    {
     "data": {
      "text/plain": [
       "Counter({'경제': 528,\n",
       "         'shatgpt': 246,\n",
       "         'etc': 149,\n",
       "         None: 76,\n",
       "         'food': 29,\n",
       "         'pilar': 21,\n",
       "         'ele_sci': 20,\n",
       "         '구어체_대화체': 14,\n",
       "         'human_art': 7,\n",
       "         '법률': 5,\n",
       "         'ifrs esg': 3,\n",
       "         '육운·항공·관광': 1,\n",
       "         '재경·경제일반': 1})"
      ]
     },
     "execution_count": 26,
     "metadata": {},
     "output_type": "execute_result"
    }
   ],
   "source": [
    "Counter(dataset_new_1k[\"category\"])"
   ]
  },
  {
   "cell_type": "code",
   "execution_count": 4,
   "id": "aad3614e-d7f4-489a-b975-6204b67dacb3",
   "metadata": {},
   "outputs": [],
   "source": [
    "dataset_full=Dataset.load_from_disk(\"/azurestorage/data/translation_data/aligned_dataset/prepared_for_training/translation_dataset_training_290k/\")"
   ]
  },
  {
   "cell_type": "code",
   "execution_count": 29,
   "id": "6baf761e-befa-42ca-8761-2cefc61980e2",
   "metadata": {},
   "outputs": [
    {
     "data": {
      "text/plain": [
       "Counter({'경제': 119417,\n",
       "         'shatgpt': 65634,\n",
       "         '법률': 50264,\n",
       "         'etc': 48388,\n",
       "         '구어체_대화체': 1000,\n",
       "         '재경·경제일반': 961,\n",
       "         'food': 946,\n",
       "         'ele_sci': 903,\n",
       "         '환경·노동': 649,\n",
       "         '상업·무역·공업': 623,\n",
       "         '주택·건축·도로': 535,\n",
       "         'human_art': 412,\n",
       "         '농업·수산': 388,\n",
       "         '육운·항공·관광': 358,\n",
       "         '민사법': 353,\n",
       "         'ifrs esg': 171,\n",
       "         '정보통신': 169})"
      ]
     },
     "execution_count": 29,
     "metadata": {},
     "output_type": "execute_result"
    }
   ],
   "source": [
    "Counter(dataset_full[\"category\"])"
   ]
  },
  {
   "cell_type": "code",
   "execution_count": 27,
   "id": "efeb57d1-75fb-44be-a0c8-ff255f7054af",
   "metadata": {},
   "outputs": [],
   "source": [
    "dataset_full_df=dataset_full.to_pandas()"
   ]
  },
  {
   "cell_type": "code",
   "execution_count": 57,
   "id": "3bb24499-d1ab-4379-a956-5d2f81bfb5ec",
   "metadata": {},
   "outputs": [
    {
     "data": {
      "text/html": [
       "<div>\n",
       "<style scoped>\n",
       "    .dataframe tbody tr th:only-of-type {\n",
       "        vertical-align: middle;\n",
       "    }\n",
       "\n",
       "    .dataframe tbody tr th {\n",
       "        vertical-align: top;\n",
       "    }\n",
       "\n",
       "    .dataframe thead th {\n",
       "        text-align: right;\n",
       "    }\n",
       "</style>\n",
       "<table border=\"1\" class=\"dataframe\">\n",
       "  <thead>\n",
       "    <tr style=\"text-align: right;\">\n",
       "      <th></th>\n",
       "      <th>english</th>\n",
       "      <th>korean</th>\n",
       "      <th>category</th>\n",
       "      <th>term_dict</th>\n",
       "      <th>id</th>\n",
       "      <th>src</th>\n",
       "      <th>tgt</th>\n",
       "      <th>length_group</th>\n",
       "      <th>length</th>\n",
       "    </tr>\n",
       "  </thead>\n",
       "  <tbody>\n",
       "    <tr>\n",
       "      <th>321</th>\n",
       "      <td>The most common types of loans with errors wer...</td>\n",
       "      <td>오류가 발생한 대출 유형은 개인사업자 대출이 200건으로 가장 많았고, 이어 가계대...</td>\n",
       "      <td>경제</td>\n",
       "      <td>{'오류가 발생한 대출 유형': 'types of loans with errors'...</td>\n",
       "      <td>450035.0</td>\n",
       "      <td>korean</td>\n",
       "      <td>english</td>\n",
       "      <td>NaN</td>\n",
       "      <td>NaN</td>\n",
       "    </tr>\n",
       "    <tr>\n",
       "      <th>537</th>\n",
       "      <td>The actuator 260 receives the fourth actuator ...</td>\n",
       "      <td>액추에이터(260)는 프로세서(210)로부터 제4 액추에이터 신호를 수신하고, 터치...</td>\n",
       "      <td>etc</td>\n",
       "      <td></td>\n",
       "      <td>1248504.0</td>\n",
       "      <td>english</td>\n",
       "      <td>korean</td>\n",
       "      <td>NaN</td>\n",
       "      <td>NaN</td>\n",
       "    </tr>\n",
       "    <tr>\n",
       "      <th>393</th>\n",
       "      <td>All explanatory variables are the levels obser...</td>\n",
       "      <td>모든 설명 변수는 기준 연도에 관찰된 수준이고 TFP, 상용 근로자 수(L), 매출...</td>\n",
       "      <td>경제</td>\n",
       "      <td></td>\n",
       "      <td>1260517.0</td>\n",
       "      <td>english</td>\n",
       "      <td>korean</td>\n",
       "      <td>NaN</td>\n",
       "      <td>NaN</td>\n",
       "    </tr>\n",
       "    <tr>\n",
       "      <th>895</th>\n",
       "      <td>As Icarus does not itself contain a genetic ma...</td>\n",
       "      <td>Icarus 자체에는 유전자 표지자가 포함되어 있지 않기 때문에 snw 검사를 통해...</td>\n",
       "      <td>food</td>\n",
       "      <td></td>\n",
       "      <td>1336861.0</td>\n",
       "      <td>english</td>\n",
       "      <td>korean</td>\n",
       "      <td>NaN</td>\n",
       "      <td>NaN</td>\n",
       "    </tr>\n",
       "    <tr>\n",
       "      <th>611</th>\n",
       "      <td>Have suggested suicide and gone missing on the...</td>\n",
       "      <td>신재민 전 기획재정부 사무관이 3일 오전 극단적 선택을 암시하고 잠적한 뒤 이날 1...</td>\n",
       "      <td>etc</td>\n",
       "      <td></td>\n",
       "      <td>1216738.0</td>\n",
       "      <td>english</td>\n",
       "      <td>korean</td>\n",
       "      <td>NaN</td>\n",
       "      <td>NaN</td>\n",
       "    </tr>\n",
       "    <tr>\n",
       "      <th>...</th>\n",
       "      <td>...</td>\n",
       "      <td>...</td>\n",
       "      <td>...</td>\n",
       "      <td>...</td>\n",
       "      <td>...</td>\n",
       "      <td>...</td>\n",
       "      <td>...</td>\n",
       "      <td>...</td>\n",
       "      <td>...</td>\n",
       "    </tr>\n",
       "    <tr>\n",
       "      <th>395</th>\n",
       "      <td>Naju-Geuman Hanok Village, Jeollanam-do; A vil...</td>\n",
       "      <td>전남 나주-금안한옥마을 전라남도 나주시의 명산 금성산을 등지고 있는 곳에 부지면적 ...</td>\n",
       "      <td>human_art</td>\n",
       "      <td></td>\n",
       "      <td>1268643.0</td>\n",
       "      <td>english</td>\n",
       "      <td>korean</td>\n",
       "      <td>2.0</td>\n",
       "      <td>NaN</td>\n",
       "    </tr>\n",
       "    <tr>\n",
       "      <th>396</th>\n",
       "      <td>As a result, the fact that Hokusai played a de...</td>\n",
       "      <td>그 결과 ≪후지산 36경≫ 연작을 기점으로 호쿠사이가 풍경 우키요에의 등장은 물론 ...</td>\n",
       "      <td>human_art</td>\n",
       "      <td>{'Mt. Fuji 36 Views': '후지산 36경', 'Hokusai': '호...</td>\n",
       "      <td>1224661.0</td>\n",
       "      <td>english</td>\n",
       "      <td>korean</td>\n",
       "      <td>2.0</td>\n",
       "      <td>NaN</td>\n",
       "    </tr>\n",
       "    <tr>\n",
       "      <th>397</th>\n",
       "      <td>The remaining membranes bearing rPt-API-1 were...</td>\n",
       "      <td>rPt-API-1을 포함하는 나머지 막을 파렐라포스트롱길루스 테누이스에 감염된 흰꼬...</td>\n",
       "      <td>food</td>\n",
       "      <td>{'rPt-API-1': 'rPt-API-1', 'remaining membrane...</td>\n",
       "      <td>1284583.0</td>\n",
       "      <td>english</td>\n",
       "      <td>korean</td>\n",
       "      <td>1.0</td>\n",
       "      <td>NaN</td>\n",
       "    </tr>\n",
       "    <tr>\n",
       "      <th>398</th>\n",
       "      <td>The N95 mask supported by Adidas is a first-cl...</td>\n",
       "      <td>아디다스가 지원하는 N95 마스크는 미세입자를 95%까지 걸러내는 1급 방진 마스크다.</td>\n",
       "      <td>etc</td>\n",
       "      <td></td>\n",
       "      <td>1252300.0</td>\n",
       "      <td>english</td>\n",
       "      <td>korean</td>\n",
       "      <td>0.0</td>\n",
       "      <td>NaN</td>\n",
       "    </tr>\n",
       "    <tr>\n",
       "      <th>399</th>\n",
       "      <td>Most of the biological reactions take place at...</td>\n",
       "      <td>생체반응은 대부분 0~40℃라는 화학반응 온도로서는 낮은 온도에서 일어나지만 이것도...</td>\n",
       "      <td>ele_sci</td>\n",
       "      <td>{'biological reactions': '생체반응', '0 ~ 40 ℃': '...</td>\n",
       "      <td>1332446.0</td>\n",
       "      <td>english</td>\n",
       "      <td>korean</td>\n",
       "      <td>1.0</td>\n",
       "      <td>NaN</td>\n",
       "    </tr>\n",
       "  </tbody>\n",
       "</table>\n",
       "<p>1500 rows × 9 columns</p>\n",
       "</div>"
      ],
      "text/plain": [
       "                                               english  \\\n",
       "321  The most common types of loans with errors wer...   \n",
       "537  The actuator 260 receives the fourth actuator ...   \n",
       "393  All explanatory variables are the levels obser...   \n",
       "895  As Icarus does not itself contain a genetic ma...   \n",
       "611  Have suggested suicide and gone missing on the...   \n",
       "..                                                 ...   \n",
       "395  Naju-Geuman Hanok Village, Jeollanam-do; A vil...   \n",
       "396  As a result, the fact that Hokusai played a de...   \n",
       "397  The remaining membranes bearing rPt-API-1 were...   \n",
       "398  The N95 mask supported by Adidas is a first-cl...   \n",
       "399  Most of the biological reactions take place at...   \n",
       "\n",
       "                                                korean   category  \\\n",
       "321  오류가 발생한 대출 유형은 개인사업자 대출이 200건으로 가장 많았고, 이어 가계대...         경제   \n",
       "537  액추에이터(260)는 프로세서(210)로부터 제4 액추에이터 신호를 수신하고, 터치...        etc   \n",
       "393  모든 설명 변수는 기준 연도에 관찰된 수준이고 TFP, 상용 근로자 수(L), 매출...         경제   \n",
       "895  Icarus 자체에는 유전자 표지자가 포함되어 있지 않기 때문에 snw 검사를 통해...       food   \n",
       "611  신재민 전 기획재정부 사무관이 3일 오전 극단적 선택을 암시하고 잠적한 뒤 이날 1...        etc   \n",
       "..                                                 ...        ...   \n",
       "395  전남 나주-금안한옥마을 전라남도 나주시의 명산 금성산을 등지고 있는 곳에 부지면적 ...  human_art   \n",
       "396  그 결과 ≪후지산 36경≫ 연작을 기점으로 호쿠사이가 풍경 우키요에의 등장은 물론 ...  human_art   \n",
       "397  rPt-API-1을 포함하는 나머지 막을 파렐라포스트롱길루스 테누이스에 감염된 흰꼬...       food   \n",
       "398   아디다스가 지원하는 N95 마스크는 미세입자를 95%까지 걸러내는 1급 방진 마스크다.        etc   \n",
       "399  생체반응은 대부분 0~40℃라는 화학반응 온도로서는 낮은 온도에서 일어나지만 이것도...    ele_sci   \n",
       "\n",
       "                                             term_dict         id      src  \\\n",
       "321  {'오류가 발생한 대출 유형': 'types of loans with errors'...   450035.0   korean   \n",
       "537                                                     1248504.0  english   \n",
       "393                                                     1260517.0  english   \n",
       "895                                                     1336861.0  english   \n",
       "611                                                     1216738.0  english   \n",
       "..                                                 ...        ...      ...   \n",
       "395                                                     1268643.0  english   \n",
       "396  {'Mt. Fuji 36 Views': '후지산 36경', 'Hokusai': '호...  1224661.0  english   \n",
       "397  {'rPt-API-1': 'rPt-API-1', 'remaining membrane...  1284583.0  english   \n",
       "398                                                     1252300.0  english   \n",
       "399  {'biological reactions': '생체반응', '0 ~ 40 ℃': '...  1332446.0  english   \n",
       "\n",
       "         tgt  length_group  length  \n",
       "321  english           NaN     NaN  \n",
       "537   korean           NaN     NaN  \n",
       "393   korean           NaN     NaN  \n",
       "895   korean           NaN     NaN  \n",
       "611   korean           NaN     NaN  \n",
       "..       ...           ...     ...  \n",
       "395   korean           2.0     NaN  \n",
       "396   korean           2.0     NaN  \n",
       "397   korean           1.0     NaN  \n",
       "398   korean           0.0     NaN  \n",
       "399   korean           1.0     NaN  \n",
       "\n",
       "[1500 rows x 9 columns]"
      ]
     },
     "execution_count": 57,
     "metadata": {},
     "output_type": "execute_result"
    }
   ],
   "source": [
    "a=dataset_full_df[dataset_full_df[\"category\"]==\"human_art\"].sample(frac=1).iloc[:100]\n",
    "b=dataset_full_df[dataset_full_df[\"category\"]==\"food\"].sample(frac=1).iloc[:100]\n",
    "c=dataset_full_df[dataset_full_df[\"category\"]==\"ele_sci\"].sample(frac=1).iloc[:100]\n",
    "d=dataset_full_df[dataset_full_df[\"category\"]==\"구어체 대화체\"].sample(frac=1).iloc[:100]\n",
    "e=dataset_full_df[dataset_full_df[\"category\"]==\"etc\"].sample(frac=1).iloc[:100]\n",
    "\n",
    "sampled_df=pd.concat([a,b,c,d,e]).sample(frac=1).reset_index(drop=True)\n",
    "sampled_df[\"length\"]=np.nan\n",
    "# sampled_ds=Dataset.from_pandas(sampled_df)\n",
    "\n",
    "dataset_new_1poipd.concat([dataset_new_1k_df,sampled_df]).sample(frac=1).reset_index(drop=True)"
   ]
  },
  {
   "cell_type": "code",
   "execution_count": 56,
   "id": "ff40fdf9-b79b-4bc4-9e20-39c0814a512e",
   "metadata": {},
   "outputs": [
    {
     "data": {
      "text/html": [
       "<div>\n",
       "<style scoped>\n",
       "    .dataframe tbody tr th:only-of-type {\n",
       "        vertical-align: middle;\n",
       "    }\n",
       "\n",
       "    .dataframe tbody tr th {\n",
       "        vertical-align: top;\n",
       "    }\n",
       "\n",
       "    .dataframe thead th {\n",
       "        text-align: right;\n",
       "    }\n",
       "</style>\n",
       "<table border=\"1\" class=\"dataframe\">\n",
       "  <thead>\n",
       "    <tr style=\"text-align: right;\">\n",
       "      <th></th>\n",
       "      <th>english</th>\n",
       "      <th>korean</th>\n",
       "      <th>category</th>\n",
       "      <th>src</th>\n",
       "      <th>tgt</th>\n",
       "      <th>id</th>\n",
       "      <th>length_group</th>\n",
       "      <th>term_dict</th>\n",
       "      <th>length</th>\n",
       "    </tr>\n",
       "  </thead>\n",
       "  <tbody>\n",
       "    <tr>\n",
       "      <th>0</th>\n",
       "      <td>The signal-to-noise ratio was calculated after...</td>\n",
       "      <td>신호대 잡음 비는 0~15dB 까지 3dB 단위로 변화시키면서 20,000개 의 1...</td>\n",
       "      <td>ele_sci</td>\n",
       "      <td>english</td>\n",
       "      <td>korean</td>\n",
       "      <td>1324122</td>\n",
       "      <td>1</td>\n",
       "      <td>{'signal-to-noise ratio': '신호대 잡음 비', 'varying...</td>\n",
       "      <td>NaN</td>\n",
       "    </tr>\n",
       "    <tr>\n",
       "      <th>1</th>\n",
       "      <td>Sanggeum Lee was born in 1907 and died in 1950...</td>\n",
       "      <td>이상 금은 1907년에 태어나 1950년 한국전쟁 중에 사망하였다.</td>\n",
       "      <td>human_art</td>\n",
       "      <td>english</td>\n",
       "      <td>korean</td>\n",
       "      <td>1236263</td>\n",
       "      <td>0</td>\n",
       "      <td>{'Sanggeum Lee': '이상 금', '1907': '1907년', '195...</td>\n",
       "      <td>NaN</td>\n",
       "    </tr>\n",
       "    <tr>\n",
       "      <th>2</th>\n",
       "      <td>The reason ramen, biscuits, biscuits, etc. do ...</td>\n",
       "      <td>라면, 비스킷, 건빵류 등이 알파 형태로 존재하면서도 오랫동안 두어도 노화가 잘 일...</td>\n",
       "      <td>ele_sci</td>\n",
       "      <td>english</td>\n",
       "      <td>korean</td>\n",
       "      <td>1221735</td>\n",
       "      <td>2</td>\n",
       "      <td>{'ramen': '라면', 'biscuits': '건빵류', 'alpha form...</td>\n",
       "      <td>NaN</td>\n",
       "    </tr>\n",
       "    <tr>\n",
       "      <th>3</th>\n",
       "      <td>Nevertheless, GTI has maintained its instituti...</td>\n",
       "      <td>그러나 GTI는 지난 25년 동안 미국과 중국이 패권경쟁을 벌이고, 한중일 3국이 ...</td>\n",
       "      <td>human_art</td>\n",
       "      <td>english</td>\n",
       "      <td>korean</td>\n",
       "      <td>1297164</td>\n",
       "      <td>2</td>\n",
       "      <td></td>\n",
       "      <td>NaN</td>\n",
       "    </tr>\n",
       "    <tr>\n",
       "      <th>4</th>\n",
       "      <td>Just a week earlier, on November 23, Schleiche...</td>\n",
       "      <td>슐라이허와 히틀러는 바로 1주일 전인 11월 23일에 만났고, 슐라이허는 히틀러에게...</td>\n",
       "      <td>human_art</td>\n",
       "      <td>english</td>\n",
       "      <td>korean</td>\n",
       "      <td>1292845</td>\n",
       "      <td>1</td>\n",
       "      <td>{'Schleicher': '슐라이허', 'Hitler': '히틀러', 'a wee...</td>\n",
       "      <td>NaN</td>\n",
       "    </tr>\n",
       "    <tr>\n",
       "      <th>...</th>\n",
       "      <td>...</td>\n",
       "      <td>...</td>\n",
       "      <td>...</td>\n",
       "      <td>...</td>\n",
       "      <td>...</td>\n",
       "      <td>...</td>\n",
       "      <td>...</td>\n",
       "      <td>...</td>\n",
       "      <td>...</td>\n",
       "    </tr>\n",
       "    <tr>\n",
       "      <th>395</th>\n",
       "      <td>The in vitro formation of an intermediate of r...</td>\n",
       "      <td>Rif-Orf20 및 아세틸-CoA를 사용하는 효소 분석 동안 리파마이신 생합성 중...</td>\n",
       "      <td>food</td>\n",
       "      <td>english</td>\n",
       "      <td>korean</td>\n",
       "      <td>1275111</td>\n",
       "      <td>2</td>\n",
       "      <td></td>\n",
       "      <td>NaN</td>\n",
       "    </tr>\n",
       "    <tr>\n",
       "      <th>396</th>\n",
       "      <td>Transit peptides mediate import by interacting...</td>\n",
       "      <td>전이 펩티드는 GTP 결합 단백질 Toc159와 상호작용한 다음 Toc 34와 상호...</td>\n",
       "      <td>food</td>\n",
       "      <td>english</td>\n",
       "      <td>korean</td>\n",
       "      <td>1223516</td>\n",
       "      <td>1</td>\n",
       "      <td></td>\n",
       "      <td>NaN</td>\n",
       "    </tr>\n",
       "    <tr>\n",
       "      <th>397</th>\n",
       "      <td>No rain fell on those plants dug on 25 October...</td>\n",
       "      <td>1966년 10월 25일과 1968년 10월 25일에 파낸 식물에는 비가 내리지 않...</td>\n",
       "      <td>food</td>\n",
       "      <td>english</td>\n",
       "      <td>korean</td>\n",
       "      <td>1220811</td>\n",
       "      <td>2</td>\n",
       "      <td>{'25 October 1966': '1966년 10월 25일', '1968': '...</td>\n",
       "      <td>NaN</td>\n",
       "    </tr>\n",
       "    <tr>\n",
       "      <th>398</th>\n",
       "      <td>Under the theme of \"Fantastic Water Travel,\" 4...</td>\n",
       "      <td>'환상적인 물의 여행'을 테마로 16개 테마존에서 650여 종 4만여 마리의 수중생...</td>\n",
       "      <td>etc</td>\n",
       "      <td>english</td>\n",
       "      <td>korean</td>\n",
       "      <td>1336979</td>\n",
       "      <td>2</td>\n",
       "      <td>{'Fantastic Water Travel': '환상적인 물의 여행', '16 t...</td>\n",
       "      <td>NaN</td>\n",
       "    </tr>\n",
       "    <tr>\n",
       "      <th>399</th>\n",
       "      <td>At a controlled fermentation of pH 5.5, ϕadh r...</td>\n",
       "      <td>pH 5.5의 제어된 발효에서 ϕadh는 6.7 × 107 PFU/ml의 농도에 도...</td>\n",
       "      <td>food</td>\n",
       "      <td>english</td>\n",
       "      <td>korean</td>\n",
       "      <td>1329670</td>\n",
       "      <td>2</td>\n",
       "      <td></td>\n",
       "      <td>NaN</td>\n",
       "    </tr>\n",
       "  </tbody>\n",
       "</table>\n",
       "<p>400 rows × 9 columns</p>\n",
       "</div>"
      ],
      "text/plain": [
       "                                               english  \\\n",
       "0    The signal-to-noise ratio was calculated after...   \n",
       "1    Sanggeum Lee was born in 1907 and died in 1950...   \n",
       "2    The reason ramen, biscuits, biscuits, etc. do ...   \n",
       "3    Nevertheless, GTI has maintained its instituti...   \n",
       "4    Just a week earlier, on November 23, Schleiche...   \n",
       "..                                                 ...   \n",
       "395  The in vitro formation of an intermediate of r...   \n",
       "396  Transit peptides mediate import by interacting...   \n",
       "397  No rain fell on those plants dug on 25 October...   \n",
       "398  Under the theme of \"Fantastic Water Travel,\" 4...   \n",
       "399  At a controlled fermentation of pH 5.5, ϕadh r...   \n",
       "\n",
       "                                                korean   category      src  \\\n",
       "0    신호대 잡음 비는 0~15dB 까지 3dB 단위로 변화시키면서 20,000개 의 1...    ele_sci  english   \n",
       "1                이상 금은 1907년에 태어나 1950년 한국전쟁 중에 사망하였다.  human_art  english   \n",
       "2    라면, 비스킷, 건빵류 등이 알파 형태로 존재하면서도 오랫동안 두어도 노화가 잘 일...    ele_sci  english   \n",
       "3    그러나 GTI는 지난 25년 동안 미국과 중국이 패권경쟁을 벌이고, 한중일 3국이 ...  human_art  english   \n",
       "4    슐라이허와 히틀러는 바로 1주일 전인 11월 23일에 만났고, 슐라이허는 히틀러에게...  human_art  english   \n",
       "..                                                 ...        ...      ...   \n",
       "395  Rif-Orf20 및 아세틸-CoA를 사용하는 효소 분석 동안 리파마이신 생합성 중...       food  english   \n",
       "396  전이 펩티드는 GTP 결합 단백질 Toc159와 상호작용한 다음 Toc 34와 상호...       food  english   \n",
       "397  1966년 10월 25일과 1968년 10월 25일에 파낸 식물에는 비가 내리지 않...       food  english   \n",
       "398  '환상적인 물의 여행'을 테마로 16개 테마존에서 650여 종 4만여 마리의 수중생...        etc  english   \n",
       "399  pH 5.5의 제어된 발효에서 ϕadh는 6.7 × 107 PFU/ml의 농도에 도...       food  english   \n",
       "\n",
       "        tgt       id  length_group  \\\n",
       "0    korean  1324122             1   \n",
       "1    korean  1236263             0   \n",
       "2    korean  1221735             2   \n",
       "3    korean  1297164             2   \n",
       "4    korean  1292845             1   \n",
       "..      ...      ...           ...   \n",
       "395  korean  1275111             2   \n",
       "396  korean  1223516             1   \n",
       "397  korean  1220811             2   \n",
       "398  korean  1336979             2   \n",
       "399  korean  1329670             2   \n",
       "\n",
       "                                             term_dict  length  \n",
       "0    {'signal-to-noise ratio': '신호대 잡음 비', 'varying...     NaN  \n",
       "1    {'Sanggeum Lee': '이상 금', '1907': '1907년', '195...     NaN  \n",
       "2    {'ramen': '라면', 'biscuits': '건빵류', 'alpha form...     NaN  \n",
       "3                                                          NaN  \n",
       "4    {'Schleicher': '슐라이허', 'Hitler': '히틀러', 'a wee...     NaN  \n",
       "..                                                 ...     ...  \n",
       "395                                                        NaN  \n",
       "396                                                        NaN  \n",
       "397  {'25 October 1966': '1966년 10월 25일', '1968': '...     NaN  \n",
       "398  {'Fantastic Water Travel': '환상적인 물의 여행', '16 t...     NaN  \n",
       "399                                                        NaN  \n",
       "\n",
       "[400 rows x 9 columns]"
      ]
     },
     "execution_count": 56,
     "metadata": {},
     "output_type": "execute_result"
    }
   ],
   "source": [
    "sampled_df"
   ]
  },
  {
   "cell_type": "markdown",
   "id": "7a04491d-3b19-42ae-88cc-68a9d2fa8741",
   "metadata": {},
   "source": [
    "### Datase 1.1k refined manually"
   ]
  },
  {
   "cell_type": "code",
   "execution_count": 3,
   "id": "3e8257e6-7c4d-40a9-aa76-8addd8a2a022",
   "metadata": {},
   "outputs": [],
   "source": [
    "ds=Dataset.load_from_disk(\"/azurestorage/data/translation_data/aligned_dataset/prepared_for_training/training_dataset_1.1k_refined/\")"
   ]
  },
  {
   "cell_type": "code",
   "execution_count": 27,
   "id": "dcf217aa-03ab-4208-b766-1fd55daca8d0",
   "metadata": {},
   "outputs": [],
   "source": [
    "ds_df=ds.to_pandas()"
   ]
  },
  {
   "cell_type": "code",
   "execution_count": 5,
   "id": "c7c51ef4-ef26-4598-8541-c160ed8db01f",
   "metadata": {},
   "outputs": [],
   "source": [
    "ds7k=Dataset.load_from_disk(\"/azurestorage/data/translation_data/aligned_dataset/prepared_for_training/training_dataset_7k/\")"
   ]
  },
  {
   "cell_type": "code",
   "execution_count": 7,
   "id": "20103dd0-e29c-4727-91a1-4694a33facba",
   "metadata": {},
   "outputs": [
    {
     "data": {
      "application/vnd.jupyter.widget-view+json": {
       "model_id": "0b51d0d43c484bd492a9980c10209fd3",
       "version_major": 2,
       "version_minor": 0
      },
      "text/plain": [
       "Filter:   0%|          | 0/6944 [00:00<?, ? examples/s]"
      ]
     },
     "metadata": {},
     "output_type": "display_data"
    }
   ],
   "source": [
    "ds7k=ds7k.filter(lambda x:x[\"category\"]!=\"shatgpt\")"
   ]
  },
  {
   "cell_type": "code",
   "execution_count": 15,
   "id": "9e50f1c9-f83f-4217-b11d-41417a352243",
   "metadata": {},
   "outputs": [
    {
     "data": {
      "text/plain": [
       "Counter({'경제': 4927,\n",
       "         'etc': 1393,\n",
       "         None: 277,\n",
       "         'food': 29,\n",
       "         'pilar': 21,\n",
       "         'ele_sci': 20,\n",
       "         '구어체_대화체': 14,\n",
       "         'human_art': 7,\n",
       "         '법률': 5,\n",
       "         'ifrs esg': 3,\n",
       "         '육운·항공·관광': 1,\n",
       "         '재경·경제일반': 1})"
      ]
     },
     "execution_count": 15,
     "metadata": {},
     "output_type": "execute_result"
    }
   ],
   "source": [
    "Counter(ds7k[\"category\"])"
   ]
  },
  {
   "cell_type": "code",
   "execution_count": 10,
   "id": "b966cd76-e97c-40d7-8b57-c440cff1e4f8",
   "metadata": {},
   "outputs": [],
   "source": [
    "ds7k_df=ds7k.to_pandas()"
   ]
  },
  {
   "cell_type": "code",
   "execution_count": 14,
   "id": "98471658-2f4d-4f25-8133-a4ffff6ab5b5",
   "metadata": {},
   "outputs": [],
   "source": [
    "ds7k_df[\"category\"]=ds7k_df[\"category\"].fillna(\"accounting_etc\")"
   ]
  },
  {
   "cell_type": "code",
   "execution_count": 23,
   "id": "e6657a0c-b7ec-4d65-8f1c-4b7ec2745f09",
   "metadata": {},
   "outputs": [],
   "source": [
    "ds7k_df=ds7k_df.drop([512,538,589,1139,1399,1590,1671,1916,2205,2591,2889,2944,3068,3196,3331,3576,3642,3785,4182,4278],axis=0)"
   ]
  },
  {
   "cell_type": "code",
   "execution_count": 44,
   "id": "10de7e0d-5289-4fa9-b875-37ef439dbeba",
   "metadata": {},
   "outputs": [],
   "source": [
    "df_new7k=pd.concat([ds_df,ds7k_df]).reset_index(drop=True)"
   ]
  },
  {
   "cell_type": "code",
   "execution_count": 45,
   "id": "7ba758b7-5f0b-40dd-bddf-f2ed7ca2b480",
   "metadata": {},
   "outputs": [],
   "source": [
    "df_new7k=df_new7k.drop_duplicates(subset=[\"english\",\"korean\"]).reset_index(drop=True).drop(\"__index_level_0__\",axis=1)"
   ]
  },
  {
   "cell_type": "code",
   "execution_count": 51,
   "id": "4b2fd32f-bd91-4e7d-aed3-9a94a64d23fc",
   "metadata": {},
   "outputs": [],
   "source": [
    "ds_new7k=Dataset.from_pandas(df_new7k)"
   ]
  },
  {
   "cell_type": "code",
   "execution_count": 53,
   "id": "311b31c3-6919-487d-9029-11a85ca3376a",
   "metadata": {},
   "outputs": [
    {
     "data": {
      "application/vnd.jupyter.widget-view+json": {
       "model_id": "cef66151a1e54900a7f927ac5b8ea491",
       "version_major": 2,
       "version_minor": 0
      },
      "text/plain": [
       "Saving the dataset (0/1 shards):   0%|          | 0/6925 [00:00<?, ? examples/s]"
      ]
     },
     "metadata": {},
     "output_type": "display_data"
    }
   ],
   "source": [
    "ds_new7k.save_to_disk(\"/azurestorage/data/translation_data/aligned_dataset/prepared_for_training/training_dataset_new_7k/\")"
   ]
  },
  {
   "cell_type": "code",
   "execution_count": null,
   "id": "b5a5fdba-82bb-447d-88a5-a046df97c9b5",
   "metadata": {},
   "outputs": [],
   "source": []
  }
 ],
 "metadata": {
  "kernelspec": {
   "display_name": "Python 3 (ipykernel)",
   "language": "python",
   "name": "python3"
  },
  "language_info": {
   "codemirror_mode": {
    "name": "ipython",
    "version": 3
   },
   "file_extension": ".py",
   "mimetype": "text/x-python",
   "name": "python",
   "nbconvert_exporter": "python",
   "pygments_lexer": "ipython3",
   "version": "3.11.8"
  }
 },
 "nbformat": 4,
 "nbformat_minor": 5
}
