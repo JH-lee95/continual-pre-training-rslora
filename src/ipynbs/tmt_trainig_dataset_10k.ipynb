{
 "cells": [
  {
   "cell_type": "code",
   "execution_count": 5,
   "id": "ba414ebe-67d8-4b74-b82a-e69b4fabbf97",
   "metadata": {},
   "outputs": [],
   "source": [
    "import pandas as pd\n",
    "import numpy as np\n",
    "import datasets\n",
    "from collections import Counter\n",
    "from transformers import AutoTokenizer\n",
    "\n",
    "import pandas as pd\n",
    "from datasets import load_dataset,Dataset,concatenate_datasets\n",
    "import jsonlines\n",
    "import json"
   ]
  },
  {
   "cell_type": "code",
   "execution_count": 11,
   "id": "3f1bfd79-d8dd-416f-bef1-466bc92311e9",
   "metadata": {},
   "outputs": [],
   "source": [
    "translation_template='''You are a professional translator. Translate the following {} source text into {}. Refer to the word pairs in the glossary if the glossary exists when you translate. Do not translate the glossary it self.\n",
    "{}\n",
    "Translation:\n",
    "'''\n",
    "response_template=\"Translation:\"\n",
    "glossary_template=\"Glossary:\"\n",
    "sentence_template=\"Source:\""
   ]
  },
  {
   "cell_type": "code",
   "execution_count": 23,
   "id": "91ce4d73-a7b6-45aa-8636-011512b06eb1",
   "metadata": {},
   "outputs": [],
   "source": [
    "import os,sys\n",
    "import random\n",
    "import numpy as np\n",
    "import torch\n",
    "import pandas as pd\n",
    "from datasets import load_dataset,Dataset,concatenate_datasets\n",
    "import jsonlines\n",
    "import ipdb\n",
    "import json\n",
    "from kiwipiepy import Kiwi\n",
    "from nltk.tokenize import sent_tokenize\n",
    "import ast\n",
    "import ipdb\n",
    "\n",
    "kiwi = Kiwi()\n",
    "\n",
    "def formatting_prompt_func(template:str,*args:str):\n",
    "  '''\n",
    "  Template can be like ;\n",
    "  ### Input :\n",
    "  {}\n",
    "  ### Output :\n",
    "  {}\n",
    "  '''\n",
    "\n",
    "  return template.format(*args)\n",
    "\n",
    "\n",
    "def make_translation_input_from_dataset(data,\n",
    "                                  tokenizer,\n",
    "                                  prompt_template,\n",
    "                                  glossary_template=None,\n",
    "                                  sentence_template=None,\n",
    "                                  src:str=None, \n",
    "                                  tgt:str=None,\n",
    "                                  return_output=True,\n",
    "                                  text_split=True,\n",
    "                                  **kwargs\n",
    "                                  ):\n",
    "\n",
    "    lang_dict={\"korean\":\"Korean\",\"english\":\"English\",\"ko\":\"Korean\",\"eng\":\"English\",\"en\":\"English\"}\n",
    "    src_tgt_dict={\"en\":\"english\",\"eng\":\"english\",\"english\":\"english\",\"ko\":\"korean\",\"kor\":\"korean\",\"korean\":\"korean\"}\n",
    "\n",
    "    if not src and not tgt:\n",
    "        if \"src\" in data.keys() and \"tgt\" in data.keys():\n",
    "            src=src_tgt_dict[data[\"src\"]]\n",
    "            tgt=src_tgt_dict[data[\"tgt\"]]\n",
    "        else:\n",
    "            raise Exception(\"'src'와 'tgt'가 주어지거나, data의 key로 존재해야합니다.\")\n",
    "\n",
    "    src_text=data[src]\n",
    "    formatted_text=None\n",
    "\n",
    "    if text_split:\n",
    "        splited_sents=split_sents(lang_dict[src],src_text)\n",
    "        sent2terms = []\n",
    "        \n",
    "        if data[\"term_dict\"] is not None and len(data[\"term_dict\"]):\n",
    "            term_dict = ast.literal_eval(data[\"term_dict\"])\n",
    "\n",
    "            for s in splited_sents:\n",
    "                new_sent_parts = {}\n",
    "                for k, v in term_dict.items():\n",
    "                    if k in s:\n",
    "                        new_sent_parts[k]=v\n",
    "\n",
    "                if len(new_sent_parts):\n",
    "                    new_sent_parts=formatting_glossary(new_sent_parts,glossary_template)\n",
    "                    new_s = f\"{sentence_template}\\n{s}\\n{new_sent_parts}\\n\"\n",
    "                else:\n",
    "                    new_s=f\"{sentence_template}\\n{s}\\n\"\n",
    "\n",
    "                sent2terms.append(new_s)\n",
    "        else:\n",
    "            # Handle case of empty term_dict (e.g., directly append sentences)\n",
    "            for s in splited_sents:\n",
    "                new_s = f\"{sentence_template}\\n{s}\\n\"\n",
    "                sent2terms.append(new_s)\n",
    "\n",
    "        formatted_text=\"\".join(sent2terms).rstrip()\n",
    "            \n",
    "\n",
    "    else:\n",
    "        if data[\"term_dict\"] is not None and len(data[\"term_dict\"]):\n",
    "            term_dict = ast.literal_eval(data[\"term_dict\"])\n",
    "            term_dict=formatting_glossary(term_dict,glossary_template)\n",
    "            formatted_text=f\"{sentence_template}\\n{src_text}\\n{term_dict}\"\n",
    "\n",
    "    template=formatting_prompt_func(prompt_template,lang_dict[src],lang_dict[tgt],formatted_text)\n",
    "\n",
    "    if return_output:\n",
    "        template=template+data[tgt]+tokenizer.eos_token\n",
    "        \n",
    "    return {\"text\":template}\n",
    "\n",
    "\n",
    "def formatting_glossary(term_dict,glossary_template):\n",
    "    glossary=[f\"{k}={v}\" for k,v in term_dict.items()]\n",
    "    glossary_str=\"\\n\".join(glossary)\n",
    "    glossary_str=f\"{glossary_template}\\n{glossary_str}\".strip()\n",
    "\n",
    "    return glossary_str\n",
    "\n",
    "def split_sents(lang,\n",
    "                text,\n",
    "                ):\n",
    "\n",
    "    lang_dict={\"korean\":\"korean\",\"ko\":\"korean\",\"kor\":\"korean\",\"eng\":\"english\",\"english\":\"english\",\"en\":\"english\"}\n",
    "    src = lang_dict[lang.lower()]\n",
    "    \n",
    "    splited_sents=[]\n",
    "    paras=text.split(\"\\n\") #split text into paragraphs based on linebreak to keep its original format.\n",
    "    \n",
    "    for idx,para in enumerate(paras):\n",
    "        if len(para.strip()):\n",
    "            if src==\"korean\":\n",
    "                temp_sents=[s.text for s in kiwi.split_into_sents(para)]\n",
    "            else:\n",
    "                temp_sents=sent_tokenize(para)\n",
    "            if idx<len(paras)-1:\n",
    "                temp_sents[-1]+=\"\\n\" #keep linebreak\n",
    "            splited_sents.extend(temp_sents)\n",
    "        else:\n",
    "            splited_sents[-1]+=\"\\n\"\n",
    "\n",
    "    return splited_sents\n",
    "            "
   ]
  },
  {
   "cell_type": "code",
   "execution_count": 4,
   "id": "95efdcd2-0df0-40e6-8eb4-b5f1bd1aa9db",
   "metadata": {},
   "outputs": [],
   "source": [
    "train_dataset=Dataset.load_from_disk(\"/azurestorage/data/translation_data/aligned_dataset/prepared_for_training/training_dataset_10k/\")"
   ]
  },
  {
   "cell_type": "code",
   "execution_count": 10,
   "id": "ffb7a428-e325-4bf0-82ed-30963d8a60d3",
   "metadata": {},
   "outputs": [],
   "source": [
    "tokenizer=AutoTokenizer.from_pretrained(\"/azurestorage/models/production/tmt-eeve16k/\")"
   ]
  },
  {
   "cell_type": "code",
   "execution_count": 39,
   "id": "2042b9b5-f023-4f95-b681-d0710ec8c577",
   "metadata": {},
   "outputs": [
    {
     "name": "stdout",
     "output_type": "stream",
     "text": [
      "You are a professional translator. Translate the following English source text into Korean. Refer to the word pairs in the glossary if the glossary exists when you translate. Do not translate the glossary it self.\n",
      "Source:\n",
      "Article 48-2 (Inspections of Large Shareholders)(1)Where any of the following persons (hereafter referred to as \"large shareholder, etc.\" in this Article) fall under any of the following items, the Financial Services Commission may have the Governor of the Financial Supervisory Service inspect business and asset conditions of the relevant large shareholder, etc. within the minimum extent necessary for the purposes thereof: <Amended on Aug. 13, 2013>1.A person subject to conversion:(a)Where necessary to check the inspection result underArticle 16-3(2);(b)Where it is acknowledged that a person subject to conversion will be highly likely to engage in illegal transactions with a bank due to unhealthy financial status, such as rapid increase in debts and occurrence of huge losses, etc.;2.A non-financial investor having obtained approval pursuant toArticle 16-2(3) 3:(a)Where necessary to ascertain whether it satisfies the requirements referred to inArticle 16-2(3) 3 (a) and (c);(b)Where it is deemed that the relevant non-financial investor will be highly likely to engage in an illegal transaction with a bank due to unhealthy financial status, such as a rapid increase in debts of a non-financial company controlled by the relevant non-financial investor;3.A large shareholder of a bank (including persons who intend to be a large shareholder of a bank):(a)Where necessary for examination for approval underArticles 15(3);(b)Where a charge of violatingArticle 35-4is accepted;(c)Other cases prescribed by Presidential Decree as equivalent to items (a) and (b).(2)The specific scope and method of inspections under paragraph (1) and other matters necessary for inspections shall be prescribed by the Financial Services Commission.(3)Article 48(2) through (4) shall applymutatis mutandisto the inspections under paragraph (1).[This Article Wholly Amended on May 17, 2010]\n",
      "Glossary:\n",
      "Large Shareholders=대주주등\n",
      "Financial Services Commission=금융위원회\n",
      "Governor of the Financial Supervisory Service=금융감독원장\n",
      "business and asset conditions=업무 및 재산 상황\n",
      "person subject to conversion=전환대상자\n",
      "rapid increase in debts=차입금의 급격한 증가\n",
      "occurrence of huge losses=거액의 손실 발생\n",
      "unhealthy financial status=재무상황의 부실화\n",
      "illegal transactions=불법거래\n",
      "non-financial investor=비금융주력자\n",
      "non-financial company=비금융회사\n",
      "large shareholder of a bank=은행의 대주주\n",
      "examination for approval=승인심사\n",
      "items (a) and (b)=가목 및 나목\n",
      "Presidential Decree=대통령령\n",
      "Translation:\n",
      "제48조의2(대주주등에 대한 검사)①금융위원회는 다음 각 호의 어느 하나에 해당되는 자(이하 이 조에서 “대주주등”이라 한다)가 각각 다음 각 목의 어느 하나에 해당하는 경우에는 금융감독원장으로 하여금 그 목적에 필요한 최소한의 범위에서 해당 대주주등의 업무 및 재산 상황을 검사하게 할 수 있다.<개정 2013. 8. 13.>1.전환대상자가.제16조의3제2항에 따른 점검결과를 확인하기 위하여 필요한 경우나.전환대상자가 차입금의 급격한 증가, 거액의 손실 발생 등 재무상황의 부실화로 인하여 은행과 불법거래를 할 가능성이 크다고 인정되는 경우2.제16조의2제3항제3호에 따라 승인을 얻은 비금융주력자가.제16조의2제3항제3호가목 및 다목의 요건을 충족하는 지 여부를 확인하기 위하여 필요한 경우나.해당 비금융주력자가 지배하는 비금융회사의 차입금의 급격한 증가 등 재무상황 부실로 인하여 은행과 불법거래를 할 가능성이 크다고 인정되는 경우3.은행의 대주주(은행의 대주주가 되려고 하는 자를 포함한다)가.제15조제3항에 따른 승인심사를 위하여 필요한 경우나.제35조의4를 위반한 혐의가 인정되는 경우다.그 밖에 가목 및 나목에 준하는 경우로서 대통령령으로 정하는 경우②제1항에 따른 검사의 구체적 범위, 방법, 그 밖에 검사에 필요한 사항은 금융위원회가 정한다.③제1항에 따른 검사에 관하여는 제48조제2항부터 제4항까지를 준용한다.[전문개정 2010. 5. 17.]<|im_end|>\n"
     ]
    }
   ],
   "source": [
    "result=make_translation_input_from_dataset(train_dataset[9],\n",
    "                                  tokenizer,\n",
    "                                  prompt_template=translation_template,\n",
    "                                  glossary_template=glossary_template,\n",
    "                                  sentence_template=sentence_template,\n",
    "                                  return_output=True,\n",
    "                                  text_split=False,\n",
    "                                  )\n",
    "\n",
    "print(result[\"text\"])"
   ]
  },
  {
   "cell_type": "markdown",
   "id": "ccff3782-4a65-4216-bda7-664a62828d98",
   "metadata": {},
   "source": [
    "# New train dataset"
   ]
  },
  {
   "cell_type": "code",
   "execution_count": 30,
   "id": "64f21c11-7dd7-45d4-b557-5e844625e167",
   "metadata": {},
   "outputs": [],
   "source": [
    "train_dataset=datasets.Dataset.load_from_disk(\"/azurestorage/data/translation_data/alinged_dataset/prepared_for_training/training_dataset_20k/\")"
   ]
  },
  {
   "cell_type": "code",
   "execution_count": 85,
   "id": "5d6c5c76-709d-4c59-ac35-9021f645eb02",
   "metadata": {},
   "outputs": [],
   "source": [
    "train_df=train_dataset.to_pandas()"
   ]
  },
  {
   "cell_type": "code",
   "execution_count": 100,
   "id": "f032f752-f289-405e-874d-56a300b215e6",
   "metadata": {},
   "outputs": [],
   "source": [
    "train_df_under_100=train_df[train_df[\"korean\"].str.len()<100].sample(frac=0.35)\n",
    "train_df_over_100=train_df[train_df[\"korean\"].str.len()>=100]"
   ]
  },
  {
   "cell_type": "code",
   "execution_count": 104,
   "id": "acc8669c-aa49-4d95-8ea0-1a92de03c1a8",
   "metadata": {},
   "outputs": [
    {
     "data": {
      "text/html": [
       "<div>\n",
       "<style scoped>\n",
       "    .dataframe tbody tr th:only-of-type {\n",
       "        vertical-align: middle;\n",
       "    }\n",
       "\n",
       "    .dataframe tbody tr th {\n",
       "        vertical-align: top;\n",
       "    }\n",
       "\n",
       "    .dataframe thead th {\n",
       "        text-align: right;\n",
       "    }\n",
       "</style>\n",
       "<table border=\"1\" class=\"dataframe\">\n",
       "  <thead>\n",
       "    <tr style=\"text-align: right;\">\n",
       "      <th></th>\n",
       "      <th>english</th>\n",
       "      <th>korean</th>\n",
       "      <th>category</th>\n",
       "      <th>term_dict</th>\n",
       "      <th>id</th>\n",
       "      <th>src</th>\n",
       "      <th>tgt</th>\n",
       "      <th>length_group</th>\n",
       "    </tr>\n",
       "  </thead>\n",
       "  <tbody>\n",
       "    <tr>\n",
       "      <th>19010</th>\n",
       "      <td>Inigmaville with area for exclusive use of 244...</td>\n",
       "      <td>서울 강남구 청담동 이니그마빌 전용 244.77㎡도 2014년 10월 32억 원에 ...</td>\n",
       "      <td>경제</td>\n",
       "      <td>{'서울 강남구 청담동 이니그마빌': 'Inigmaville in Cheongdam...</td>\n",
       "      <td>618344.0</td>\n",
       "      <td>korean</td>\n",
       "      <td>english</td>\n",
       "      <td>2.0</td>\n",
       "    </tr>\n",
       "    <tr>\n",
       "      <th>1927</th>\n",
       "      <td>As Icarus does not itself contain a genetic ma...</td>\n",
       "      <td>Icarus 자체에는 유전자 표지자가 포함되어 있지 않기 때문에 snw 검사를 통해...</td>\n",
       "      <td>food</td>\n",
       "      <td></td>\n",
       "      <td>1336861.0</td>\n",
       "      <td>english</td>\n",
       "      <td>korean</td>\n",
       "      <td>NaN</td>\n",
       "    </tr>\n",
       "    <tr>\n",
       "      <th>6779</th>\n",
       "      <td>Therefore, the method of obtaining ETR can be ...</td>\n",
       "      <td>이에 ETR을 구하는 방법은 크게 GAAP ETR과 Cash ETR로 나눌 수 있으...</td>\n",
       "      <td>법률</td>\n",
       "      <td>{'ETR': 'ETR', 'GAAP ETR': 'GAAP ETR', 'Cash E...</td>\n",
       "      <td>1249742.0</td>\n",
       "      <td>english</td>\n",
       "      <td>korean</td>\n",
       "      <td>NaN</td>\n",
       "    </tr>\n",
       "    <tr>\n",
       "      <th>9508</th>\n",
       "      <td>Consequently, in this study, element decomposi...</td>\n",
       "      <td>이에 본 연구에서는 1997∼2008년과 2008∼2011년의 두 기간으로 구분하여...</td>\n",
       "      <td>경제</td>\n",
       "      <td></td>\n",
       "      <td>1265691.0</td>\n",
       "      <td>english</td>\n",
       "      <td>korean</td>\n",
       "      <td>NaN</td>\n",
       "    </tr>\n",
       "    <tr>\n",
       "      <th>15476</th>\n",
       "      <td>In France, when signing a legal document, it i...</td>\n",
       "      <td>프랑스에서는 통상적으로 법적 문서에 서명할 경우, 서명에 앞서 \"읽고 동의함\"(lu...</td>\n",
       "      <td>법률</td>\n",
       "      <td></td>\n",
       "      <td>1274058.0</td>\n",
       "      <td>english</td>\n",
       "      <td>korean</td>\n",
       "      <td>NaN</td>\n",
       "    </tr>\n",
       "  </tbody>\n",
       "</table>\n",
       "</div>"
      ],
      "text/plain": [
       "                                                 english  \\\n",
       "19010  Inigmaville with area for exclusive use of 244...   \n",
       "1927   As Icarus does not itself contain a genetic ma...   \n",
       "6779   Therefore, the method of obtaining ETR can be ...   \n",
       "9508   Consequently, in this study, element decomposi...   \n",
       "15476  In France, when signing a legal document, it i...   \n",
       "\n",
       "                                                  korean category  \\\n",
       "19010  서울 강남구 청담동 이니그마빌 전용 244.77㎡도 2014년 10월 32억 원에 ...       경제   \n",
       "1927   Icarus 자체에는 유전자 표지자가 포함되어 있지 않기 때문에 snw 검사를 통해...     food   \n",
       "6779   이에 ETR을 구하는 방법은 크게 GAAP ETR과 Cash ETR로 나눌 수 있으...       법률   \n",
       "9508   이에 본 연구에서는 1997∼2008년과 2008∼2011년의 두 기간으로 구분하여...       경제   \n",
       "15476  프랑스에서는 통상적으로 법적 문서에 서명할 경우, 서명에 앞서 \"읽고 동의함\"(lu...       법률   \n",
       "\n",
       "                                               term_dict         id      src  \\\n",
       "19010  {'서울 강남구 청담동 이니그마빌': 'Inigmaville in Cheongdam...   618344.0   korean   \n",
       "1927                                                      1336861.0  english   \n",
       "6779   {'ETR': 'ETR', 'GAAP ETR': 'GAAP ETR', 'Cash E...  1249742.0  english   \n",
       "9508                                                      1265691.0  english   \n",
       "15476                                                     1274058.0  english   \n",
       "\n",
       "           tgt  length_group  \n",
       "19010  english           2.0  \n",
       "1927    korean           NaN  \n",
       "6779    korean           NaN  \n",
       "9508    korean           NaN  \n",
       "15476   korean           NaN  "
      ]
     },
     "execution_count": 104,
     "metadata": {},
     "output_type": "execute_result"
    }
   ],
   "source": [
    "train_df_sample_10k=pd.concat([train_df_under_100,train_df_over_100]).sample(frac=1)\n",
    "train_df_sample_10k.head(5)"
   ]
  },
  {
   "cell_type": "markdown",
   "id": "26d0c356-82fb-4338-8e19-da4bede3caf7",
   "metadata": {},
   "source": [
    "# Add tax dictionary & tax paper pairs"
   ]
  },
  {
   "cell_type": "code",
   "execution_count": 13,
   "id": "ee9435b3-bb7b-419d-802e-fcccec3e7505",
   "metadata": {},
   "outputs": [],
   "source": [
    "dict_df=dict_df.drop_duplicates(subset=[0,1])"
   ]
  },
  {
   "cell_type": "code",
   "execution_count": 20,
   "id": "210f1872-a266-4841-904c-5acc56475c84",
   "metadata": {},
   "outputs": [],
   "source": [
    "dict_df=dict_df.drop_duplicates(subset=[1])"
   ]
  },
  {
   "cell_type": "code",
   "execution_count": 113,
   "id": "9b3f4f13-f9f4-4ddc-bc00-fe30e043f6be",
   "metadata": {},
   "outputs": [],
   "source": [
    "dict_df=dict_df.sample(frac=1)[[0,1]]"
   ]
  },
  {
   "cell_type": "code",
   "execution_count": 114,
   "id": "a0831fb1-a5d2-4e01-a03a-c3715349f446",
   "metadata": {},
   "outputs": [],
   "source": [
    "dict_df.columns=[\"korean\",\"english\"]"
   ]
  },
  {
   "cell_type": "code",
   "execution_count": 116,
   "id": "81670e16-f902-448a-8449-fbfe59bd3546",
   "metadata": {},
   "outputs": [],
   "source": [
    "tax_law=pd.read_excel(\"/azurestorage/data/translation_data/raw_data/세법논문_pairing.xlsx\")[[\"Korean\",\"English\"]]\n",
    "tax_law=tax_law.dropna(axis=0)\n",
    "tax_law.columns=[\"korean\",\"english\"]"
   ]
  },
  {
   "cell_type": "code",
   "execution_count": 118,
   "id": "c6c7da60-4184-4e54-8d29-f23aaedafe32",
   "metadata": {},
   "outputs": [
    {
     "name": "stdout",
     "output_type": "stream",
     "text": [
      "많은 다국적기업이 해외 시장을 개척하거나 시장점유율을 높이는 데 소요되는 광고선전비를 유통기능을 담당하는 각국의 자회사에 부담시키고, 나아가 그룹 차원의 국제마케팅활동에 소요된 비용을 각국의 자회사들로부터 국제마케팅비 명목으로 지급받는 방식으로 전가하고 있다. 자회사는 국내 광고선전비와 해외 본사에 지급한 국제마케팅비를 손금처리하기 때문에, 원천지국 입장에서는 세원이 잠식되고 소득이 이전되는 결과가 발생한다. 다국적기업의 광고선전비를 이용한 조세회피를 막기 위해, 자회사의 국내마케팅활동에 대해서는 마케팅 무형자산을 인정하고, 자회사가 부담하는 국제마케팅비에 대해서는 사용료소득으로 인식함으로써 원천지국의 과세권을 인정하는 방안에 관하여 논의할 필요가 있다. 세계 각국은 세수 확보를 위해 마케팅 무형자산 개념을 적극 활용하여 원천지국의 과세권을 행사하고 있고, 이러한 흐름은 2017년 개정된 OECD 이전가격지침과 UN 이전가격 매뉴얼에도 반영되었다. 우리나라도 국내세법에 마케팅 무형자산 개념을 도입하여 자회사의 마케팅활동에 대한 적정한 보상을 인정함으로써 원천지국과 거주지국 간 과세소득의 공정한 분배를 도모해야 한다. 자회사가 해외 본사에 국제마케팅비를 지급하는 경우, 소득구분에 따라 원천지국 과세권의 유무와 범위가 달라진다. 그 때문에 유통업자는 원가분담약정에 따른 분담금이나 그룹 내부 용역거래에 대한 대가로 보아 원천징수를 피하려고 하고, 과세관청은 사용료소득으로 보아 원천징수의무를 부과하려고 한다. 국제마케팅비는 해외 본사가 보유한 상표의 가치를 강화하는 국제마케팅활동에 쓰였으므로, 국제마케팅활동으로 인해 상승된 상표권의 사용대가, 즉 사용료소득으로 보는 것이 타당하다.\n",
      "-----------------------------\n",
      "Many multinational enterprises are burdening their subsidiaries in charge of distribution function with advertising, marketing and promotion expenses (hereinafter \"AMP expenses\") needed to pioneer overseas markets or increase market share. Subsidiaries are forced to pay for the cost of international marketing activities performed by headquarters. Subsidiaries will pay a significant amount of royalties and international marketing fees to overseas headquarters, and will deduct domestic AMP expenses and international marketing fees. Consequently, taxable income would be shifted out of the source country. To prevent tax avoidance using AMP expenses of multinational enterprises, domestic marketing activities of subsidiaries should be recognized as marketing intangibles. Also, it is necessary to discuss how to acknowledge the right of taxation in the source country by recognizing international marketing fees that the subsidiaries bear as royalty income. Countries around the world are using the concept of marketing intangibles to secure tax revenue, and this trend is reflected in the OECD Transfer Pricing Guidelines revised in 2017 and the United Nations Practical Manual on Transfer Pricing. Korea should also promote fair distribution of taxable income between the source and resident countries by incorporating the concept of marketing intangibles into the domestic tax law and recognizing appropriate compensation for the marketing activities of the subsidiaries. If a subsidiary pays international marketing fee to its overseas headquarter, the existence and scope of the right of taxation in the source country will vary depending on the classification of income. That's why distributors try to avoid withholding tax by regarding international marketing fees as CCA (Cost Contribution Arrangement) contributions or payments for intra-group services. Contrarily, the tax authorities interpret international marketing fees as royalty income and impose the withholding obligation. Since international marketing fees are used for international marketing activities to enhance the value of trademarks owned by overseas headquarters, it is reasonable to regard international marketing fee as royalty income.\n"
     ]
    }
   ],
   "source": [
    "idx=34\n",
    "\n",
    "print(tax_law[\"korean\"].iloc[idx])\n",
    "print(\"-----------------------------\")\n",
    "print(tax_law[\"english\"].iloc[idx])"
   ]
  },
  {
   "cell_type": "code",
   "execution_count": 138,
   "id": "85ee336a-e92f-4080-a77b-fa2c7bdd0b91",
   "metadata": {},
   "outputs": [],
   "source": [
    "dict_df[\"src\"]=\"korean\"\n",
    "dict_df[\"tgt\"]=\"english\"\n",
    "dict_df[\"src\"].iloc[:len(dict_df)//2]=\"english\"\n",
    "dict_df[\"tgt\"].iloc[:len(dict_df)//2]=\"korean\"\n",
    "dict_df=dict_df.sample(frac=1)"
   ]
  },
  {
   "cell_type": "code",
   "execution_count": 153,
   "id": "46aa96ca-5216-4d5a-a236-8cdfb3a48291",
   "metadata": {},
   "outputs": [],
   "source": [
    "dict_df_sample_100=dict_df.iloc[:100]"
   ]
  },
  {
   "cell_type": "code",
   "execution_count": 146,
   "id": "c2290a13-6dcb-4444-8d0e-c4a17546c0dd",
   "metadata": {},
   "outputs": [
    {
     "name": "stderr",
     "output_type": "stream",
     "text": [
      "/tmp/ipykernel_187/2306423426.py:3: FutureWarning: ChainedAssignmentError: behaviour will change in pandas 3.0!\n",
      "You are setting values through chained assignment. Currently this works in certain cases, but when using Copy-on-Write (which will become the default behaviour in pandas 3.0) this will never work to update the original DataFrame or Series, because the intermediate object on which we are setting values will behave as a copy.\n",
      "A typical example is when you are setting values in a column of a DataFrame, like:\n",
      "\n",
      "df[\"col\"][row_indexer] = value\n",
      "\n",
      "Use `df.loc[row_indexer, \"col\"] = values` instead, to perform the assignment in a single step and ensure this keeps updating the original `df`.\n",
      "\n",
      "See the caveats in the documentation: https://pandas.pydata.org/pandas-docs/stable/user_guide/indexing.html#returning-a-view-versus-a-copy\n",
      "\n",
      "  tax_law[\"src\"].iloc[:len(tax_law)//2]=\"english\"\n",
      "/tmp/ipykernel_187/2306423426.py:4: FutureWarning: ChainedAssignmentError: behaviour will change in pandas 3.0!\n",
      "You are setting values through chained assignment. Currently this works in certain cases, but when using Copy-on-Write (which will become the default behaviour in pandas 3.0) this will never work to update the original DataFrame or Series, because the intermediate object on which we are setting values will behave as a copy.\n",
      "A typical example is when you are setting values in a column of a DataFrame, like:\n",
      "\n",
      "df[\"col\"][row_indexer] = value\n",
      "\n",
      "Use `df.loc[row_indexer, \"col\"] = values` instead, to perform the assignment in a single step and ensure this keeps updating the original `df`.\n",
      "\n",
      "See the caveats in the documentation: https://pandas.pydata.org/pandas-docs/stable/user_guide/indexing.html#returning-a-view-versus-a-copy\n",
      "\n",
      "  tax_law[\"tgt\"].iloc[:len(tax_law)//2]=\"korean\"\n"
     ]
    }
   ],
   "source": [
    "tax_law[\"src\"]=\"korean\"\n",
    "tax_law[\"tgt\"]=\"english\"\n",
    "tax_law[\"src\"].iloc[:len(tax_law)//2]=\"english\"\n",
    "tax_law[\"tgt\"].iloc[:len(tax_law)//2]=\"korean\"\n",
    "tax_law=tax_law.sample(frac=1)"
   ]
  },
  {
   "cell_type": "code",
   "execution_count": 161,
   "id": "7ffbde0b-70ce-4a47-8655-4d752eac23e6",
   "metadata": {},
   "outputs": [],
   "source": [
    "train_df_concat=pd.concat([train_df_sample_10k,dict_df_sample_100,tax_law]).sample(frac=1).reset_index(drop=True)"
   ]
  },
  {
   "cell_type": "code",
   "execution_count": 162,
   "id": "fbdd62d8-af80-4bf6-92bb-45c1db58af37",
   "metadata": {},
   "outputs": [],
   "source": [
    "train_dataset_10k=datasets.Dataset.from_pandas(train_df_concat)"
   ]
  },
  {
   "cell_type": "code",
   "execution_count": 238,
   "id": "4a3d3535-d36f-4af6-b90d-6a8a4d35e723",
   "metadata": {},
   "outputs": [
    {
     "data": {
      "text/plain": [
       "{'english': 'Article XII Paragraph 1 of Article 22 (Elimination of Double Taxation) of the Convention shall be deleted and replaced by the following: “1. Subject to the provisions of Korean tax law regarding the allowance as a credit against Korean tax of tax payable in any country other than Korea (which shall not affect the general principle hereof): (a) the Swiss tax payable (excluding, in the case of a dividend, tax payable in respect of profits out of which the dividend is paid) under the laws of Switzerland and in accordance with this Convention, whether directly or by deduction, in respect of income from sources within Switzerland shall be allowed as a credit against Korean tax payable in respect of that income. The credit shall not, however, exceed that portion of Korean tax which the income from sources within Switzerland bears to the entire income subject to Korean tax. (b) In the case of a dividend paid by a company which is a resident of Switzerland to a company which is a resident of Korea and which owns not less than 10 per cent of the shares of the company paying the dividend, the credit shall take into account (in addition to any Swiss tax for which credit may be allowed under the provisions of subparagraph (a) of this paragraph) the Swiss tax payable by the company paying the dividend in respect of the profits out of which such dividend is paid.',\n",
       " 'korean': '제 12 조 협약 제22조(이중과세의 배제)제1항을 삭제하고, 다음과 같이 대체한다. “1. 한국 이외의 국가에서 납부할 조세에 대하여 한국의 조세에서 세액공제를 허용하는 한국 세법의 규정(이 규정의 일반적인 원칙에 영향을 미쳐서는 아니된다)에 따를 것을 조건으로, 가) 스위스법과 이 협약에 따라 납부해야 하는 스위스의 조세(배당의 경우, 그 배당의 지급원인이 되는 이윤에 대한 납부세액은 제외)는, 스위스 내의 원천에서 발생한 소득과 관련하여, 직접적이든 또는 공제에 의하든지에 상관없이, 그 소득과 관련한 한국 납부세액에 대하여 공제가 허용된다. 그러나 그 공제액은 스위스 내의 원천으로부터 발생한 소득이 한국의 조세가 부과되는 전체 소득에 대하여 차지하는 비율에 해당하는 한국의 조세액을 초과하지 아니한다. 나) 스위스의 거주자인 법인이, 한국의 거주자이며 배당을 지급하는 법인의 주식의 10퍼센트 이상을 보유하는 법인에게 지급한 배당의 경우, 세액공제를 할 때 그 배당의 지급원인이 되는 이윤에 대하여 그 배당을 지급하는 법인이 납부해야 하는 스위스의 조세를 (이 항 세항 가)에 따라 공제가 허용될 수 있는 모든 스위스의 조세에 추가하여) 고려한다.”',\n",
       " 'category': 'pilar',\n",
       " 'term_dict': '',\n",
       " 'id': None,\n",
       " 'src': 'english',\n",
       " 'tgt': 'korean',\n",
       " 'length_group': None}"
      ]
     },
     "execution_count": 238,
     "metadata": {},
     "output_type": "execute_result"
    }
   ],
   "source": [
    "train_dataset_10k[67]"
   ]
  },
  {
   "cell_type": "code",
   "execution_count": 239,
   "id": "92f0aa09-4d76-470f-8629-6566a89de538",
   "metadata": {},
   "outputs": [
    {
     "data": {
      "application/vnd.jupyter.widget-view+json": {
       "model_id": "b5bcff41f80d4101befbcfacfbca8ca5",
       "version_major": 2,
       "version_minor": 0
      },
      "text/plain": [
       "Saving the dataset (0/1 shards):   0%|          | 0/10819 [00:00<?, ? examples/s]"
      ]
     },
     "metadata": {},
     "output_type": "display_data"
    }
   ],
   "source": [
    "train_dataset_10k.save_to_disk(\"/azurestorage/data/translation_data/alinged_dataset/prepared_for_training/training_dataset_10k/\")"
   ]
  },
  {
   "cell_type": "markdown",
   "id": "df6fa1f1-e318-4c25-b473-b8405f5a3091",
   "metadata": {},
   "source": [
    "# few shot dataset"
   ]
  },
  {
   "cell_type": "code",
   "execution_count": 6,
   "id": "984939b6-ba32-455e-8afb-92f2231ff168",
   "metadata": {},
   "outputs": [],
   "source": [
    "dastset_few=Dataset.load_from_disk(\"/azurestorage/data/translation_data/aligned_dataset/prepared_for_training/training_dataset_124shots/\")"
   ]
  },
  {
   "cell_type": "code",
   "execution_count": 12,
   "id": "4f5d7faa-3c2d-460c-9fd4-d85015cd7d6f",
   "metadata": {},
   "outputs": [],
   "source": [
    "dataset_10k=Dataset.load_from_disk(\"/azurestorage/data/translation_data/aligned_dataset/prepared_for_training/training_dataset_10k/\")"
   ]
  },
  {
   "cell_type": "code",
   "execution_count": null,
   "id": "fb94f16b-8382-4aa3-a670-845784001dd2",
   "metadata": {},
   "outputs": [],
   "source": [
    "dataset_10k.filter"
   ]
  },
  {
   "cell_type": "code",
   "execution_count": 13,
   "id": "cc5443de-637e-4b21-9a82-24b06749766b",
   "metadata": {},
   "outputs": [
    {
     "data": {
      "text/plain": [
       "{None,\n",
       " 'ele_sci',\n",
       " 'etc',\n",
       " 'food',\n",
       " 'human_art',\n",
       " 'ifrs esg',\n",
       " 'pilar',\n",
       " 'shatgpt',\n",
       " '경제',\n",
       " '구어체_대화체',\n",
       " '농업·수산',\n",
       " '민사법',\n",
       " '법률',\n",
       " '상업·무역·공업',\n",
       " '육운·항공·관광',\n",
       " '재경·경제일반',\n",
       " '정보통신',\n",
       " '주택·건축·도로',\n",
       " '환경·노동'}"
      ]
     },
     "execution_count": 13,
     "metadata": {},
     "output_type": "execute_result"
    }
   ],
   "source": [
    "set(dataset_10k[\"category\"])"
   ]
  },
  {
   "cell_type": "code",
   "execution_count": 52,
   "id": "94962a43-adf1-4362-b627-e194e73ba119",
   "metadata": {},
   "outputs": [
    {
     "data": {
      "application/vnd.jupyter.widget-view+json": {
       "model_id": "9bca0a848f084807b3a4deed23b6bd63",
       "version_major": 2,
       "version_minor": 0
      },
      "text/plain": [
       "Filter:   0%|          | 0/10819 [00:00<?, ? examples/s]"
      ]
     },
     "metadata": {},
     "output_type": "display_data"
    }
   ],
   "source": [
    "filtered_dataset_10k=dataset_10k.filter(lambda x:x[\"category\"]==None or x[\"category\"] in [\"ele_sci\",\"etc\",\"food\",\"human_art\",\"경제\",\"shatgpt\",'구어체_대화체'])"
   ]
  },
  {
   "cell_type": "code",
   "execution_count": 78,
   "id": "04738d88-192f-4b6c-82f5-7370884a3f76",
   "metadata": {},
   "outputs": [
    {
     "data": {
      "application/vnd.jupyter.widget-view+json": {
       "model_id": "d20b2c12357140158988896ac34d560e",
       "version_major": 2,
       "version_minor": 0
      },
      "text/plain": [
       "Filter:   0%|          | 0/7185 [00:00<?, ? examples/s]"
      ]
     },
     "metadata": {},
     "output_type": "display_data"
    }
   ],
   "source": [
    "filtered_dataset_10k=filtered_dataset_10k.filter(lambda x:\"AAA\" not in x[\"korean\"])"
   ]
  },
  {
   "cell_type": "code",
   "execution_count": 55,
   "id": "9e6afdc7-06c7-4993-90ae-8f52cfc87dc8",
   "metadata": {},
   "outputs": [
    {
     "data": {
      "application/vnd.jupyter.widget-view+json": {
       "model_id": "f28c571ba2b94d54813b6c18d8577e73",
       "version_major": 2,
       "version_minor": 0
      },
      "text/plain": [
       "Filter:   0%|          | 0/124 [00:00<?, ? examples/s]"
      ]
     },
     "metadata": {},
     "output_type": "display_data"
    }
   ],
   "source": [
    "filtered_dataset_few=dastset_few.filter(lambda x:x[\"category\"] in [ '법률','육운·항공·관광','재경·경제일반',\"ifrs_esg\",\"pilar\"])"
   ]
  },
  {
   "cell_type": "code",
   "execution_count": 79,
   "id": "87bb2c76-d2f2-47e2-b93b-32627c9b97ec",
   "metadata": {},
   "outputs": [],
   "source": [
    "new_dataset_7k=concatenate_datasets([filtered_dataset_10k,filtered_dataset_few]).shuffle()"
   ]
  },
  {
   "cell_type": "code",
   "execution_count": 80,
   "id": "ac95a054-8563-4790-9bc5-d0668e1b7e90",
   "metadata": {},
   "outputs": [],
   "source": [
    "new_dataset_7k_df=new_dataset_7k.to_pandas()"
   ]
  },
  {
   "cell_type": "code",
   "execution_count": 85,
   "id": "b6aba797-1e70-4ecf-8ed8-a78553400ea7",
   "metadata": {},
   "outputs": [],
   "source": [
    "new_dataset_7k_df=new_dataset_7k_df.drop_duplicates(subset=[\"english\",\"korean\"])"
   ]
  },
  {
   "cell_type": "code",
   "execution_count": 86,
   "id": "c592a5d8-0899-4c97-9961-b6f723744b68",
   "metadata": {},
   "outputs": [],
   "source": [
    "new_dataset_7k=Dataset.from_pandas(new_dataset_7k_df)"
   ]
  },
  {
   "cell_type": "code",
   "execution_count": 87,
   "id": "ecc709fb-c741-4dba-8f2c-5d584fa7326f",
   "metadata": {},
   "outputs": [
    {
     "data": {
      "application/vnd.jupyter.widget-view+json": {
       "model_id": "9959a3db05f84b138308b7c706a105b5",
       "version_major": 2,
       "version_minor": 0
      },
      "text/plain": [
       "Saving the dataset (0/1 shards):   0%|          | 0/6941 [00:00<?, ? examples/s]"
      ]
     },
     "metadata": {},
     "output_type": "display_data"
    }
   ],
   "source": [
    "new_dataset_7k.save_to_disk(\"/azurestorage/data/translation_data/aligned_dataset/prepared_for_training/training_dataset_7k/\")"
   ]
  },
  {
   "cell_type": "code",
   "execution_count": null,
   "id": "f0a22510-8d75-42c3-9fc1-3c0adeb64eee",
   "metadata": {},
   "outputs": [],
   "source": []
  }
 ],
 "metadata": {
  "kernelspec": {
   "display_name": "Python 3 (ipykernel)",
   "language": "python",
   "name": "python3"
  },
  "language_info": {
   "codemirror_mode": {
    "name": "ipython",
    "version": 3
   },
   "file_extension": ".py",
   "mimetype": "text/x-python",
   "name": "python",
   "nbconvert_exporter": "python",
   "pygments_lexer": "ipython3",
   "version": "3.11.8"
  }
 },
 "nbformat": 4,
 "nbformat_minor": 5
}
